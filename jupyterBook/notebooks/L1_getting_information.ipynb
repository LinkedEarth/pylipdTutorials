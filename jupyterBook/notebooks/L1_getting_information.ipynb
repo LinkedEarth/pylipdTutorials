{
 "cells": [
  {
   "cell_type": "markdown",
   "id": "34a283a5-ea66-495f-9408-bf2bd235e21c",
   "metadata": {},
   "source": [
    "# Retrieving textual information from LiPD files\n",
    "\n",
    "## Authors\n",
    "\n",
    "[Deborah Khider](https://orcid.org/0000-0001-7501-8430)\n",
    "\n",
    "## Preamble\n",
    "\n",
    "`PyLiPD` is a Python package that allows you to read, manipulate, and write [LiPD](https://doi.org/10.5194/cp-12-1093-2016) formatted datasets. In this tutorial, we will demonstrate how you can use pre-defined APIs that allows getting specific information from a LiPD file. \n",
    "\n",
    "### Goals\n",
    "\n",
    "* Use existing APIs to get information about the datasets loaded in the workspace, their location, the variables available, the types of geologic archives.\n",
    "* Obtain a BibTeX file of references to properly credit scholarly contributions\n",
    "\n",
    "Reading Time: 5 minutes\n",
    "\n",
    "### Keywords\n",
    "\n",
    "LiPD\n",
    "\n",
    "### Pre-requisites\n",
    "\n",
    "None. This tutorial assumes basic knowledge of Python and Pandas. If you are not familiar with this coding language and this particular library, check out this tutorial: http://linked.earth/ec_workshops_py/.\n",
    "\n",
    "### Relevant Packages\n",
    "\n",
    "pylipd\n",
    "\n",
    "## Data Description\n",
    "\n",
    "This notebook uses the following datasets, in LiPD format:\n",
    "\n",
    "- McCabe-Glynn, S., Johnson, K., Strong, C. et al. Variable North Pacific influence on drought in southwestern North America since AD 854. Nature Geosci 6, 617–621 (2013). https://doi.org/10.1038/ngeo1862\n",
    "\n",
    "- Lawrence, K. T., Liu, Z. H., & Herbert, T. D. (2006). Evolution of the eastern tropical Pacific through Plio-Pleistocne glaciation. Science, 312(5770), 79-83.\n",
    "\n",
    "- PAGES2k Consortium., Emile-Geay, J., McKay, N. et al. A global multiproxy database for temperature reconstructions of the Common Era. Sci Data 4, 170088 (2017). doi:10.1038/sdata.2017.88\n",
    "\n",
    "## Demonstration\n",
    "\n",
    "### Extracting infomation about the content of a LiPD object\n",
    "\n",
    "Let's start by importing our favorite package and load our datasets. "
   ]
  },
  {
   "cell_type": "code",
   "execution_count": 1,
   "id": "c77d83da-d0fc-4f5f-a879-7e7dc8644682",
   "metadata": {},
   "outputs": [],
   "source": [
    "from pylipd.lipd import LiPD"
   ]
  },
  {
   "cell_type": "markdown",
   "id": "5211bfbd-6b98-4839-a444-13999fffafbe",
   "metadata": {},
   "source": [
    "Let's load some diverse datasets to highlight to capabilities:"
   ]
  },
  {
   "cell_type": "code",
   "execution_count": 2,
   "id": "60cc81df-d722-4e68-852a-b39b09abbf7f",
   "metadata": {},
   "outputs": [
    {
     "name": "stdout",
     "output_type": "stream",
     "text": [
      "Loading 16 LiPD files\n"
     ]
    },
    {
     "name": "stderr",
     "output_type": "stream",
     "text": [
      "100%|██████████████████████████████████████████| 16/16 [00:00<00:00, 136.57it/s]"
     ]
    },
    {
     "name": "stdout",
     "output_type": "stream",
     "text": [
      "Loaded..\n"
     ]
    },
    {
     "name": "stderr",
     "output_type": "stream",
     "text": [
      "\n"
     ]
    }
   ],
   "source": [
    "path = '../data/Pages2k/'\n",
    "\n",
    "D = LiPD()\n",
    "D.load_from_dir(path)"
   ]
  },
  {
   "cell_type": "code",
   "execution_count": 3,
   "id": "511d1807-5641-40c1-a471-a38912525cf6",
   "metadata": {},
   "outputs": [
    {
     "name": "stdout",
     "output_type": "stream",
     "text": [
      "Loading 3 LiPD files\n"
     ]
    },
    {
     "name": "stderr",
     "output_type": "stream",
     "text": [
      "100%|█████████████████████████████████████████████| 3/3 [00:00<00:00,  3.74it/s]"
     ]
    },
    {
     "name": "stdout",
     "output_type": "stream",
     "text": [
      "Loaded..\n"
     ]
    },
    {
     "name": "stderr",
     "output_type": "stream",
     "text": [
      "\n"
     ]
    }
   ],
   "source": [
    "data_path = ['../data/Crystal.McCabe-Glynn.2013.lpd', '../data/ODP846.Lawrence.2006.lpd', 'https://lipdverse.org/data/iso2k100_CO06MOPE/1_0_2//CO06MOPE.lpd']\n",
    "\n",
    "D.load(data_path)"
   ]
  },
  {
   "cell_type": "markdown",
   "id": "86852952-2e45-4cd2-8189-b44e6aa38385",
   "metadata": {},
   "source": [
    "### Getting information about Datasets\n",
    "\n",
    "From the introductory notebooks on [loading LiPD datasets](L0_loading_lipd_datasets.md) and [working with `LiPD` objects](L0_lipd_object.md), you should be already familiar with the functions to get all the names of the datasets."
   ]
  },
  {
   "cell_type": "code",
   "execution_count": 4,
   "id": "3f8b25da-f517-46e4-93f1-50df01eda66a",
   "metadata": {},
   "outputs": [
    {
     "data": {
      "text/plain": [
       "['Ocn-RedSea.Felis.2000',\n",
       " 'Ant-WAIS-Divide.Severinghaus.2012',\n",
       " 'Asi-SourthAndMiddleUrals.Demezhko.2007',\n",
       " 'Ocn-AlboranSea436B.Nieto-Moreno.2013',\n",
       " 'Eur-SpannagelCave.Mangini.2005',\n",
       " 'Ocn-FeniDrift.Richter.2009',\n",
       " 'Eur-LakeSilvaplana.Trachsel.2010',\n",
       " 'Ocn-PedradeLume-CapeVerdeIslands.Moses.2006',\n",
       " 'Ocn-SinaiPeninsula_RedSea.Moustafa.2000',\n",
       " 'Eur-NorthernSpain.Martin-Chivelet.2011',\n",
       " 'Arc-Kongressvatnet.D_Andrea.2012',\n",
       " 'Eur-CoastofPortugal.Abrantes.2011',\n",
       " 'Eur-SpanishPyrenees.Dorado-Linan.2012',\n",
       " 'Eur-FinnishLakelands.Helama.2014',\n",
       " 'Eur-NorthernScandinavia.Esper.2012',\n",
       " 'Eur-Stockholm.Leijonhufvud.2009',\n",
       " 'Crystal.McCabe-Glynn.2013',\n",
       " 'ODP846.Lawrence.2006',\n",
       " 'CO06MOPE']"
      ]
     },
     "execution_count": 4,
     "metadata": {},
     "output_type": "execute_result"
    }
   ],
   "source": [
    "D.get_all_dataset_names()"
   ]
  },
  {
   "cell_type": "code",
   "execution_count": 5,
   "id": "37d1b0a0-94ad-467f-ae27-0e624c39108f",
   "metadata": {},
   "outputs": [
    {
     "data": {
      "text/plain": [
       "19"
      ]
     },
     "execution_count": 5,
     "metadata": {},
     "output_type": "execute_result"
    }
   ],
   "source": [
    "len(D.get_all_dataset_names())"
   ]
  },
  {
   "cell_type": "markdown",
   "id": "66f64faa-941c-4a05-bcdd-db51e223763b",
   "metadata": {},
   "source": [
    "In fact, this function has been used throughout these notebooks to be able to extract other types of information. Another equivalent function returns all the `datasetIDs`. `datasetIDs` are unique identifiers for each LiPD dataset. This notion was introduced as the name may not be unique enough for unique identification. All datasets from the `LiPDGraph` will have an ID but it is not mandatory.  "
   ]
  },
  {
   "cell_type": "code",
   "execution_count": 6,
   "id": "1f7e2ce4-bb67-4202-906c-f4ac104dd681",
   "metadata": {},
   "outputs": [
    {
     "data": {
      "text/plain": [
       "['4fZQAHmeuJn8ipLfurWv',\n",
       " '5oHqINxYpL0XCaLcIjhR',\n",
       " 'mE7P31hoHDXy1Q9yfQlq',\n",
       " 'fYUegig785BJMl3NrZcz',\n",
       " '19nwWA48PSW3uSoDRiA4',\n",
       " 'IVVTVphliHduuTjQhlTM',\n",
       " '23GDZxTEJsBQAH05hU4g',\n",
       " 'HH7jd52QFWaBgs9OvMqP',\n",
       " 'wH1adV7y36OC0h3kwDRF',\n",
       " 'WX0GIjmoc46FH1Oj4c5r',\n",
       " 'pwY7bQRstXsZc6iOpgRI',\n",
       " '33wLrOlZRR8hw53DVKSr',\n",
       " 'PPWjMBBkRAcCv6bkL58K',\n",
       " 'ZDMEZiVVO4eFNwBA4D3o',\n",
       " 'fyUORoSbcL0GP0J3wyoj',\n",
       " 'uOhCAmcuPO5Xo9rSniHn',\n",
       " 'iso2k100_CO06MOPE']"
      ]
     },
     "execution_count": 6,
     "metadata": {},
     "output_type": "execute_result"
    }
   ],
   "source": [
    "D.get_all_dataset_ids()"
   ]
  },
  {
   "cell_type": "code",
   "execution_count": 7,
   "id": "6e45f60f-7e7f-440b-8874-0e90c65aacf8",
   "metadata": {},
   "outputs": [
    {
     "data": {
      "text/plain": [
       "17"
      ]
     },
     "execution_count": 7,
     "metadata": {},
     "output_type": "execute_result"
    }
   ],
   "source": [
    "len(D.get_all_dataset_ids())"
   ]
  },
  {
   "cell_type": "markdown",
   "id": "683cdccf-10ab-45e3-9034-acf3c780ec12",
   "metadata": {},
   "source": [
    "Notice that the function returned only 17 items (2 less than the dataset names). The reason is these files were created before datasetIDs were prevalent on the Lipdverse. \n",
    "\n",
    "<div class=\"alert alert-success\">\n",
    "<b>Note:</b> `datasetIDs` will be used in future versions of `PyLiPD` to directly query the LiPDverse, without the need to pass the direct URL.\n",
    "</div>\n",
    "\n",
    "Another function that allows to look up information stored at the dataset level is `get_all_archiveTypes`. This one works a little bit differently than the previous functions in that it will only return the unique names present in these datasets:"
   ]
  },
  {
   "cell_type": "code",
   "execution_count": 8,
   "id": "b38deae5-fecb-4f6f-8420-911399ec506d",
   "metadata": {},
   "outputs": [
    {
     "data": {
      "text/plain": [
       "['Coral',\n",
       " 'Borehole',\n",
       " 'Marine sediment',\n",
       " 'Speleothem',\n",
       " 'Lake sediment',\n",
       " 'Wood',\n",
       " 'Documents']"
      ]
     },
     "execution_count": 8,
     "metadata": {},
     "output_type": "execute_result"
    }
   ],
   "source": [
    "D.get_all_archiveTypes()"
   ]
  },
  {
   "cell_type": "markdown",
   "id": "2eafe5ef-24a9-40e7-bb33-41bd7781bd45",
   "metadata": {},
   "source": [
    "This function is particularly useful to know what terms can be used to [filter with specific queries](L1_filtering.md). You can see that `coral` appears with two different capitalizations. For filtering, this won't matter as we will see in the next [tutorial](L1_filtering.md).\n",
    "\n",
    "You can get information about the location of each dataset as follows:"
   ]
  },
  {
   "cell_type": "code",
   "execution_count": 9,
   "id": "9e3b85b0-51b3-4641-bb98-4c7abeac7d41",
   "metadata": {},
   "outputs": [
    {
     "data": {
      "text/html": [
       "<div>\n",
       "<style scoped>\n",
       "    .dataframe tbody tr th:only-of-type {\n",
       "        vertical-align: middle;\n",
       "    }\n",
       "\n",
       "    .dataframe tbody tr th {\n",
       "        vertical-align: top;\n",
       "    }\n",
       "\n",
       "    .dataframe thead th {\n",
       "        text-align: right;\n",
       "    }\n",
       "</style>\n",
       "<table border=\"1\" class=\"dataframe\">\n",
       "  <thead>\n",
       "    <tr style=\"text-align: right;\">\n",
       "      <th></th>\n",
       "      <th>dataSetName</th>\n",
       "      <th>geo_meanLat</th>\n",
       "      <th>geo_meanLon</th>\n",
       "      <th>geo_meanElev</th>\n",
       "    </tr>\n",
       "  </thead>\n",
       "  <tbody>\n",
       "    <tr>\n",
       "      <th>0</th>\n",
       "      <td>Ocn-RedSea.Felis.2000</td>\n",
       "      <td>27.8500</td>\n",
       "      <td>34.3200</td>\n",
       "      <td>-6.0</td>\n",
       "    </tr>\n",
       "    <tr>\n",
       "      <th>1</th>\n",
       "      <td>Ant-WAIS-Divide.Severinghaus.2012</td>\n",
       "      <td>-79.4630</td>\n",
       "      <td>-112.1250</td>\n",
       "      <td>1766.0</td>\n",
       "    </tr>\n",
       "    <tr>\n",
       "      <th>2</th>\n",
       "      <td>Asi-SourthAndMiddleUrals.Demezhko.2007</td>\n",
       "      <td>55.0000</td>\n",
       "      <td>59.5000</td>\n",
       "      <td>1900.0</td>\n",
       "    </tr>\n",
       "    <tr>\n",
       "      <th>3</th>\n",
       "      <td>Ocn-AlboranSea436B.Nieto-Moreno.2013</td>\n",
       "      <td>36.2053</td>\n",
       "      <td>-4.3133</td>\n",
       "      <td>-1108.0</td>\n",
       "    </tr>\n",
       "    <tr>\n",
       "      <th>4</th>\n",
       "      <td>Eur-SpannagelCave.Mangini.2005</td>\n",
       "      <td>47.1000</td>\n",
       "      <td>11.6000</td>\n",
       "      <td>2347.0</td>\n",
       "    </tr>\n",
       "    <tr>\n",
       "      <th>5</th>\n",
       "      <td>Ocn-FeniDrift.Richter.2009</td>\n",
       "      <td>55.5000</td>\n",
       "      <td>-13.9000</td>\n",
       "      <td>-2543.0</td>\n",
       "    </tr>\n",
       "    <tr>\n",
       "      <th>6</th>\n",
       "      <td>Eur-LakeSilvaplana.Trachsel.2010</td>\n",
       "      <td>46.5000</td>\n",
       "      <td>9.8000</td>\n",
       "      <td>1791.0</td>\n",
       "    </tr>\n",
       "    <tr>\n",
       "      <th>7</th>\n",
       "      <td>Ocn-PedradeLume-CapeVerdeIslands.Moses.2006</td>\n",
       "      <td>16.7600</td>\n",
       "      <td>-22.8883</td>\n",
       "      <td>-5.0</td>\n",
       "    </tr>\n",
       "    <tr>\n",
       "      <th>8</th>\n",
       "      <td>Ocn-SinaiPeninsula,RedSea.Moustafa.2000</td>\n",
       "      <td>27.8483</td>\n",
       "      <td>34.3100</td>\n",
       "      <td>-3.0</td>\n",
       "    </tr>\n",
       "    <tr>\n",
       "      <th>9</th>\n",
       "      <td>Eur-NorthernSpain.Martin-Chivelet.2011</td>\n",
       "      <td>42.9000</td>\n",
       "      <td>-3.5000</td>\n",
       "      <td>1250.0</td>\n",
       "    </tr>\n",
       "    <tr>\n",
       "      <th>10</th>\n",
       "      <td>Arc-Kongressvatnet.D'Andrea.2012</td>\n",
       "      <td>78.0217</td>\n",
       "      <td>13.9311</td>\n",
       "      <td>94.0</td>\n",
       "    </tr>\n",
       "    <tr>\n",
       "      <th>11</th>\n",
       "      <td>Eur-CoastofPortugal.Abrantes.2011</td>\n",
       "      <td>41.1000</td>\n",
       "      <td>-8.9000</td>\n",
       "      <td>-80.0</td>\n",
       "    </tr>\n",
       "    <tr>\n",
       "      <th>12</th>\n",
       "      <td>Eur-SpanishPyrenees.Dorado-Linan.2012</td>\n",
       "      <td>42.5000</td>\n",
       "      <td>1.0000</td>\n",
       "      <td>1200.0</td>\n",
       "    </tr>\n",
       "    <tr>\n",
       "      <th>13</th>\n",
       "      <td>Eur-FinnishLakelands.Helama.2014</td>\n",
       "      <td>62.0000</td>\n",
       "      <td>28.3250</td>\n",
       "      <td>130.0</td>\n",
       "    </tr>\n",
       "    <tr>\n",
       "      <th>14</th>\n",
       "      <td>Eur-NorthernScandinavia.Esper.2012</td>\n",
       "      <td>68.0000</td>\n",
       "      <td>25.0000</td>\n",
       "      <td>300.0</td>\n",
       "    </tr>\n",
       "    <tr>\n",
       "      <th>15</th>\n",
       "      <td>Eur-Stockholm.Leijonhufvud.2009</td>\n",
       "      <td>59.3200</td>\n",
       "      <td>18.0600</td>\n",
       "      <td>10.0</td>\n",
       "    </tr>\n",
       "    <tr>\n",
       "      <th>16</th>\n",
       "      <td>Crystal.McCabe-Glynn.2013</td>\n",
       "      <td>36.5900</td>\n",
       "      <td>-118.8200</td>\n",
       "      <td>1386.0</td>\n",
       "    </tr>\n",
       "    <tr>\n",
       "      <th>17</th>\n",
       "      <td>ODP846.Lawrence.2006</td>\n",
       "      <td>-3.1000</td>\n",
       "      <td>-90.8000</td>\n",
       "      <td>-3296.0</td>\n",
       "    </tr>\n",
       "    <tr>\n",
       "      <th>18</th>\n",
       "      <td>CO06MOPE</td>\n",
       "      <td>16.7500</td>\n",
       "      <td>-22.8883</td>\n",
       "      <td>-5.0</td>\n",
       "    </tr>\n",
       "  </tbody>\n",
       "</table>\n",
       "</div>"
      ],
      "text/plain": [
       "                                    dataSetName  geo_meanLat  geo_meanLon  \\\n",
       "0                         Ocn-RedSea.Felis.2000      27.8500      34.3200   \n",
       "1             Ant-WAIS-Divide.Severinghaus.2012     -79.4630    -112.1250   \n",
       "2        Asi-SourthAndMiddleUrals.Demezhko.2007      55.0000      59.5000   \n",
       "3          Ocn-AlboranSea436B.Nieto-Moreno.2013      36.2053      -4.3133   \n",
       "4                Eur-SpannagelCave.Mangini.2005      47.1000      11.6000   \n",
       "5                    Ocn-FeniDrift.Richter.2009      55.5000     -13.9000   \n",
       "6              Eur-LakeSilvaplana.Trachsel.2010      46.5000       9.8000   \n",
       "7   Ocn-PedradeLume-CapeVerdeIslands.Moses.2006      16.7600     -22.8883   \n",
       "8       Ocn-SinaiPeninsula,RedSea.Moustafa.2000      27.8483      34.3100   \n",
       "9        Eur-NorthernSpain.Martin-Chivelet.2011      42.9000      -3.5000   \n",
       "10             Arc-Kongressvatnet.D'Andrea.2012      78.0217      13.9311   \n",
       "11            Eur-CoastofPortugal.Abrantes.2011      41.1000      -8.9000   \n",
       "12        Eur-SpanishPyrenees.Dorado-Linan.2012      42.5000       1.0000   \n",
       "13             Eur-FinnishLakelands.Helama.2014      62.0000      28.3250   \n",
       "14           Eur-NorthernScandinavia.Esper.2012      68.0000      25.0000   \n",
       "15              Eur-Stockholm.Leijonhufvud.2009      59.3200      18.0600   \n",
       "16                    Crystal.McCabe-Glynn.2013      36.5900    -118.8200   \n",
       "17                         ODP846.Lawrence.2006      -3.1000     -90.8000   \n",
       "18                                     CO06MOPE      16.7500     -22.8883   \n",
       "\n",
       "    geo_meanElev  \n",
       "0           -6.0  \n",
       "1         1766.0  \n",
       "2         1900.0  \n",
       "3        -1108.0  \n",
       "4         2347.0  \n",
       "5        -2543.0  \n",
       "6         1791.0  \n",
       "7           -5.0  \n",
       "8           -3.0  \n",
       "9         1250.0  \n",
       "10          94.0  \n",
       "11         -80.0  \n",
       "12        1200.0  \n",
       "13         130.0  \n",
       "14         300.0  \n",
       "15          10.0  \n",
       "16        1386.0  \n",
       "17       -3296.0  \n",
       "18          -5.0  "
      ]
     },
     "execution_count": 9,
     "metadata": {},
     "output_type": "execute_result"
    }
   ],
   "source": [
    "df_loc = D.get_all_locations()\n",
    "\n",
    "df_loc"
   ]
  },
  {
   "cell_type": "markdown",
   "id": "a2e16ca2-a352-491d-9b1f-a791d60daaa9",
   "metadata": {},
   "source": [
    "### Getting information about variables\n",
    "\n",
    "To get information about available variable names, you can do the following:"
   ]
  },
  {
   "cell_type": "code",
   "execution_count": 9,
   "id": "54a4b7d1-0313-424c-bca4-adb61ee42352",
   "metadata": {},
   "outputs": [
    {
     "data": {
      "text/plain": [
       "['d18O',\n",
       " 'year',\n",
       " 'uncertainty_temperature',\n",
       " 'temperature',\n",
       " 'depth_top',\n",
       " 'depth_bottom',\n",
       " 'Mg_Ca',\n",
       " 'notes',\n",
       " 'Uk37',\n",
       " 'trsgi',\n",
       " 'MXD',\n",
       " 'depth_dating',\n",
       " '230th/238u_uncertainty',\n",
       " '238u_uncertainty',\n",
       " '232th',\n",
       " 'd234u_undertainty',\n",
       " '230th/232th_uncertainty',\n",
       " 'depth',\n",
       " '230th/232th',\n",
       " 'd234u',\n",
       " '238u',\n",
       " '230th/238u',\n",
       " '230th age_uncertainty',\n",
       " 'd234uinitial_uncertainty',\n",
       " 'Year',\n",
       " 'd234uinitial',\n",
       " 'sample',\n",
       " 'corr_age_uncert',\n",
       " 'corr_age',\n",
       " '230th age',\n",
       " '230th age_uncertaity',\n",
       " '232th_uncertainty',\n",
       " 'age',\n",
       " 'd18o',\n",
       " 'median',\n",
       " 'site/hole',\n",
       " 'sample label',\n",
       " 'temp prahl',\n",
       " 'lower95',\n",
       " 'c37 total',\n",
       " 'u. peregrina d18o',\n",
       " 'c. wuellerstorfi d13c',\n",
       " 'section',\n",
       " 'd180',\n",
       " 'u. peregrina d13c',\n",
       " 'event',\n",
       " 'temp muller',\n",
       " 'c. wuellerstorfi d18o',\n",
       " 'depth cr',\n",
       " 'depth comp',\n",
       " 'ukprime37',\n",
       " 'sst',\n",
       " 'upper95',\n",
       " 'interval']"
      ]
     },
     "execution_count": 9,
     "metadata": {},
     "output_type": "execute_result"
    }
   ],
   "source": [
    "D.get_all_variable_names()"
   ]
  },
  {
   "cell_type": "markdown",
   "id": "b65ff11b-6322-4ee0-b291-04fe468f1a91",
   "metadata": {},
   "source": [
    "Note that like the functions retrieving the various `archiveTypes`, this function also only returns the unique names. As we have explored [previously](L0_lipd_object.ipynb), the Euro2k database contains more than one record correspoonding to `temperature`. Again, this function can be used to figure out what to filter by. "
   ]
  },
  {
   "cell_type": "markdown",
   "id": "eb6c9e16-cbb6-4f26-96f1-35739abb3b72",
   "metadata": {},
   "source": [
    "If you want to have more granularity about which variable is available in which datasets and their associated unique IDs, you can use the following function:"
   ]
  },
  {
   "cell_type": "code",
   "execution_count": 10,
   "id": "6451f54f-93a3-4f1b-b890-754090b248c5",
   "metadata": {},
   "outputs": [
    {
     "data": {
      "text/html": [
       "<div>\n",
       "<style scoped>\n",
       "    .dataframe tbody tr th:only-of-type {\n",
       "        vertical-align: middle;\n",
       "    }\n",
       "\n",
       "    .dataframe tbody tr th {\n",
       "        vertical-align: top;\n",
       "    }\n",
       "\n",
       "    .dataframe thead th {\n",
       "        text-align: right;\n",
       "    }\n",
       "</style>\n",
       "<table border=\"1\" class=\"dataframe\">\n",
       "  <thead>\n",
       "    <tr style=\"text-align: right;\">\n",
       "      <th></th>\n",
       "      <th>uri</th>\n",
       "      <th>TSID</th>\n",
       "      <th>variableName</th>\n",
       "    </tr>\n",
       "  </thead>\n",
       "  <tbody>\n",
       "    <tr>\n",
       "      <th>0</th>\n",
       "      <td>http://linked.earth/lipd/Ocn-RedSea.Felis.2000...</td>\n",
       "      <td>Ocean2kHR_019</td>\n",
       "      <td>d18O</td>\n",
       "    </tr>\n",
       "    <tr>\n",
       "      <th>1</th>\n",
       "      <td>http://linked.earth/lipd/Eur-SpannagelCave.Man...</td>\n",
       "      <td>Eur_001</td>\n",
       "      <td>d18O</td>\n",
       "    </tr>\n",
       "    <tr>\n",
       "      <th>2</th>\n",
       "      <td>http://linked.earth/lipd/Ocn-PedradeLume-CapeV...</td>\n",
       "      <td>Ocean2kHR_107</td>\n",
       "      <td>d18O</td>\n",
       "    </tr>\n",
       "    <tr>\n",
       "      <th>3</th>\n",
       "      <td>http://linked.earth/lipd/Ocn-SinaiPeninsula_Re...</td>\n",
       "      <td>Ocean2kHR_018</td>\n",
       "      <td>d18O</td>\n",
       "    </tr>\n",
       "    <tr>\n",
       "      <th>4</th>\n",
       "      <td>http://linked.earth/lipd/Eur-NorthernSpain.Mar...</td>\n",
       "      <td>Eur_008</td>\n",
       "      <td>d18O</td>\n",
       "    </tr>\n",
       "    <tr>\n",
       "      <th>...</th>\n",
       "      <td>...</td>\n",
       "      <td>...</td>\n",
       "      <td>...</td>\n",
       "    </tr>\n",
       "    <tr>\n",
       "      <th>93</th>\n",
       "      <td>http://linked.earth/lipd/paleo0measurement1.PY...</td>\n",
       "      <td>PYTPQ0FJO1S</td>\n",
       "      <td>depth comp</td>\n",
       "    </tr>\n",
       "    <tr>\n",
       "      <th>94</th>\n",
       "      <td>http://linked.earth/lipd/paleo0measurement0.PY...</td>\n",
       "      <td>PYTM9N6HCQM</td>\n",
       "      <td>ukprime37</td>\n",
       "    </tr>\n",
       "    <tr>\n",
       "      <th>95</th>\n",
       "      <td>http://linked.earth/lipd/paleo0model0ensemble0...</td>\n",
       "      <td>PYTDW6AIJPW</td>\n",
       "      <td>sst</td>\n",
       "    </tr>\n",
       "    <tr>\n",
       "      <th>96</th>\n",
       "      <td>http://linked.earth/lipd/chron0model0summary0....</td>\n",
       "      <td>PYTDIEKUM44</td>\n",
       "      <td>upper95</td>\n",
       "    </tr>\n",
       "    <tr>\n",
       "      <th>97</th>\n",
       "      <td>http://linked.earth/lipd/paleo0measurement0.PY...</td>\n",
       "      <td>PYT2ZB6MLZ9</td>\n",
       "      <td>interval</td>\n",
       "    </tr>\n",
       "  </tbody>\n",
       "</table>\n",
       "<p>98 rows × 3 columns</p>\n",
       "</div>"
      ],
      "text/plain": [
       "                                                  uri           TSID  \\\n",
       "0   http://linked.earth/lipd/Ocn-RedSea.Felis.2000...  Ocean2kHR_019   \n",
       "1   http://linked.earth/lipd/Eur-SpannagelCave.Man...        Eur_001   \n",
       "2   http://linked.earth/lipd/Ocn-PedradeLume-CapeV...  Ocean2kHR_107   \n",
       "3   http://linked.earth/lipd/Ocn-SinaiPeninsula_Re...  Ocean2kHR_018   \n",
       "4   http://linked.earth/lipd/Eur-NorthernSpain.Mar...        Eur_008   \n",
       "..                                                ...            ...   \n",
       "93  http://linked.earth/lipd/paleo0measurement1.PY...    PYTPQ0FJO1S   \n",
       "94  http://linked.earth/lipd/paleo0measurement0.PY...    PYTM9N6HCQM   \n",
       "95  http://linked.earth/lipd/paleo0model0ensemble0...    PYTDW6AIJPW   \n",
       "96  http://linked.earth/lipd/chron0model0summary0....    PYTDIEKUM44   \n",
       "97  http://linked.earth/lipd/paleo0measurement0.PY...    PYT2ZB6MLZ9   \n",
       "\n",
       "   variableName  \n",
       "0          d18O  \n",
       "1          d18O  \n",
       "2          d18O  \n",
       "3          d18O  \n",
       "4          d18O  \n",
       "..          ...  \n",
       "93   depth comp  \n",
       "94    ukprime37  \n",
       "95          sst  \n",
       "96      upper95  \n",
       "97     interval  \n",
       "\n",
       "[98 rows x 3 columns]"
      ]
     },
     "execution_count": 10,
     "metadata": {},
     "output_type": "execute_result"
    }
   ],
   "source": [
    "D.get_all_variables()"
   ]
  },
  {
   "cell_type": "markdown",
   "id": "3646fe78-7530-4bfe-8076-3e40f31e8a32",
   "metadata": {},
   "source": [
    "### Get a bibliography\n",
    "\n",
    "`pylipd` makes is easy to retrieve the publication information from the subset of records you used and export this to a `.bib` file:"
   ]
  },
  {
   "cell_type": "code",
   "execution_count": 11,
   "id": "5218be5f-99c1-4e18-a2da-35730ae5da81",
   "metadata": {},
   "outputs": [
    {
     "name": "stdout",
     "output_type": "stream",
     "text": [
      "Cannot find a matching record for the provided DOI (None), creating the entry manually\n",
      "Cannot find a matching record for the provided DOI (None), creating the entry manually\n",
      "Cannot find a matching record for the provided DOI (None), creating the entry manually\n",
      "Cannot find a matching record for the provided DOI (None), creating the entry manually\n",
      "Cannot find a matching record for the provided DOI (None), creating the entry manually\n",
      "Cannot find a matching record for the provided DOI (None), creating the entry manually\n",
      "Cannot find a matching record for the provided DOI (None), creating the entry manually\n",
      "Cannot find a matching record for the provided DOI (None), creating the entry manually\n",
      "Cannot find a matching record for the provided DOI (None), creating the entry manually\n",
      "Cannot find a matching record for the provided DOI (http://nbn-resolving.de/urn:nbn:de:gbv:46-ep000102745), creating the entry manually\n",
      "Cannot find a matching record for the provided DOI (None), creating the entry manually\n",
      "Cannot find a matching record for the provided DOI (None), creating the entry manually\n",
      "Cannot find a matching record for the provided DOI (None), creating the entry manually\n",
      "Cannot find a matching record for the provided DOI (None), creating the entry manually\n",
      "Cannot find a matching record for the provided DOI (None), creating the entry manually\n",
      "Cannot find a matching record for the provided DOI (None), creating the entry manually\n",
      "Cannot find a matching record for the provided DOI (None), creating the entry manually\n",
      "Cannot find a matching record for the provided DOI (None), creating the entry manually\n",
      "Cannot find a matching record for the provided DOI (None), creating the entry manually\n",
      "Cannot find a matching record for the provided DOI (None), creating the entry manually\n"
     ]
    }
   ],
   "source": [
    "bibs, df = D.get_bibtex(remote = True, save = True, path = '../data/mybiblio.bib', verbose = False)"
   ]
  },
  {
   "cell_type": "markdown",
   "id": "afbf01e3-ca5d-476e-a3fc-8281ba5dc90d",
   "metadata": {},
   "source": [
    "Let's decompose the parameters for this [function](https://pylipd.readthedocs.io/en/latest/source/pylipd.html#pylipd.lipd.LiPD.get_bibtex):\n",
    "\n",
    "* `remote`: If set to True, `PyLipd` will use the `crossref` function in the [`doi2bib`](https://pypi.org/project/doi2bib/) package to retrieve the bilbiography. You can only use this option online. If the retrieval fails, the entry will be created from the information in the LiPD file. If set to False, only the information in the file will be used.\n",
    "* `save`, `path`: If `save` is set to True, `PyliPD` will save the entries in a `.bib` file. In this example, we saved the file to the data folder contained in this repository.\n",
    "* `verbose` if set to True, the bibliography will print on the screen. "
   ]
  },
  {
   "cell_type": "markdown",
   "id": "89d41a0f-4bf0-4aaf-bf00-6ee1e005e28f",
   "metadata": {},
   "source": [
    "In addition to saving the file, the function returns `bibs`, a list of text bliography and `df`, which presents the information in a `Pandas DataFrame`."
   ]
  },
  {
   "cell_type": "code",
   "execution_count": 12,
   "id": "af84e5e4-dbb4-4c20-aaa5-94f6d14bd326",
   "metadata": {},
   "outputs": [
    {
     "data": {
      "text/html": [
       "<div>\n",
       "<style scoped>\n",
       "    .dataframe tbody tr th:only-of-type {\n",
       "        vertical-align: middle;\n",
       "    }\n",
       "\n",
       "    .dataframe tbody tr th {\n",
       "        vertical-align: top;\n",
       "    }\n",
       "\n",
       "    .dataframe thead th {\n",
       "        text-align: right;\n",
       "    }\n",
       "</style>\n",
       "<table border=\"1\" class=\"dataframe\">\n",
       "  <thead>\n",
       "    <tr style=\"text-align: right;\">\n",
       "      <th></th>\n",
       "      <th>dsname</th>\n",
       "      <th>title</th>\n",
       "      <th>authors</th>\n",
       "      <th>doi</th>\n",
       "      <th>pubyear</th>\n",
       "      <th>year</th>\n",
       "      <th>journal</th>\n",
       "      <th>volume</th>\n",
       "      <th>issue</th>\n",
       "      <th>pages</th>\n",
       "      <th>type</th>\n",
       "      <th>publisher</th>\n",
       "      <th>report</th>\n",
       "      <th>citeKey</th>\n",
       "      <th>edition</th>\n",
       "      <th>institution</th>\n",
       "      <th>url</th>\n",
       "      <th>url2</th>\n",
       "    </tr>\n",
       "  </thead>\n",
       "  <tbody>\n",
       "    <tr>\n",
       "      <th>0</th>\n",
       "      <td>Ocn-RedSea.Felis.2000</td>\n",
       "      <td>A coral oxygen isotope record from the norther...</td>\n",
       "      <td>Ahmed H. Nawar and Gerold Wefer and Thomas Fel...</td>\n",
       "      <td>10.1029/1999PA000477</td>\n",
       "      <td>None</td>\n",
       "      <td>2000.0</td>\n",
       "      <td>Paleoceanography</td>\n",
       "      <td>15</td>\n",
       "      <td>6.0</td>\n",
       "      <td>679-694</td>\n",
       "      <td>article</td>\n",
       "      <td>Wiley-Blackwell</td>\n",
       "      <td>None</td>\n",
       "      <td>felis2000acoraloxygenisotoperecord</td>\n",
       "      <td>None</td>\n",
       "      <td>None</td>\n",
       "      <td>None</td>\n",
       "      <td>None</td>\n",
       "    </tr>\n",
       "    <tr>\n",
       "      <th>1</th>\n",
       "      <td>Ocn-RedSea.Felis.2000</td>\n",
       "      <td>Tropical sea surface temperatures for the past...</td>\n",
       "      <td>Jessica E. Tierney and Kevin J. Anchukaitis an...</td>\n",
       "      <td>10.1002/2014PA002717</td>\n",
       "      <td>None</td>\n",
       "      <td>2015.0</td>\n",
       "      <td>Paleoceanography</td>\n",
       "      <td>30</td>\n",
       "      <td>3.0</td>\n",
       "      <td>226-252</td>\n",
       "      <td>journal-article</td>\n",
       "      <td>Wiley-Blackwell</td>\n",
       "      <td>None</td>\n",
       "      <td>tierney2015tropicalseasurfacetempera</td>\n",
       "      <td>None</td>\n",
       "      <td>None</td>\n",
       "      <td>None</td>\n",
       "      <td>None</td>\n",
       "    </tr>\n",
       "    <tr>\n",
       "      <th>2</th>\n",
       "      <td>Ocn-RedSea.Felis.2000</td>\n",
       "      <td>World Data Center for Paleoclimatology</td>\n",
       "      <td>T. Felis</td>\n",
       "      <td>None</td>\n",
       "      <td>None</td>\n",
       "      <td>NaN</td>\n",
       "      <td>None</td>\n",
       "      <td>None</td>\n",
       "      <td>None</td>\n",
       "      <td>None</td>\n",
       "      <td>dataCitation</td>\n",
       "      <td>None</td>\n",
       "      <td>None</td>\n",
       "      <td>felis2000httpswwwncdcnoaagovpaleostudy1861Data...</td>\n",
       "      <td>None</td>\n",
       "      <td>World Data Center for Paleoclimatology</td>\n",
       "      <td>None</td>\n",
       "      <td>https://www.ncdc.noaa.gov/paleo/study/1861</td>\n",
       "    </tr>\n",
       "    <tr>\n",
       "      <th>3</th>\n",
       "      <td>Ant-WAIS-Divide.Severinghaus.2012</td>\n",
       "      <td>This study</td>\n",
       "      <td>Severinghaus J.</td>\n",
       "      <td>None</td>\n",
       "      <td>None</td>\n",
       "      <td>NaN</td>\n",
       "      <td>None</td>\n",
       "      <td>None</td>\n",
       "      <td>None</td>\n",
       "      <td>None</td>\n",
       "      <td>dataCitation</td>\n",
       "      <td>None</td>\n",
       "      <td>None</td>\n",
       "      <td>severinghaus0thisstudyDataCitation</td>\n",
       "      <td>None</td>\n",
       "      <td>None</td>\n",
       "      <td>None</td>\n",
       "      <td>This study</td>\n",
       "    </tr>\n",
       "    <tr>\n",
       "      <th>4</th>\n",
       "      <td>Ant-WAIS-Divide.Severinghaus.2012</td>\n",
       "      <td>Little Ice Age cold interval in West Antarctic...</td>\n",
       "      <td>Anais J. Orsi and Bruce D. Cornuelle and Jeffr...</td>\n",
       "      <td>10.1029/2012GL051260</td>\n",
       "      <td>None</td>\n",
       "      <td>2012.0</td>\n",
       "      <td>Geophysical Research Letters</td>\n",
       "      <td>39</td>\n",
       "      <td>9.0</td>\n",
       "      <td>L09710</td>\n",
       "      <td>article</td>\n",
       "      <td>Wiley-Blackwell</td>\n",
       "      <td>None</td>\n",
       "      <td>orsi2012littleiceagecoldintervali</td>\n",
       "      <td>None</td>\n",
       "      <td>None</td>\n",
       "      <td>None</td>\n",
       "      <td>None</td>\n",
       "    </tr>\n",
       "  </tbody>\n",
       "</table>\n",
       "</div>"
      ],
      "text/plain": [
       "                              dsname  \\\n",
       "0              Ocn-RedSea.Felis.2000   \n",
       "1              Ocn-RedSea.Felis.2000   \n",
       "2              Ocn-RedSea.Felis.2000   \n",
       "3  Ant-WAIS-Divide.Severinghaus.2012   \n",
       "4  Ant-WAIS-Divide.Severinghaus.2012   \n",
       "\n",
       "                                               title  \\\n",
       "0  A coral oxygen isotope record from the norther...   \n",
       "1  Tropical sea surface temperatures for the past...   \n",
       "2             World Data Center for Paleoclimatology   \n",
       "3                                         This study   \n",
       "4  Little Ice Age cold interval in West Antarctic...   \n",
       "\n",
       "                                             authors                   doi  \\\n",
       "0  Ahmed H. Nawar and Gerold Wefer and Thomas Fel...  10.1029/1999PA000477   \n",
       "1  Jessica E. Tierney and Kevin J. Anchukaitis an...  10.1002/2014PA002717   \n",
       "2                                           T. Felis                  None   \n",
       "3                                    Severinghaus J.                  None   \n",
       "4  Anais J. Orsi and Bruce D. Cornuelle and Jeffr...  10.1029/2012GL051260   \n",
       "\n",
       "  pubyear    year                       journal volume issue    pages  \\\n",
       "0    None  2000.0              Paleoceanography     15   6.0  679-694   \n",
       "1    None  2015.0              Paleoceanography     30   3.0  226-252   \n",
       "2    None     NaN                          None   None  None     None   \n",
       "3    None     NaN                          None   None  None     None   \n",
       "4    None  2012.0  Geophysical Research Letters     39   9.0   L09710   \n",
       "\n",
       "              type        publisher report  \\\n",
       "0          article  Wiley-Blackwell   None   \n",
       "1  journal-article  Wiley-Blackwell   None   \n",
       "2     dataCitation             None   None   \n",
       "3     dataCitation             None   None   \n",
       "4          article  Wiley-Blackwell   None   \n",
       "\n",
       "                                             citeKey edition  \\\n",
       "0                 felis2000acoraloxygenisotoperecord    None   \n",
       "1               tierney2015tropicalseasurfacetempera    None   \n",
       "2  felis2000httpswwwncdcnoaagovpaleostudy1861Data...    None   \n",
       "3                 severinghaus0thisstudyDataCitation    None   \n",
       "4                  orsi2012littleiceagecoldintervali    None   \n",
       "\n",
       "                              institution   url  \\\n",
       "0                                    None  None   \n",
       "1                                    None  None   \n",
       "2  World Data Center for Paleoclimatology  None   \n",
       "3                                    None  None   \n",
       "4                                    None  None   \n",
       "\n",
       "                                         url2  \n",
       "0                                        None  \n",
       "1                                        None  \n",
       "2  https://www.ncdc.noaa.gov/paleo/study/1861  \n",
       "3                                  This study  \n",
       "4                                        None  "
      ]
     },
     "execution_count": 12,
     "metadata": {},
     "output_type": "execute_result"
    }
   ],
   "source": [
    "df.head()"
   ]
  },
  {
   "cell_type": "code",
   "execution_count": null,
   "id": "b095c53f-a88c-41f7-9158-87d942289743",
   "metadata": {},
   "outputs": [],
   "source": []
  }
 ],
 "metadata": {
  "kernelspec": {
   "display_name": "Python 3 (ipykernel)",
   "language": "python",
   "name": "python3"
  },
  "language_info": {
   "codemirror_mode": {
    "name": "ipython",
    "version": 3
   },
   "file_extension": ".py",
   "mimetype": "text/x-python",
   "name": "python",
   "nbconvert_exporter": "python",
   "pygments_lexer": "ipython3",
   "version": "3.11.7"
  }
 },
 "nbformat": 4,
 "nbformat_minor": 5
}
