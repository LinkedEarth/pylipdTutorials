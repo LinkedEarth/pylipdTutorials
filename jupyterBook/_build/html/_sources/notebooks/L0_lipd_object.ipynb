{
 "cells": [
  {
   "cell_type": "markdown",
   "id": "908ffece",
   "metadata": {},
   "source": [
    "# Basic manipulation of `pylipd.LiPD` object\n",
    "\n",
    "## Authors\n",
    "\n",
    "by [Deborah Khider](https://orcid.org/0000-0001-7501-8430)\n",
    "\n",
    "## Preamble\n",
    "\n",
    "### Goals:\n",
    "\n",
    "* Extract a time series for data analysis\n",
    "* Remove/pop LiPD datasets to an existing `LiPD` object\n",
    "\n",
    "Reading Time: 5 minutes\n",
    "\n",
    "### Keywords\n",
    "\n",
    "LiPD; query\n",
    "\n",
    "### Pre-requisites\n",
    "\n",
    "None. This tutorial assumes basic knowledge of Python and Pandas. If you are not familiar with this coding language and the Pandas library, check out this tutorial: http://linked.earth/ec_workshops_py/.\n",
    "\n",
    "### Relevant Packages\n",
    "\n",
    "Pandas, pylipd\n",
    "\n",
    "## Data Description\n",
    "\n",
    "This notebook uses the following datasets, in LiPD format:\n",
    "\n",
    "* Nurhati, I. S., Cobb, K. M., & Di Lorenzo, E. (2011). Decadal-scale SST and salinity variations in the central tropical Pacific: Signatures of natural and anthropogenic climate change. Journal of Climate, 24(13), 3294–3308. doi:10.1175/2011jcli3852.1\n",
    "\n",
    "* Euro2k database: PAGES2k Consortium., Emile-Geay, J., McKay, N. et al. A global multiproxy database for temperature reconstructions of the Common Era. Sci Data 4, 170088 (2017). doi:10.1038/sdata.2017.88"
   ]
  },
  {
   "cell_type": "code",
   "execution_count": 1,
   "id": "8f4cd713",
   "metadata": {},
   "outputs": [],
   "source": [
    "from pylipd.lipd import LiPD"
   ]
  },
  {
   "cell_type": "markdown",
   "id": "0f0b5985",
   "metadata": {},
   "source": [
    "## Demonstration\n",
    "\n",
    "### Extract time series data from LiPD formatted datasets\n",
    "\n",
    "If you are famliar with the [R utilities](https://nickmckay.github.io/lipdR/), one useful functions is the ability to expand timeseries data. This capability was also present in the previous iteration of the Python utilities and `PyLiPD` retains this compatbility to ease the transition. \n",
    "\n",
    "If you're unsure about what a time series is in the LiPD context, [read more](https://nickmckay.github.io/lipdR/#helptimeseries). \n",
    "\n",
    "#### Working with one dataset\n",
    "\n",
    "First, let's load a single dataset:"
   ]
  },
  {
   "cell_type": "code",
   "execution_count": 2,
   "id": "8a8f8659",
   "metadata": {},
   "outputs": [
    {
     "name": "stdout",
     "output_type": "stream",
     "text": [
      "Loading 1 LiPD files\n"
     ]
    },
    {
     "name": "stderr",
     "output_type": "stream",
     "text": [
      "100%|████████████████████████████████████████████████████████| 1/1 [00:00<00:00, 18.67it/s]"
     ]
    },
    {
     "name": "stdout",
     "output_type": "stream",
     "text": [
      "Loaded..\n"
     ]
    },
    {
     "name": "stderr",
     "output_type": "stream",
     "text": [
      "\n"
     ]
    }
   ],
   "source": [
    "data_path = '../data/Ocn-Palmyra.Nurhati.2011.lpd'\n",
    "D = LiPD()\n",
    "D.load(data_path)"
   ]
  },
  {
   "cell_type": "markdown",
   "id": "0e92e908",
   "metadata": {},
   "source": [
    "Now let's get all the timeseries for this dataset. Note that the [`get_timeseries`](https://pylipd.readthedocs.io/en/latest/source/pylipd.html#pylipd.lipd.LiPD.get_timeseries) function requires to pass the dataset names. This is useful if you only want to expand only one dataset from your LiPD object. You can also use the function [`get_all_dataset_names`](https://pylipd.readthedocs.io/en/latest/source/pylipd.html#pylipd.lipd.LiPD.get_all_dataset_names) in the call to expand all datasets: "
   ]
  },
  {
   "cell_type": "code",
   "execution_count": 3,
   "id": "b7121335",
   "metadata": {},
   "outputs": [
    {
     "name": "stdout",
     "output_type": "stream",
     "text": [
      "Extracting timeseries from dataset: Ocn-Palmyra.Nurhati.2011 ...\n"
     ]
    },
    {
     "data": {
      "text/plain": [
       "dict"
      ]
     },
     "execution_count": 3,
     "metadata": {},
     "output_type": "execute_result"
    }
   ],
   "source": [
    "ts_list = D.get_timeseries(D.get_all_dataset_names())\n",
    "\n",
    "type(ts_list)"
   ]
  },
  {
   "cell_type": "markdown",
   "id": "fa2cf601",
   "metadata": {},
   "source": [
    "Note that the above function returns a dictionary that organizes the extracted timeseries by dataset name:"
   ]
  },
  {
   "cell_type": "code",
   "execution_count": 4,
   "id": "46196c72",
   "metadata": {},
   "outputs": [
    {
     "data": {
      "text/plain": [
       "dict_keys(['Ocn-Palmyra.Nurhati.2011'])"
      ]
     },
     "execution_count": 4,
     "metadata": {},
     "output_type": "execute_result"
    }
   ],
   "source": [
    "ts_list.keys()"
   ]
  },
  {
   "cell_type": "markdown",
   "id": "250a4611",
   "metadata": {},
   "source": [
    "Each timeseries is then stored into a list of dictionaries that preserve essential metadata for each time/depth and value pair:"
   ]
  },
  {
   "cell_type": "code",
   "execution_count": 5,
   "id": "d7f08392",
   "metadata": {},
   "outputs": [
    {
     "data": {
      "text/plain": [
       "list"
      ]
     },
     "execution_count": 5,
     "metadata": {},
     "output_type": "execute_result"
    }
   ],
   "source": [
    "type(ts_list['Ocn-Palmyra.Nurhati.2011'])"
   ]
  },
  {
   "cell_type": "markdown",
   "id": "fb7d5290",
   "metadata": {},
   "source": [
    "Although the information is present, it is not easy to navigate or query across the various list. One simple way of doing so is to return the list into a [`Pandas.DataFrame`](https://pandas.pydata.org/docs/reference/api/pandas.DataFrame.html):"
   ]
  },
  {
   "cell_type": "code",
   "execution_count": 7,
   "id": "80bcb09d",
   "metadata": {},
   "outputs": [
    {
     "name": "stdout",
     "output_type": "stream",
     "text": [
      "Extracting timeseries from dataset: Ocn-Palmyra.Nurhati.2011 ...\n"
     ]
    },
    {
     "data": {
      "text/html": [
       "<div>\n",
       "<style scoped>\n",
       "    .dataframe tbody tr th:only-of-type {\n",
       "        vertical-align: middle;\n",
       "    }\n",
       "\n",
       "    .dataframe tbody tr th {\n",
       "        vertical-align: top;\n",
       "    }\n",
       "\n",
       "    .dataframe thead th {\n",
       "        text-align: right;\n",
       "    }\n",
       "</style>\n",
       "<table border=\"1\" class=\"dataframe\">\n",
       "  <thead>\n",
       "    <tr style=\"text-align: right;\">\n",
       "      <th></th>\n",
       "      <th>mode</th>\n",
       "      <th>time_id</th>\n",
       "      <th>googleMetadataWorksheet</th>\n",
       "      <th>lipdVersion</th>\n",
       "      <th>dataSetName</th>\n",
       "      <th>googleDataURL</th>\n",
       "      <th>createdBy</th>\n",
       "      <th>dataContributor</th>\n",
       "      <th>geo_meanLon</th>\n",
       "      <th>geo_meanLat</th>\n",
       "      <th>...</th>\n",
       "      <th>paleoData_qCnotes</th>\n",
       "      <th>paleoData_proxy</th>\n",
       "      <th>paleoData_proxyObservationType</th>\n",
       "      <th>paleoData_pages2kID</th>\n",
       "      <th>paleoData_inCompilation</th>\n",
       "      <th>paleoData_iso2kUI</th>\n",
       "      <th>paleoData_interpretation</th>\n",
       "      <th>paleoData_notes</th>\n",
       "      <th>paleoData_qCCertification</th>\n",
       "      <th>paleoData_ocean2kID</th>\n",
       "    </tr>\n",
       "  </thead>\n",
       "  <tbody>\n",
       "    <tr>\n",
       "      <th>0</th>\n",
       "      <td>paleoData</td>\n",
       "      <td>age</td>\n",
       "      <td>oax0htr</td>\n",
       "      <td>1.3</td>\n",
       "      <td>Ocn-Palmyra.Nurhati.2011</td>\n",
       "      <td>https://docs.google.com/spreadsheets/d/1AIFOcq...</td>\n",
       "      <td>matlab</td>\n",
       "      <td>{'name': 'HLF MNE'}</td>\n",
       "      <td>-162.13</td>\n",
       "      <td>5.87</td>\n",
       "      <td>...</td>\n",
       "      <td>NaN</td>\n",
       "      <td>NaN</td>\n",
       "      <td>NaN</td>\n",
       "      <td>NaN</td>\n",
       "      <td>NaN</td>\n",
       "      <td>NaN</td>\n",
       "      <td>NaN</td>\n",
       "      <td>NaN</td>\n",
       "      <td>NaN</td>\n",
       "      <td>NaN</td>\n",
       "    </tr>\n",
       "    <tr>\n",
       "      <th>1</th>\n",
       "      <td>paleoData</td>\n",
       "      <td>age</td>\n",
       "      <td>oax0htr</td>\n",
       "      <td>1.3</td>\n",
       "      <td>Ocn-Palmyra.Nurhati.2011</td>\n",
       "      <td>https://docs.google.com/spreadsheets/d/1AIFOcq...</td>\n",
       "      <td>matlab</td>\n",
       "      <td>{'name': 'HLF MNE'}</td>\n",
       "      <td>-162.13</td>\n",
       "      <td>5.87</td>\n",
       "      <td>...</td>\n",
       "      <td>d18Osw (residuals calculated from coupled SrCa...</td>\n",
       "      <td>d18O</td>\n",
       "      <td>d18O</td>\n",
       "      <td>NaN</td>\n",
       "      <td>NaN</td>\n",
       "      <td>NaN</td>\n",
       "      <td>NaN</td>\n",
       "      <td>NaN</td>\n",
       "      <td>NaN</td>\n",
       "      <td>NaN</td>\n",
       "    </tr>\n",
       "    <tr>\n",
       "      <th>2</th>\n",
       "      <td>paleoData</td>\n",
       "      <td>age</td>\n",
       "      <td>oax0htr</td>\n",
       "      <td>1.3</td>\n",
       "      <td>Ocn-Palmyra.Nurhati.2011</td>\n",
       "      <td>https://docs.google.com/spreadsheets/d/1AIFOcq...</td>\n",
       "      <td>matlab</td>\n",
       "      <td>{'name': 'HLF MNE'}</td>\n",
       "      <td>-162.13</td>\n",
       "      <td>5.87</td>\n",
       "      <td>...</td>\n",
       "      <td>NaN</td>\n",
       "      <td>NaN</td>\n",
       "      <td>NaN</td>\n",
       "      <td>NaN</td>\n",
       "      <td>NaN</td>\n",
       "      <td>NaN</td>\n",
       "      <td>NaN</td>\n",
       "      <td>NaN</td>\n",
       "      <td>NaN</td>\n",
       "      <td>NaN</td>\n",
       "    </tr>\n",
       "    <tr>\n",
       "      <th>3</th>\n",
       "      <td>paleoData</td>\n",
       "      <td>age</td>\n",
       "      <td>oax0htr</td>\n",
       "      <td>1.3</td>\n",
       "      <td>Ocn-Palmyra.Nurhati.2011</td>\n",
       "      <td>https://docs.google.com/spreadsheets/d/1AIFOcq...</td>\n",
       "      <td>matlab</td>\n",
       "      <td>{'name': 'HLF MNE'}</td>\n",
       "      <td>-162.13</td>\n",
       "      <td>5.87</td>\n",
       "      <td>...</td>\n",
       "      <td>NaN</td>\n",
       "      <td>Sr/Ca</td>\n",
       "      <td>Sr/Ca</td>\n",
       "      <td>Ocn_129</td>\n",
       "      <td>Ocean2k_v1.0.0</td>\n",
       "      <td>CO11NUPM01BT1</td>\n",
       "      <td>[{'variable': 'T', 'scope': 'climate', 'interp...</td>\n",
       "      <td>; paleoData_variableName changed - was origina...</td>\n",
       "      <td>MNE, NJA</td>\n",
       "      <td>PacificNurhati2011</td>\n",
       "    </tr>\n",
       "    <tr>\n",
       "      <th>4</th>\n",
       "      <td>paleoData</td>\n",
       "      <td>age</td>\n",
       "      <td>oax0htr</td>\n",
       "      <td>1.3</td>\n",
       "      <td>Ocn-Palmyra.Nurhati.2011</td>\n",
       "      <td>https://docs.google.com/spreadsheets/d/1AIFOcq...</td>\n",
       "      <td>matlab</td>\n",
       "      <td>{'name': 'HLF MNE'}</td>\n",
       "      <td>-162.13</td>\n",
       "      <td>5.87</td>\n",
       "      <td>...</td>\n",
       "      <td>Duplicate of modern d18O record presented in C...</td>\n",
       "      <td>d18O</td>\n",
       "      <td>d18O</td>\n",
       "      <td>NaN</td>\n",
       "      <td>NaN</td>\n",
       "      <td>CO11NUPM01B</td>\n",
       "      <td>[{'interpDirection': 'negative', 'variable': '...</td>\n",
       "      <td>; climateInterpretation_seasonality changed - ...</td>\n",
       "      <td>MNE, NJA</td>\n",
       "      <td>NaN</td>\n",
       "    </tr>\n",
       "  </tbody>\n",
       "</table>\n",
       "<p>5 rows × 93 columns</p>\n",
       "</div>"
      ],
      "text/plain": [
       "        mode time_id googleMetadataWorksheet  lipdVersion   \n",
       "0  paleoData     age                 oax0htr          1.3  \\\n",
       "1  paleoData     age                 oax0htr          1.3   \n",
       "2  paleoData     age                 oax0htr          1.3   \n",
       "3  paleoData     age                 oax0htr          1.3   \n",
       "4  paleoData     age                 oax0htr          1.3   \n",
       "\n",
       "                dataSetName   \n",
       "0  Ocn-Palmyra.Nurhati.2011  \\\n",
       "1  Ocn-Palmyra.Nurhati.2011   \n",
       "2  Ocn-Palmyra.Nurhati.2011   \n",
       "3  Ocn-Palmyra.Nurhati.2011   \n",
       "4  Ocn-Palmyra.Nurhati.2011   \n",
       "\n",
       "                                       googleDataURL createdBy   \n",
       "0  https://docs.google.com/spreadsheets/d/1AIFOcq...    matlab  \\\n",
       "1  https://docs.google.com/spreadsheets/d/1AIFOcq...    matlab   \n",
       "2  https://docs.google.com/spreadsheets/d/1AIFOcq...    matlab   \n",
       "3  https://docs.google.com/spreadsheets/d/1AIFOcq...    matlab   \n",
       "4  https://docs.google.com/spreadsheets/d/1AIFOcq...    matlab   \n",
       "\n",
       "       dataContributor  geo_meanLon  geo_meanLat  ...   \n",
       "0  {'name': 'HLF MNE'}      -162.13         5.87  ...  \\\n",
       "1  {'name': 'HLF MNE'}      -162.13         5.87  ...   \n",
       "2  {'name': 'HLF MNE'}      -162.13         5.87  ...   \n",
       "3  {'name': 'HLF MNE'}      -162.13         5.87  ...   \n",
       "4  {'name': 'HLF MNE'}      -162.13         5.87  ...   \n",
       "\n",
       "                                   paleoData_qCnotes paleoData_proxy   \n",
       "0                                                NaN             NaN  \\\n",
       "1  d18Osw (residuals calculated from coupled SrCa...            d18O   \n",
       "2                                                NaN             NaN   \n",
       "3                                                NaN           Sr/Ca   \n",
       "4  Duplicate of modern d18O record presented in C...            d18O   \n",
       "\n",
       "  paleoData_proxyObservationType paleoData_pages2kID paleoData_inCompilation   \n",
       "0                            NaN                 NaN                     NaN  \\\n",
       "1                           d18O                 NaN                     NaN   \n",
       "2                            NaN                 NaN                     NaN   \n",
       "3                          Sr/Ca             Ocn_129          Ocean2k_v1.0.0   \n",
       "4                           d18O                 NaN                     NaN   \n",
       "\n",
       "  paleoData_iso2kUI                           paleoData_interpretation   \n",
       "0               NaN                                                NaN  \\\n",
       "1               NaN                                                NaN   \n",
       "2               NaN                                                NaN   \n",
       "3     CO11NUPM01BT1  [{'variable': 'T', 'scope': 'climate', 'interp...   \n",
       "4       CO11NUPM01B  [{'interpDirection': 'negative', 'variable': '...   \n",
       "\n",
       "                                     paleoData_notes   \n",
       "0                                                NaN  \\\n",
       "1                                                NaN   \n",
       "2                                                NaN   \n",
       "3  ; paleoData_variableName changed - was origina...   \n",
       "4  ; climateInterpretation_seasonality changed - ...   \n",
       "\n",
       "  paleoData_qCCertification paleoData_ocean2kID  \n",
       "0                       NaN                 NaN  \n",
       "1                       NaN                 NaN  \n",
       "2                       NaN                 NaN  \n",
       "3                  MNE, NJA  PacificNurhati2011  \n",
       "4                  MNE, NJA                 NaN  \n",
       "\n",
       "[5 rows x 93 columns]"
      ]
     },
     "execution_count": 7,
     "metadata": {},
     "output_type": "execute_result"
    }
   ],
   "source": [
    "ts_list, df = D.get_timeseries(D.get_all_dataset_names(), to_dataframe=True)\n",
    "\n",
    "df"
   ]
  },
  {
   "cell_type": "markdown",
   "id": "ec95e7eb",
   "metadata": {},
   "source": [
    "You can now use all the pandas functionalities for filtering and querying dataframes. First, let's have a look at the available properties, which corresponds to the column headers:"
   ]
  },
  {
   "cell_type": "code",
   "execution_count": 8,
   "id": "4afe09fe",
   "metadata": {},
   "outputs": [
    {
     "data": {
      "text/plain": [
       "Index(['mode', 'time_id', 'googleMetadataWorksheet', 'lipdVersion',\n",
       "       'dataSetName', 'googleDataURL', 'createdBy', 'dataContributor',\n",
       "       'geo_meanLon', 'geo_meanLat', 'geo_meanElev', 'geo_type',\n",
       "       'geo_pages2kRegion', 'geo_ocean', 'geo_siteName', 'originalDataURL',\n",
       "       'studyName', 'hasUrl', 'pub1_author', 'pub1_title', 'pub1_citeKey',\n",
       "       'pub1_year', 'pub1_volume', 'pub1_journal', 'pub1_pages', 'pub1_link',\n",
       "       'pub1_publisher', 'pub1_dataUrl', 'pub1_doi', 'pub1_DOI', 'pub2_author',\n",
       "       'pub2_url', 'pub2_institution', 'pub2_urldate', 'pub2_citeKey',\n",
       "       'pub2_title', 'pub2_DOI', 'pub3_author', 'pub3_journal', 'pub3_doi',\n",
       "       'pub3_pages', 'pub3_title', 'pub3_year', 'pub3_publisher', 'pub3_link',\n",
       "       'pub3_volume', 'pub3_issue', 'pub3_dataUrl', 'pub3_citeKey', 'pub3_DOI',\n",
       "       'googleSpreadSheetKey', 'archiveType', 'tableType',\n",
       "       'paleoData_measurementTableMD5', 'paleoData_filename',\n",
       "       'paleoData_measurementTableName', 'paleoData_paleoDataTableName',\n",
       "       'paleoData_googleWorkSheetKey', 'year', 'yearUnits',\n",
       "       'paleoData_inferredVariableType', 'paleoData_wDSPaleoUrl',\n",
       "       'paleoData_hasMaxValue', 'paleoData_hasMeanValue',\n",
       "       'paleoData_hasResolution_hasMaxValue',\n",
       "       'paleoData_hasResolution_hasMeanValue',\n",
       "       'paleoData_hasResolution_hasMedianValue',\n",
       "       'paleoData_hasResolution_units', 'paleoData_hasResolution_hasMinValue',\n",
       "       'paleoData_number', 'paleoData_hasMinValue', 'paleoData_description',\n",
       "       'paleoData_variableName', 'paleoData_hasMedianValue',\n",
       "       'paleoData_dataType', 'paleoData_TSid', 'paleoData_units',\n",
       "       'paleoData_missingValue', 'paleoData_variableType', 'paleoData_values',\n",
       "       'paleoData_sensorSpecies', 'paleoData_sensorGenus',\n",
       "       'paleoData_useInGlobalTemperatureAnalysis', 'paleoData_qCnotes',\n",
       "       'paleoData_proxy', 'paleoData_proxyObservationType',\n",
       "       'paleoData_pages2kID', 'paleoData_inCompilation', 'paleoData_iso2kUI',\n",
       "       'paleoData_interpretation', 'paleoData_notes',\n",
       "       'paleoData_qCCertification', 'paleoData_ocean2kID'],\n",
       "      dtype='object')"
      ]
     },
     "execution_count": 8,
     "metadata": {},
     "output_type": "execute_result"
    }
   ],
   "source": [
    "df.columns"
   ]
  },
  {
   "cell_type": "markdown",
   "id": "9442dc71",
   "metadata": {},
   "source": [
    "Let's have a look at the `paleoData_variableName` column to see what's available:"
   ]
  },
  {
   "cell_type": "code",
   "execution_count": 9,
   "id": "6fe5eed5",
   "metadata": {},
   "outputs": [
    {
     "data": {
      "text/plain": [
       "0     year\n",
       "1     d18O\n",
       "2     year\n",
       "3    Sr_Ca\n",
       "4     d18O\n",
       "Name: paleoData_variableName, dtype: object"
      ]
     },
     "execution_count": 9,
     "metadata": {},
     "output_type": "execute_result"
    }
   ],
   "source": [
    "df['paleoData_variableName']"
   ]
  },
  {
   "cell_type": "markdown",
   "id": "8228e271",
   "metadata": {},
   "source": [
    "All columns get extracted, hence why `year` is extracted as a paleo variable, with its associated values stored in `paleoData_values`. Notice that there is also two variables names `d18O`. Since this is a coral record, it stands to reason that one corresponds to the measured $\\delta^{18}O$ of the coral and the other the $\\delta^{18}O$ of the seawater. Let's have a look at the `qCnotes` field:"
   ]
  },
  {
   "cell_type": "code",
   "execution_count": 10,
   "id": "d16917ac",
   "metadata": {},
   "outputs": [
    {
     "data": {
      "text/html": [
       "<div>\n",
       "<style scoped>\n",
       "    .dataframe tbody tr th:only-of-type {\n",
       "        vertical-align: middle;\n",
       "    }\n",
       "\n",
       "    .dataframe tbody tr th {\n",
       "        vertical-align: top;\n",
       "    }\n",
       "\n",
       "    .dataframe thead th {\n",
       "        text-align: right;\n",
       "    }\n",
       "</style>\n",
       "<table border=\"1\" class=\"dataframe\">\n",
       "  <thead>\n",
       "    <tr style=\"text-align: right;\">\n",
       "      <th></th>\n",
       "      <th>paleoData_variableName</th>\n",
       "      <th>paleoData_qCnotes</th>\n",
       "    </tr>\n",
       "  </thead>\n",
       "  <tbody>\n",
       "    <tr>\n",
       "      <th>0</th>\n",
       "      <td>year</td>\n",
       "      <td>NaN</td>\n",
       "    </tr>\n",
       "    <tr>\n",
       "      <th>1</th>\n",
       "      <td>d18O</td>\n",
       "      <td>d18Osw (residuals calculated from coupled SrCa...</td>\n",
       "    </tr>\n",
       "    <tr>\n",
       "      <th>2</th>\n",
       "      <td>year</td>\n",
       "      <td>NaN</td>\n",
       "    </tr>\n",
       "    <tr>\n",
       "      <th>3</th>\n",
       "      <td>Sr_Ca</td>\n",
       "      <td>NaN</td>\n",
       "    </tr>\n",
       "    <tr>\n",
       "      <th>4</th>\n",
       "      <td>d18O</td>\n",
       "      <td>Duplicate of modern d18O record presented in C...</td>\n",
       "    </tr>\n",
       "  </tbody>\n",
       "</table>\n",
       "</div>"
      ],
      "text/plain": [
       "  paleoData_variableName                                  paleoData_qCnotes\n",
       "0                   year                                                NaN\n",
       "1                   d18O  d18Osw (residuals calculated from coupled SrCa...\n",
       "2                   year                                                NaN\n",
       "3                  Sr_Ca                                                NaN\n",
       "4                   d18O  Duplicate of modern d18O record presented in C..."
      ]
     },
     "execution_count": 10,
     "metadata": {},
     "output_type": "execute_result"
    }
   ],
   "source": [
    "df[['paleoData_variableName','paleoData_qCnotes']]"
   ]
  },
  {
   "cell_type": "markdown",
   "id": "86733e75",
   "metadata": {},
   "source": [
    "In fact, one is for the measurement on the coral and the other for seawater. Querying on this small dataset is not necessary; however, it can become useful when looking at a collection of files as shown in the next example (working with multiple datasets). \n",
    "\n",
    "To extract by row index (here extracting for `Sr_Ca`):"
   ]
  },
  {
   "cell_type": "code",
   "execution_count": 11,
   "id": "79711bfe",
   "metadata": {},
   "outputs": [
    {
     "data": {
      "text/plain": [
       "mode                                        paleoData\n",
       "time_id                                           age\n",
       "googleMetadataWorksheet                       oax0htr\n",
       "lipdVersion                                       1.3\n",
       "dataSetName                  Ocn-Palmyra.Nurhati.2011\n",
       "                                       ...           \n",
       "paleoData_iso2kUI                                 NaN\n",
       "paleoData_interpretation                          NaN\n",
       "paleoData_notes                                   NaN\n",
       "paleoData_qCCertification                         NaN\n",
       "paleoData_ocean2kID                               NaN\n",
       "Name: 0, Length: 93, dtype: object"
      ]
     },
     "execution_count": 11,
     "metadata": {},
     "output_type": "execute_result"
    }
   ],
   "source": [
    "df_cut = df.iloc[0,:]\n",
    "\n",
    "df_cut"
   ]
  },
  {
   "cell_type": "code",
   "execution_count": 12,
   "id": "76224449",
   "metadata": {},
   "outputs": [
    {
     "data": {
      "text/plain": [
       "'year'"
      ]
     },
     "execution_count": 12,
     "metadata": {},
     "output_type": "execute_result"
    }
   ],
   "source": [
    "df_cut['paleoData_variableName']"
   ]
  },
  {
   "cell_type": "markdown",
   "id": "50937d6a",
   "metadata": {},
   "source": [
    "This can be very useful when working with the [`Pyleoclim`](https://pyleoclim-util.readthedocs.io/en/master/) software since a `Pyleoclim.Series` can be initialized from the information contained in `df_cut`. Working with `PyLiPD` and `Pyleoclim` is a subject of [several tutorials](http://linked.earth/PyleoTutorials/intro.html)."
   ]
  },
  {
   "cell_type": "markdown",
   "id": "fb5d0bbd-82c9-40ec-b82e-67a05ba91d3f",
   "metadata": {},
   "source": [
    "Working with such a large dataframe can be overwhelming and not needed in some cases. Therefore, `PyLiPD` has a nifty function called `get_timeseries_essential` that grabs information about the dataset, its geographical location, the time/depth values, the variable information, including archive and proxy:"
   ]
  },
  {
   "cell_type": "code",
   "execution_count": 14,
   "id": "fb3f5a89-47fd-4e82-93dd-316e949866c8",
   "metadata": {},
   "outputs": [
    {
     "data": {
      "text/html": [
       "<div>\n",
       "<style scoped>\n",
       "    .dataframe tbody tr th:only-of-type {\n",
       "        vertical-align: middle;\n",
       "    }\n",
       "\n",
       "    .dataframe tbody tr th {\n",
       "        vertical-align: top;\n",
       "    }\n",
       "\n",
       "    .dataframe thead th {\n",
       "        text-align: right;\n",
       "    }\n",
       "</style>\n",
       "<table border=\"1\" class=\"dataframe\">\n",
       "  <thead>\n",
       "    <tr style=\"text-align: right;\">\n",
       "      <th></th>\n",
       "      <th>dataSetName</th>\n",
       "      <th>archiveType</th>\n",
       "      <th>geo_meanLat</th>\n",
       "      <th>geo_meanLon</th>\n",
       "      <th>geo_meanElev</th>\n",
       "      <th>paleoData_variableName</th>\n",
       "      <th>paleoData_values</th>\n",
       "      <th>paleoData_units</th>\n",
       "      <th>paleoData_proxy</th>\n",
       "      <th>paleoData_proxyGeneral</th>\n",
       "      <th>time_variableName</th>\n",
       "      <th>time_values</th>\n",
       "      <th>time_units</th>\n",
       "      <th>depth_variableName</th>\n",
       "      <th>depth_values</th>\n",
       "      <th>depth_units</th>\n",
       "    </tr>\n",
       "  </thead>\n",
       "  <tbody>\n",
       "    <tr>\n",
       "      <th>0</th>\n",
       "      <td>Ocn-Palmyra.Nurhati.2011</td>\n",
       "      <td>coral</td>\n",
       "      <td>5.87</td>\n",
       "      <td>-162.13</td>\n",
       "      <td>-10.0</td>\n",
       "      <td>year</td>\n",
       "      <td>[1998.29, 1998.21, 1998.13, 1998.04, 1997.96, ...</td>\n",
       "      <td>AD</td>\n",
       "      <td>None</td>\n",
       "      <td>None</td>\n",
       "      <td>year</td>\n",
       "      <td>[1998.29, 1998.21, 1998.13, 1998.04, 1997.96, ...</td>\n",
       "      <td>AD</td>\n",
       "      <td>None</td>\n",
       "      <td>None</td>\n",
       "      <td>None</td>\n",
       "    </tr>\n",
       "    <tr>\n",
       "      <th>1</th>\n",
       "      <td>Ocn-Palmyra.Nurhati.2011</td>\n",
       "      <td>coral</td>\n",
       "      <td>5.87</td>\n",
       "      <td>-162.13</td>\n",
       "      <td>-10.0</td>\n",
       "      <td>d18O</td>\n",
       "      <td>[0.39, 0.35, 0.35, 0.35, 0.36, 0.22, 0.33, 0.3...</td>\n",
       "      <td>permil</td>\n",
       "      <td>d18O</td>\n",
       "      <td>None</td>\n",
       "      <td>year</td>\n",
       "      <td>[1998.21, 1998.13, 1998.04, 1997.96, 1997.88, ...</td>\n",
       "      <td>AD</td>\n",
       "      <td>None</td>\n",
       "      <td>None</td>\n",
       "      <td>None</td>\n",
       "    </tr>\n",
       "    <tr>\n",
       "      <th>2</th>\n",
       "      <td>Ocn-Palmyra.Nurhati.2011</td>\n",
       "      <td>coral</td>\n",
       "      <td>5.87</td>\n",
       "      <td>-162.13</td>\n",
       "      <td>-10.0</td>\n",
       "      <td>Sr_Ca</td>\n",
       "      <td>[8.96, 8.9, 8.91, 8.94, 8.92, 8.89, 8.87, 8.81...</td>\n",
       "      <td>mmol/mol</td>\n",
       "      <td>Sr/Ca</td>\n",
       "      <td>None</td>\n",
       "      <td>year</td>\n",
       "      <td>[1998.29, 1998.21, 1998.13, 1998.04, 1997.96, ...</td>\n",
       "      <td>AD</td>\n",
       "      <td>None</td>\n",
       "      <td>None</td>\n",
       "      <td>None</td>\n",
       "    </tr>\n",
       "    <tr>\n",
       "      <th>3</th>\n",
       "      <td>Ocn-Palmyra.Nurhati.2011</td>\n",
       "      <td>coral</td>\n",
       "      <td>5.87</td>\n",
       "      <td>-162.13</td>\n",
       "      <td>-10.0</td>\n",
       "      <td>year</td>\n",
       "      <td>[1998.21, 1998.13, 1998.04, 1997.96, 1997.88, ...</td>\n",
       "      <td>AD</td>\n",
       "      <td>None</td>\n",
       "      <td>None</td>\n",
       "      <td>year</td>\n",
       "      <td>[1998.21, 1998.13, 1998.04, 1997.96, 1997.88, ...</td>\n",
       "      <td>AD</td>\n",
       "      <td>None</td>\n",
       "      <td>None</td>\n",
       "      <td>None</td>\n",
       "    </tr>\n",
       "    <tr>\n",
       "      <th>4</th>\n",
       "      <td>Ocn-Palmyra.Nurhati.2011</td>\n",
       "      <td>coral</td>\n",
       "      <td>5.87</td>\n",
       "      <td>-162.13</td>\n",
       "      <td>-10.0</td>\n",
       "      <td>d18O</td>\n",
       "      <td>[-5.41, -5.47, -5.49, -5.43, -5.48, -5.53, -5....</td>\n",
       "      <td>permil</td>\n",
       "      <td>d18O</td>\n",
       "      <td>None</td>\n",
       "      <td>year</td>\n",
       "      <td>[1998.29, 1998.21, 1998.13, 1998.04, 1997.96, ...</td>\n",
       "      <td>AD</td>\n",
       "      <td>None</td>\n",
       "      <td>None</td>\n",
       "      <td>None</td>\n",
       "    </tr>\n",
       "  </tbody>\n",
       "</table>\n",
       "</div>"
      ],
      "text/plain": [
       "                dataSetName archiveType  geo_meanLat  geo_meanLon   \n",
       "0  Ocn-Palmyra.Nurhati.2011       coral         5.87      -162.13  \\\n",
       "1  Ocn-Palmyra.Nurhati.2011       coral         5.87      -162.13   \n",
       "2  Ocn-Palmyra.Nurhati.2011       coral         5.87      -162.13   \n",
       "3  Ocn-Palmyra.Nurhati.2011       coral         5.87      -162.13   \n",
       "4  Ocn-Palmyra.Nurhati.2011       coral         5.87      -162.13   \n",
       "\n",
       "   geo_meanElev paleoData_variableName   \n",
       "0         -10.0                   year  \\\n",
       "1         -10.0                   d18O   \n",
       "2         -10.0                  Sr_Ca   \n",
       "3         -10.0                   year   \n",
       "4         -10.0                   d18O   \n",
       "\n",
       "                                    paleoData_values paleoData_units   \n",
       "0  [1998.29, 1998.21, 1998.13, 1998.04, 1997.96, ...              AD  \\\n",
       "1  [0.39, 0.35, 0.35, 0.35, 0.36, 0.22, 0.33, 0.3...          permil   \n",
       "2  [8.96, 8.9, 8.91, 8.94, 8.92, 8.89, 8.87, 8.81...        mmol/mol   \n",
       "3  [1998.21, 1998.13, 1998.04, 1997.96, 1997.88, ...              AD   \n",
       "4  [-5.41, -5.47, -5.49, -5.43, -5.48, -5.53, -5....          permil   \n",
       "\n",
       "  paleoData_proxy paleoData_proxyGeneral time_variableName   \n",
       "0            None                   None              year  \\\n",
       "1            d18O                   None              year   \n",
       "2           Sr/Ca                   None              year   \n",
       "3            None                   None              year   \n",
       "4            d18O                   None              year   \n",
       "\n",
       "                                         time_values time_units   \n",
       "0  [1998.29, 1998.21, 1998.13, 1998.04, 1997.96, ...         AD  \\\n",
       "1  [1998.21, 1998.13, 1998.04, 1997.96, 1997.88, ...         AD   \n",
       "2  [1998.29, 1998.21, 1998.13, 1998.04, 1997.96, ...         AD   \n",
       "3  [1998.21, 1998.13, 1998.04, 1997.96, 1997.88, ...         AD   \n",
       "4  [1998.29, 1998.21, 1998.13, 1998.04, 1997.96, ...         AD   \n",
       "\n",
       "  depth_variableName depth_values depth_units  \n",
       "0               None         None        None  \n",
       "1               None         None        None  \n",
       "2               None         None        None  \n",
       "3               None         None        None  \n",
       "4               None         None        None  "
      ]
     },
     "execution_count": 14,
     "metadata": {},
     "output_type": "execute_result"
    }
   ],
   "source": [
    "df_essential = D.get_timeseries_essentials()\n",
    "\n",
    "df_essential"
   ]
  },
  {
   "cell_type": "markdown",
   "id": "596acaa3-0389-4271-9812-b1375b6f3dbd",
   "metadata": {},
   "source": [
    "The metadata (i.e., the column names) available through this function will always remain the same and are as follows:"
   ]
  },
  {
   "cell_type": "code",
   "execution_count": 15,
   "id": "ae018c88-3f44-4566-9f5c-ee429df38706",
   "metadata": {},
   "outputs": [
    {
     "data": {
      "text/plain": [
       "Index(['dataSetName', 'archiveType', 'geo_meanLat', 'geo_meanLon',\n",
       "       'geo_meanElev', 'paleoData_variableName', 'paleoData_values',\n",
       "       'paleoData_units', 'paleoData_proxy', 'paleoData_proxyGeneral',\n",
       "       'time_variableName', 'time_values', 'time_units', 'depth_variableName',\n",
       "       'depth_values', 'depth_units'],\n",
       "      dtype='object')"
      ]
     },
     "execution_count": 15,
     "metadata": {},
     "output_type": "execute_result"
    }
   ],
   "source": [
    "df_essential.columns"
   ]
  },
  {
   "cell_type": "markdown",
   "id": "1d4d0022",
   "metadata": {},
   "source": [
    "#### Working with multiple datasets"
   ]
  },
  {
   "cell_type": "code",
   "execution_count": 16,
   "id": "5bb89337",
   "metadata": {},
   "outputs": [
    {
     "name": "stdout",
     "output_type": "stream",
     "text": [
      "Loading 31 LiPD files\n"
     ]
    },
    {
     "name": "stderr",
     "output_type": "stream",
     "text": [
      "100%|██████████████████████████████████████████████████████| 31/31 [00:00<00:00, 40.91it/s]"
     ]
    },
    {
     "name": "stdout",
     "output_type": "stream",
     "text": [
      "Loaded..\n"
     ]
    },
    {
     "name": "stderr",
     "output_type": "stream",
     "text": [
      "\n"
     ]
    }
   ],
   "source": [
    "path = '../data/Euro2k/'\n",
    "\n",
    "D_dir = LiPD()\n",
    "D_dir.load_from_dir(path)"
   ]
  },
  {
   "cell_type": "markdown",
   "id": "b23be8cd",
   "metadata": {},
   "source": [
    "Let's expand into our essential dataframe:"
   ]
  },
  {
   "cell_type": "code",
   "execution_count": 17,
   "id": "4ac3c735",
   "metadata": {},
   "outputs": [],
   "source": [
    "df_dir = D_dir.get_timeseries_essentials()"
   ]
  },
  {
   "cell_type": "markdown",
   "id": "2b25e22a",
   "metadata": {},
   "source": [
    "Let's have a look at the dataframe:"
   ]
  },
  {
   "cell_type": "code",
   "execution_count": 18,
   "id": "977fab82",
   "metadata": {},
   "outputs": [
    {
     "data": {
      "text/html": [
       "<div>\n",
       "<style scoped>\n",
       "    .dataframe tbody tr th:only-of-type {\n",
       "        vertical-align: middle;\n",
       "    }\n",
       "\n",
       "    .dataframe tbody tr th {\n",
       "        vertical-align: top;\n",
       "    }\n",
       "\n",
       "    .dataframe thead th {\n",
       "        text-align: right;\n",
       "    }\n",
       "</style>\n",
       "<table border=\"1\" class=\"dataframe\">\n",
       "  <thead>\n",
       "    <tr style=\"text-align: right;\">\n",
       "      <th></th>\n",
       "      <th>dataSetName</th>\n",
       "      <th>archiveType</th>\n",
       "      <th>geo_meanLat</th>\n",
       "      <th>geo_meanLon</th>\n",
       "      <th>geo_meanElev</th>\n",
       "      <th>paleoData_variableName</th>\n",
       "      <th>paleoData_values</th>\n",
       "      <th>paleoData_units</th>\n",
       "      <th>paleoData_proxy</th>\n",
       "      <th>paleoData_proxyGeneral</th>\n",
       "      <th>time_variableName</th>\n",
       "      <th>time_values</th>\n",
       "      <th>time_units</th>\n",
       "      <th>depth_variableName</th>\n",
       "      <th>depth_values</th>\n",
       "      <th>depth_units</th>\n",
       "    </tr>\n",
       "  </thead>\n",
       "  <tbody>\n",
       "    <tr>\n",
       "      <th>0</th>\n",
       "      <td>Ocn-RedSea.Felis.2000</td>\n",
       "      <td>coral</td>\n",
       "      <td>27.85</td>\n",
       "      <td>34.32</td>\n",
       "      <td>-6.0</td>\n",
       "      <td>d18O</td>\n",
       "      <td>[-4.12, -3.82, -3.05, -3.02, -3.62, -3.96, -3....</td>\n",
       "      <td>permil</td>\n",
       "      <td>d18O</td>\n",
       "      <td>None</td>\n",
       "      <td>year</td>\n",
       "      <td>[1995.583, 1995.417, 1995.25, 1995.083, 1994.9...</td>\n",
       "      <td>AD</td>\n",
       "      <td>None</td>\n",
       "      <td>None</td>\n",
       "      <td>None</td>\n",
       "    </tr>\n",
       "    <tr>\n",
       "      <th>1</th>\n",
       "      <td>Ocn-RedSea.Felis.2000</td>\n",
       "      <td>coral</td>\n",
       "      <td>27.85</td>\n",
       "      <td>34.32</td>\n",
       "      <td>-6.0</td>\n",
       "      <td>year</td>\n",
       "      <td>[1995.583, 1995.417, 1995.25, 1995.083, 1994.9...</td>\n",
       "      <td>AD</td>\n",
       "      <td>None</td>\n",
       "      <td>None</td>\n",
       "      <td>year</td>\n",
       "      <td>[1995.583, 1995.417, 1995.25, 1995.083, 1994.9...</td>\n",
       "      <td>AD</td>\n",
       "      <td>None</td>\n",
       "      <td>None</td>\n",
       "      <td>None</td>\n",
       "    </tr>\n",
       "    <tr>\n",
       "      <th>2</th>\n",
       "      <td>Arc-Forfjorddalen.McCarroll.2013</td>\n",
       "      <td>tree</td>\n",
       "      <td>68.73</td>\n",
       "      <td>15.73</td>\n",
       "      <td>200.0</td>\n",
       "      <td>MXD</td>\n",
       "      <td>[-0.6724083323, -0.9420877372, -0.9158317899, ...</td>\n",
       "      <td>NA</td>\n",
       "      <td>MXD</td>\n",
       "      <td>None</td>\n",
       "      <td>year</td>\n",
       "      <td>[1100.0, 1101.0, 1102.0, 1103.0, 1104.0, 1105....</td>\n",
       "      <td>AD</td>\n",
       "      <td>None</td>\n",
       "      <td>None</td>\n",
       "      <td>None</td>\n",
       "    </tr>\n",
       "    <tr>\n",
       "      <th>3</th>\n",
       "      <td>Arc-Forfjorddalen.McCarroll.2013</td>\n",
       "      <td>tree</td>\n",
       "      <td>68.73</td>\n",
       "      <td>15.73</td>\n",
       "      <td>200.0</td>\n",
       "      <td>year</td>\n",
       "      <td>[1100.0, 1101.0, 1102.0, 1103.0, 1104.0, 1105....</td>\n",
       "      <td>AD</td>\n",
       "      <td>None</td>\n",
       "      <td>None</td>\n",
       "      <td>year</td>\n",
       "      <td>[1100.0, 1101.0, 1102.0, 1103.0, 1104.0, 1105....</td>\n",
       "      <td>AD</td>\n",
       "      <td>None</td>\n",
       "      <td>None</td>\n",
       "      <td>None</td>\n",
       "    </tr>\n",
       "    <tr>\n",
       "      <th>4</th>\n",
       "      <td>Eur-Tallinn.Tarand.2001</td>\n",
       "      <td>documents</td>\n",
       "      <td>59.40</td>\n",
       "      <td>24.75</td>\n",
       "      <td>10.0</td>\n",
       "      <td>year</td>\n",
       "      <td>[1500.0, 1501.0, 1502.0, 1503.0, 1504.0, 1505....</td>\n",
       "      <td>AD</td>\n",
       "      <td>None</td>\n",
       "      <td>None</td>\n",
       "      <td>year</td>\n",
       "      <td>[1500.0, 1501.0, 1502.0, 1503.0, 1504.0, 1505....</td>\n",
       "      <td>AD</td>\n",
       "      <td>None</td>\n",
       "      <td>None</td>\n",
       "      <td>None</td>\n",
       "    </tr>\n",
       "  </tbody>\n",
       "</table>\n",
       "</div>"
      ],
      "text/plain": [
       "                        dataSetName archiveType  geo_meanLat  geo_meanLon   \n",
       "0             Ocn-RedSea.Felis.2000       coral        27.85        34.32  \\\n",
       "1             Ocn-RedSea.Felis.2000       coral        27.85        34.32   \n",
       "2  Arc-Forfjorddalen.McCarroll.2013        tree        68.73        15.73   \n",
       "3  Arc-Forfjorddalen.McCarroll.2013        tree        68.73        15.73   \n",
       "4           Eur-Tallinn.Tarand.2001   documents        59.40        24.75   \n",
       "\n",
       "   geo_meanElev paleoData_variableName   \n",
       "0          -6.0                   d18O  \\\n",
       "1          -6.0                   year   \n",
       "2         200.0                    MXD   \n",
       "3         200.0                   year   \n",
       "4          10.0                   year   \n",
       "\n",
       "                                    paleoData_values paleoData_units   \n",
       "0  [-4.12, -3.82, -3.05, -3.02, -3.62, -3.96, -3....          permil  \\\n",
       "1  [1995.583, 1995.417, 1995.25, 1995.083, 1994.9...              AD   \n",
       "2  [-0.6724083323, -0.9420877372, -0.9158317899, ...              NA   \n",
       "3  [1100.0, 1101.0, 1102.0, 1103.0, 1104.0, 1105....              AD   \n",
       "4  [1500.0, 1501.0, 1502.0, 1503.0, 1504.0, 1505....              AD   \n",
       "\n",
       "  paleoData_proxy paleoData_proxyGeneral time_variableName   \n",
       "0            d18O                   None              year  \\\n",
       "1            None                   None              year   \n",
       "2             MXD                   None              year   \n",
       "3            None                   None              year   \n",
       "4            None                   None              year   \n",
       "\n",
       "                                         time_values time_units   \n",
       "0  [1995.583, 1995.417, 1995.25, 1995.083, 1994.9...         AD  \\\n",
       "1  [1995.583, 1995.417, 1995.25, 1995.083, 1994.9...         AD   \n",
       "2  [1100.0, 1101.0, 1102.0, 1103.0, 1104.0, 1105....         AD   \n",
       "3  [1100.0, 1101.0, 1102.0, 1103.0, 1104.0, 1105....         AD   \n",
       "4  [1500.0, 1501.0, 1502.0, 1503.0, 1504.0, 1505....         AD   \n",
       "\n",
       "  depth_variableName depth_values depth_units  \n",
       "0               None         None        None  \n",
       "1               None         None        None  \n",
       "2               None         None        None  \n",
       "3               None         None        None  \n",
       "4               None         None        None  "
      ]
     },
     "execution_count": 18,
     "metadata": {},
     "output_type": "execute_result"
    }
   ],
   "source": [
    "df_dir.head()"
   ]
  },
  {
   "cell_type": "markdown",
   "id": "512eef39",
   "metadata": {},
   "source": [
    "The size of this dataframe is:"
   ]
  },
  {
   "cell_type": "code",
   "execution_count": 19,
   "id": "b9e4de5e",
   "metadata": {},
   "outputs": [
    {
     "data": {
      "text/plain": [
       "(83, 16)"
      ]
     },
     "execution_count": 19,
     "metadata": {},
     "output_type": "execute_result"
    }
   ],
   "source": [
    "df_dir.shape"
   ]
  },
  {
   "cell_type": "markdown",
   "id": "5f76bf9c",
   "metadata": {},
   "source": [
    "So we expandad into 83 timeseries."
   ]
  },
  {
   "cell_type": "markdown",
   "id": "2f676867",
   "metadata": {},
   "source": [
    "Let's have a look at the available variables:"
   ]
  },
  {
   "cell_type": "code",
   "execution_count": 20,
   "id": "6dcb5204",
   "metadata": {},
   "outputs": [
    {
     "data": {
      "text/plain": [
       "array(['d18O', 'year', 'MXD', 'temperature', 'JulianDay', 'trsgi', 'age',\n",
       "       'sampleID', 'uncertainty_temperature', 'density', 'd13C',\n",
       "       'sampleDensity', 'thickness', 'Na'], dtype=object)"
      ]
     },
     "execution_count": 20,
     "metadata": {},
     "output_type": "execute_result"
    }
   ],
   "source": [
    "df_dir['paleoData_variableName'].unique()"
   ]
  },
  {
   "cell_type": "markdown",
   "id": "e81bd3c2",
   "metadata": {},
   "source": [
    "Let's assume we are only interested in the temperature data:"
   ]
  },
  {
   "cell_type": "code",
   "execution_count": 21,
   "id": "09972956",
   "metadata": {},
   "outputs": [
    {
     "data": {
      "text/html": [
       "<div>\n",
       "<style scoped>\n",
       "    .dataframe tbody tr th:only-of-type {\n",
       "        vertical-align: middle;\n",
       "    }\n",
       "\n",
       "    .dataframe tbody tr th {\n",
       "        vertical-align: top;\n",
       "    }\n",
       "\n",
       "    .dataframe thead th {\n",
       "        text-align: right;\n",
       "    }\n",
       "</style>\n",
       "<table border=\"1\" class=\"dataframe\">\n",
       "  <thead>\n",
       "    <tr style=\"text-align: right;\">\n",
       "      <th></th>\n",
       "      <th>dataSetName</th>\n",
       "      <th>archiveType</th>\n",
       "      <th>geo_meanLat</th>\n",
       "      <th>geo_meanLon</th>\n",
       "      <th>geo_meanElev</th>\n",
       "      <th>paleoData_variableName</th>\n",
       "      <th>paleoData_values</th>\n",
       "      <th>paleoData_units</th>\n",
       "      <th>paleoData_proxy</th>\n",
       "      <th>paleoData_proxyGeneral</th>\n",
       "      <th>time_variableName</th>\n",
       "      <th>time_values</th>\n",
       "      <th>time_units</th>\n",
       "      <th>depth_variableName</th>\n",
       "      <th>depth_values</th>\n",
       "      <th>depth_units</th>\n",
       "    </tr>\n",
       "  </thead>\n",
       "  <tbody>\n",
       "    <tr>\n",
       "      <th>5</th>\n",
       "      <td>Eur-Tallinn.Tarand.2001</td>\n",
       "      <td>documents</td>\n",
       "      <td>59.4</td>\n",
       "      <td>24.75</td>\n",
       "      <td>10.0</td>\n",
       "      <td>temperature</td>\n",
       "      <td>[-7.1, nan, -6.3, -4.5, -6.4, -7.8, -5.7, -5.3...</td>\n",
       "      <td>degC</td>\n",
       "      <td>historic</td>\n",
       "      <td>None</td>\n",
       "      <td>year</td>\n",
       "      <td>[1500.0, 1501.0, 1502.0, 1503.0, 1504.0, 1505....</td>\n",
       "      <td>AD</td>\n",
       "      <td>None</td>\n",
       "      <td>None</td>\n",
       "      <td>None</td>\n",
       "    </tr>\n",
       "    <tr>\n",
       "      <th>7</th>\n",
       "      <td>Eur-CentralEurope.Dobrovolný.2009</td>\n",
       "      <td>documents</td>\n",
       "      <td>49.0</td>\n",
       "      <td>13.00</td>\n",
       "      <td>NaN</td>\n",
       "      <td>temperature</td>\n",
       "      <td>[0.199, -1.321, 1.842, 1.667, 1.997, -1.101, 0...</td>\n",
       "      <td>degC</td>\n",
       "      <td>Documentary</td>\n",
       "      <td>None</td>\n",
       "      <td>year</td>\n",
       "      <td>[1500.0, 1501.0, 1502.0, 1503.0, 1504.0, 1505....</td>\n",
       "      <td>AD</td>\n",
       "      <td>None</td>\n",
       "      <td>None</td>\n",
       "      <td>None</td>\n",
       "    </tr>\n",
       "    <tr>\n",
       "      <th>15</th>\n",
       "      <td>Eur-CentralandEasternPyrenees.Pla.2004</td>\n",
       "      <td>lake sediment</td>\n",
       "      <td>42.5</td>\n",
       "      <td>0.75</td>\n",
       "      <td>2280.0</td>\n",
       "      <td>temperature</td>\n",
       "      <td>[0.0, 0.09114, -0.19458, 0.07387, -0.42006, -0...</td>\n",
       "      <td>degC</td>\n",
       "      <td>chrysophyte</td>\n",
       "      <td>None</td>\n",
       "      <td>age</td>\n",
       "      <td>[-44.0, -34.0, -13.0, 7.0, 18.0, 34.0, 45.0, 5...</td>\n",
       "      <td>BP</td>\n",
       "      <td>None</td>\n",
       "      <td>None</td>\n",
       "      <td>None</td>\n",
       "    </tr>\n",
       "    <tr>\n",
       "      <th>16</th>\n",
       "      <td>Eur-CentralandEasternPyrenees.Pla.2004</td>\n",
       "      <td>lake sediment</td>\n",
       "      <td>42.5</td>\n",
       "      <td>0.75</td>\n",
       "      <td>2280.0</td>\n",
       "      <td>temperature</td>\n",
       "      <td>[0.0, 0.09114, -0.19458, 0.07387, -0.42006, -0...</td>\n",
       "      <td>degC</td>\n",
       "      <td>chrysophyte</td>\n",
       "      <td>None</td>\n",
       "      <td>year</td>\n",
       "      <td>[1994.0, 1984.0, 1963.0, 1943.0, 1932.0, 1916....</td>\n",
       "      <td>AD</td>\n",
       "      <td>None</td>\n",
       "      <td>None</td>\n",
       "      <td>None</td>\n",
       "    </tr>\n",
       "    <tr>\n",
       "      <th>34</th>\n",
       "      <td>Eur-LakeSilvaplana.Trachsel.2010</td>\n",
       "      <td>lake sediment</td>\n",
       "      <td>46.5</td>\n",
       "      <td>9.80</td>\n",
       "      <td>1791.0</td>\n",
       "      <td>temperature</td>\n",
       "      <td>[0.181707222, 0.111082797, 0.001382129, -0.008...</td>\n",
       "      <td>degC</td>\n",
       "      <td>reflectance</td>\n",
       "      <td>None</td>\n",
       "      <td>year</td>\n",
       "      <td>[1175.0, 1176.0, 1177.0, 1178.0, 1179.0, 1180....</td>\n",
       "      <td>AD</td>\n",
       "      <td>None</td>\n",
       "      <td>None</td>\n",
       "      <td>None</td>\n",
       "    </tr>\n",
       "  </tbody>\n",
       "</table>\n",
       "</div>"
      ],
      "text/plain": [
       "                               dataSetName    archiveType  geo_meanLat   \n",
       "5                  Eur-Tallinn.Tarand.2001      documents         59.4  \\\n",
       "7        Eur-CentralEurope.Dobrovolný.2009      documents         49.0   \n",
       "15  Eur-CentralandEasternPyrenees.Pla.2004  lake sediment         42.5   \n",
       "16  Eur-CentralandEasternPyrenees.Pla.2004  lake sediment         42.5   \n",
       "34        Eur-LakeSilvaplana.Trachsel.2010  lake sediment         46.5   \n",
       "\n",
       "    geo_meanLon  geo_meanElev paleoData_variableName   \n",
       "5         24.75          10.0            temperature  \\\n",
       "7         13.00           NaN            temperature   \n",
       "15         0.75        2280.0            temperature   \n",
       "16         0.75        2280.0            temperature   \n",
       "34         9.80        1791.0            temperature   \n",
       "\n",
       "                                     paleoData_values paleoData_units   \n",
       "5   [-7.1, nan, -6.3, -4.5, -6.4, -7.8, -5.7, -5.3...            degC  \\\n",
       "7   [0.199, -1.321, 1.842, 1.667, 1.997, -1.101, 0...            degC   \n",
       "15  [0.0, 0.09114, -0.19458, 0.07387, -0.42006, -0...            degC   \n",
       "16  [0.0, 0.09114, -0.19458, 0.07387, -0.42006, -0...            degC   \n",
       "34  [0.181707222, 0.111082797, 0.001382129, -0.008...            degC   \n",
       "\n",
       "   paleoData_proxy paleoData_proxyGeneral time_variableName   \n",
       "5         historic                   None              year  \\\n",
       "7      Documentary                   None              year   \n",
       "15     chrysophyte                   None               age   \n",
       "16     chrysophyte                   None              year   \n",
       "34     reflectance                   None              year   \n",
       "\n",
       "                                          time_values time_units   \n",
       "5   [1500.0, 1501.0, 1502.0, 1503.0, 1504.0, 1505....         AD  \\\n",
       "7   [1500.0, 1501.0, 1502.0, 1503.0, 1504.0, 1505....         AD   \n",
       "15  [-44.0, -34.0, -13.0, 7.0, 18.0, 34.0, 45.0, 5...         BP   \n",
       "16  [1994.0, 1984.0, 1963.0, 1943.0, 1932.0, 1916....         AD   \n",
       "34  [1175.0, 1176.0, 1177.0, 1178.0, 1179.0, 1180....         AD   \n",
       "\n",
       "   depth_variableName depth_values depth_units  \n",
       "5                None         None        None  \n",
       "7                None         None        None  \n",
       "15               None         None        None  \n",
       "16               None         None        None  \n",
       "34               None         None        None  "
      ]
     },
     "execution_count": 21,
     "metadata": {},
     "output_type": "execute_result"
    }
   ],
   "source": [
    "df_temp = df_dir[df_dir['paleoData_variableName']=='temperature']\n",
    "df_temp.head()"
   ]
  },
  {
   "cell_type": "code",
   "execution_count": 22,
   "id": "ca756434",
   "metadata": {},
   "outputs": [
    {
     "data": {
      "text/plain": [
       "(13, 16)"
      ]
     },
     "execution_count": 22,
     "metadata": {},
     "output_type": "execute_result"
    }
   ],
   "source": [
    "df_temp.shape"
   ]
  },
  {
   "cell_type": "markdown",
   "id": "ec3eb41f",
   "metadata": {},
   "source": [
    "which leaves us with 13 timeseries."
   ]
  },
  {
   "cell_type": "markdown",
   "id": "d8262f22-a75f-4b94-b87a-7a267435e349",
   "metadata": {},
   "source": [
    "Let's assume that you want everything that is not related to time, sampleID, and uncertainty:"
   ]
  },
  {
   "cell_type": "code",
   "execution_count": 50,
   "id": "6043409f-1251-43fa-91d4-b5173af98cf8",
   "metadata": {},
   "outputs": [
    {
     "data": {
      "text/html": [
       "<div>\n",
       "<style scoped>\n",
       "    .dataframe tbody tr th:only-of-type {\n",
       "        vertical-align: middle;\n",
       "    }\n",
       "\n",
       "    .dataframe tbody tr th {\n",
       "        vertical-align: top;\n",
       "    }\n",
       "\n",
       "    .dataframe thead th {\n",
       "        text-align: right;\n",
       "    }\n",
       "</style>\n",
       "<table border=\"1\" class=\"dataframe\">\n",
       "  <thead>\n",
       "    <tr style=\"text-align: right;\">\n",
       "      <th></th>\n",
       "      <th>dataSetName</th>\n",
       "      <th>archiveType</th>\n",
       "      <th>geo_meanLat</th>\n",
       "      <th>geo_meanLon</th>\n",
       "      <th>geo_meanElev</th>\n",
       "      <th>paleoData_variableName</th>\n",
       "      <th>paleoData_values</th>\n",
       "      <th>paleoData_units</th>\n",
       "      <th>paleoData_proxy</th>\n",
       "      <th>paleoData_proxyGeneral</th>\n",
       "      <th>time_variableName</th>\n",
       "      <th>time_values</th>\n",
       "      <th>time_units</th>\n",
       "      <th>depth_variableName</th>\n",
       "      <th>depth_values</th>\n",
       "      <th>depth_units</th>\n",
       "    </tr>\n",
       "  </thead>\n",
       "  <tbody>\n",
       "    <tr>\n",
       "      <th>0</th>\n",
       "      <td>Ocn-RedSea.Felis.2000</td>\n",
       "      <td>coral</td>\n",
       "      <td>27.85</td>\n",
       "      <td>34.32</td>\n",
       "      <td>-6.0</td>\n",
       "      <td>d18O</td>\n",
       "      <td>[-4.12, -3.82, -3.05, -3.02, -3.62, -3.96, -3....</td>\n",
       "      <td>permil</td>\n",
       "      <td>d18O</td>\n",
       "      <td>None</td>\n",
       "      <td>year</td>\n",
       "      <td>[1995.583, 1995.417, 1995.25, 1995.083, 1994.9...</td>\n",
       "      <td>AD</td>\n",
       "      <td>None</td>\n",
       "      <td>None</td>\n",
       "      <td>None</td>\n",
       "    </tr>\n",
       "    <tr>\n",
       "      <th>2</th>\n",
       "      <td>Arc-Forfjorddalen.McCarroll.2013</td>\n",
       "      <td>tree</td>\n",
       "      <td>68.73</td>\n",
       "      <td>15.73</td>\n",
       "      <td>200.0</td>\n",
       "      <td>MXD</td>\n",
       "      <td>[-0.6724083323, -0.9420877372, -0.9158317899, ...</td>\n",
       "      <td>NA</td>\n",
       "      <td>MXD</td>\n",
       "      <td>None</td>\n",
       "      <td>year</td>\n",
       "      <td>[1100.0, 1101.0, 1102.0, 1103.0, 1104.0, 1105....</td>\n",
       "      <td>AD</td>\n",
       "      <td>None</td>\n",
       "      <td>None</td>\n",
       "      <td>None</td>\n",
       "    </tr>\n",
       "    <tr>\n",
       "      <th>5</th>\n",
       "      <td>Eur-Tallinn.Tarand.2001</td>\n",
       "      <td>documents</td>\n",
       "      <td>59.40</td>\n",
       "      <td>24.75</td>\n",
       "      <td>10.0</td>\n",
       "      <td>temperature</td>\n",
       "      <td>[-7.1, nan, -6.3, -4.5, -6.4, -7.8, -5.7, -5.3...</td>\n",
       "      <td>degC</td>\n",
       "      <td>historic</td>\n",
       "      <td>None</td>\n",
       "      <td>year</td>\n",
       "      <td>[1500.0, 1501.0, 1502.0, 1503.0, 1504.0, 1505....</td>\n",
       "      <td>AD</td>\n",
       "      <td>None</td>\n",
       "      <td>None</td>\n",
       "      <td>None</td>\n",
       "    </tr>\n",
       "    <tr>\n",
       "      <th>7</th>\n",
       "      <td>Eur-CentralEurope.Dobrovolný.2009</td>\n",
       "      <td>documents</td>\n",
       "      <td>49.00</td>\n",
       "      <td>13.00</td>\n",
       "      <td>NaN</td>\n",
       "      <td>temperature</td>\n",
       "      <td>[0.199, -1.321, 1.842, 1.667, 1.997, -1.101, 0...</td>\n",
       "      <td>degC</td>\n",
       "      <td>Documentary</td>\n",
       "      <td>None</td>\n",
       "      <td>year</td>\n",
       "      <td>[1500.0, 1501.0, 1502.0, 1503.0, 1504.0, 1505....</td>\n",
       "      <td>AD</td>\n",
       "      <td>None</td>\n",
       "      <td>None</td>\n",
       "      <td>None</td>\n",
       "    </tr>\n",
       "    <tr>\n",
       "      <th>9</th>\n",
       "      <td>Eur-EuropeanAlps.Büntgen.2011</td>\n",
       "      <td>tree</td>\n",
       "      <td>47.00</td>\n",
       "      <td>10.70</td>\n",
       "      <td>2050.0</td>\n",
       "      <td>trsgi</td>\n",
       "      <td>[0.405, 0.395, 1.209, 1.244, -0.101, 0.658, 0....</td>\n",
       "      <td>NA</td>\n",
       "      <td>TRW</td>\n",
       "      <td>None</td>\n",
       "      <td>year</td>\n",
       "      <td>[-500.0, -499.0, -498.0, -497.0, -496.0, -495....</td>\n",
       "      <td>AD</td>\n",
       "      <td>None</td>\n",
       "      <td>None</td>\n",
       "      <td>None</td>\n",
       "    </tr>\n",
       "  </tbody>\n",
       "</table>\n",
       "</div>"
      ],
      "text/plain": [
       "                         dataSetName archiveType  geo_meanLat  geo_meanLon   \n",
       "0              Ocn-RedSea.Felis.2000       coral        27.85        34.32  \\\n",
       "2   Arc-Forfjorddalen.McCarroll.2013        tree        68.73        15.73   \n",
       "5            Eur-Tallinn.Tarand.2001   documents        59.40        24.75   \n",
       "7  Eur-CentralEurope.Dobrovolný.2009   documents        49.00        13.00   \n",
       "9      Eur-EuropeanAlps.Büntgen.2011        tree        47.00        10.70   \n",
       "\n",
       "   geo_meanElev paleoData_variableName   \n",
       "0          -6.0                   d18O  \\\n",
       "2         200.0                    MXD   \n",
       "5          10.0            temperature   \n",
       "7           NaN            temperature   \n",
       "9        2050.0                  trsgi   \n",
       "\n",
       "                                    paleoData_values paleoData_units   \n",
       "0  [-4.12, -3.82, -3.05, -3.02, -3.62, -3.96, -3....          permil  \\\n",
       "2  [-0.6724083323, -0.9420877372, -0.9158317899, ...              NA   \n",
       "5  [-7.1, nan, -6.3, -4.5, -6.4, -7.8, -5.7, -5.3...            degC   \n",
       "7  [0.199, -1.321, 1.842, 1.667, 1.997, -1.101, 0...            degC   \n",
       "9  [0.405, 0.395, 1.209, 1.244, -0.101, 0.658, 0....              NA   \n",
       "\n",
       "  paleoData_proxy paleoData_proxyGeneral time_variableName   \n",
       "0            d18O                   None              year  \\\n",
       "2             MXD                   None              year   \n",
       "5        historic                   None              year   \n",
       "7     Documentary                   None              year   \n",
       "9             TRW                   None              year   \n",
       "\n",
       "                                         time_values time_units   \n",
       "0  [1995.583, 1995.417, 1995.25, 1995.083, 1994.9...         AD  \\\n",
       "2  [1100.0, 1101.0, 1102.0, 1103.0, 1104.0, 1105....         AD   \n",
       "5  [1500.0, 1501.0, 1502.0, 1503.0, 1504.0, 1505....         AD   \n",
       "7  [1500.0, 1501.0, 1502.0, 1503.0, 1504.0, 1505....         AD   \n",
       "9  [-500.0, -499.0, -498.0, -497.0, -496.0, -495....         AD   \n",
       "\n",
       "  depth_variableName depth_values depth_units  \n",
       "0               None         None        None  \n",
       "2               None         None        None  \n",
       "5               None         None        None  \n",
       "7               None         None        None  \n",
       "9               None         None        None  "
      ]
     },
     "execution_count": 50,
     "metadata": {},
     "output_type": "execute_result"
    }
   ],
   "source": [
    "df_filt = df_dir.query(\"paleoData_variableName in ('temperature','MXD','density','d18O','trsgi')\")\n",
    "df_filt.head()"
   ]
  },
  {
   "cell_type": "markdown",
   "id": "1e1c236e-0412-4769-a235-066d0aa5e84c",
   "metadata": {},
   "source": [
    "To keep the rows that are relevant to our problem, you can use the [`DataFrame.query`](https://pandas.pydata.org/docs/reference/api/pandas.DataFrame.query.html) function available in Pandas: "
   ]
  },
  {
   "cell_type": "code",
   "execution_count": 51,
   "id": "3b360d38-aae7-4bdb-ae80-9da9bd6e7b17",
   "metadata": {},
   "outputs": [
    {
     "data": {
      "text/plain": [
       "(34, 16)"
      ]
     },
     "execution_count": 51,
     "metadata": {},
     "output_type": "execute_result"
    }
   ],
   "source": [
    "df_filt.shape"
   ]
  },
  {
   "cell_type": "markdown",
   "id": "98fc3134-3f09-4c59-b826-f0cafb3d2798",
   "metadata": {},
   "source": [
    "Which leaves us with 34 timeseries."
   ]
  },
  {
   "cell_type": "markdown",
   "id": "f98403a1",
   "metadata": {},
   "source": [
    "### Removing and popping datasets out of a LiPD object\n",
    "\n",
    "You can also remove (i.e., delete the corresponding dataset from the `LiPD` object) or pop (i.e., delete the corresponding dataset from the `LiPD` object **and** return the dataset) datasets from a `LiPD` object. Note that these functionalities behave similarly as the functions with the same names on Python lists. These functions underpin more adavanced filtering and querying capabilities that we will discuss in later tutorials. \n",
    "\n",
    "First let's make a [copy](https://pylipd.readthedocs.io/en/latest/source/pylipd.html#pylipd.lipd.LiPD.copy) of `D_dir`:"
   ]
  },
  {
   "cell_type": "code",
   "execution_count": 52,
   "id": "f28b1ccd",
   "metadata": {},
   "outputs": [
    {
     "name": "stdout",
     "output_type": "stream",
     "text": [
      "['Ocn-RedSea.Felis.2000', 'Arc-Forfjorddalen.McCarroll.2013', 'Eur-Tallinn.Tarand.2001', 'Eur-CentralEurope.Dobrovoln_.2009', 'Eur-EuropeanAlps.B_ntgen.2011', 'Eur-CentralandEasternPyrenees.Pla.2004', 'Arc-Tjeggelvas.Bjorklund.2012', 'Arc-Indigirka.Hughes.1999', 'Eur-SpannagelCave.Mangini.2005', 'Ocn-AqabaJordanAQ19.Heiss.1999', 'Arc-Jamtland.Wilson.2016', 'Eur-RAPiD-17-5P.Moffa-Sanchez.2014', 'Eur-LakeSilvaplana.Trachsel.2010', 'Eur-NorthernSpain.Mart_n-Chivelet.2011', 'Eur-MaritimeFrenchAlps.B_ntgen.2012', 'Ocn-AqabaJordanAQ18.Heiss.1999', 'Arc-Tornetrask.Melvin.2012', 'Eur-EasternCarpathianMountains.Popa.2008', 'Arc-PolarUrals.Wilson.2015', 'Eur-LakeSilvaplana.Larocque-Tobler.2010', 'Eur-CoastofPortugal.Abrantes.2011', 'Eur-TatraMountains.B_ntgen.2013', 'Eur-SpanishPyrenees.Dorado-Linan.2012', 'Eur-FinnishLakelands.Helama.2014', 'Eur-Seebergsee.Larocque-Tobler.2012', 'Eur-NorthernScandinavia.Esper.2012', 'Arc-GulfofAlaska.Wilson.2014', 'Arc-Kittelfjall.Bjorklund.2012', 'Eur-L_tschental.B_ntgen.2006', 'Eur-Stockholm.Leijonhufvud.2009', 'Arc-AkademiiNaukIceCap.Opel.2013']\n"
     ]
    }
   ],
   "source": [
    "D_test = D_dir.copy()\n",
    "print(D_test.get_all_dataset_names())"
   ]
  },
  {
   "cell_type": "markdown",
   "id": "58f2b1af",
   "metadata": {},
   "source": [
    "And let's [remove](https://pylipd.readthedocs.io/en/latest/source/pylipd.html#pylipd.lipd.LiPD.remove) `Arc-AkademiiNaukIceCap.Opel.2013`, which corresponds to the last entry in the list above:"
   ]
  },
  {
   "cell_type": "code",
   "execution_count": 53,
   "id": "5b1effa3",
   "metadata": {},
   "outputs": [
    {
     "name": "stdout",
     "output_type": "stream",
     "text": [
      "['Ocn-RedSea.Felis.2000', 'Arc-Forfjorddalen.McCarroll.2013', 'Eur-Tallinn.Tarand.2001', 'Eur-CentralEurope.Dobrovoln_.2009', 'Eur-EuropeanAlps.B_ntgen.2011', 'Eur-CentralandEasternPyrenees.Pla.2004', 'Arc-Tjeggelvas.Bjorklund.2012', 'Arc-Indigirka.Hughes.1999', 'Eur-SpannagelCave.Mangini.2005', 'Ocn-AqabaJordanAQ19.Heiss.1999', 'Arc-Jamtland.Wilson.2016', 'Eur-RAPiD-17-5P.Moffa-Sanchez.2014', 'Eur-LakeSilvaplana.Trachsel.2010', 'Eur-NorthernSpain.Mart_n-Chivelet.2011', 'Eur-MaritimeFrenchAlps.B_ntgen.2012', 'Ocn-AqabaJordanAQ18.Heiss.1999', 'Arc-Tornetrask.Melvin.2012', 'Eur-EasternCarpathianMountains.Popa.2008', 'Arc-PolarUrals.Wilson.2015', 'Eur-LakeSilvaplana.Larocque-Tobler.2010', 'Eur-CoastofPortugal.Abrantes.2011', 'Eur-TatraMountains.B_ntgen.2013', 'Eur-SpanishPyrenees.Dorado-Linan.2012', 'Eur-FinnishLakelands.Helama.2014', 'Eur-Seebergsee.Larocque-Tobler.2012', 'Eur-NorthernScandinavia.Esper.2012', 'Arc-GulfofAlaska.Wilson.2014', 'Arc-Kittelfjall.Bjorklund.2012', 'Eur-L_tschental.B_ntgen.2006', 'Eur-Stockholm.Leijonhufvud.2009']\n"
     ]
    }
   ],
   "source": [
    "D_test.remove('Arc-AkademiiNaukIceCap.Opel.2013')\n",
    "\n",
    "print(D_test.get_all_dataset_names())"
   ]
  },
  {
   "cell_type": "markdown",
   "id": "4e6a8133",
   "metadata": {},
   "source": [
    "Now let's [pop](https://pylipd.readthedocs.io/en/latest/source/pylipd.html#pylipd.lipd.LiPD.pop) `Eur-Stockholm.Leijonhufvud.2009` from `D_test`:"
   ]
  },
  {
   "cell_type": "code",
   "execution_count": 54,
   "id": "d62e6416",
   "metadata": {},
   "outputs": [],
   "source": [
    "d_eur = D_test.pop('Eur-Stockholm.Leijonhufvud.2009')"
   ]
  },
  {
   "cell_type": "markdown",
   "id": "3da5e3b9",
   "metadata": {},
   "source": [
    "Now let's have a look at `d_eur`:"
   ]
  },
  {
   "cell_type": "code",
   "execution_count": 55,
   "id": "a9409498",
   "metadata": {},
   "outputs": [
    {
     "name": "stdout",
     "output_type": "stream",
     "text": [
      "['Eur-Stockholm.Leijonhufvud.2009']\n"
     ]
    }
   ],
   "source": [
    "print(d_eur.get_all_dataset_names())"
   ]
  },
  {
   "cell_type": "markdown",
   "id": "c55c6c2a",
   "metadata": {},
   "source": [
    "It contains the dataset we are expecting. Let's have a look at `D_test`:"
   ]
  },
  {
   "cell_type": "code",
   "execution_count": 56,
   "id": "0cc23dd2",
   "metadata": {},
   "outputs": [
    {
     "name": "stdout",
     "output_type": "stream",
     "text": [
      "['Ocn-RedSea.Felis.2000', 'Arc-Forfjorddalen.McCarroll.2013', 'Eur-Tallinn.Tarand.2001', 'Eur-CentralEurope.Dobrovoln_.2009', 'Eur-EuropeanAlps.B_ntgen.2011', 'Eur-CentralandEasternPyrenees.Pla.2004', 'Arc-Tjeggelvas.Bjorklund.2012', 'Arc-Indigirka.Hughes.1999', 'Eur-SpannagelCave.Mangini.2005', 'Ocn-AqabaJordanAQ19.Heiss.1999', 'Arc-Jamtland.Wilson.2016', 'Eur-RAPiD-17-5P.Moffa-Sanchez.2014', 'Eur-LakeSilvaplana.Trachsel.2010', 'Eur-NorthernSpain.Mart_n-Chivelet.2011', 'Eur-MaritimeFrenchAlps.B_ntgen.2012', 'Ocn-AqabaJordanAQ18.Heiss.1999', 'Arc-Tornetrask.Melvin.2012', 'Eur-EasternCarpathianMountains.Popa.2008', 'Arc-PolarUrals.Wilson.2015', 'Eur-LakeSilvaplana.Larocque-Tobler.2010', 'Eur-CoastofPortugal.Abrantes.2011', 'Eur-TatraMountains.B_ntgen.2013', 'Eur-SpanishPyrenees.Dorado-Linan.2012', 'Eur-FinnishLakelands.Helama.2014', 'Eur-Seebergsee.Larocque-Tobler.2012', 'Eur-NorthernScandinavia.Esper.2012', 'Arc-GulfofAlaska.Wilson.2014', 'Arc-Kittelfjall.Bjorklund.2012', 'Eur-L_tschental.B_ntgen.2006']\n"
     ]
    }
   ],
   "source": [
    "print(D_test.get_all_dataset_names())"
   ]
  },
  {
   "cell_type": "markdown",
   "id": "54732e51",
   "metadata": {},
   "source": [
    "\n",
    "<div class=\"alert alert-warning\">\n",
    "    The dataset was removed from `D_test` in the process. Hence, it's always prudent to make a copy of the original object when using the `remove` and `pop` functionalities. \n",
    "</div>\n"
   ]
  },
  {
   "cell_type": "markdown",
   "id": "cb3f8d71",
   "metadata": {},
   "source": [
    "If can also remove/pop more than one dataset at a time:"
   ]
  },
  {
   "cell_type": "code",
   "execution_count": 57,
   "id": "be7249bb",
   "metadata": {},
   "outputs": [
    {
     "name": "stdout",
     "output_type": "stream",
     "text": [
      "['Eur-Tallinn.Tarand.2001', 'Eur-CentralEurope.Dobrovoln_.2009', 'Eur-EuropeanAlps.B_ntgen.2011', 'Eur-CentralandEasternPyrenees.Pla.2004', 'Arc-Tjeggelvas.Bjorklund.2012', 'Arc-Indigirka.Hughes.1999', 'Eur-SpannagelCave.Mangini.2005', 'Ocn-AqabaJordanAQ19.Heiss.1999', 'Arc-Jamtland.Wilson.2016', 'Eur-RAPiD-17-5P.Moffa-Sanchez.2014', 'Eur-LakeSilvaplana.Trachsel.2010', 'Eur-NorthernSpain.Mart_n-Chivelet.2011', 'Eur-MaritimeFrenchAlps.B_ntgen.2012', 'Ocn-AqabaJordanAQ18.Heiss.1999', 'Arc-Tornetrask.Melvin.2012', 'Eur-EasternCarpathianMountains.Popa.2008', 'Arc-PolarUrals.Wilson.2015', 'Eur-LakeSilvaplana.Larocque-Tobler.2010', 'Eur-CoastofPortugal.Abrantes.2011', 'Eur-TatraMountains.B_ntgen.2013', 'Eur-SpanishPyrenees.Dorado-Linan.2012', 'Eur-FinnishLakelands.Helama.2014', 'Eur-Seebergsee.Larocque-Tobler.2012', 'Eur-NorthernScandinavia.Esper.2012', 'Arc-GulfofAlaska.Wilson.2014', 'Arc-Kittelfjall.Bjorklund.2012', 'Eur-L_tschental.B_ntgen.2006']\n"
     ]
    }
   ],
   "source": [
    "rem = ['Ocn-RedSea.Felis.2000','Arc-Forfjorddalen.McCarroll.2013']\n",
    "\n",
    "D_test.remove(rem)\n",
    "print(D_test.get_all_dataset_names())"
   ]
  },
  {
   "cell_type": "code",
   "execution_count": null,
   "id": "d2f32a11-a01d-4ffa-bb6b-9fb0a857819e",
   "metadata": {},
   "outputs": [],
   "source": []
  }
 ],
 "metadata": {
  "kernelspec": {
   "display_name": "Python 3 (ipykernel)",
   "language": "python",
   "name": "python3"
  },
  "language_info": {
   "codemirror_mode": {
    "name": "ipython",
    "version": 3
   },
   "file_extension": ".py",
   "mimetype": "text/x-python",
   "name": "python",
   "nbconvert_exporter": "python",
   "pygments_lexer": "ipython3",
   "version": "3.10.8"
  }
 },
 "nbformat": 4,
 "nbformat_minor": 5
}
