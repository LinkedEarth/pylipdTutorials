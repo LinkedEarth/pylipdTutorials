


from pylipd.lipd import LiPD


path = '../data/Pages2k/'

D = LiPD()
D.load_from_dir(path)





D.copy().__dict__








query ="""

PREFIX le:<http://linked.earth/ontology#>

SELECT ?ds ?dsname WHERE{

?ds a le:Dataset .
?ds le:name ?dsname .}

"""





res, res_df = D.query(query)





res_df.head()








len(res_df.index)





query ="""

PREFIX le:<http://linked.earth/ontology#>

SELECT ?ds ?dsname WHERE{

?ds a le:Dataset .
?ds le:name ?dsname .}

LIMIT 10

"""

res, res_df = D.query(query)

len(res_df.index)








D.get_all_dataset_names()


D2 = D.pop('Ocn-RedSea.Felis.2000')


D2.load('../data/ODP846.Lawrence.2006.lpd')
D2.get_all_dataset_names()





query ="""

PREFIX le:<http://linked.earth/ontology#>

SELECT ?ds ?dsname ?datasetID WHERE{

?ds a le:Dataset .
?ds le:name ?dsname .
?ds le:datasetId ?datasetID}

"""

res, res_df = D2.query(query)

res_df





query ="""

PREFIX le:<http://linked.earth/ontology#>

SELECT ?ds ?dsname ?datasetID WHERE{

?ds a le:Dataset .
?ds le:name ?dsname .
OPTIONAL{?ds le:datasetId ?datasetID.}}

"""

res, res_df = D2.query(query)

res_df








query ="""

PREFIX le:<http://linked.earth/ontology#>

SELECT DISTINCT ?p WHERE {

?ds a le:Dataset .
?ds ?p ?o .
}
"""





_,df = D2.query(query)

df





query ="""

PREFIX le:<http://linked.earth/ontology#>

SELECT DISTINCT ?p WHERE {

?ds a le:Dataset .
?ds le:collectedFrom ?geo .
?geo ?p ?o .
}
"""


_,df = D.query(query)

df





query ="""

PREFIX le:<http://linked.earth/ontology#>
PREFIX wgs84: <http://www.w3.org/2003/01/geo/wgs84_pos#>

SELECT ?dsname ?lat ?lon  WHERE {

?ds a le:Dataset .
?ds le:name ?dsname .

?ds le:collectedFrom ?geo .
OPTIONAL{?geo wgs84:lat ?lat .
        ?geo wgs84:long ?lon .}

}
"""





_,df = D.query(query)

df





query ="""

PREFIX le:<http://linked.earth/ontology#>
PREFIX wgs84: <http://www.w3.org/2003/01/geo/wgs84_pos#>

SELECT ?dsname ?lat ?lon  WHERE {

?ds a le:Dataset .
?ds le:name ?dsname .

?ds le:collectedFrom ?geo .
?geo wgs84:lat ?lat .
?geo wgs84:long ?lon .

FILTER ( ?lat >= 40 && ?lat < 70 && ?lon >= 0 && ?lon < 30 ) .

}
"""





_,df = D.query(query)

df








query ="""

PREFIX le:<http://linked.earth/ontology#>

SELECT DISTINCT ?varname WHERE{

?ds a le:Dataset .

?ds le:includesPaleoData ?data .
?data le:foundInMeasurementTable ?table .
?table le:includesVariable ?var .
?var le:name ?varname .
}
"""


_,df = D.query(query)

df





query ="""

PREFIX le:<http://linked.earth/ontology#>

SELECT ?dsname ?varname WHERE{

?ds a le:Dataset .
?ds le:name ?dsname .

?ds le:includesPaleoData ?data .
?data le:foundInMeasurementTable ?table .
?table le:includesVariable ?var .
?var le:name ?varname .

FILTER (?varname = 'temperature')

}
"""


_,df = D.query(query)

df





query ="""

PREFIX le:<http://linked.earth/ontology#>

SELECT ?dsname ?varname WHERE{

?ds a le:Dataset .
?ds le:name ?dsname .

?ds le:includesPaleoData ?data .
?data le:foundInMeasurementTable ?table .
?table le:includesVariable ?var .
?var le:name ?varname .

FILTER (?varname = 'temperature' || ?varname = 'uncertainty_temperature')

}
"""





_,df = D.query(query)

df





query ="""

PREFIX le:<http://linked.earth/ontology#>

SELECT ?dsname ?varname WHERE{

?ds a le:Dataset .
?ds le:name ?dsname .

?ds le:includesPaleoData ?data .
?data le:foundInMeasurementTable ?table .
?table le:includesVariable ?var .
?var le:name ?varname .

FILTER regex (?varname, "temperature.*", "i" ) .

}
"""

_,df = D.query(query)

df









