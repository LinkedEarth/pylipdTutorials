


from pylipd.lipd import LiPD


path = '../data/Pages2k/'

D = LiPD()
D.load_from_dir(path)





D.copy().__dict__








query ="""

PREFIX le:<http://linked.earth/ontology#>

SELECT ?ds ?dsname WHERE{

?ds a le:Dataset .
?ds le:name ?dsname .}

"""





res, res_df = D.query(query)





res_df.head()








len(res_df.index)





query ="""

PREFIX le:<http://linked.earth/ontology#>

SELECT ?ds ?dsname WHERE{

?ds a le:Dataset .
?ds le:name ?dsname .}

LIMIT 10

"""

res, res_df = D.query(query)

len(res_df.index)








D.get_all_dataset_names()


D2 = D.pop('Ocn-RedSea.Felis.2000')


D2.load('../data/ODP846.Lawrence.2006.lpd')
D2.get_all_dataset_names()





query ="""

PREFIX le:<http://linked.earth/ontology#>

SELECT ?ds ?dsname ?datasetID WHERE{

?ds a le:Dataset .
?ds le:name ?dsname .
?ds le:datasetId ?datasetID}

"""

res, res_df = D2.query(query)

res_df





query ="""

PREFIX le:<http://linked.earth/ontology#>

SELECT ?ds ?dsname ?datasetID WHERE{

?ds a le:Dataset .
?ds le:name ?dsname .
OPTIONAL{?ds le:datasetId ?datasetID.}}

"""

res, res_df = D2.query(query)

res_df






