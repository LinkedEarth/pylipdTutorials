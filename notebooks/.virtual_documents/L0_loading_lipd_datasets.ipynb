





from pylipd.lipd import LiPD





D = LiPD()





data_path = '../data/Ocn-Palmyra.Nurhati.2011.lpd'
D.load(data_path)





names = D.get_all_dataset_names()
print(names)





data_url = 'https://lipdverse.org/data/iso2k100_CO06MOPE/1_0_2//CO06MOPE.lpd'

D2=LiPD()
D2.load(data_url)


names = D2.get_all_dataset_names()
print(names)





D.load(data_url)

names = D.get_all_dataset_names()
print(names)





data = ['../data/Ocn-Palmyra.Nurhati.2011.lpd', 'https://lipdverse.org/data/iso2k100_CO06MOPE/1_0_2//CO06MOPE.lpd']

D3=LiPD()
D3.load(data)

names = D3.get_all_dataset_names()
print(names)





path = '../data/Pages2k/'

D_dir = LiPD()
D_dir.load_from_dir(path)


names = D_dir.get_all_dataset_names()
print(names)





D_dir.load(data_url)

names = D_dir.get_all_dataset_names()
print(names)





lipd_remote = LiPD()
lipd_remote.set_endpoint("https://linkedearth.graphdb.mint.isi.edu/repositories/LiPDVerse3")
lipd_remote.load_remote_datasets(["Ocn-MadangLagoonPapuaNewGuinea.Kuhnert.2001", "MD98_2181.Stott.2007", "Ant-WAIS-Divide.Severinghaus.2012"])

print(lipd_remote.get_all_dataset_names())





if __name__ == "__main__" :
    D_parallel = LiPD()
    D_parallel.load_from_dir(path, parallel=True)





print(D_parallel.get_all_dataset_names())








D_merged = D_parallel.merge(D)

print(D_merged.get_all_dataset_names())



