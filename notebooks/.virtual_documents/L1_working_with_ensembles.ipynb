


from pylipd.lipd import LiPD


D = LiPD()
data_path = ['../data/Crystal.McCabe-Glynn.2013.lpd', '../data/ODP846.Lawrence.2006.lpd']
D.load(data_path)


names = D.get_all_dataset_names()
print(names)





df = D.get_ensemble_tables()

df








df = D.get_ensemble_tables(dsname=names[0])

df





df = D.get_ensemble_tables(ensembleVarName='age')

df





df = D.get_ensemble_tables(dsname=names[0])
df


df_ts = D.get_timeseries_essentials(dsname=names[0])

df_ts






