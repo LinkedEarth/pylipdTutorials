


from pylipd.lipd import LiPD





data_path = '../data/Ocn-Palmyra.Nurhati.2011.lpd'
D = LiPD()
D.load(data_path)





ts_list = D.get_timeseries(D.get_all_dataset_names())

type(ts_list)





ts_list.keys()





type(ts_list['Ocn-Palmyra.Nurhati.2011'])





ts_list, df = D.get_timeseries(D.get_all_dataset_names(), to_dataframe=True)

df





df.columns





df['paleoData_variableName']





df[['paleoData_variableName','paleoData_qCnotes']]





df_cut = df.iloc[3,:]

df_cut


df_cut['paleoData_variableName']








df_essential = D.get_timeseries_essentials()

df_essential





df_essential.columns





path = '../data/Pages2k/'

D_dir = LiPD()
D_dir.load_from_dir(path)





df_dir = D_dir.get_timeseries_essentials()





df_dir.head()





df_dir.shape








df_dir['paleoData_variableName'].unique()





df_temp = df_dir[df_dir['paleoData_variableName']=='temperature']
df_temp.head()


df_temp.shape








df_filt = df_dir.query("paleoData_variableName in ('temperature','MXD','Mg_Ca.Mg/Ca','d18O','trsgi', 'Uk37')")
df_filt.head()


df_filt.shape








D_test = D_dir.copy()
print(D_test.get_all_dataset_names())





D_test.remove('Eur-Stockholm.Leijonhufvud.2009')

print(D_test.get_all_dataset_names())





d_eur = D_test.pop('Eur-NorthernScandinavia.Esper.2012')





print(d_eur.get_all_dataset_names())





print(D_test.get_all_dataset_names())








rem = ['Ocn-RedSea.Felis.2000','Ant-WAIS-Divide.Severinghaus.2012']

D_test.remove(rem)
print(D_test.get_all_dataset_names())
