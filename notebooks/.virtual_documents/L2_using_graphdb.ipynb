


import json
import requests
import pandas as pd
import io
import ast





url = 'https://linkedearth.graphdb.mint.isi.edu/repositories/LiPDVerse3'





query ="""

PREFIX le:<http://linked.earth/ontology#>

SELECT ?ds ?dsname WHERE{

?ds a le:Dataset .
?ds le:name ?dsname .
} 

ORDER BY RAND() LIMIT 10

"""





response = requests.post(url, data = {'query': query})

data = io.StringIO(response.text)
df = pd.read_csv(data, sep=",")

df





query = """PREFIX le: <http://linked.earth/ontology#>
PREFIX wgs84: <http://www.w3.org/2003/01/geo/wgs84_pos#>


SELECT ?dataSetName ?archiveType ?geo_meanLat ?geo_meanLon ?geo_meanElev 
    ?paleoData_variableName ?paleoData_values ?paleoData_units 
    ?paleoData_proxy ?paleoData_proxyGeneral ?time_variableName ?time_values 
	?time_units ?compilationName ?TSID where{
    
    ?ds a le:Dataset .
    ?ds le:name ?dataSetName .
    OPTIONAL{?ds le:proxyArchiveType ?archiveType .}
    
    ?ds le:collectedFrom ?loc .
    ?loc wgs84:lat ?geo_meanLat .
    ?loc wgs84:long ?geo_meanLon .
    OPTIONAL {?loc wgs84:alt ?geo_meanElev .}
    
    ?ds le:includesPaleoData ?data .
    ?data le:foundInMeasurementTable ?table .
    ?table le:includesVariable ?var . 
    ?var le:name ?paleoData_variableName .
    ?var le:hasValues ?paleoData_values .
    OPTIONAL{?var le:hasUnits ?paleoData_units .}
    OPTIONAL{?var le:proxy ?paleoData_proxy .}
    OPTIONAL{?var le:proxyGeneral ?paleoData_proxyGeneral .}
    ?var le:partOfCompilation ?compilation . 
    ?compilation le:name ?compilationName .
    VALUES ?compilationName {"iso2k" "Pages2kTemperature"} .
    ?var le:useInGlobalTemperatureAnalysis True .
    OPTIONAL{?var le:hasVariableID ?TSID} .
    
    
    ?table le:includesVariable ?timevar .
    ?timevar le:name ?time_variableName .
    FILTER (regex(?time_variableName, "year.*")).
    ?timevar le:hasValues ?time_values .
    OPTIONAL{?timevar le:hasUnits ?time_units .}
    
}"""








response = requests.post(url, data = {'query': query})

data = io.StringIO(response.text)
df = pd.read_csv(data, sep=",")


df.head()





type(df['paleoData_values'].iloc[0])





df['paleoData_values']=df['paleoData_values'].apply(lambda row : json.loads(row) if isinstance(row, str) else row)
df['time_values']=df['time_values'].apply(lambda row : json.loads(row) if isinstance(row, str) else row)


type(df['paleoData_values'].iloc[0])



