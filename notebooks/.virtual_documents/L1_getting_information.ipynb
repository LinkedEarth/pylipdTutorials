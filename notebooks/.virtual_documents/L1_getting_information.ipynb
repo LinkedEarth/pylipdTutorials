


from pylipd.lipd import LiPD





path = '../data/Euro2k/'

D = LiPD()
D.load_from_dir(path)


data_path = ['../data/Crystal.McCabe-Glynn.2013.lpd', '../data/ODP846.Lawrence.2006.lpd', 'https://lipdverse.org/data/iso2k100_CO06MOPE/1_0_2//CO06MOPE.lpd']

D.load(data_path)





D.get_all_dataset_names()





D.get_all_dataset_ids()





D.get_all_archiveTypes()





df_loc = D.get_all_locations()

df_loc





D.get_all_variable_names()








D.get_all_variables()





bibs, df = D.get_bibtex(remote = True, save = True, path = '../data/mybiblio.bib', verbose = False)








df.head()



