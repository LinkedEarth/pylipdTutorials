


from pylipd.lipd import LiPD

path = '../data/Euro2k/'

D = LiPD()
D.load_from_dir(path)





D.get_all_dataset_names()





D.get_all_archiveTypes()





D_speleothem = D.filter_by_archive_type('speleothem')

D_speleothem.get_all_dataset_names()





D_marine = D.filter_by_archive_type('marine')

D_marine.get_all_dataset_names()





D_sediment = D.filter_by_archive_type('sediment')

D_sediment.get_all_dataset_names()


D_marinespeleo = D.filter_by_archive_type('(marine|speleothem)')

D_marinespeleo.get_all_dataset_names()





D_merged = D_marine.merge(D_speleothem)

D_merged.get_all_dataset_names()





D_geo = D.filter_by_geo_bbox(lonMin=0, latMin=40, lonMax=90, latMax=70)

D_geo.get_all_dataset_names()





D_geotree = D_geo.filter_by_archive_type('tree')

D_geotree.get_all_dataset_names()





D_filt = D.filter_by_geo_bbox(lonMin=0, latMin=40, lonMax=90, latMax=70).filter_by_archive_type('tree')

D_filt.get_all_dataset_names()





ts = D_filt.to_lipd_series()





df = ts.get_timeseries_essentials()

df.head()





df_loc = D_filt.get_all_locations()

df_loc.head()


import pandas as pd





df_merged = df.merge(df_loc,how='inner', on='dataSetName')

df_merged.head()





ts_filter = ts.filter_by_name('(temperature|trsgi)')

df_paleo = ts_filter.get_timeseries_essentials()
df_paleo.head()





df_time = ts.filter_by_name('year').get_timeseries_essentials()

df_time.head()





df_filt_merge=df_paleo.merge(df_time,how='left',on='dataSetName')

df_filt_merge





df_filt_merge_loc=df_filt_merge.merge(df_loc,how='left',on='dataSetName')

df_filt_merge_loc.head()
