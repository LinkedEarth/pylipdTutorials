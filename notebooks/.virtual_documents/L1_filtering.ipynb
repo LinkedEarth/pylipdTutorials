


from pylipd.lipd import LiPD

path = '../data/Pages2k/'

D = LiPD()
D.load_from_dir(path)





D.get_all_dataset_names()





D.get_all_archiveTypes()





D_speleothem = D.filter_by_archive_type('speleothem')

D_speleothem.get_all_dataset_names()





D_marine = D.filter_by_archive_type('marine')

D_marine.get_all_dataset_names()





D_sediment = D.filter_by_archive_type('sediment')

D_sediment.get_all_dataset_names()


D_marinespeleo = D.filter_by_archive_type('(marine|speleothem)')

D_marinespeleo.get_all_dataset_names()





D_merged = D_marine.merge(D_speleothem)

D_merged.get_all_dataset_names()





D_geo = D.filter_by_geo_bbox(lonMin=0, latMin=40, lonMax=90, latMax=70)

D_geo.get_all_dataset_names()





D_geotree = D_geo.filter_by_archive_type('wood')

D_geotree.get_all_dataset_names()





D_filt = D.filter_by_geo_bbox(lonMin=0, latMin=40, lonMax=90, latMax=70).filter_by_archive_type('wood')

D_filt.get_all_dataset_names()





D_filt_time1 = D.filter_by_time([500,1800])


num_records = float(len(D_filt_time1.get_all_dataset_names()))
print(f"There are {num_records} number of records matching this query.")





D_filt_time2 = D.filter_by_time([500,1800], timeBoundType = 'entirely')


num_records = float(len(D_filt_time2.get_all_dataset_names()))
print(f"There are {num_records} number of records matching this query.")








ts = D_filt.to_lipd_series()





df = ts.get_timeseries_essentials()

df.head()





df_loc = D_filt.get_all_locations()

df_loc.head()


import pandas as pd





df_merged = df.merge(df_loc,how='inner', on='dataSetName')

df_merged.head()





ts_filter = ts.filter_by_name('(temperature|trsgi)')

df_paleo = ts_filter.get_timeseries_essentials()
df_paleo.head()





df_time = ts.filter_by_name('year').get_timeseries_essentials()

df_time.head()





df_filt_merge=df_paleo.merge(df_time,how='left',on='dataSetName')

df_filt_merge





df_filt_merge_loc=df_filt_merge.merge(df_loc,how='left',on='dataSetName')

df_filt_merge_loc.head()





ts_all = D.to_lipd_series()
ts_all.get_all_proxy()





ts_filt_proxy = ts_all.filter_by_proxy('ring width')

ts_filt_proxy.get_all_proxy()





print(f"There are {len(ts_all.get_timeseries_essentials())} variables in this LiPDSeries object.")





ts_filt_meanres = ts_all.filter_by_resolution(10)

print(f"There are {len(ts_filt_meanres.get_timeseries_essentials())} variables in this LiPDSeries object.")





ts_filt_medres = ts_all.filter_by_resolution(10, stats = 'Median')

print(f"There are {len(ts_filt_medres.get_timeseries_essentials())} variables in this LiPDSeries object.")



