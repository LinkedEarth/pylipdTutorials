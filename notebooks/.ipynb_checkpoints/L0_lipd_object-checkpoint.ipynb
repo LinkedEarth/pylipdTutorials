{
 "cells": [
  {
   "cell_type": "markdown",
   "id": "908ffece",
   "metadata": {},
   "source": [
    "# Basic manipulation of `pylipd.LiPD` object\n",
    "\n",
    "## Authors\n",
    "\n",
    "by [Deborah Khider](https://orcid.org/0000-0001-7501-8430)\n",
    "\n",
    "## Preamble\n",
    "\n",
    "### Goals:\n",
    "\n",
    "* Extract a time series for data analysis\n",
    "* Remove/pop LiPD datasets to an existing `LiPD` object\n",
    "\n",
    "Reading Time: 5 minutes\n",
    "\n",
    "### Keywords\n",
    "\n",
    "LiPD; query\n",
    "\n",
    "### Pre-requisites\n",
    "\n",
    "None. This tutorial assumes basic knowledge of Python and Pandas. If you are not familiar with this coding language and the Pandas library, check out this tutorial: http://linked.earth/ec_workshops_py/.\n",
    "\n",
    "### Relevant Packages\n",
    "\n",
    "Pandas, pylipd\n",
    "\n",
    "## Data Description\n",
    "\n",
    "This notebook uses the following datasets, in LiPD format:\n",
    "\n",
    "* Nurhati, I. S., Cobb, K. M., & Di Lorenzo, E. (2011). Decadal-scale SST and salinity variations in the central tropical Pacific: Signatures of natural and anthropogenic climate change. Journal of Climate, 24(13), 3294–3308. doi:10.1175/2011jcli3852.1\n",
    "\n",
    "* PAGES2k Consortium., Emile-Geay, J., McKay, N. et al. A global multiproxy database for temperature reconstructions of the Common Era. Sci Data 4, 170088 (2017). doi:10.1038/sdata.2017.88"
   ]
  },
  {
   "cell_type": "code",
   "execution_count": 1,
   "id": "8f4cd713",
   "metadata": {},
   "outputs": [],
   "source": [
    "from pylipd.lipd import LiPD"
   ]
  },
  {
   "cell_type": "markdown",
   "id": "0f0b5985",
   "metadata": {},
   "source": [
    "## Demonstration\n",
    "\n",
    "### Extract time series data from LiPD formatted datasets\n",
    "\n",
    "If you are famliar with the [R utilities](https://nickmckay.github.io/lipdR/), one useful functions is the ability to expand timeseries data. This capability was also present in the previous iteration of the Python utilities and `PyLiPD` retains this compatbility to ease the transition. \n",
    "\n",
    "If you're unsure about what a time series is in the LiPD context, [read more](https://nickmckay.github.io/lipdR/#helptimeseries). \n",
    "\n",
    "#### Working with one dataset\n",
    "\n",
    "First, let's load a single dataset:"
   ]
  },
  {
   "cell_type": "code",
   "execution_count": 2,
   "id": "8a8f8659",
   "metadata": {},
   "outputs": [
    {
     "name": "stdout",
     "output_type": "stream",
     "text": [
      "Loading 1 LiPD files\n"
     ]
    },
    {
     "name": "stderr",
     "output_type": "stream",
     "text": [
      "100%|███████████████████████████████████████████████████████████████| 1/1 [00:00<00:00, 18.79it/s]"
     ]
    },
    {
     "name": "stdout",
     "output_type": "stream",
     "text": [
      "Loaded..\n"
     ]
    },
    {
     "name": "stderr",
     "output_type": "stream",
     "text": [
      "\n"
     ]
    }
   ],
   "source": [
    "data_path = '../data/Ocn-Palmyra.Nurhati.2011.lpd'\n",
    "D = LiPD()\n",
    "D.load(data_path)"
   ]
  },
  {
   "cell_type": "markdown",
   "id": "0e92e908",
   "metadata": {},
   "source": [
    "Now let's get all the timeseries for this dataset. Note that the [`get_timeseries`](https://pylipd.readthedocs.io/en/latest/source/pylipd.html#pylipd.lipd.LiPD.get_timeseries) function requires to pass the dataset names. This is useful if you only want to expand only one dataset from your LiPD object. You can also use the function [`get_all_dataset_names`](https://pylipd.readthedocs.io/en/latest/source/pylipd.html#pylipd.lipd.LiPD.get_all_dataset_names) in the call to expand all datasets: "
   ]
  },
  {
   "cell_type": "code",
   "execution_count": 3,
   "id": "b7121335",
   "metadata": {},
   "outputs": [
    {
     "name": "stdout",
     "output_type": "stream",
     "text": [
      "Extracting timeseries from dataset: Ocn-Palmyra.Nurhati.2011 ...\n"
     ]
    },
    {
     "data": {
      "text/plain": [
       "dict"
      ]
     },
     "execution_count": 3,
     "metadata": {},
     "output_type": "execute_result"
    }
   ],
   "source": [
    "ts_list = D.get_timeseries(D.get_all_dataset_names())\n",
    "\n",
    "type(ts_list)"
   ]
  },
  {
   "cell_type": "markdown",
   "id": "fa2cf601",
   "metadata": {},
   "source": [
    "Note that the above function returns a dictionary that organizes the extracted timeseries by dataset name:"
   ]
  },
  {
   "cell_type": "code",
   "execution_count": 4,
   "id": "46196c72",
   "metadata": {},
   "outputs": [
    {
     "data": {
      "text/plain": [
       "dict_keys(['Ocn-Palmyra.Nurhati.2011'])"
      ]
     },
     "execution_count": 4,
     "metadata": {},
     "output_type": "execute_result"
    }
   ],
   "source": [
    "ts_list.keys()"
   ]
  },
  {
   "cell_type": "markdown",
   "id": "250a4611",
   "metadata": {},
   "source": [
    "Each timeseries is then stored into a list of dictionaries that preserve essential metadata for each time/depth and value pair:"
   ]
  },
  {
   "cell_type": "code",
   "execution_count": 5,
   "id": "d7f08392",
   "metadata": {},
   "outputs": [
    {
     "data": {
      "text/plain": [
       "list"
      ]
     },
     "execution_count": 5,
     "metadata": {},
     "output_type": "execute_result"
    }
   ],
   "source": [
    "type(ts_list['Ocn-Palmyra.Nurhati.2011'])"
   ]
  },
  {
   "cell_type": "markdown",
   "id": "fb7d5290",
   "metadata": {},
   "source": [
    "Although the information is present, it is not easy to navigate or query across the various list. One simple way of doing so is to return the list into a [`Pandas.DataFrame`](https://pandas.pydata.org/docs/reference/api/pandas.DataFrame.html):"
   ]
  },
  {
   "cell_type": "code",
   "execution_count": 6,
   "id": "80bcb09d",
   "metadata": {},
   "outputs": [
    {
     "name": "stdout",
     "output_type": "stream",
     "text": [
      "Extracting timeseries from dataset: Ocn-Palmyra.Nurhati.2011 ...\n"
     ]
    },
    {
     "data": {
      "text/html": [
       "<div>\n",
       "<style scoped>\n",
       "    .dataframe tbody tr th:only-of-type {\n",
       "        vertical-align: middle;\n",
       "    }\n",
       "\n",
       "    .dataframe tbody tr th {\n",
       "        vertical-align: top;\n",
       "    }\n",
       "\n",
       "    .dataframe thead th {\n",
       "        text-align: right;\n",
       "    }\n",
       "</style>\n",
       "<table border=\"1\" class=\"dataframe\">\n",
       "  <thead>\n",
       "    <tr style=\"text-align: right;\">\n",
       "      <th></th>\n",
       "      <th>mode</th>\n",
       "      <th>time_id</th>\n",
       "      <th>lipdVersion</th>\n",
       "      <th>pub1_author</th>\n",
       "      <th>pub1_pages</th>\n",
       "      <th>pub1_dataUrl</th>\n",
       "      <th>pub1_title</th>\n",
       "      <th>pub1_doi</th>\n",
       "      <th>pub1_journal</th>\n",
       "      <th>pub1_year</th>\n",
       "      <th>...</th>\n",
       "      <th>paleoData_sensorGenus</th>\n",
       "      <th>paleoData_qCnotes</th>\n",
       "      <th>paleoData_proxy</th>\n",
       "      <th>paleoData_iso2kUI</th>\n",
       "      <th>paleoData_interpretation</th>\n",
       "      <th>paleoData_qCCertification</th>\n",
       "      <th>paleoData_notes</th>\n",
       "      <th>paleoData_pages2kID</th>\n",
       "      <th>paleoData_ocean2kID</th>\n",
       "      <th>paleoData_inCompilation</th>\n",
       "    </tr>\n",
       "  </thead>\n",
       "  <tbody>\n",
       "    <tr>\n",
       "      <th>0</th>\n",
       "      <td>paleoData</td>\n",
       "      <td>age</td>\n",
       "      <td>1.3</td>\n",
       "      <td>Henry C. Wu;Michael N. Evans;Kevin J. Anchukai...</td>\n",
       "      <td>226-252</td>\n",
       "      <td>doi.org</td>\n",
       "      <td>Tropical sea surface temperatures for the past...</td>\n",
       "      <td>10.1002/2014PA002717</td>\n",
       "      <td>Paleoceanography</td>\n",
       "      <td>2015.0</td>\n",
       "      <td>...</td>\n",
       "      <td>NaN</td>\n",
       "      <td>NaN</td>\n",
       "      <td>NaN</td>\n",
       "      <td>NaN</td>\n",
       "      <td>NaN</td>\n",
       "      <td>NaN</td>\n",
       "      <td>NaN</td>\n",
       "      <td>NaN</td>\n",
       "      <td>NaN</td>\n",
       "      <td>NaN</td>\n",
       "    </tr>\n",
       "    <tr>\n",
       "      <th>1</th>\n",
       "      <td>paleoData</td>\n",
       "      <td>age</td>\n",
       "      <td>1.3</td>\n",
       "      <td>Henry C. Wu;Michael N. Evans;Kevin J. Anchukai...</td>\n",
       "      <td>226-252</td>\n",
       "      <td>doi.org</td>\n",
       "      <td>Tropical sea surface temperatures for the past...</td>\n",
       "      <td>10.1002/2014PA002717</td>\n",
       "      <td>Paleoceanography</td>\n",
       "      <td>2015.0</td>\n",
       "      <td>...</td>\n",
       "      <td>Porites</td>\n",
       "      <td>d18Osw (residuals calculated from coupled SrCa...</td>\n",
       "      <td>d18O</td>\n",
       "      <td>NaN</td>\n",
       "      <td>NaN</td>\n",
       "      <td>NaN</td>\n",
       "      <td>NaN</td>\n",
       "      <td>NaN</td>\n",
       "      <td>NaN</td>\n",
       "      <td>NaN</td>\n",
       "    </tr>\n",
       "    <tr>\n",
       "      <th>2</th>\n",
       "      <td>paleoData</td>\n",
       "      <td>age</td>\n",
       "      <td>1.3</td>\n",
       "      <td>Henry C. Wu;Michael N. Evans;Kevin J. Anchukai...</td>\n",
       "      <td>226-252</td>\n",
       "      <td>doi.org</td>\n",
       "      <td>Tropical sea surface temperatures for the past...</td>\n",
       "      <td>10.1002/2014PA002717</td>\n",
       "      <td>Paleoceanography</td>\n",
       "      <td>2015.0</td>\n",
       "      <td>...</td>\n",
       "      <td>Porites</td>\n",
       "      <td>Duplicate of modern d18O record presented in C...</td>\n",
       "      <td>d18O</td>\n",
       "      <td>CO11NUPM01B</td>\n",
       "      <td>[{'scope': 'climate', 'seasonality': 'not appl...</td>\n",
       "      <td>MNE, NJA</td>\n",
       "      <td>; climateInterpretation_seasonality changed - ...</td>\n",
       "      <td>NaN</td>\n",
       "      <td>NaN</td>\n",
       "      <td>NaN</td>\n",
       "    </tr>\n",
       "    <tr>\n",
       "      <th>3</th>\n",
       "      <td>paleoData</td>\n",
       "      <td>age</td>\n",
       "      <td>1.3</td>\n",
       "      <td>Henry C. Wu;Michael N. Evans;Kevin J. Anchukai...</td>\n",
       "      <td>226-252</td>\n",
       "      <td>doi.org</td>\n",
       "      <td>Tropical sea surface temperatures for the past...</td>\n",
       "      <td>10.1002/2014PA002717</td>\n",
       "      <td>Paleoceanography</td>\n",
       "      <td>2015.0</td>\n",
       "      <td>...</td>\n",
       "      <td>Porites</td>\n",
       "      <td>NaN</td>\n",
       "      <td>Sr/Ca</td>\n",
       "      <td>CO11NUPM01BT1</td>\n",
       "      <td>[{'interpDirection': 'negative', 'scope': 'cli...</td>\n",
       "      <td>MNE, NJA</td>\n",
       "      <td>; paleoData_variableName changed - was origina...</td>\n",
       "      <td>Ocn_129</td>\n",
       "      <td>PacificNurhati2011</td>\n",
       "      <td>Ocean2k_v1.0.0</td>\n",
       "    </tr>\n",
       "    <tr>\n",
       "      <th>4</th>\n",
       "      <td>paleoData</td>\n",
       "      <td>age</td>\n",
       "      <td>1.3</td>\n",
       "      <td>Henry C. Wu;Michael N. Evans;Kevin J. Anchukai...</td>\n",
       "      <td>226-252</td>\n",
       "      <td>doi.org</td>\n",
       "      <td>Tropical sea surface temperatures for the past...</td>\n",
       "      <td>10.1002/2014PA002717</td>\n",
       "      <td>Paleoceanography</td>\n",
       "      <td>2015.0</td>\n",
       "      <td>...</td>\n",
       "      <td>NaN</td>\n",
       "      <td>NaN</td>\n",
       "      <td>NaN</td>\n",
       "      <td>NaN</td>\n",
       "      <td>NaN</td>\n",
       "      <td>NaN</td>\n",
       "      <td>NaN</td>\n",
       "      <td>NaN</td>\n",
       "      <td>NaN</td>\n",
       "      <td>NaN</td>\n",
       "    </tr>\n",
       "  </tbody>\n",
       "</table>\n",
       "<p>5 rows × 93 columns</p>\n",
       "</div>"
      ],
      "text/plain": [
       "        mode time_id  lipdVersion  \\\n",
       "0  paleoData     age          1.3   \n",
       "1  paleoData     age          1.3   \n",
       "2  paleoData     age          1.3   \n",
       "3  paleoData     age          1.3   \n",
       "4  paleoData     age          1.3   \n",
       "\n",
       "                                         pub1_author pub1_pages pub1_dataUrl  \\\n",
       "0  Henry C. Wu;Michael N. Evans;Kevin J. Anchukai...    226-252      doi.org   \n",
       "1  Henry C. Wu;Michael N. Evans;Kevin J. Anchukai...    226-252      doi.org   \n",
       "2  Henry C. Wu;Michael N. Evans;Kevin J. Anchukai...    226-252      doi.org   \n",
       "3  Henry C. Wu;Michael N. Evans;Kevin J. Anchukai...    226-252      doi.org   \n",
       "4  Henry C. Wu;Michael N. Evans;Kevin J. Anchukai...    226-252      doi.org   \n",
       "\n",
       "                                          pub1_title              pub1_doi  \\\n",
       "0  Tropical sea surface temperatures for the past...  10.1002/2014PA002717   \n",
       "1  Tropical sea surface temperatures for the past...  10.1002/2014PA002717   \n",
       "2  Tropical sea surface temperatures for the past...  10.1002/2014PA002717   \n",
       "3  Tropical sea surface temperatures for the past...  10.1002/2014PA002717   \n",
       "4  Tropical sea surface temperatures for the past...  10.1002/2014PA002717   \n",
       "\n",
       "       pub1_journal  pub1_year  ...  paleoData_sensorGenus  \\\n",
       "0  Paleoceanography     2015.0  ...                    NaN   \n",
       "1  Paleoceanography     2015.0  ...                Porites   \n",
       "2  Paleoceanography     2015.0  ...                Porites   \n",
       "3  Paleoceanography     2015.0  ...                Porites   \n",
       "4  Paleoceanography     2015.0  ...                    NaN   \n",
       "\n",
       "                                   paleoData_qCnotes  paleoData_proxy  \\\n",
       "0                                                NaN              NaN   \n",
       "1  d18Osw (residuals calculated from coupled SrCa...             d18O   \n",
       "2  Duplicate of modern d18O record presented in C...             d18O   \n",
       "3                                                NaN            Sr/Ca   \n",
       "4                                                NaN              NaN   \n",
       "\n",
       "  paleoData_iso2kUI                           paleoData_interpretation  \\\n",
       "0               NaN                                                NaN   \n",
       "1               NaN                                                NaN   \n",
       "2       CO11NUPM01B  [{'scope': 'climate', 'seasonality': 'not appl...   \n",
       "3     CO11NUPM01BT1  [{'interpDirection': 'negative', 'scope': 'cli...   \n",
       "4               NaN                                                NaN   \n",
       "\n",
       "  paleoData_qCCertification  \\\n",
       "0                       NaN   \n",
       "1                       NaN   \n",
       "2                  MNE, NJA   \n",
       "3                  MNE, NJA   \n",
       "4                       NaN   \n",
       "\n",
       "                                     paleoData_notes paleoData_pages2kID  \\\n",
       "0                                                NaN                 NaN   \n",
       "1                                                NaN                 NaN   \n",
       "2  ; climateInterpretation_seasonality changed - ...                 NaN   \n",
       "3  ; paleoData_variableName changed - was origina...             Ocn_129   \n",
       "4                                                NaN                 NaN   \n",
       "\n",
       "  paleoData_ocean2kID paleoData_inCompilation  \n",
       "0                 NaN                     NaN  \n",
       "1                 NaN                     NaN  \n",
       "2                 NaN                     NaN  \n",
       "3  PacificNurhati2011          Ocean2k_v1.0.0  \n",
       "4                 NaN                     NaN  \n",
       "\n",
       "[5 rows x 93 columns]"
      ]
     },
     "execution_count": 6,
     "metadata": {},
     "output_type": "execute_result"
    }
   ],
   "source": [
    "ts_list, df = D.get_timeseries(D.get_all_dataset_names(), to_dataframe=True)\n",
    "\n",
    "df"
   ]
  },
  {
   "cell_type": "markdown",
   "id": "ec95e7eb",
   "metadata": {},
   "source": [
    "You can now use all the pandas functionalities for filtering and querying dataframes. First, let's have a look at the available properties, which corresponds to the column headers:"
   ]
  },
  {
   "cell_type": "code",
   "execution_count": 7,
   "id": "4afe09fe",
   "metadata": {},
   "outputs": [
    {
     "data": {
      "text/plain": [
       "Index(['mode', 'time_id', 'lipdVersion', 'pub1_author', 'pub1_pages',\n",
       "       'pub1_dataUrl', 'pub1_title', 'pub1_doi', 'pub1_journal', 'pub1_year',\n",
       "       'pub1_volume', 'pub1_publisher', 'pub1_issue', 'pub1_link',\n",
       "       'pub1_citeKey', 'pub1_DOI', 'pub2_author', 'pub2_title', 'pub2_citeKey',\n",
       "       'pub2_institution', 'pub2_urldate', 'pub2_url', 'pub2_DOI',\n",
       "       'pub3_author', 'pub3_pages', 'pub3_journal', 'pub3_doi', 'pub3_year',\n",
       "       'pub3_publisher', 'pub3_volume', 'pub3_dataUrl', 'pub3_title',\n",
       "       'pub3_link', 'pub3_citeKey', 'pub3_DOI', 'dataContributor',\n",
       "       'googleDataURL', 'studyName', 'originalDataURL', 'hasUrl',\n",
       "       'geo_meanLon', 'geo_meanLat', 'geo_meanElev', 'geo_type', 'geo_ocean',\n",
       "       'geo_siteName', 'geo_pages2kRegion', 'createdBy',\n",
       "       'googleMetadataWorksheet', 'dataSetName', 'googleSpreadSheetKey',\n",
       "       'archiveType', 'tableType', 'paleoData_googleWorkSheetKey',\n",
       "       'paleoData_filename', 'paleoData_paleoDataTableName',\n",
       "       'paleoData_measurementTableMD5', 'paleoData_measurementTableName',\n",
       "       'year', 'yearUnits', 'paleoData_hasMinValue', 'paleoData_wDSPaleoUrl',\n",
       "       'paleoData_variableName', 'paleoData_number', 'paleoData_units',\n",
       "       'paleoData_hasMedianValue', 'paleoData_TSid', 'paleoData_hasMaxValue',\n",
       "       'paleoData_hasResolution_hasMedianValue',\n",
       "       'paleoData_hasResolution_units', 'paleoData_hasResolution_hasMaxValue',\n",
       "       'paleoData_hasResolution_hasMeanValue',\n",
       "       'paleoData_hasResolution_hasMinValue', 'paleoData_description',\n",
       "       'paleoData_hasMeanValue', 'paleoData_inferredVariableType',\n",
       "       'paleoData_dataType', 'paleoData_missingValue',\n",
       "       'paleoData_variableType', 'paleoData_values',\n",
       "       'paleoData_proxyObservationType', 'paleoData_sensorSpecies',\n",
       "       'paleoData_useInGlobalTemperatureAnalysis', 'paleoData_sensorGenus',\n",
       "       'paleoData_qCnotes', 'paleoData_proxy', 'paleoData_iso2kUI',\n",
       "       'paleoData_interpretation', 'paleoData_qCCertification',\n",
       "       'paleoData_notes', 'paleoData_pages2kID', 'paleoData_ocean2kID',\n",
       "       'paleoData_inCompilation'],\n",
       "      dtype='object')"
      ]
     },
     "execution_count": 7,
     "metadata": {},
     "output_type": "execute_result"
    }
   ],
   "source": [
    "df.columns"
   ]
  },
  {
   "cell_type": "markdown",
   "id": "9442dc71",
   "metadata": {},
   "source": [
    "Let's have a look at the `paleoData_variableName` column to see what's available:"
   ]
  },
  {
   "cell_type": "code",
   "execution_count": 8,
   "id": "6fe5eed5",
   "metadata": {},
   "outputs": [
    {
     "data": {
      "text/plain": [
       "0     year\n",
       "1     d18O\n",
       "2     d18O\n",
       "3    Sr_Ca\n",
       "4     year\n",
       "Name: paleoData_variableName, dtype: object"
      ]
     },
     "execution_count": 8,
     "metadata": {},
     "output_type": "execute_result"
    }
   ],
   "source": [
    "df['paleoData_variableName']"
   ]
  },
  {
   "cell_type": "markdown",
   "id": "8228e271",
   "metadata": {},
   "source": [
    "All columns get extracted, hence why `year` is extracted as a paleo variable, with its associated values stored in `paleoData_values`. Notice that there is also two variables names `d18O`. Since this is a coral record, it stands to reason that one corresponds to the measured $\\delta^{18}O$ of the coral and the other the $\\delta^{18}O$ of the seawater. Let's have a look at the `qCnotes` field:"
   ]
  },
  {
   "cell_type": "code",
   "execution_count": 9,
   "id": "d16917ac",
   "metadata": {},
   "outputs": [
    {
     "data": {
      "text/html": [
       "<div>\n",
       "<style scoped>\n",
       "    .dataframe tbody tr th:only-of-type {\n",
       "        vertical-align: middle;\n",
       "    }\n",
       "\n",
       "    .dataframe tbody tr th {\n",
       "        vertical-align: top;\n",
       "    }\n",
       "\n",
       "    .dataframe thead th {\n",
       "        text-align: right;\n",
       "    }\n",
       "</style>\n",
       "<table border=\"1\" class=\"dataframe\">\n",
       "  <thead>\n",
       "    <tr style=\"text-align: right;\">\n",
       "      <th></th>\n",
       "      <th>paleoData_variableName</th>\n",
       "      <th>paleoData_qCnotes</th>\n",
       "    </tr>\n",
       "  </thead>\n",
       "  <tbody>\n",
       "    <tr>\n",
       "      <th>0</th>\n",
       "      <td>year</td>\n",
       "      <td>NaN</td>\n",
       "    </tr>\n",
       "    <tr>\n",
       "      <th>1</th>\n",
       "      <td>d18O</td>\n",
       "      <td>d18Osw (residuals calculated from coupled SrCa...</td>\n",
       "    </tr>\n",
       "    <tr>\n",
       "      <th>2</th>\n",
       "      <td>d18O</td>\n",
       "      <td>Duplicate of modern d18O record presented in C...</td>\n",
       "    </tr>\n",
       "    <tr>\n",
       "      <th>3</th>\n",
       "      <td>Sr_Ca</td>\n",
       "      <td>NaN</td>\n",
       "    </tr>\n",
       "    <tr>\n",
       "      <th>4</th>\n",
       "      <td>year</td>\n",
       "      <td>NaN</td>\n",
       "    </tr>\n",
       "  </tbody>\n",
       "</table>\n",
       "</div>"
      ],
      "text/plain": [
       "  paleoData_variableName                                  paleoData_qCnotes\n",
       "0                   year                                                NaN\n",
       "1                   d18O  d18Osw (residuals calculated from coupled SrCa...\n",
       "2                   d18O  Duplicate of modern d18O record presented in C...\n",
       "3                  Sr_Ca                                                NaN\n",
       "4                   year                                                NaN"
      ]
     },
     "execution_count": 9,
     "metadata": {},
     "output_type": "execute_result"
    }
   ],
   "source": [
    "df[['paleoData_variableName','paleoData_qCnotes']]"
   ]
  },
  {
   "cell_type": "markdown",
   "id": "86733e75",
   "metadata": {},
   "source": [
    "In fact, one is for the measurement on the coral and the other for seawater. Querying on this small dataset is not necessary; however, it can become useful when looking at a collection of files as shown in the next example (working with multiple datasets). \n",
    "\n",
    "To extract by row index (here extracting for `Sr_Ca`):"
   ]
  },
  {
   "cell_type": "code",
   "execution_count": 12,
   "id": "79711bfe",
   "metadata": {},
   "outputs": [
    {
     "data": {
      "text/plain": [
       "mode                                                                 paleoData\n",
       "time_id                                                                    age\n",
       "lipdVersion                                                                1.3\n",
       "pub1_author                  Henry C. Wu;Michael N. Evans;Kevin J. Anchukai...\n",
       "pub1_pages                                                             226-252\n",
       "                                                   ...                        \n",
       "paleoData_qCCertification                                             MNE, NJA\n",
       "paleoData_notes              ; paleoData_variableName changed - was origina...\n",
       "paleoData_pages2kID                                                    Ocn_129\n",
       "paleoData_ocean2kID                                         PacificNurhati2011\n",
       "paleoData_inCompilation                                         Ocean2k_v1.0.0\n",
       "Name: 3, Length: 93, dtype: object"
      ]
     },
     "execution_count": 12,
     "metadata": {},
     "output_type": "execute_result"
    }
   ],
   "source": [
    "df_cut = df.iloc[3,:]\n",
    "\n",
    "df_cut"
   ]
  },
  {
   "cell_type": "code",
   "execution_count": 13,
   "id": "76224449",
   "metadata": {},
   "outputs": [
    {
     "data": {
      "text/plain": [
       "'Sr_Ca'"
      ]
     },
     "execution_count": 13,
     "metadata": {},
     "output_type": "execute_result"
    }
   ],
   "source": [
    "df_cut['paleoData_variableName']"
   ]
  },
  {
   "cell_type": "markdown",
   "id": "50937d6a",
   "metadata": {},
   "source": [
    "This can be very useful when working with the [`Pyleoclim`](https://pyleoclim-util.readthedocs.io/en/master/) software since a `Pyleoclim.Series` can be initialized from the information contained in `df_cut`. Working with `PyLiPD` and `Pyleoclim` is a subject of [several tutorials](http://linked.earth/PyleoTutorials/intro.html)."
   ]
  },
  {
   "cell_type": "markdown",
   "id": "fb5d0bbd-82c9-40ec-b82e-67a05ba91d3f",
   "metadata": {},
   "source": [
    "Working with such a large dataframe can be overwhelming and not needed in some cases. Therefore, `PyLiPD` has a nifty function called `get_timeseries_essential` that grabs information about the dataset, its geographical location, the time/depth values, the variable information, including archive and proxy:"
   ]
  },
  {
   "cell_type": "code",
   "execution_count": 14,
   "id": "fb3f5a89-47fd-4e82-93dd-316e949866c8",
   "metadata": {},
   "outputs": [
    {
     "data": {
      "text/html": [
       "<div>\n",
       "<style scoped>\n",
       "    .dataframe tbody tr th:only-of-type {\n",
       "        vertical-align: middle;\n",
       "    }\n",
       "\n",
       "    .dataframe tbody tr th {\n",
       "        vertical-align: top;\n",
       "    }\n",
       "\n",
       "    .dataframe thead th {\n",
       "        text-align: right;\n",
       "    }\n",
       "</style>\n",
       "<table border=\"1\" class=\"dataframe\">\n",
       "  <thead>\n",
       "    <tr style=\"text-align: right;\">\n",
       "      <th></th>\n",
       "      <th>dataSetName</th>\n",
       "      <th>archiveType</th>\n",
       "      <th>geo_meanLat</th>\n",
       "      <th>geo_meanLon</th>\n",
       "      <th>geo_meanElev</th>\n",
       "      <th>paleoData_variableName</th>\n",
       "      <th>paleoData_values</th>\n",
       "      <th>paleoData_units</th>\n",
       "      <th>paleoData_proxy</th>\n",
       "      <th>paleoData_proxyGeneral</th>\n",
       "      <th>time_variableName</th>\n",
       "      <th>time_values</th>\n",
       "      <th>time_units</th>\n",
       "      <th>depth_variableName</th>\n",
       "      <th>depth_values</th>\n",
       "      <th>depth_units</th>\n",
       "    </tr>\n",
       "  </thead>\n",
       "  <tbody>\n",
       "    <tr>\n",
       "      <th>0</th>\n",
       "      <td>Ocn-Palmyra.Nurhati.2011</td>\n",
       "      <td>coral</td>\n",
       "      <td>5.87</td>\n",
       "      <td>-162.13</td>\n",
       "      <td>-10.0</td>\n",
       "      <td>d18O</td>\n",
       "      <td>[0.39, 0.35, 0.35, 0.35, 0.36, 0.22, 0.33, 0.3...</td>\n",
       "      <td>permil</td>\n",
       "      <td>d18O</td>\n",
       "      <td>None</td>\n",
       "      <td>year</td>\n",
       "      <td>[1998.21, 1998.13, 1998.04, 1997.96, 1997.88, ...</td>\n",
       "      <td>AD</td>\n",
       "      <td>None</td>\n",
       "      <td>None</td>\n",
       "      <td>None</td>\n",
       "    </tr>\n",
       "    <tr>\n",
       "      <th>1</th>\n",
       "      <td>Ocn-Palmyra.Nurhati.2011</td>\n",
       "      <td>coral</td>\n",
       "      <td>5.87</td>\n",
       "      <td>-162.13</td>\n",
       "      <td>-10.0</td>\n",
       "      <td>year</td>\n",
       "      <td>[1998.29, 1998.21, 1998.13, 1998.04, 1997.96, ...</td>\n",
       "      <td>AD</td>\n",
       "      <td>None</td>\n",
       "      <td>None</td>\n",
       "      <td>year</td>\n",
       "      <td>[1998.29, 1998.21, 1998.13, 1998.04, 1997.96, ...</td>\n",
       "      <td>AD</td>\n",
       "      <td>None</td>\n",
       "      <td>None</td>\n",
       "      <td>None</td>\n",
       "    </tr>\n",
       "    <tr>\n",
       "      <th>2</th>\n",
       "      <td>Ocn-Palmyra.Nurhati.2011</td>\n",
       "      <td>coral</td>\n",
       "      <td>5.87</td>\n",
       "      <td>-162.13</td>\n",
       "      <td>-10.0</td>\n",
       "      <td>d18O</td>\n",
       "      <td>[-5.41, -5.47, -5.49, -5.43, -5.48, -5.53, -5....</td>\n",
       "      <td>permil</td>\n",
       "      <td>d18O</td>\n",
       "      <td>None</td>\n",
       "      <td>year</td>\n",
       "      <td>[1998.29, 1998.21, 1998.13, 1998.04, 1997.96, ...</td>\n",
       "      <td>AD</td>\n",
       "      <td>None</td>\n",
       "      <td>None</td>\n",
       "      <td>None</td>\n",
       "    </tr>\n",
       "    <tr>\n",
       "      <th>3</th>\n",
       "      <td>Ocn-Palmyra.Nurhati.2011</td>\n",
       "      <td>coral</td>\n",
       "      <td>5.87</td>\n",
       "      <td>-162.13</td>\n",
       "      <td>-10.0</td>\n",
       "      <td>year</td>\n",
       "      <td>[1998.21, 1998.13, 1998.04, 1997.96, 1997.88, ...</td>\n",
       "      <td>AD</td>\n",
       "      <td>None</td>\n",
       "      <td>None</td>\n",
       "      <td>year</td>\n",
       "      <td>[1998.21, 1998.13, 1998.04, 1997.96, 1997.88, ...</td>\n",
       "      <td>AD</td>\n",
       "      <td>None</td>\n",
       "      <td>None</td>\n",
       "      <td>None</td>\n",
       "    </tr>\n",
       "    <tr>\n",
       "      <th>4</th>\n",
       "      <td>Ocn-Palmyra.Nurhati.2011</td>\n",
       "      <td>coral</td>\n",
       "      <td>5.87</td>\n",
       "      <td>-162.13</td>\n",
       "      <td>-10.0</td>\n",
       "      <td>Sr_Ca</td>\n",
       "      <td>[8.96, 8.9, 8.91, 8.94, 8.92, 8.89, 8.87, 8.81...</td>\n",
       "      <td>mmol/mol</td>\n",
       "      <td>Sr/Ca</td>\n",
       "      <td>None</td>\n",
       "      <td>year</td>\n",
       "      <td>[1998.29, 1998.21, 1998.13, 1998.04, 1997.96, ...</td>\n",
       "      <td>AD</td>\n",
       "      <td>None</td>\n",
       "      <td>None</td>\n",
       "      <td>None</td>\n",
       "    </tr>\n",
       "  </tbody>\n",
       "</table>\n",
       "</div>"
      ],
      "text/plain": [
       "                dataSetName archiveType  geo_meanLat  geo_meanLon  \\\n",
       "0  Ocn-Palmyra.Nurhati.2011       coral         5.87      -162.13   \n",
       "1  Ocn-Palmyra.Nurhati.2011       coral         5.87      -162.13   \n",
       "2  Ocn-Palmyra.Nurhati.2011       coral         5.87      -162.13   \n",
       "3  Ocn-Palmyra.Nurhati.2011       coral         5.87      -162.13   \n",
       "4  Ocn-Palmyra.Nurhati.2011       coral         5.87      -162.13   \n",
       "\n",
       "   geo_meanElev paleoData_variableName  \\\n",
       "0         -10.0                   d18O   \n",
       "1         -10.0                   year   \n",
       "2         -10.0                   d18O   \n",
       "3         -10.0                   year   \n",
       "4         -10.0                  Sr_Ca   \n",
       "\n",
       "                                    paleoData_values paleoData_units  \\\n",
       "0  [0.39, 0.35, 0.35, 0.35, 0.36, 0.22, 0.33, 0.3...          permil   \n",
       "1  [1998.29, 1998.21, 1998.13, 1998.04, 1997.96, ...              AD   \n",
       "2  [-5.41, -5.47, -5.49, -5.43, -5.48, -5.53, -5....          permil   \n",
       "3  [1998.21, 1998.13, 1998.04, 1997.96, 1997.88, ...              AD   \n",
       "4  [8.96, 8.9, 8.91, 8.94, 8.92, 8.89, 8.87, 8.81...        mmol/mol   \n",
       "\n",
       "  paleoData_proxy paleoData_proxyGeneral time_variableName  \\\n",
       "0            d18O                   None              year   \n",
       "1            None                   None              year   \n",
       "2            d18O                   None              year   \n",
       "3            None                   None              year   \n",
       "4           Sr/Ca                   None              year   \n",
       "\n",
       "                                         time_values time_units  \\\n",
       "0  [1998.21, 1998.13, 1998.04, 1997.96, 1997.88, ...         AD   \n",
       "1  [1998.29, 1998.21, 1998.13, 1998.04, 1997.96, ...         AD   \n",
       "2  [1998.29, 1998.21, 1998.13, 1998.04, 1997.96, ...         AD   \n",
       "3  [1998.21, 1998.13, 1998.04, 1997.96, 1997.88, ...         AD   \n",
       "4  [1998.29, 1998.21, 1998.13, 1998.04, 1997.96, ...         AD   \n",
       "\n",
       "  depth_variableName depth_values depth_units  \n",
       "0               None         None        None  \n",
       "1               None         None        None  \n",
       "2               None         None        None  \n",
       "3               None         None        None  \n",
       "4               None         None        None  "
      ]
     },
     "execution_count": 14,
     "metadata": {},
     "output_type": "execute_result"
    }
   ],
   "source": [
    "df_essential = D.get_timeseries_essentials()\n",
    "\n",
    "df_essential"
   ]
  },
  {
   "cell_type": "markdown",
   "id": "596acaa3-0389-4271-9812-b1375b6f3dbd",
   "metadata": {},
   "source": [
    "The metadata (i.e., the column names) available through this function will always remain the same and are as follows:"
   ]
  },
  {
   "cell_type": "code",
   "execution_count": 15,
   "id": "ae018c88-3f44-4566-9f5c-ee429df38706",
   "metadata": {},
   "outputs": [
    {
     "data": {
      "text/plain": [
       "Index(['dataSetName', 'archiveType', 'geo_meanLat', 'geo_meanLon',\n",
       "       'geo_meanElev', 'paleoData_variableName', 'paleoData_values',\n",
       "       'paleoData_units', 'paleoData_proxy', 'paleoData_proxyGeneral',\n",
       "       'time_variableName', 'time_values', 'time_units', 'depth_variableName',\n",
       "       'depth_values', 'depth_units'],\n",
       "      dtype='object')"
      ]
     },
     "execution_count": 15,
     "metadata": {},
     "output_type": "execute_result"
    }
   ],
   "source": [
    "df_essential.columns"
   ]
  },
  {
   "cell_type": "markdown",
   "id": "1d4d0022",
   "metadata": {},
   "source": [
    "#### Working with multiple datasets"
   ]
  },
  {
   "cell_type": "code",
   "execution_count": 16,
   "id": "5bb89337",
   "metadata": {},
   "outputs": [
    {
     "name": "stdout",
     "output_type": "stream",
     "text": [
      "Loading 16 LiPD files\n"
     ]
    },
    {
     "name": "stderr",
     "output_type": "stream",
     "text": [
      "100%|█████████████████████████████████████████████████████████████| 16/16 [00:00<00:00, 36.77it/s]"
     ]
    },
    {
     "name": "stdout",
     "output_type": "stream",
     "text": [
      "Loaded..\n"
     ]
    },
    {
     "name": "stderr",
     "output_type": "stream",
     "text": [
      "\n"
     ]
    }
   ],
   "source": [
    "path = '../data/Pages2k/'\n",
    "\n",
    "D_dir = LiPD()\n",
    "D_dir.load_from_dir(path)"
   ]
  },
  {
   "cell_type": "markdown",
   "id": "b23be8cd",
   "metadata": {},
   "source": [
    "Let's expand into our essential dataframe:"
   ]
  },
  {
   "cell_type": "code",
   "execution_count": 17,
   "id": "4ac3c735",
   "metadata": {},
   "outputs": [],
   "source": [
    "df_dir = D_dir.get_timeseries_essentials()"
   ]
  },
  {
   "cell_type": "markdown",
   "id": "2b25e22a",
   "metadata": {},
   "source": [
    "Let's have a look at the dataframe:"
   ]
  },
  {
   "cell_type": "code",
   "execution_count": 18,
   "id": "977fab82",
   "metadata": {},
   "outputs": [
    {
     "data": {
      "text/html": [
       "<div>\n",
       "<style scoped>\n",
       "    .dataframe tbody tr th:only-of-type {\n",
       "        vertical-align: middle;\n",
       "    }\n",
       "\n",
       "    .dataframe tbody tr th {\n",
       "        vertical-align: top;\n",
       "    }\n",
       "\n",
       "    .dataframe thead th {\n",
       "        text-align: right;\n",
       "    }\n",
       "</style>\n",
       "<table border=\"1\" class=\"dataframe\">\n",
       "  <thead>\n",
       "    <tr style=\"text-align: right;\">\n",
       "      <th></th>\n",
       "      <th>dataSetName</th>\n",
       "      <th>archiveType</th>\n",
       "      <th>geo_meanLat</th>\n",
       "      <th>geo_meanLon</th>\n",
       "      <th>geo_meanElev</th>\n",
       "      <th>paleoData_variableName</th>\n",
       "      <th>paleoData_values</th>\n",
       "      <th>paleoData_units</th>\n",
       "      <th>paleoData_proxy</th>\n",
       "      <th>paleoData_proxyGeneral</th>\n",
       "      <th>time_variableName</th>\n",
       "      <th>time_values</th>\n",
       "      <th>time_units</th>\n",
       "      <th>depth_variableName</th>\n",
       "      <th>depth_values</th>\n",
       "      <th>depth_units</th>\n",
       "    </tr>\n",
       "  </thead>\n",
       "  <tbody>\n",
       "    <tr>\n",
       "      <th>0</th>\n",
       "      <td>Ocn-RedSea.Felis.2000</td>\n",
       "      <td>coral</td>\n",
       "      <td>27.850</td>\n",
       "      <td>34.320</td>\n",
       "      <td>-6.0</td>\n",
       "      <td>year</td>\n",
       "      <td>[1995.583, 1995.417, 1995.25, 1995.083, 1994.9...</td>\n",
       "      <td>AD</td>\n",
       "      <td>None</td>\n",
       "      <td>None</td>\n",
       "      <td>year</td>\n",
       "      <td>[1995.583, 1995.417, 1995.25, 1995.083, 1994.9...</td>\n",
       "      <td>AD</td>\n",
       "      <td>None</td>\n",
       "      <td>None</td>\n",
       "      <td>None</td>\n",
       "    </tr>\n",
       "    <tr>\n",
       "      <th>1</th>\n",
       "      <td>Ocn-RedSea.Felis.2000</td>\n",
       "      <td>coral</td>\n",
       "      <td>27.850</td>\n",
       "      <td>34.320</td>\n",
       "      <td>-6.0</td>\n",
       "      <td>d18O</td>\n",
       "      <td>[-4.12, -3.82, -3.05, -3.02, -3.62, -3.96, -3....</td>\n",
       "      <td>permil</td>\n",
       "      <td>d18O</td>\n",
       "      <td>None</td>\n",
       "      <td>year</td>\n",
       "      <td>[1995.583, 1995.417, 1995.25, 1995.083, 1994.9...</td>\n",
       "      <td>AD</td>\n",
       "      <td>None</td>\n",
       "      <td>None</td>\n",
       "      <td>None</td>\n",
       "    </tr>\n",
       "    <tr>\n",
       "      <th>2</th>\n",
       "      <td>Ant-WAIS-Divide.Severinghaus.2012</td>\n",
       "      <td>borehole</td>\n",
       "      <td>-79.463</td>\n",
       "      <td>-112.125</td>\n",
       "      <td>1766.0</td>\n",
       "      <td>uncertainty_temperature</td>\n",
       "      <td>[1.327, 1.328, 1.328, 1.329, 1.33, 1.33, 1.331...</td>\n",
       "      <td>degC</td>\n",
       "      <td>None</td>\n",
       "      <td>None</td>\n",
       "      <td>year</td>\n",
       "      <td>[8.0, 9.0, 10.0, 11.0, 12.0, 13.0, 14.0, 15.0,...</td>\n",
       "      <td>AD</td>\n",
       "      <td>None</td>\n",
       "      <td>None</td>\n",
       "      <td>None</td>\n",
       "    </tr>\n",
       "    <tr>\n",
       "      <th>3</th>\n",
       "      <td>Ant-WAIS-Divide.Severinghaus.2012</td>\n",
       "      <td>borehole</td>\n",
       "      <td>-79.463</td>\n",
       "      <td>-112.125</td>\n",
       "      <td>1766.0</td>\n",
       "      <td>temperature</td>\n",
       "      <td>[-29.607, -29.607, -29.606, -29.606, -29.605, ...</td>\n",
       "      <td>degC</td>\n",
       "      <td>borehole</td>\n",
       "      <td>None</td>\n",
       "      <td>year</td>\n",
       "      <td>[8.0, 9.0, 10.0, 11.0, 12.0, 13.0, 14.0, 15.0,...</td>\n",
       "      <td>AD</td>\n",
       "      <td>None</td>\n",
       "      <td>None</td>\n",
       "      <td>None</td>\n",
       "    </tr>\n",
       "    <tr>\n",
       "      <th>4</th>\n",
       "      <td>Ant-WAIS-Divide.Severinghaus.2012</td>\n",
       "      <td>borehole</td>\n",
       "      <td>-79.463</td>\n",
       "      <td>-112.125</td>\n",
       "      <td>1766.0</td>\n",
       "      <td>year</td>\n",
       "      <td>[8.0, 9.0, 10.0, 11.0, 12.0, 13.0, 14.0, 15.0,...</td>\n",
       "      <td>AD</td>\n",
       "      <td>None</td>\n",
       "      <td>None</td>\n",
       "      <td>year</td>\n",
       "      <td>[8.0, 9.0, 10.0, 11.0, 12.0, 13.0, 14.0, 15.0,...</td>\n",
       "      <td>AD</td>\n",
       "      <td>None</td>\n",
       "      <td>None</td>\n",
       "      <td>None</td>\n",
       "    </tr>\n",
       "  </tbody>\n",
       "</table>\n",
       "</div>"
      ],
      "text/plain": [
       "                         dataSetName archiveType  geo_meanLat  geo_meanLon  \\\n",
       "0              Ocn-RedSea.Felis.2000       coral       27.850       34.320   \n",
       "1              Ocn-RedSea.Felis.2000       coral       27.850       34.320   \n",
       "2  Ant-WAIS-Divide.Severinghaus.2012    borehole      -79.463     -112.125   \n",
       "3  Ant-WAIS-Divide.Severinghaus.2012    borehole      -79.463     -112.125   \n",
       "4  Ant-WAIS-Divide.Severinghaus.2012    borehole      -79.463     -112.125   \n",
       "\n",
       "   geo_meanElev   paleoData_variableName  \\\n",
       "0          -6.0                     year   \n",
       "1          -6.0                     d18O   \n",
       "2        1766.0  uncertainty_temperature   \n",
       "3        1766.0              temperature   \n",
       "4        1766.0                     year   \n",
       "\n",
       "                                    paleoData_values paleoData_units  \\\n",
       "0  [1995.583, 1995.417, 1995.25, 1995.083, 1994.9...              AD   \n",
       "1  [-4.12, -3.82, -3.05, -3.02, -3.62, -3.96, -3....          permil   \n",
       "2  [1.327, 1.328, 1.328, 1.329, 1.33, 1.33, 1.331...            degC   \n",
       "3  [-29.607, -29.607, -29.606, -29.606, -29.605, ...            degC   \n",
       "4  [8.0, 9.0, 10.0, 11.0, 12.0, 13.0, 14.0, 15.0,...              AD   \n",
       "\n",
       "  paleoData_proxy paleoData_proxyGeneral time_variableName  \\\n",
       "0            None                   None              year   \n",
       "1            d18O                   None              year   \n",
       "2            None                   None              year   \n",
       "3        borehole                   None              year   \n",
       "4            None                   None              year   \n",
       "\n",
       "                                         time_values time_units  \\\n",
       "0  [1995.583, 1995.417, 1995.25, 1995.083, 1994.9...         AD   \n",
       "1  [1995.583, 1995.417, 1995.25, 1995.083, 1994.9...         AD   \n",
       "2  [8.0, 9.0, 10.0, 11.0, 12.0, 13.0, 14.0, 15.0,...         AD   \n",
       "3  [8.0, 9.0, 10.0, 11.0, 12.0, 13.0, 14.0, 15.0,...         AD   \n",
       "4  [8.0, 9.0, 10.0, 11.0, 12.0, 13.0, 14.0, 15.0,...         AD   \n",
       "\n",
       "  depth_variableName depth_values depth_units  \n",
       "0               None         None        None  \n",
       "1               None         None        None  \n",
       "2               None         None        None  \n",
       "3               None         None        None  \n",
       "4               None         None        None  "
      ]
     },
     "execution_count": 18,
     "metadata": {},
     "output_type": "execute_result"
    }
   ],
   "source": [
    "df_dir.head()"
   ]
  },
  {
   "cell_type": "markdown",
   "id": "512eef39",
   "metadata": {},
   "source": [
    "The size of this dataframe is:"
   ]
  },
  {
   "cell_type": "code",
   "execution_count": 19,
   "id": "b9e4de5e",
   "metadata": {},
   "outputs": [
    {
     "data": {
      "text/plain": [
       "(47, 16)"
      ]
     },
     "execution_count": 19,
     "metadata": {},
     "output_type": "execute_result"
    }
   ],
   "source": [
    "df_dir.shape"
   ]
  },
  {
   "cell_type": "markdown",
   "id": "5f76bf9c",
   "metadata": {},
   "source": [
    "So we expandad into 47 timeseries."
   ]
  },
  {
   "cell_type": "markdown",
   "id": "2f676867",
   "metadata": {},
   "source": [
    "Let's have a look at the available variables:"
   ]
  },
  {
   "cell_type": "code",
   "execution_count": 20,
   "id": "6dcb5204",
   "metadata": {},
   "outputs": [
    {
     "data": {
      "text/plain": [
       "array(['year', 'd18O', 'uncertainty_temperature', 'temperature',\n",
       "       'depth_top', 'notes', 'Mg_Ca.Mg/Ca', 'depth_bottom', 'Uk37',\n",
       "       'trsgi', 'MXD'], dtype=object)"
      ]
     },
     "execution_count": 20,
     "metadata": {},
     "output_type": "execute_result"
    }
   ],
   "source": [
    "df_dir['paleoData_variableName'].unique()"
   ]
  },
  {
   "cell_type": "markdown",
   "id": "e81bd3c2",
   "metadata": {},
   "source": [
    "Let's assume we are only interested in the temperature data:"
   ]
  },
  {
   "cell_type": "code",
   "execution_count": 21,
   "id": "09972956",
   "metadata": {},
   "outputs": [
    {
     "data": {
      "text/html": [
       "<div>\n",
       "<style scoped>\n",
       "    .dataframe tbody tr th:only-of-type {\n",
       "        vertical-align: middle;\n",
       "    }\n",
       "\n",
       "    .dataframe tbody tr th {\n",
       "        vertical-align: top;\n",
       "    }\n",
       "\n",
       "    .dataframe thead th {\n",
       "        text-align: right;\n",
       "    }\n",
       "</style>\n",
       "<table border=\"1\" class=\"dataframe\">\n",
       "  <thead>\n",
       "    <tr style=\"text-align: right;\">\n",
       "      <th></th>\n",
       "      <th>dataSetName</th>\n",
       "      <th>archiveType</th>\n",
       "      <th>geo_meanLat</th>\n",
       "      <th>geo_meanLon</th>\n",
       "      <th>geo_meanElev</th>\n",
       "      <th>paleoData_variableName</th>\n",
       "      <th>paleoData_values</th>\n",
       "      <th>paleoData_units</th>\n",
       "      <th>paleoData_proxy</th>\n",
       "      <th>paleoData_proxyGeneral</th>\n",
       "      <th>time_variableName</th>\n",
       "      <th>time_values</th>\n",
       "      <th>time_units</th>\n",
       "      <th>depth_variableName</th>\n",
       "      <th>depth_values</th>\n",
       "      <th>depth_units</th>\n",
       "    </tr>\n",
       "  </thead>\n",
       "  <tbody>\n",
       "    <tr>\n",
       "      <th>4</th>\n",
       "      <td>Ant-WAIS-Divide.Severinghaus.2012</td>\n",
       "      <td>borehole</td>\n",
       "      <td>-79.4630</td>\n",
       "      <td>-112.1250</td>\n",
       "      <td>1766.0</td>\n",
       "      <td>temperature</td>\n",
       "      <td>[-29.607, -29.607, -29.606, -29.606, -29.605, ...</td>\n",
       "      <td>degC</td>\n",
       "      <td>borehole</td>\n",
       "      <td>None</td>\n",
       "      <td>year</td>\n",
       "      <td>[8, 9, 10, 11, 12, 13, 14, 15, 16, 17, 18, 19,...</td>\n",
       "      <td>AD</td>\n",
       "      <td>None</td>\n",
       "      <td>None</td>\n",
       "      <td>None</td>\n",
       "    </tr>\n",
       "    <tr>\n",
       "      <th>5</th>\n",
       "      <td>Asi-SourthAndMiddleUrals.Demezhko.2007</td>\n",
       "      <td>borehole</td>\n",
       "      <td>55.0000</td>\n",
       "      <td>59.5000</td>\n",
       "      <td>1900.0</td>\n",
       "      <td>temperature</td>\n",
       "      <td>[0.166, 0.264, 0.354, 0.447, 0.538, 0.62, 0.68...</td>\n",
       "      <td>degC</td>\n",
       "      <td>borehole</td>\n",
       "      <td>None</td>\n",
       "      <td>year</td>\n",
       "      <td>[800, 850, 900, 950, 1000, 1050, 1100, 1150, 1...</td>\n",
       "      <td>AD</td>\n",
       "      <td>None</td>\n",
       "      <td>None</td>\n",
       "      <td>None</td>\n",
       "    </tr>\n",
       "    <tr>\n",
       "      <th>7</th>\n",
       "      <td>Ocn-AlboranSea436B.Nieto-Moreno.2013</td>\n",
       "      <td>marine sediment</td>\n",
       "      <td>36.2053</td>\n",
       "      <td>-4.3133</td>\n",
       "      <td>-1108.0</td>\n",
       "      <td>temperature</td>\n",
       "      <td>[18.79, 19.38, 19.61, 18.88, 18.74, 19.25, 18....</td>\n",
       "      <td>degC</td>\n",
       "      <td>alkenone</td>\n",
       "      <td>None</td>\n",
       "      <td>year</td>\n",
       "      <td>[1999.07, 1993.12, 1987.17, 1975.26, 1963.36, ...</td>\n",
       "      <td>AD</td>\n",
       "      <td>None</td>\n",
       "      <td>None</td>\n",
       "      <td>None</td>\n",
       "    </tr>\n",
       "    <tr>\n",
       "      <th>11</th>\n",
       "      <td>Ocn-FeniDrift.Richter.2009</td>\n",
       "      <td>marine sediment</td>\n",
       "      <td>55.5000</td>\n",
       "      <td>-13.9000</td>\n",
       "      <td>-2543.0</td>\n",
       "      <td>temperature</td>\n",
       "      <td>[12.94, 10.99, 10.53, 10.44, 11.39, 13.38, 10....</td>\n",
       "      <td>degC</td>\n",
       "      <td>None</td>\n",
       "      <td>None</td>\n",
       "      <td>year</td>\n",
       "      <td>[1998, 1987, 1975, 1962, 1949, 1936, 1924, 191...</td>\n",
       "      <td>AD</td>\n",
       "      <td>depth_bottom</td>\n",
       "      <td>[0.5, 1.5, 2.5, 3.5, 4.5, 5.5, 6.5, 7.5, 8.5, ...</td>\n",
       "      <td>cm</td>\n",
       "    </tr>\n",
       "    <tr>\n",
       "      <th>12</th>\n",
       "      <td>Ocn-FeniDrift.Richter.2009</td>\n",
       "      <td>marine sediment</td>\n",
       "      <td>55.5000</td>\n",
       "      <td>-13.9000</td>\n",
       "      <td>-2543.0</td>\n",
       "      <td>temperature</td>\n",
       "      <td>[12.94, 10.99, 10.53, 10.44, 11.39, 13.38, 10....</td>\n",
       "      <td>degC</td>\n",
       "      <td>None</td>\n",
       "      <td>None</td>\n",
       "      <td>year</td>\n",
       "      <td>[1998, 1987, 1975, 1962, 1949, 1936, 1924, 191...</td>\n",
       "      <td>AD</td>\n",
       "      <td>depth_top</td>\n",
       "      <td>[0.5, 1.5, 2.5, 3.5, 4.5, 5.5, 6.5, 7.5, 8.5, ...</td>\n",
       "      <td>cm</td>\n",
       "    </tr>\n",
       "  </tbody>\n",
       "</table>\n",
       "</div>"
      ],
      "text/plain": [
       "                               dataSetName      archiveType  geo_meanLat  \\\n",
       "4        Ant-WAIS-Divide.Severinghaus.2012         borehole     -79.4630   \n",
       "5   Asi-SourthAndMiddleUrals.Demezhko.2007         borehole      55.0000   \n",
       "7     Ocn-AlboranSea436B.Nieto-Moreno.2013  marine sediment      36.2053   \n",
       "11              Ocn-FeniDrift.Richter.2009  marine sediment      55.5000   \n",
       "12              Ocn-FeniDrift.Richter.2009  marine sediment      55.5000   \n",
       "\n",
       "    geo_meanLon  geo_meanElev paleoData_variableName  \\\n",
       "4     -112.1250        1766.0            temperature   \n",
       "5       59.5000        1900.0            temperature   \n",
       "7       -4.3133       -1108.0            temperature   \n",
       "11     -13.9000       -2543.0            temperature   \n",
       "12     -13.9000       -2543.0            temperature   \n",
       "\n",
       "                                     paleoData_values paleoData_units  \\\n",
       "4   [-29.607, -29.607, -29.606, -29.606, -29.605, ...            degC   \n",
       "5   [0.166, 0.264, 0.354, 0.447, 0.538, 0.62, 0.68...            degC   \n",
       "7   [18.79, 19.38, 19.61, 18.88, 18.74, 19.25, 18....            degC   \n",
       "11  [12.94, 10.99, 10.53, 10.44, 11.39, 13.38, 10....            degC   \n",
       "12  [12.94, 10.99, 10.53, 10.44, 11.39, 13.38, 10....            degC   \n",
       "\n",
       "   paleoData_proxy paleoData_proxyGeneral time_variableName  \\\n",
       "4         borehole                   None              year   \n",
       "5         borehole                   None              year   \n",
       "7         alkenone                   None              year   \n",
       "11            None                   None              year   \n",
       "12            None                   None              year   \n",
       "\n",
       "                                          time_values time_units  \\\n",
       "4   [8, 9, 10, 11, 12, 13, 14, 15, 16, 17, 18, 19,...         AD   \n",
       "5   [800, 850, 900, 950, 1000, 1050, 1100, 1150, 1...         AD   \n",
       "7   [1999.07, 1993.12, 1987.17, 1975.26, 1963.36, ...         AD   \n",
       "11  [1998, 1987, 1975, 1962, 1949, 1936, 1924, 191...         AD   \n",
       "12  [1998, 1987, 1975, 1962, 1949, 1936, 1924, 191...         AD   \n",
       "\n",
       "   depth_variableName                                       depth_values  \\\n",
       "4                None                                               None   \n",
       "5                None                                               None   \n",
       "7                None                                               None   \n",
       "11       depth_bottom  [0.5, 1.5, 2.5, 3.5, 4.5, 5.5, 6.5, 7.5, 8.5, ...   \n",
       "12          depth_top  [0.5, 1.5, 2.5, 3.5, 4.5, 5.5, 6.5, 7.5, 8.5, ...   \n",
       "\n",
       "   depth_units  \n",
       "4         None  \n",
       "5         None  \n",
       "7         None  \n",
       "11          cm  \n",
       "12          cm  "
      ]
     },
     "execution_count": 21,
     "metadata": {},
     "output_type": "execute_result"
    }
   ],
   "source": [
    "df_temp = df_dir[df_dir['paleoData_variableName']=='temperature']\n",
    "df_temp.head()"
   ]
  },
  {
   "cell_type": "code",
   "execution_count": 22,
   "id": "ca756434",
   "metadata": {},
   "outputs": [
    {
     "data": {
      "text/plain": [
       "(11, 16)"
      ]
     },
     "execution_count": 22,
     "metadata": {},
     "output_type": "execute_result"
    }
   ],
   "source": [
    "df_temp.shape"
   ]
  },
  {
   "cell_type": "markdown",
   "id": "ec3eb41f",
   "metadata": {},
   "source": [
    "which leaves us with 11 timeseries."
   ]
  },
  {
   "cell_type": "markdown",
   "id": "d8262f22-a75f-4b94-b87a-7a267435e349",
   "metadata": {},
   "source": [
    "Let's assume that you want everything that is not related to time, depth, and uncertainty. To keep the rows that are relevant to our problem, you can use the [`DataFrame.query`](https://pandas.pydata.org/docs/reference/api/pandas.DataFrame.query.html) function available in Pandas: "
   ]
  },
  {
   "cell_type": "code",
   "execution_count": 20,
   "id": "6043409f-1251-43fa-91d4-b5173af98cf8",
   "metadata": {},
   "outputs": [
    {
     "data": {
      "text/html": [
       "<div>\n",
       "<style scoped>\n",
       "    .dataframe tbody tr th:only-of-type {\n",
       "        vertical-align: middle;\n",
       "    }\n",
       "\n",
       "    .dataframe tbody tr th {\n",
       "        vertical-align: top;\n",
       "    }\n",
       "\n",
       "    .dataframe thead th {\n",
       "        text-align: right;\n",
       "    }\n",
       "</style>\n",
       "<table border=\"1\" class=\"dataframe\">\n",
       "  <thead>\n",
       "    <tr style=\"text-align: right;\">\n",
       "      <th></th>\n",
       "      <th>dataSetName</th>\n",
       "      <th>archiveType</th>\n",
       "      <th>geo_meanLat</th>\n",
       "      <th>geo_meanLon</th>\n",
       "      <th>geo_meanElev</th>\n",
       "      <th>paleoData_variableName</th>\n",
       "      <th>paleoData_values</th>\n",
       "      <th>paleoData_units</th>\n",
       "      <th>paleoData_proxy</th>\n",
       "      <th>paleoData_proxyGeneral</th>\n",
       "      <th>time_variableName</th>\n",
       "      <th>time_values</th>\n",
       "      <th>time_units</th>\n",
       "      <th>depth_variableName</th>\n",
       "      <th>depth_values</th>\n",
       "      <th>depth_units</th>\n",
       "    </tr>\n",
       "  </thead>\n",
       "  <tbody>\n",
       "    <tr>\n",
       "      <th>1</th>\n",
       "      <td>Ocn-RedSea.Felis.2000</td>\n",
       "      <td>coral</td>\n",
       "      <td>27.8500</td>\n",
       "      <td>34.3200</td>\n",
       "      <td>-6.0</td>\n",
       "      <td>d18O</td>\n",
       "      <td>[-4.12, -3.82, -3.05, -3.02, -3.62, -3.96, -3....</td>\n",
       "      <td>permil</td>\n",
       "      <td>d18O</td>\n",
       "      <td>None</td>\n",
       "      <td>year</td>\n",
       "      <td>[1995.583, 1995.417, 1995.25, 1995.083, 1994.9...</td>\n",
       "      <td>AD</td>\n",
       "      <td>None</td>\n",
       "      <td>None</td>\n",
       "      <td>None</td>\n",
       "    </tr>\n",
       "    <tr>\n",
       "      <th>3</th>\n",
       "      <td>Ant-WAIS-Divide.Severinghaus.2012</td>\n",
       "      <td>borehole</td>\n",
       "      <td>-79.4630</td>\n",
       "      <td>-112.1250</td>\n",
       "      <td>1766.0</td>\n",
       "      <td>temperature</td>\n",
       "      <td>[-29.607, -29.607, -29.606, -29.606, -29.605, ...</td>\n",
       "      <td>degC</td>\n",
       "      <td>borehole</td>\n",
       "      <td>None</td>\n",
       "      <td>year</td>\n",
       "      <td>[8.0, 9.0, 10.0, 11.0, 12.0, 13.0, 14.0, 15.0,...</td>\n",
       "      <td>AD</td>\n",
       "      <td>None</td>\n",
       "      <td>None</td>\n",
       "      <td>None</td>\n",
       "    </tr>\n",
       "    <tr>\n",
       "      <th>6</th>\n",
       "      <td>Asi-SourthAndMiddleUrals.Demezhko.2007</td>\n",
       "      <td>borehole</td>\n",
       "      <td>55.0000</td>\n",
       "      <td>59.5000</td>\n",
       "      <td>1900.0</td>\n",
       "      <td>temperature</td>\n",
       "      <td>[0.166, 0.264, 0.354, 0.447, 0.538, 0.62, 0.68...</td>\n",
       "      <td>degC</td>\n",
       "      <td>borehole</td>\n",
       "      <td>None</td>\n",
       "      <td>year</td>\n",
       "      <td>[800.0, 850.0, 900.0, 950.0, 1000.0, 1050.0, 1...</td>\n",
       "      <td>AD</td>\n",
       "      <td>None</td>\n",
       "      <td>None</td>\n",
       "      <td>None</td>\n",
       "    </tr>\n",
       "    <tr>\n",
       "      <th>7</th>\n",
       "      <td>Ocn-AlboranSea436B.Nieto-Moreno.2013</td>\n",
       "      <td>marine sediment</td>\n",
       "      <td>36.2053</td>\n",
       "      <td>-4.3133</td>\n",
       "      <td>-1108.0</td>\n",
       "      <td>temperature</td>\n",
       "      <td>[18.79, 19.38, 19.61, 18.88, 18.74, 19.25, 18....</td>\n",
       "      <td>degC</td>\n",
       "      <td>alkenone</td>\n",
       "      <td>None</td>\n",
       "      <td>year</td>\n",
       "      <td>[1999.07, 1993.12, 1987.17, 1975.26, 1963.36, ...</td>\n",
       "      <td>AD</td>\n",
       "      <td>None</td>\n",
       "      <td>None</td>\n",
       "      <td>None</td>\n",
       "    </tr>\n",
       "    <tr>\n",
       "      <th>9</th>\n",
       "      <td>Eur-SpannagelCave.Mangini.2005</td>\n",
       "      <td>speleothem</td>\n",
       "      <td>47.1000</td>\n",
       "      <td>11.6000</td>\n",
       "      <td>2347.0</td>\n",
       "      <td>d18O</td>\n",
       "      <td>[-7.49, -7.41, -7.36, -7.15, -7.28, -6.99, -6....</td>\n",
       "      <td>permil</td>\n",
       "      <td>d18O</td>\n",
       "      <td>None</td>\n",
       "      <td>year</td>\n",
       "      <td>[1935.0, 1932.0, 1930.0, 1929.0, 1929.0, 1928....</td>\n",
       "      <td>AD</td>\n",
       "      <td>None</td>\n",
       "      <td>None</td>\n",
       "      <td>None</td>\n",
       "    </tr>\n",
       "  </tbody>\n",
       "</table>\n",
       "</div>"
      ],
      "text/plain": [
       "                              dataSetName      archiveType  geo_meanLat  \\\n",
       "1                   Ocn-RedSea.Felis.2000            coral      27.8500   \n",
       "3       Ant-WAIS-Divide.Severinghaus.2012         borehole     -79.4630   \n",
       "6  Asi-SourthAndMiddleUrals.Demezhko.2007         borehole      55.0000   \n",
       "7    Ocn-AlboranSea436B.Nieto-Moreno.2013  marine sediment      36.2053   \n",
       "9          Eur-SpannagelCave.Mangini.2005       speleothem      47.1000   \n",
       "\n",
       "   geo_meanLon  geo_meanElev paleoData_variableName  \\\n",
       "1      34.3200          -6.0                   d18O   \n",
       "3    -112.1250        1766.0            temperature   \n",
       "6      59.5000        1900.0            temperature   \n",
       "7      -4.3133       -1108.0            temperature   \n",
       "9      11.6000        2347.0                   d18O   \n",
       "\n",
       "                                    paleoData_values paleoData_units  \\\n",
       "1  [-4.12, -3.82, -3.05, -3.02, -3.62, -3.96, -3....          permil   \n",
       "3  [-29.607, -29.607, -29.606, -29.606, -29.605, ...            degC   \n",
       "6  [0.166, 0.264, 0.354, 0.447, 0.538, 0.62, 0.68...            degC   \n",
       "7  [18.79, 19.38, 19.61, 18.88, 18.74, 19.25, 18....            degC   \n",
       "9  [-7.49, -7.41, -7.36, -7.15, -7.28, -6.99, -6....          permil   \n",
       "\n",
       "  paleoData_proxy paleoData_proxyGeneral time_variableName  \\\n",
       "1            d18O                   None              year   \n",
       "3        borehole                   None              year   \n",
       "6        borehole                   None              year   \n",
       "7        alkenone                   None              year   \n",
       "9            d18O                   None              year   \n",
       "\n",
       "                                         time_values time_units  \\\n",
       "1  [1995.583, 1995.417, 1995.25, 1995.083, 1994.9...         AD   \n",
       "3  [8.0, 9.0, 10.0, 11.0, 12.0, 13.0, 14.0, 15.0,...         AD   \n",
       "6  [800.0, 850.0, 900.0, 950.0, 1000.0, 1050.0, 1...         AD   \n",
       "7  [1999.07, 1993.12, 1987.17, 1975.26, 1963.36, ...         AD   \n",
       "9  [1935.0, 1932.0, 1930.0, 1929.0, 1929.0, 1928....         AD   \n",
       "\n",
       "  depth_variableName depth_values depth_units  \n",
       "1               None         None        None  \n",
       "3               None         None        None  \n",
       "6               None         None        None  \n",
       "7               None         None        None  \n",
       "9               None         None        None  "
      ]
     },
     "execution_count": 20,
     "metadata": {},
     "output_type": "execute_result"
    }
   ],
   "source": [
    "df_filt = df_dir.query(\"paleoData_variableName in ('temperature','MXD','Mg_Ca.Mg/Ca','d18O','trsgi', 'Uk37')\")\n",
    "df_filt.head()"
   ]
  },
  {
   "cell_type": "code",
   "execution_count": 21,
   "id": "3b360d38-aae7-4bdb-ae80-9da9bd6e7b17",
   "metadata": {},
   "outputs": [
    {
     "data": {
      "text/plain": [
       "(22, 16)"
      ]
     },
     "execution_count": 21,
     "metadata": {},
     "output_type": "execute_result"
    }
   ],
   "source": [
    "df_filt.shape"
   ]
  },
  {
   "cell_type": "markdown",
   "id": "98fc3134-3f09-4c59-b826-f0cafb3d2798",
   "metadata": {},
   "source": [
    "Which leaves us with 22 timeseries."
   ]
  },
  {
   "cell_type": "markdown",
   "id": "f98403a1",
   "metadata": {},
   "source": [
    "### Removing and popping datasets out of a LiPD object\n",
    "\n",
    "You can also remove (i.e., delete the corresponding dataset from the `LiPD` object) or pop (i.e., delete the corresponding dataset from the `LiPD` object **and** return the dataset) datasets from a `LiPD` object. Note that these functionalities behave similarly as the functions with the same names on Python lists. These functions underpin more adavanced filtering and querying capabilities that we will discuss in later tutorials. \n",
    "\n",
    "First let's make a [copy](https://pylipd.readthedocs.io/en/latest/source/pylipd.html#pylipd.lipd.LiPD.copy) of `D_dir`:"
   ]
  },
  {
   "cell_type": "code",
   "execution_count": 22,
   "id": "f28b1ccd",
   "metadata": {},
   "outputs": [
    {
     "name": "stdout",
     "output_type": "stream",
     "text": [
      "['Ocn-RedSea.Felis.2000', 'Ant-WAIS-Divide.Severinghaus.2012', 'Asi-SourthAndMiddleUrals.Demezhko.2007', 'Ocn-AlboranSea436B.Nieto-Moreno.2013', 'Eur-SpannagelCave.Mangini.2005', 'Ocn-FeniDrift.Richter.2009', 'Eur-LakeSilvaplana.Trachsel.2010', 'Ocn-PedradeLume-CapeVerdeIslands.Moses.2006', 'Ocn-SinaiPeninsula_RedSea.Moustafa.2000', 'Eur-NorthernSpain.Martin-Chivelet.2011', 'Arc-Kongressvatnet.D_Andrea.2012', 'Eur-CoastofPortugal.Abrantes.2011', 'Eur-SpanishPyrenees.Dorado-Linan.2012', 'Eur-FinnishLakelands.Helama.2014', 'Eur-NorthernScandinavia.Esper.2012', 'Eur-Stockholm.Leijonhufvud.2009']\n"
     ]
    }
   ],
   "source": [
    "D_test = D_dir.copy()\n",
    "print(D_test.get_all_dataset_names())"
   ]
  },
  {
   "cell_type": "markdown",
   "id": "58f2b1af",
   "metadata": {},
   "source": [
    "And let's [remove](https://pylipd.readthedocs.io/en/latest/source/pylipd.html#pylipd.lipd.LiPD.remove) `Eur-Stockholm.Leijonhufvud.2009`, which corresponds to the last entry in the list above:"
   ]
  },
  {
   "cell_type": "code",
   "execution_count": 23,
   "id": "5b1effa3",
   "metadata": {},
   "outputs": [
    {
     "name": "stdout",
     "output_type": "stream",
     "text": [
      "['Ocn-RedSea.Felis.2000', 'Ant-WAIS-Divide.Severinghaus.2012', 'Asi-SourthAndMiddleUrals.Demezhko.2007', 'Ocn-AlboranSea436B.Nieto-Moreno.2013', 'Eur-SpannagelCave.Mangini.2005', 'Ocn-FeniDrift.Richter.2009', 'Eur-LakeSilvaplana.Trachsel.2010', 'Ocn-PedradeLume-CapeVerdeIslands.Moses.2006', 'Ocn-SinaiPeninsula_RedSea.Moustafa.2000', 'Eur-NorthernSpain.Martin-Chivelet.2011', 'Arc-Kongressvatnet.D_Andrea.2012', 'Eur-CoastofPortugal.Abrantes.2011', 'Eur-SpanishPyrenees.Dorado-Linan.2012', 'Eur-FinnishLakelands.Helama.2014', 'Eur-NorthernScandinavia.Esper.2012']\n"
     ]
    }
   ],
   "source": [
    "D_test.remove('Eur-Stockholm.Leijonhufvud.2009')\n",
    "\n",
    "print(D_test.get_all_dataset_names())"
   ]
  },
  {
   "cell_type": "markdown",
   "id": "4e6a8133",
   "metadata": {},
   "source": [
    "Now let's [pop](https://pylipd.readthedocs.io/en/latest/source/pylipd.html#pylipd.lipd.LiPD.pop) `Eur-NorthernScandinavia.Esper.2012` from `D_test`:"
   ]
  },
  {
   "cell_type": "code",
   "execution_count": 24,
   "id": "d62e6416",
   "metadata": {},
   "outputs": [],
   "source": [
    "d_eur = D_test.pop('Eur-NorthernScandinavia.Esper.2012')"
   ]
  },
  {
   "cell_type": "markdown",
   "id": "3da5e3b9",
   "metadata": {},
   "source": [
    "Now let's have a look at `d_eur`:"
   ]
  },
  {
   "cell_type": "code",
   "execution_count": 25,
   "id": "a9409498",
   "metadata": {},
   "outputs": [
    {
     "name": "stdout",
     "output_type": "stream",
     "text": [
      "['Eur-NorthernScandinavia.Esper.2012']\n"
     ]
    }
   ],
   "source": [
    "print(d_eur.get_all_dataset_names())"
   ]
  },
  {
   "cell_type": "markdown",
   "id": "c55c6c2a",
   "metadata": {},
   "source": [
    "It contains the dataset we are expecting. Let's have a look at `D_test`:"
   ]
  },
  {
   "cell_type": "code",
   "execution_count": 26,
   "id": "0cc23dd2",
   "metadata": {},
   "outputs": [
    {
     "name": "stdout",
     "output_type": "stream",
     "text": [
      "['Ocn-RedSea.Felis.2000', 'Ant-WAIS-Divide.Severinghaus.2012', 'Asi-SourthAndMiddleUrals.Demezhko.2007', 'Ocn-AlboranSea436B.Nieto-Moreno.2013', 'Eur-SpannagelCave.Mangini.2005', 'Ocn-FeniDrift.Richter.2009', 'Eur-LakeSilvaplana.Trachsel.2010', 'Ocn-PedradeLume-CapeVerdeIslands.Moses.2006', 'Ocn-SinaiPeninsula_RedSea.Moustafa.2000', 'Eur-NorthernSpain.Martin-Chivelet.2011', 'Arc-Kongressvatnet.D_Andrea.2012', 'Eur-CoastofPortugal.Abrantes.2011', 'Eur-SpanishPyrenees.Dorado-Linan.2012', 'Eur-FinnishLakelands.Helama.2014']\n"
     ]
    }
   ],
   "source": [
    "print(D_test.get_all_dataset_names())"
   ]
  },
  {
   "cell_type": "markdown",
   "id": "54732e51",
   "metadata": {},
   "source": [
    "\n",
    "<div class=\"alert alert-warning\">\n",
    "    The dataset was removed from `D_test` in the process. Hence, it's always prudent to make a copy of the original object when using the `remove` and `pop` functionalities. \n",
    "</div>\n"
   ]
  },
  {
   "cell_type": "markdown",
   "id": "cb3f8d71",
   "metadata": {},
   "source": [
    "If can also remove/pop more than one dataset at a time:"
   ]
  },
  {
   "cell_type": "code",
   "execution_count": 27,
   "id": "be7249bb",
   "metadata": {},
   "outputs": [
    {
     "name": "stdout",
     "output_type": "stream",
     "text": [
      "['Asi-SourthAndMiddleUrals.Demezhko.2007', 'Ocn-AlboranSea436B.Nieto-Moreno.2013', 'Eur-SpannagelCave.Mangini.2005', 'Ocn-FeniDrift.Richter.2009', 'Eur-LakeSilvaplana.Trachsel.2010', 'Ocn-PedradeLume-CapeVerdeIslands.Moses.2006', 'Ocn-SinaiPeninsula_RedSea.Moustafa.2000', 'Eur-NorthernSpain.Martin-Chivelet.2011', 'Arc-Kongressvatnet.D_Andrea.2012', 'Eur-CoastofPortugal.Abrantes.2011', 'Eur-SpanishPyrenees.Dorado-Linan.2012', 'Eur-FinnishLakelands.Helama.2014']\n"
     ]
    }
   ],
   "source": [
    "rem = ['Ocn-RedSea.Felis.2000','Ant-WAIS-Divide.Severinghaus.2012']\n",
    "\n",
    "D_test.remove(rem)\n",
    "print(D_test.get_all_dataset_names())"
   ]
  }
 ],
 "metadata": {
  "kernelspec": {
   "display_name": "Python 3 (ipykernel)",
   "language": "python",
   "name": "python3"
  },
  "language_info": {
   "codemirror_mode": {
    "name": "ipython",
    "version": 3
   },
   "file_extension": ".py",
   "mimetype": "text/x-python",
   "name": "python",
   "nbconvert_exporter": "python",
   "pygments_lexer": "ipython3",
   "version": "3.10.11"
  }
 },
 "nbformat": 4,
 "nbformat_minor": 5
}
