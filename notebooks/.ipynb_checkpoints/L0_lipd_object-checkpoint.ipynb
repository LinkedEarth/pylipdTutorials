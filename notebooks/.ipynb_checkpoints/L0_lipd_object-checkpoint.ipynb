{
 "cells": [
  {
   "cell_type": "markdown",
   "id": "908ffece",
   "metadata": {},
   "source": [
    "# Basic manipulation of `pylipd.LiPD` objects\n",
    "\n",
    "## Authors\n",
    "\n",
    "by [Deborah Khider](https://orcid.org/0000-0001-7501-8430)\n",
    "\n",
    "## Preamble\n",
    "\n",
    "### Goals:\n",
    "\n",
    "* Extract a LiPD time series for analysis\n",
    "* Remove/pop LiPD datasets from an existing `LiPD` object\n",
    "\n",
    "Reading Time: 5 minutes\n",
    "\n",
    "### Keywords\n",
    "\n",
    "LiPD; query\n",
    "\n",
    "### Pre-requisites\n",
    "\n",
    "None. This tutorial assumes basic knowledge of Python and Pandas. If you are not familiar with this coding language and the Pandas library, check out this tutorial: http://linked.earth/ec_workshops_py/.\n",
    "\n",
    "### Relevant Packages\n",
    "\n",
    "Pandas, pylipd\n",
    "\n",
    "## Data Description\n",
    "\n",
    "This notebook uses the following datasets, in LiPD format:\n",
    "\n",
    "* Nurhati, I. S., Cobb, K. M., & Di Lorenzo, E. (2011). Decadal-scale SST and salinity variations in the central tropical Pacific: Signatures of natural and anthropogenic climate change. Journal of Climate, 24(13), 3294–3308. doi:10.1175/2011jcli3852.1\n",
    "\n",
    "* PAGES2k Consortium (2017): A global multiproxy database for temperature reconstructions of the Common Era. Sci Data 4, 170088. doi:10.1038/sdata.2017.88"
   ]
  },
  {
   "cell_type": "code",
   "execution_count": 1,
   "id": "8f4cd713",
   "metadata": {},
   "outputs": [],
   "source": [
    "from pylipd.lipd import LiPD"
   ]
  },
  {
   "cell_type": "markdown",
   "id": "0f0b5985",
   "metadata": {},
   "source": [
    "## Demonstration\n",
    "\n",
    "### Extract time series data from LiPD formatted datasets\n",
    "\n",
    "If you are famliar with the [R utilities](https://nickmckay.github.io/lipdR/), one useful functions is the ability to expand \"timeseries\" structures. This capability was also present in the previous iteration of the Python utilities and `PyLiPD` retains this compatbility to ease the transition. \n",
    "\n",
    "If you're unsure about what a \"timeseries\" is in the LiPD context, [read this page](https://nickmckay.github.io/lipdR/#helptimeseries). \n",
    "\n",
    "#### Working with one dataset\n",
    "\n",
    "First, let's load a single dataset:"
   ]
  },
  {
   "cell_type": "code",
   "execution_count": 17,
   "id": "8a8f8659",
   "metadata": {},
   "outputs": [
    {
     "name": "stdout",
     "output_type": "stream",
     "text": [
      "Loading 1 LiPD files\n"
     ]
    },
    {
     "name": "stderr",
     "output_type": "stream",
     "text": [
      "100%|█████████████████████████████████████████████| 1/1 [00:00<00:00, 34.78it/s]"
     ]
    },
    {
     "name": "stdout",
     "output_type": "stream",
     "text": [
      "Loaded..\n"
     ]
    },
    {
     "name": "stderr",
     "output_type": "stream",
     "text": [
      "\n"
     ]
    }
   ],
   "source": [
    "data_path = '../data/Ocn-Palmyra.Nurhati.2011.lpd'\n",
    "D = LiPD()\n",
    "D.load(data_path)"
   ]
  },
  {
   "cell_type": "markdown",
   "id": "0e92e908",
   "metadata": {},
   "source": [
    "Now let's get all the timeseries for this dataset. Note that the [`get_timeseries`](https://pylipd.readthedocs.io/en/latest/source/pylipd.html#pylipd.lipd.LiPD.get_timeseries) function requires to pass the dataset names. This is useful if you only want to expand only one dataset from your LiPD object. You can also use the function [`get_all_dataset_names`](https://pylipd.readthedocs.io/en/latest/source/pylipd.html#pylipd.lipd.LiPD.get_all_dataset_names) in the call to expand all datasets: "
   ]
  },
  {
   "cell_type": "code",
   "execution_count": 18,
   "id": "b7121335",
   "metadata": {},
   "outputs": [
    {
     "name": "stdout",
     "output_type": "stream",
     "text": [
      "Extracting timeseries from dataset: Ocn-Palmyra.Nurhati.2011 ...\n"
     ]
    },
    {
     "data": {
      "text/plain": [
       "dict"
      ]
     },
     "execution_count": 18,
     "metadata": {},
     "output_type": "execute_result"
    }
   ],
   "source": [
    "ts_list = D.get_timeseries(D.get_all_dataset_names())\n",
    "\n",
    "type(ts_list)"
   ]
  },
  {
   "cell_type": "markdown",
   "id": "fa2cf601",
   "metadata": {},
   "source": [
    "Note that the above function returns a dictionary that organizes the extracted timeseries by dataset name:"
   ]
  },
  {
   "cell_type": "code",
   "execution_count": 19,
   "id": "46196c72",
   "metadata": {},
   "outputs": [
    {
     "data": {
      "text/plain": [
       "dict_keys(['Ocn-Palmyra.Nurhati.2011'])"
      ]
     },
     "execution_count": 19,
     "metadata": {},
     "output_type": "execute_result"
    }
   ],
   "source": [
    "ts_list.keys()"
   ]
  },
  {
   "cell_type": "markdown",
   "id": "250a4611",
   "metadata": {},
   "source": [
    "Each timeseries is then stored into a list of dictionaries that preserve essential metadata for each time/depth and value pair:"
   ]
  },
  {
   "cell_type": "code",
   "execution_count": 20,
   "id": "d7f08392",
   "metadata": {},
   "outputs": [
    {
     "data": {
      "text/plain": [
       "list"
      ]
     },
     "execution_count": 20,
     "metadata": {},
     "output_type": "execute_result"
    }
   ],
   "source": [
    "type(ts_list['Ocn-Palmyra.Nurhati.2011'])"
   ]
  },
  {
   "cell_type": "markdown",
   "id": "fb7d5290",
   "metadata": {},
   "source": [
    "Although the information is present, it is not easy to navigate or query across the various list. One simple way of doing so is to return the list into a [`Pandas.DataFrame`](https://pandas.pydata.org/docs/reference/api/pandas.DataFrame.html):"
   ]
  },
  {
   "cell_type": "code",
   "execution_count": 21,
   "id": "80bcb09d",
   "metadata": {},
   "outputs": [
    {
     "name": "stdout",
     "output_type": "stream",
     "text": [
      "Extracting timeseries from dataset: Ocn-Palmyra.Nurhati.2011 ...\n"
     ]
    },
    {
     "data": {
      "text/html": [
       "<div>\n",
       "<style scoped>\n",
       "    .dataframe tbody tr th:only-of-type {\n",
       "        vertical-align: middle;\n",
       "    }\n",
       "\n",
       "    .dataframe tbody tr th {\n",
       "        vertical-align: top;\n",
       "    }\n",
       "\n",
       "    .dataframe thead th {\n",
       "        text-align: right;\n",
       "    }\n",
       "</style>\n",
       "<table border=\"1\" class=\"dataframe\">\n",
       "  <thead>\n",
       "    <tr style=\"text-align: right;\">\n",
       "      <th></th>\n",
       "      <th>mode</th>\n",
       "      <th>time_id</th>\n",
       "      <th>originalDataURL</th>\n",
       "      <th>googleSpreadSheetKey</th>\n",
       "      <th>pub1_author</th>\n",
       "      <th>pub1_doi</th>\n",
       "      <th>pub1_title</th>\n",
       "      <th>pub1_dataUrl</th>\n",
       "      <th>pub1_publisher</th>\n",
       "      <th>pub1_hasLink</th>\n",
       "      <th>...</th>\n",
       "      <th>paleoData_sensorSpecies</th>\n",
       "      <th>paleoData_units</th>\n",
       "      <th>paleoData_proxy</th>\n",
       "      <th>paleoData_values</th>\n",
       "      <th>paleoData_inferredVariableType</th>\n",
       "      <th>paleoData_description</th>\n",
       "      <th>paleoData_dataType</th>\n",
       "      <th>paleoData_interpretation</th>\n",
       "      <th>paleoData_inCompilation</th>\n",
       "      <th>paleoData_compilation_nest</th>\n",
       "    </tr>\n",
       "  </thead>\n",
       "  <tbody>\n",
       "    <tr>\n",
       "      <th>0</th>\n",
       "      <td>paleoData</td>\n",
       "      <td>age</td>\n",
       "      <td>http://hurricane.ncdc.noaa.gov/pls/paleox/f?p=...</td>\n",
       "      <td>1AIFOcqDtbZ5O4YCCnH5K-lNdzmI1UNmGnUpCJFNN-YQ</td>\n",
       "      <td>Cyril Giry;Michael N. Evans;Casey P. Saenger;J...</td>\n",
       "      <td>10.1002/2014PA002717</td>\n",
       "      <td>Tropical sea surface temperatures for the past...</td>\n",
       "      <td>[doi.org]</td>\n",
       "      <td>Wiley-Blackwell</td>\n",
       "      <td>http://dx.doi.org/10.1002/2014PA002717</td>\n",
       "      <td>...</td>\n",
       "      <td>lutea</td>\n",
       "      <td>permil</td>\n",
       "      <td>d18O</td>\n",
       "      <td>[0.39, 0.35, 0.35, 0.35, 0.36, 0.22, 0.33, 0.3...</td>\n",
       "      <td>NaN</td>\n",
       "      <td>NaN</td>\n",
       "      <td>NaN</td>\n",
       "      <td>NaN</td>\n",
       "      <td>NaN</td>\n",
       "      <td>NaN</td>\n",
       "    </tr>\n",
       "    <tr>\n",
       "      <th>1</th>\n",
       "      <td>paleoData</td>\n",
       "      <td>age</td>\n",
       "      <td>http://hurricane.ncdc.noaa.gov/pls/paleox/f?p=...</td>\n",
       "      <td>1AIFOcqDtbZ5O4YCCnH5K-lNdzmI1UNmGnUpCJFNN-YQ</td>\n",
       "      <td>Cyril Giry;Michael N. Evans;Casey P. Saenger;J...</td>\n",
       "      <td>10.1002/2014PA002717</td>\n",
       "      <td>Tropical sea surface temperatures for the past...</td>\n",
       "      <td>[doi.org]</td>\n",
       "      <td>Wiley-Blackwell</td>\n",
       "      <td>http://dx.doi.org/10.1002/2014PA002717</td>\n",
       "      <td>...</td>\n",
       "      <td>NaN</td>\n",
       "      <td>yr AD</td>\n",
       "      <td>NaN</td>\n",
       "      <td>[1998.21, 1998.13, 1998.04, 1997.96, 1997.88, ...</td>\n",
       "      <td>Year</td>\n",
       "      <td>Year AD</td>\n",
       "      <td>float</td>\n",
       "      <td>NaN</td>\n",
       "      <td>NaN</td>\n",
       "      <td>NaN</td>\n",
       "    </tr>\n",
       "    <tr>\n",
       "      <th>2</th>\n",
       "      <td>paleoData</td>\n",
       "      <td>age</td>\n",
       "      <td>http://hurricane.ncdc.noaa.gov/pls/paleox/f?p=...</td>\n",
       "      <td>1AIFOcqDtbZ5O4YCCnH5K-lNdzmI1UNmGnUpCJFNN-YQ</td>\n",
       "      <td>Cyril Giry;Michael N. Evans;Casey P. Saenger;J...</td>\n",
       "      <td>10.1002/2014PA002717</td>\n",
       "      <td>Tropical sea surface temperatures for the past...</td>\n",
       "      <td>[doi.org]</td>\n",
       "      <td>Wiley-Blackwell</td>\n",
       "      <td>http://dx.doi.org/10.1002/2014PA002717</td>\n",
       "      <td>...</td>\n",
       "      <td>NaN</td>\n",
       "      <td>yr AD</td>\n",
       "      <td>NaN</td>\n",
       "      <td>[1998.29, 1998.21, 1998.13, 1998.04, 1997.96, ...</td>\n",
       "      <td>Year</td>\n",
       "      <td>Year AD</td>\n",
       "      <td>float</td>\n",
       "      <td>NaN</td>\n",
       "      <td>NaN</td>\n",
       "      <td>NaN</td>\n",
       "    </tr>\n",
       "    <tr>\n",
       "      <th>3</th>\n",
       "      <td>paleoData</td>\n",
       "      <td>age</td>\n",
       "      <td>http://hurricane.ncdc.noaa.gov/pls/paleox/f?p=...</td>\n",
       "      <td>1AIFOcqDtbZ5O4YCCnH5K-lNdzmI1UNmGnUpCJFNN-YQ</td>\n",
       "      <td>Cyril Giry;Michael N. Evans;Casey P. Saenger;J...</td>\n",
       "      <td>10.1002/2014PA002717</td>\n",
       "      <td>Tropical sea surface temperatures for the past...</td>\n",
       "      <td>[doi.org]</td>\n",
       "      <td>Wiley-Blackwell</td>\n",
       "      <td>http://dx.doi.org/10.1002/2014PA002717</td>\n",
       "      <td>...</td>\n",
       "      <td>lutea</td>\n",
       "      <td>mmol/mol</td>\n",
       "      <td>Sr/Ca</td>\n",
       "      <td>[8.96, 8.9, 8.91, 8.94, 8.92, 8.89, 8.87, 8.81...</td>\n",
       "      <td>NaN</td>\n",
       "      <td>NaN</td>\n",
       "      <td>NaN</td>\n",
       "      <td>[{'variableDetail': 'sea@surface', 'hasVariabl...</td>\n",
       "      <td>Ocean2k_v1.0.0</td>\n",
       "      <td>MNE, NJA</td>\n",
       "    </tr>\n",
       "    <tr>\n",
       "      <th>4</th>\n",
       "      <td>paleoData</td>\n",
       "      <td>age</td>\n",
       "      <td>http://hurricane.ncdc.noaa.gov/pls/paleox/f?p=...</td>\n",
       "      <td>1AIFOcqDtbZ5O4YCCnH5K-lNdzmI1UNmGnUpCJFNN-YQ</td>\n",
       "      <td>Cyril Giry;Michael N. Evans;Casey P. Saenger;J...</td>\n",
       "      <td>10.1002/2014PA002717</td>\n",
       "      <td>Tropical sea surface temperatures for the past...</td>\n",
       "      <td>[doi.org]</td>\n",
       "      <td>Wiley-Blackwell</td>\n",
       "      <td>http://dx.doi.org/10.1002/2014PA002717</td>\n",
       "      <td>...</td>\n",
       "      <td>lutea</td>\n",
       "      <td>permil</td>\n",
       "      <td>d18O</td>\n",
       "      <td>[-5.41, -5.47, -5.49, -5.43, -5.48, -5.53, -5....</td>\n",
       "      <td>NaN</td>\n",
       "      <td>NaN</td>\n",
       "      <td>NaN</td>\n",
       "      <td>[{'hasVariable': {'label': 'temperature'}, 'di...</td>\n",
       "      <td>NaN</td>\n",
       "      <td>MNE, NJA</td>\n",
       "    </tr>\n",
       "  </tbody>\n",
       "</table>\n",
       "<p>5 rows × 90 columns</p>\n",
       "</div>"
      ],
      "text/plain": [
       "        mode time_id                                    originalDataURL  \\\n",
       "0  paleoData     age  http://hurricane.ncdc.noaa.gov/pls/paleox/f?p=...   \n",
       "1  paleoData     age  http://hurricane.ncdc.noaa.gov/pls/paleox/f?p=...   \n",
       "2  paleoData     age  http://hurricane.ncdc.noaa.gov/pls/paleox/f?p=...   \n",
       "3  paleoData     age  http://hurricane.ncdc.noaa.gov/pls/paleox/f?p=...   \n",
       "4  paleoData     age  http://hurricane.ncdc.noaa.gov/pls/paleox/f?p=...   \n",
       "\n",
       "                           googleSpreadSheetKey  \\\n",
       "0  1AIFOcqDtbZ5O4YCCnH5K-lNdzmI1UNmGnUpCJFNN-YQ   \n",
       "1  1AIFOcqDtbZ5O4YCCnH5K-lNdzmI1UNmGnUpCJFNN-YQ   \n",
       "2  1AIFOcqDtbZ5O4YCCnH5K-lNdzmI1UNmGnUpCJFNN-YQ   \n",
       "3  1AIFOcqDtbZ5O4YCCnH5K-lNdzmI1UNmGnUpCJFNN-YQ   \n",
       "4  1AIFOcqDtbZ5O4YCCnH5K-lNdzmI1UNmGnUpCJFNN-YQ   \n",
       "\n",
       "                                         pub1_author              pub1_doi  \\\n",
       "0  Cyril Giry;Michael N. Evans;Casey P. Saenger;J...  10.1002/2014PA002717   \n",
       "1  Cyril Giry;Michael N. Evans;Casey P. Saenger;J...  10.1002/2014PA002717   \n",
       "2  Cyril Giry;Michael N. Evans;Casey P. Saenger;J...  10.1002/2014PA002717   \n",
       "3  Cyril Giry;Michael N. Evans;Casey P. Saenger;J...  10.1002/2014PA002717   \n",
       "4  Cyril Giry;Michael N. Evans;Casey P. Saenger;J...  10.1002/2014PA002717   \n",
       "\n",
       "                                          pub1_title pub1_dataUrl  \\\n",
       "0  Tropical sea surface temperatures for the past...    [doi.org]   \n",
       "1  Tropical sea surface temperatures for the past...    [doi.org]   \n",
       "2  Tropical sea surface temperatures for the past...    [doi.org]   \n",
       "3  Tropical sea surface temperatures for the past...    [doi.org]   \n",
       "4  Tropical sea surface temperatures for the past...    [doi.org]   \n",
       "\n",
       "    pub1_publisher                            pub1_hasLink  ...  \\\n",
       "0  Wiley-Blackwell  http://dx.doi.org/10.1002/2014PA002717  ...   \n",
       "1  Wiley-Blackwell  http://dx.doi.org/10.1002/2014PA002717  ...   \n",
       "2  Wiley-Blackwell  http://dx.doi.org/10.1002/2014PA002717  ...   \n",
       "3  Wiley-Blackwell  http://dx.doi.org/10.1002/2014PA002717  ...   \n",
       "4  Wiley-Blackwell  http://dx.doi.org/10.1002/2014PA002717  ...   \n",
       "\n",
       "  paleoData_sensorSpecies paleoData_units paleoData_proxy  \\\n",
       "0                   lutea          permil            d18O   \n",
       "1                     NaN           yr AD             NaN   \n",
       "2                     NaN           yr AD             NaN   \n",
       "3                   lutea        mmol/mol           Sr/Ca   \n",
       "4                   lutea          permil            d18O   \n",
       "\n",
       "                                    paleoData_values  \\\n",
       "0  [0.39, 0.35, 0.35, 0.35, 0.36, 0.22, 0.33, 0.3...   \n",
       "1  [1998.21, 1998.13, 1998.04, 1997.96, 1997.88, ...   \n",
       "2  [1998.29, 1998.21, 1998.13, 1998.04, 1997.96, ...   \n",
       "3  [8.96, 8.9, 8.91, 8.94, 8.92, 8.89, 8.87, 8.81...   \n",
       "4  [-5.41, -5.47, -5.49, -5.43, -5.48, -5.53, -5....   \n",
       "\n",
       "   paleoData_inferredVariableType paleoData_description paleoData_dataType  \\\n",
       "0                             NaN                   NaN                NaN   \n",
       "1                            Year               Year AD              float   \n",
       "2                            Year               Year AD              float   \n",
       "3                             NaN                   NaN                NaN   \n",
       "4                             NaN                   NaN                NaN   \n",
       "\n",
       "                            paleoData_interpretation  paleoData_inCompilation  \\\n",
       "0                                                NaN                      NaN   \n",
       "1                                                NaN                      NaN   \n",
       "2                                                NaN                      NaN   \n",
       "3  [{'variableDetail': 'sea@surface', 'hasVariabl...           Ocean2k_v1.0.0   \n",
       "4  [{'hasVariable': {'label': 'temperature'}, 'di...                      NaN   \n",
       "\n",
       "  paleoData_compilation_nest  \n",
       "0                        NaN  \n",
       "1                        NaN  \n",
       "2                        NaN  \n",
       "3                   MNE, NJA  \n",
       "4                   MNE, NJA  \n",
       "\n",
       "[5 rows x 90 columns]"
      ]
     },
     "execution_count": 21,
     "metadata": {},
     "output_type": "execute_result"
    }
   ],
   "source": [
    "ts_list, df = D.get_timeseries(D.get_all_dataset_names(), to_dataframe=True)\n",
    "\n",
    "df"
   ]
  },
  {
   "cell_type": "markdown",
   "id": "ec95e7eb",
   "metadata": {},
   "source": [
    "You can now use all the pandas functionalities for filtering and querying dataframes. First, let's have a look at the available properties, which corresponds to the column headers:"
   ]
  },
  {
   "cell_type": "code",
   "execution_count": 22,
   "id": "4afe09fe",
   "metadata": {},
   "outputs": [
    {
     "data": {
      "text/plain": [
       "Index(['mode', 'time_id', 'originalDataURL', 'googleSpreadSheetKey',\n",
       "       'pub1_author', 'pub1_doi', 'pub1_title', 'pub1_dataUrl',\n",
       "       'pub1_publisher', 'pub1_hasLink', 'pub1_journal', 'pub1_citeKey',\n",
       "       'pub1_pages', 'pub1_issue', 'pub1_year', 'pub1_volume', 'pub1_DOI',\n",
       "       'pub2_author', 'pub2_urldate', 'pub2_citeKey', 'pub2_title',\n",
       "       'pub2_institution', 'pub2_url', 'pub2_DOI', 'pub3_author', 'pub3_year',\n",
       "       'pub3_hasLink', 'pub3_citeKey', 'pub3_pages', 'pub3_volume',\n",
       "       'pub3_journal', 'pub3_publisher', 'pub3_dataUrl', 'pub3_doi',\n",
       "       'pub3_title', 'pub3_DOI', 'createdBy', 'lipdVersion', 'geo_meanLon',\n",
       "       'geo_meanLat', 'geo_meanElev', 'geo_type', 'geo_pages2kRegion',\n",
       "       'geo_ocean', 'geo_siteName', 'hasUrl', 'googleMetadataWorksheet',\n",
       "       'studyName', 'dataContributor', 'googleDataURL', 'dataSetName',\n",
       "       'archiveType', 'tableType', 'paleoData_measurementTableMD5',\n",
       "       'paleoData_measurementTableName', 'paleoData_paleoDataTableName',\n",
       "       'paleoData_filename', 'paleoData_googleWorkSheetKey', 'year',\n",
       "       'yearUnits', 'paleoData_archiveType', 'paleoData_hasMaxValue',\n",
       "       'paleoData_hasMedianValue', 'paleoData_sensorGenus',\n",
       "       'paleoData_wDSPaleoUrl', 'paleoData_missingValue', 'paleoData_number',\n",
       "       'paleoData_resolution_hasMinValue',\n",
       "       'paleoData_resolution_hasMedianValue',\n",
       "       'paleoData_resolution_hasMaxValue', 'paleoData_resolution_hasMeanValue',\n",
       "       'paleoData_resolution_units', 'paleoData_variableName',\n",
       "       'paleoData_variableType', 'paleoData_proxyObservationType',\n",
       "       'paleoData_hasMinValue', 'paleoData_hasMeanValue', 'paleoData_notes',\n",
       "       'paleoData_useInGlobalTemperatureAnalysis', 'paleoData_TSid',\n",
       "       'paleoData_sensorSpecies', 'paleoData_units', 'paleoData_proxy',\n",
       "       'paleoData_values', 'paleoData_inferredVariableType',\n",
       "       'paleoData_description', 'paleoData_dataType',\n",
       "       'paleoData_interpretation', 'paleoData_inCompilation',\n",
       "       'paleoData_compilation_nest'],\n",
       "      dtype='object')"
      ]
     },
     "execution_count": 22,
     "metadata": {},
     "output_type": "execute_result"
    }
   ],
   "source": [
    "df.columns"
   ]
  },
  {
   "cell_type": "markdown",
   "id": "9442dc71",
   "metadata": {},
   "source": [
    "Let's have a look at the `paleoData_variableName` column to see what's available:"
   ]
  },
  {
   "cell_type": "code",
   "execution_count": 23,
   "id": "6fe5eed5",
   "metadata": {},
   "outputs": [
    {
     "data": {
      "text/plain": [
       "0     d18O\n",
       "1     year\n",
       "2     year\n",
       "3    Sr/Ca\n",
       "4     d18O\n",
       "Name: paleoData_variableName, dtype: object"
      ]
     },
     "execution_count": 23,
     "metadata": {},
     "output_type": "execute_result"
    }
   ],
   "source": [
    "df['paleoData_variableName']"
   ]
  },
  {
   "cell_type": "markdown",
   "id": "8228e271",
   "metadata": {},
   "source": [
    "All columns get extracted, hence why `year` is extracted as a paleo variable, with its associated values stored in `paleoData_values`. Notice that there is also two variables names `d18O`. Since this is a coral record, it stands to reason that one corresponds to the measured $\\delta^{18}O$ of the coral and the other the $\\delta^{18}O$ of the seawater. Let's have a look at the `notes` field:"
   ]
  },
  {
   "cell_type": "code",
   "execution_count": 24,
   "id": "d16917ac",
   "metadata": {},
   "outputs": [
    {
     "data": {
      "text/html": [
       "<div>\n",
       "<style scoped>\n",
       "    .dataframe tbody tr th:only-of-type {\n",
       "        vertical-align: middle;\n",
       "    }\n",
       "\n",
       "    .dataframe tbody tr th {\n",
       "        vertical-align: top;\n",
       "    }\n",
       "\n",
       "    .dataframe thead th {\n",
       "        text-align: right;\n",
       "    }\n",
       "</style>\n",
       "<table border=\"1\" class=\"dataframe\">\n",
       "  <thead>\n",
       "    <tr style=\"text-align: right;\">\n",
       "      <th></th>\n",
       "      <th>paleoData_variableName</th>\n",
       "      <th>paleoData_notes</th>\n",
       "    </tr>\n",
       "  </thead>\n",
       "  <tbody>\n",
       "    <tr>\n",
       "      <th>0</th>\n",
       "      <td>d18O</td>\n",
       "      <td>d18Osw (residuals calculated from coupled SrCa...</td>\n",
       "    </tr>\n",
       "    <tr>\n",
       "      <th>1</th>\n",
       "      <td>year</td>\n",
       "      <td>NaN</td>\n",
       "    </tr>\n",
       "    <tr>\n",
       "      <th>2</th>\n",
       "      <td>year</td>\n",
       "      <td>NaN</td>\n",
       "    </tr>\n",
       "    <tr>\n",
       "      <th>3</th>\n",
       "      <td>Sr/Ca</td>\n",
       "      <td>; paleoData_variableName changed - was origina...</td>\n",
       "    </tr>\n",
       "    <tr>\n",
       "      <th>4</th>\n",
       "      <td>d18O</td>\n",
       "      <td>Duplicate of modern d18O record presented in C...</td>\n",
       "    </tr>\n",
       "  </tbody>\n",
       "</table>\n",
       "</div>"
      ],
      "text/plain": [
       "  paleoData_variableName                                    paleoData_notes\n",
       "0                   d18O  d18Osw (residuals calculated from coupled SrCa...\n",
       "1                   year                                                NaN\n",
       "2                   year                                                NaN\n",
       "3                  Sr/Ca  ; paleoData_variableName changed - was origina...\n",
       "4                   d18O  Duplicate of modern d18O record presented in C..."
      ]
     },
     "execution_count": 24,
     "metadata": {},
     "output_type": "execute_result"
    }
   ],
   "source": [
    "df[['paleoData_variableName','paleoData_notes']]"
   ]
  },
  {
   "cell_type": "markdown",
   "id": "86733e75",
   "metadata": {},
   "source": [
    "In fact, one is for the measurement on the coral and the other for seawater. Querying on this small dataset is not necessary; however, it can become useful when looking at a collection of files as shown in the next example (working with multiple datasets). \n",
    "\n",
    "To extract by row index (here extracting for `Sr_Ca`):"
   ]
  },
  {
   "cell_type": "code",
   "execution_count": 25,
   "id": "79711bfe",
   "metadata": {},
   "outputs": [
    {
     "data": {
      "text/plain": [
       "mode                                                                  paleoData\n",
       "time_id                                                                     age\n",
       "originalDataURL               http://hurricane.ncdc.noaa.gov/pls/paleox/f?p=...\n",
       "googleSpreadSheetKey               1AIFOcqDtbZ5O4YCCnH5K-lNdzmI1UNmGnUpCJFNN-YQ\n",
       "pub1_author                   Cyril Giry;Michael N. Evans;Casey P. Saenger;J...\n",
       "                                                    ...                        \n",
       "paleoData_description                                                       NaN\n",
       "paleoData_dataType                                                          NaN\n",
       "paleoData_interpretation      [{'variableDetail': 'sea@surface', 'hasVariabl...\n",
       "paleoData_inCompilation                                          Ocean2k_v1.0.0\n",
       "paleoData_compilation_nest                                             MNE, NJA\n",
       "Name: 3, Length: 90, dtype: object"
      ]
     },
     "execution_count": 25,
     "metadata": {},
     "output_type": "execute_result"
    }
   ],
   "source": [
    "df_cut = df.iloc[3,:]\n",
    "\n",
    "df_cut"
   ]
  },
  {
   "cell_type": "code",
   "execution_count": 26,
   "id": "76224449",
   "metadata": {},
   "outputs": [
    {
     "data": {
      "text/plain": [
       "'Sr/Ca'"
      ]
     },
     "execution_count": 26,
     "metadata": {},
     "output_type": "execute_result"
    }
   ],
   "source": [
    "df_cut['paleoData_variableName']"
   ]
  },
  {
   "cell_type": "markdown",
   "id": "50937d6a",
   "metadata": {},
   "source": [
    "This can be very useful when working with the [`Pyleoclim`](https://pyleoclim-util.readthedocs.io/en/master/) software since a `Pyleoclim.Series` can be initialized from the information contained in `df_cut`. Working with `PyLiPD` and `Pyleoclim` is the subject of [several tutorials](http://linked.earth/PyleoTutorials/intro.html)."
   ]
  },
  {
   "cell_type": "markdown",
   "id": "fb5d0bbd-82c9-40ec-b82e-67a05ba91d3f",
   "metadata": {},
   "source": [
    "Working with such a large dataframe can be overwhelming and not needed in some cases. Therefore, `PyLiPD` has a nifty function called `get_timeseries_essentials` that grabs information about the dataset, its geographical location, the time/depth values, the variable information, including archive and proxy:"
   ]
  },
  {
   "cell_type": "code",
   "execution_count": 27,
   "id": "fb3f5a89-47fd-4e82-93dd-316e949866c8",
   "metadata": {},
   "outputs": [
    {
     "data": {
      "text/html": [
       "<div>\n",
       "<style scoped>\n",
       "    .dataframe tbody tr th:only-of-type {\n",
       "        vertical-align: middle;\n",
       "    }\n",
       "\n",
       "    .dataframe tbody tr th {\n",
       "        vertical-align: top;\n",
       "    }\n",
       "\n",
       "    .dataframe thead th {\n",
       "        text-align: right;\n",
       "    }\n",
       "</style>\n",
       "<table border=\"1\" class=\"dataframe\">\n",
       "  <thead>\n",
       "    <tr style=\"text-align: right;\">\n",
       "      <th></th>\n",
       "      <th>dataSetName</th>\n",
       "      <th>archiveType</th>\n",
       "      <th>geo_meanLat</th>\n",
       "      <th>geo_meanLon</th>\n",
       "      <th>geo_meanElev</th>\n",
       "      <th>paleoData_variableName</th>\n",
       "      <th>paleoData_values</th>\n",
       "      <th>paleoData_units</th>\n",
       "      <th>paleoData_proxy</th>\n",
       "      <th>paleoData_proxyGeneral</th>\n",
       "      <th>time_variableName</th>\n",
       "      <th>time_values</th>\n",
       "      <th>time_units</th>\n",
       "      <th>depth_variableName</th>\n",
       "      <th>depth_values</th>\n",
       "      <th>depth_units</th>\n",
       "    </tr>\n",
       "  </thead>\n",
       "  <tbody>\n",
       "    <tr>\n",
       "      <th>0</th>\n",
       "      <td>Ocn-Palmyra.Nurhati.2011</td>\n",
       "      <td>Coral</td>\n",
       "      <td>5.87</td>\n",
       "      <td>-162.13</td>\n",
       "      <td>-10.0</td>\n",
       "      <td>d18O</td>\n",
       "      <td>[0.39, 0.35, 0.35, 0.35, 0.36, 0.22, 0.33, 0.3...</td>\n",
       "      <td>permil</td>\n",
       "      <td>http://linked.earth/ontology/proxy#d18O</td>\n",
       "      <td>None</td>\n",
       "      <td>year</td>\n",
       "      <td>[1998.21, 1998.13, 1998.04, 1997.96, 1997.88, ...</td>\n",
       "      <td>yr AD</td>\n",
       "      <td>None</td>\n",
       "      <td>None</td>\n",
       "      <td>None</td>\n",
       "    </tr>\n",
       "    <tr>\n",
       "      <th>1</th>\n",
       "      <td>Ocn-Palmyra.Nurhati.2011</td>\n",
       "      <td>Coral</td>\n",
       "      <td>5.87</td>\n",
       "      <td>-162.13</td>\n",
       "      <td>-10.0</td>\n",
       "      <td>Sr_Ca</td>\n",
       "      <td>[8.96, 8.9, 8.91, 8.94, 8.92, 8.89, 8.87, 8.81...</td>\n",
       "      <td>mmol/mol</td>\n",
       "      <td>http://linked.earth/ontology/proxy#Sr_Ca</td>\n",
       "      <td>None</td>\n",
       "      <td>year</td>\n",
       "      <td>[1998.29, 1998.21, 1998.13, 1998.04, 1997.96, ...</td>\n",
       "      <td>yr AD</td>\n",
       "      <td>None</td>\n",
       "      <td>None</td>\n",
       "      <td>None</td>\n",
       "    </tr>\n",
       "    <tr>\n",
       "      <th>2</th>\n",
       "      <td>Ocn-Palmyra.Nurhati.2011</td>\n",
       "      <td>Coral</td>\n",
       "      <td>5.87</td>\n",
       "      <td>-162.13</td>\n",
       "      <td>-10.0</td>\n",
       "      <td>d18O</td>\n",
       "      <td>[-5.41, -5.47, -5.49, -5.43, -5.48, -5.53, -5....</td>\n",
       "      <td>permil</td>\n",
       "      <td>http://linked.earth/ontology/proxy#d18O</td>\n",
       "      <td>None</td>\n",
       "      <td>year</td>\n",
       "      <td>[1998.29, 1998.21, 1998.13, 1998.04, 1997.96, ...</td>\n",
       "      <td>yr AD</td>\n",
       "      <td>None</td>\n",
       "      <td>None</td>\n",
       "      <td>None</td>\n",
       "    </tr>\n",
       "  </tbody>\n",
       "</table>\n",
       "</div>"
      ],
      "text/plain": [
       "                dataSetName archiveType  geo_meanLat  geo_meanLon  \\\n",
       "0  Ocn-Palmyra.Nurhati.2011       Coral         5.87      -162.13   \n",
       "1  Ocn-Palmyra.Nurhati.2011       Coral         5.87      -162.13   \n",
       "2  Ocn-Palmyra.Nurhati.2011       Coral         5.87      -162.13   \n",
       "\n",
       "   geo_meanElev paleoData_variableName  \\\n",
       "0         -10.0                   d18O   \n",
       "1         -10.0                  Sr_Ca   \n",
       "2         -10.0                   d18O   \n",
       "\n",
       "                                    paleoData_values paleoData_units  \\\n",
       "0  [0.39, 0.35, 0.35, 0.35, 0.36, 0.22, 0.33, 0.3...          permil   \n",
       "1  [8.96, 8.9, 8.91, 8.94, 8.92, 8.89, 8.87, 8.81...        mmol/mol   \n",
       "2  [-5.41, -5.47, -5.49, -5.43, -5.48, -5.53, -5....          permil   \n",
       "\n",
       "                            paleoData_proxy paleoData_proxyGeneral  \\\n",
       "0   http://linked.earth/ontology/proxy#d18O                   None   \n",
       "1  http://linked.earth/ontology/proxy#Sr_Ca                   None   \n",
       "2   http://linked.earth/ontology/proxy#d18O                   None   \n",
       "\n",
       "  time_variableName                                        time_values  \\\n",
       "0              year  [1998.21, 1998.13, 1998.04, 1997.96, 1997.88, ...   \n",
       "1              year  [1998.29, 1998.21, 1998.13, 1998.04, 1997.96, ...   \n",
       "2              year  [1998.29, 1998.21, 1998.13, 1998.04, 1997.96, ...   \n",
       "\n",
       "  time_units depth_variableName depth_values depth_units  \n",
       "0      yr AD               None         None        None  \n",
       "1      yr AD               None         None        None  \n",
       "2      yr AD               None         None        None  "
      ]
     },
     "execution_count": 27,
     "metadata": {},
     "output_type": "execute_result"
    }
   ],
   "source": [
    "df_essential = D.get_timeseries_essentials()\n",
    "\n",
    "df_essential"
   ]
  },
  {
   "cell_type": "markdown",
   "id": "596acaa3-0389-4271-9812-b1375b6f3dbd",
   "metadata": {},
   "source": [
    "The metadata (i.e., the column names) available through this function will always remain the same and are as follows:"
   ]
  },
  {
   "cell_type": "code",
   "execution_count": 28,
   "id": "ae018c88-3f44-4566-9f5c-ee429df38706",
   "metadata": {},
   "outputs": [
    {
     "data": {
      "text/plain": [
       "Index(['dataSetName', 'archiveType', 'geo_meanLat', 'geo_meanLon',\n",
       "       'geo_meanElev', 'paleoData_variableName', 'paleoData_values',\n",
       "       'paleoData_units', 'paleoData_proxy', 'paleoData_proxyGeneral',\n",
       "       'time_variableName', 'time_values', 'time_units', 'depth_variableName',\n",
       "       'depth_values', 'depth_units'],\n",
       "      dtype='object')"
      ]
     },
     "execution_count": 28,
     "metadata": {},
     "output_type": "execute_result"
    }
   ],
   "source": [
    "df_essential.columns"
   ]
  },
  {
   "cell_type": "markdown",
   "id": "1d4d0022",
   "metadata": {},
   "source": [
    "#### Working with multiple datasets"
   ]
  },
  {
   "cell_type": "code",
   "execution_count": 29,
   "id": "5bb89337",
   "metadata": {},
   "outputs": [
    {
     "name": "stdout",
     "output_type": "stream",
     "text": [
      "Loading 16 LiPD files\n"
     ]
    },
    {
     "name": "stderr",
     "output_type": "stream",
     "text": [
      "100%|██████████████████████████████████████████| 16/16 [00:00<00:00, 111.64it/s]"
     ]
    },
    {
     "name": "stdout",
     "output_type": "stream",
     "text": [
      "Loaded..\n"
     ]
    },
    {
     "name": "stderr",
     "output_type": "stream",
     "text": [
      "\n"
     ]
    }
   ],
   "source": [
    "path = '../data/Pages2k/'\n",
    "\n",
    "D_dir = LiPD()\n",
    "D_dir.load_from_dir(path)"
   ]
  },
  {
   "cell_type": "markdown",
   "id": "b23be8cd",
   "metadata": {},
   "source": [
    "Let's expand into our essential dataframe:"
   ]
  },
  {
   "cell_type": "code",
   "execution_count": 30,
   "id": "4ac3c735",
   "metadata": {},
   "outputs": [],
   "source": [
    "df_dir = D_dir.get_timeseries_essentials()"
   ]
  },
  {
   "cell_type": "markdown",
   "id": "2b25e22a",
   "metadata": {},
   "source": [
    "Let's have a look at the dataframe:"
   ]
  },
  {
   "cell_type": "code",
   "execution_count": 31,
   "id": "977fab82",
   "metadata": {},
   "outputs": [
    {
     "data": {
      "text/html": [
       "<div>\n",
       "<style scoped>\n",
       "    .dataframe tbody tr th:only-of-type {\n",
       "        vertical-align: middle;\n",
       "    }\n",
       "\n",
       "    .dataframe tbody tr th {\n",
       "        vertical-align: top;\n",
       "    }\n",
       "\n",
       "    .dataframe thead th {\n",
       "        text-align: right;\n",
       "    }\n",
       "</style>\n",
       "<table border=\"1\" class=\"dataframe\">\n",
       "  <thead>\n",
       "    <tr style=\"text-align: right;\">\n",
       "      <th></th>\n",
       "      <th>dataSetName</th>\n",
       "      <th>archiveType</th>\n",
       "      <th>geo_meanLat</th>\n",
       "      <th>geo_meanLon</th>\n",
       "      <th>geo_meanElev</th>\n",
       "      <th>paleoData_variableName</th>\n",
       "      <th>paleoData_values</th>\n",
       "      <th>paleoData_units</th>\n",
       "      <th>paleoData_proxy</th>\n",
       "      <th>paleoData_proxyGeneral</th>\n",
       "      <th>time_variableName</th>\n",
       "      <th>time_values</th>\n",
       "      <th>time_units</th>\n",
       "      <th>depth_variableName</th>\n",
       "      <th>depth_values</th>\n",
       "      <th>depth_units</th>\n",
       "    </tr>\n",
       "  </thead>\n",
       "  <tbody>\n",
       "    <tr>\n",
       "      <th>0</th>\n",
       "      <td>Ocn-RedSea.Felis.2000</td>\n",
       "      <td>Coral</td>\n",
       "      <td>27.8500</td>\n",
       "      <td>34.3200</td>\n",
       "      <td>-6.0</td>\n",
       "      <td>d18O</td>\n",
       "      <td>[-4.12, -3.82, -3.05, -3.02, -3.62, -3.96, -3....</td>\n",
       "      <td>permil</td>\n",
       "      <td>http://linked.earth/ontology/proxy#d18O</td>\n",
       "      <td>None</td>\n",
       "      <td>year</td>\n",
       "      <td>[1995.583, 1995.417, 1995.25, 1995.083, 1994.9...</td>\n",
       "      <td>yr AD</td>\n",
       "      <td>None</td>\n",
       "      <td>None</td>\n",
       "      <td>None</td>\n",
       "    </tr>\n",
       "    <tr>\n",
       "      <th>1</th>\n",
       "      <td>Ant-WAIS-Divide.Severinghaus.2012</td>\n",
       "      <td>Borehole</td>\n",
       "      <td>-79.4630</td>\n",
       "      <td>-112.1250</td>\n",
       "      <td>1766.0</td>\n",
       "      <td>uncertainty_temperature</td>\n",
       "      <td>[1.327, 1.328, 1.328, 1.329, 1.33, 1.33, 1.331...</td>\n",
       "      <td>degC</td>\n",
       "      <td>None</td>\n",
       "      <td>None</td>\n",
       "      <td>year</td>\n",
       "      <td>[8, 9, 10, 11, 12, 13, 14, 15, 16, 17, 18, 19,...</td>\n",
       "      <td>yr AD</td>\n",
       "      <td>None</td>\n",
       "      <td>None</td>\n",
       "      <td>None</td>\n",
       "    </tr>\n",
       "    <tr>\n",
       "      <th>2</th>\n",
       "      <td>Ant-WAIS-Divide.Severinghaus.2012</td>\n",
       "      <td>Borehole</td>\n",
       "      <td>-79.4630</td>\n",
       "      <td>-112.1250</td>\n",
       "      <td>1766.0</td>\n",
       "      <td>temperature</td>\n",
       "      <td>[-29.607, -29.607, -29.606, -29.606, -29.605, ...</td>\n",
       "      <td>degC</td>\n",
       "      <td>http://linked.earth/ontology/proxy#borehole</td>\n",
       "      <td>None</td>\n",
       "      <td>year</td>\n",
       "      <td>[8, 9, 10, 11, 12, 13, 14, 15, 16, 17, 18, 19,...</td>\n",
       "      <td>yr AD</td>\n",
       "      <td>None</td>\n",
       "      <td>None</td>\n",
       "      <td>None</td>\n",
       "    </tr>\n",
       "    <tr>\n",
       "      <th>3</th>\n",
       "      <td>Asi-SourthAndMiddleUrals.Demezhko.2007</td>\n",
       "      <td>Borehole</td>\n",
       "      <td>55.0000</td>\n",
       "      <td>59.5000</td>\n",
       "      <td>1900.0</td>\n",
       "      <td>temperature</td>\n",
       "      <td>[0.166, 0.264, 0.354, 0.447, 0.538, 0.62, 0.68...</td>\n",
       "      <td>degC</td>\n",
       "      <td>http://linked.earth/ontology/proxy#borehole</td>\n",
       "      <td>None</td>\n",
       "      <td>year</td>\n",
       "      <td>[800, 850, 900, 950, 1000, 1050, 1100, 1150, 1...</td>\n",
       "      <td>yr AD</td>\n",
       "      <td>None</td>\n",
       "      <td>None</td>\n",
       "      <td>None</td>\n",
       "    </tr>\n",
       "    <tr>\n",
       "      <th>4</th>\n",
       "      <td>Ocn-AlboranSea436B.Nieto-Moreno.2013</td>\n",
       "      <td>Marine sediment</td>\n",
       "      <td>36.2053</td>\n",
       "      <td>-4.3133</td>\n",
       "      <td>-1108.0</td>\n",
       "      <td>temperature</td>\n",
       "      <td>[18.79, 19.38, 19.61, 18.88, 18.74, 19.25, 18....</td>\n",
       "      <td>degC</td>\n",
       "      <td>http://linked.earth/ontology/proxy#alkenone</td>\n",
       "      <td>None</td>\n",
       "      <td>year</td>\n",
       "      <td>[1999.07, 1993.12, 1987.17, 1975.26, 1963.36, ...</td>\n",
       "      <td>yr AD</td>\n",
       "      <td>None</td>\n",
       "      <td>None</td>\n",
       "      <td>None</td>\n",
       "    </tr>\n",
       "  </tbody>\n",
       "</table>\n",
       "</div>"
      ],
      "text/plain": [
       "                              dataSetName      archiveType  geo_meanLat  \\\n",
       "0                   Ocn-RedSea.Felis.2000            Coral      27.8500   \n",
       "1       Ant-WAIS-Divide.Severinghaus.2012         Borehole     -79.4630   \n",
       "2       Ant-WAIS-Divide.Severinghaus.2012         Borehole     -79.4630   \n",
       "3  Asi-SourthAndMiddleUrals.Demezhko.2007         Borehole      55.0000   \n",
       "4    Ocn-AlboranSea436B.Nieto-Moreno.2013  Marine sediment      36.2053   \n",
       "\n",
       "   geo_meanLon  geo_meanElev   paleoData_variableName  \\\n",
       "0      34.3200          -6.0                     d18O   \n",
       "1    -112.1250        1766.0  uncertainty_temperature   \n",
       "2    -112.1250        1766.0              temperature   \n",
       "3      59.5000        1900.0              temperature   \n",
       "4      -4.3133       -1108.0              temperature   \n",
       "\n",
       "                                    paleoData_values paleoData_units  \\\n",
       "0  [-4.12, -3.82, -3.05, -3.02, -3.62, -3.96, -3....          permil   \n",
       "1  [1.327, 1.328, 1.328, 1.329, 1.33, 1.33, 1.331...            degC   \n",
       "2  [-29.607, -29.607, -29.606, -29.606, -29.605, ...            degC   \n",
       "3  [0.166, 0.264, 0.354, 0.447, 0.538, 0.62, 0.68...            degC   \n",
       "4  [18.79, 19.38, 19.61, 18.88, 18.74, 19.25, 18....            degC   \n",
       "\n",
       "                               paleoData_proxy paleoData_proxyGeneral  \\\n",
       "0      http://linked.earth/ontology/proxy#d18O                   None   \n",
       "1                                         None                   None   \n",
       "2  http://linked.earth/ontology/proxy#borehole                   None   \n",
       "3  http://linked.earth/ontology/proxy#borehole                   None   \n",
       "4  http://linked.earth/ontology/proxy#alkenone                   None   \n",
       "\n",
       "  time_variableName                                        time_values  \\\n",
       "0              year  [1995.583, 1995.417, 1995.25, 1995.083, 1994.9...   \n",
       "1              year  [8, 9, 10, 11, 12, 13, 14, 15, 16, 17, 18, 19,...   \n",
       "2              year  [8, 9, 10, 11, 12, 13, 14, 15, 16, 17, 18, 19,...   \n",
       "3              year  [800, 850, 900, 950, 1000, 1050, 1100, 1150, 1...   \n",
       "4              year  [1999.07, 1993.12, 1987.17, 1975.26, 1963.36, ...   \n",
       "\n",
       "  time_units depth_variableName depth_values depth_units  \n",
       "0      yr AD               None         None        None  \n",
       "1      yr AD               None         None        None  \n",
       "2      yr AD               None         None        None  \n",
       "3      yr AD               None         None        None  \n",
       "4      yr AD               None         None        None  "
      ]
     },
     "execution_count": 31,
     "metadata": {},
     "output_type": "execute_result"
    }
   ],
   "source": [
    "df_dir.head()"
   ]
  },
  {
   "cell_type": "markdown",
   "id": "512eef39",
   "metadata": {},
   "source": [
    "The size of this dataframe is:"
   ]
  },
  {
   "cell_type": "code",
   "execution_count": 32,
   "id": "b9e4de5e",
   "metadata": {},
   "outputs": [
    {
     "data": {
      "text/plain": [
       "(25, 16)"
      ]
     },
     "execution_count": 32,
     "metadata": {},
     "output_type": "execute_result"
    }
   ],
   "source": [
    "df_dir.shape"
   ]
  },
  {
   "cell_type": "markdown",
   "id": "5f76bf9c",
   "metadata": {},
   "source": [
    "So we expanded into 25 timeseries."
   ]
  },
  {
   "cell_type": "markdown",
   "id": "2f676867",
   "metadata": {},
   "source": [
    "Let's have a look at the available variables:"
   ]
  },
  {
   "cell_type": "code",
   "execution_count": 33,
   "id": "6dcb5204",
   "metadata": {},
   "outputs": [
    {
     "data": {
      "text/plain": [
       "array(['d18O', 'uncertainty_temperature', 'temperature', 'Mg_Ca', 'notes',\n",
       "       'Uk37', 'trsgi', 'MXD'], dtype=object)"
      ]
     },
     "execution_count": 33,
     "metadata": {},
     "output_type": "execute_result"
    }
   ],
   "source": [
    "df_dir['paleoData_variableName'].unique()"
   ]
  },
  {
   "cell_type": "markdown",
   "id": "e81bd3c2",
   "metadata": {},
   "source": [
    "Let's assume we are only interested in the temperature data:"
   ]
  },
  {
   "cell_type": "code",
   "execution_count": 34,
   "id": "09972956",
   "metadata": {},
   "outputs": [
    {
     "data": {
      "text/html": [
       "<div>\n",
       "<style scoped>\n",
       "    .dataframe tbody tr th:only-of-type {\n",
       "        vertical-align: middle;\n",
       "    }\n",
       "\n",
       "    .dataframe tbody tr th {\n",
       "        vertical-align: top;\n",
       "    }\n",
       "\n",
       "    .dataframe thead th {\n",
       "        text-align: right;\n",
       "    }\n",
       "</style>\n",
       "<table border=\"1\" class=\"dataframe\">\n",
       "  <thead>\n",
       "    <tr style=\"text-align: right;\">\n",
       "      <th></th>\n",
       "      <th>dataSetName</th>\n",
       "      <th>archiveType</th>\n",
       "      <th>geo_meanLat</th>\n",
       "      <th>geo_meanLon</th>\n",
       "      <th>geo_meanElev</th>\n",
       "      <th>paleoData_variableName</th>\n",
       "      <th>paleoData_values</th>\n",
       "      <th>paleoData_units</th>\n",
       "      <th>paleoData_proxy</th>\n",
       "      <th>paleoData_proxyGeneral</th>\n",
       "      <th>time_variableName</th>\n",
       "      <th>time_values</th>\n",
       "      <th>time_units</th>\n",
       "      <th>depth_variableName</th>\n",
       "      <th>depth_values</th>\n",
       "      <th>depth_units</th>\n",
       "    </tr>\n",
       "  </thead>\n",
       "  <tbody>\n",
       "    <tr>\n",
       "      <th>2</th>\n",
       "      <td>Ant-WAIS-Divide.Severinghaus.2012</td>\n",
       "      <td>Borehole</td>\n",
       "      <td>-79.4630</td>\n",
       "      <td>-112.1250</td>\n",
       "      <td>1766.0</td>\n",
       "      <td>temperature</td>\n",
       "      <td>[-29.607, -29.607, -29.606, -29.606, -29.605, ...</td>\n",
       "      <td>degC</td>\n",
       "      <td>http://linked.earth/ontology/proxy#borehole</td>\n",
       "      <td>None</td>\n",
       "      <td>year</td>\n",
       "      <td>[8, 9, 10, 11, 12, 13, 14, 15, 16, 17, 18, 19,...</td>\n",
       "      <td>yr AD</td>\n",
       "      <td>None</td>\n",
       "      <td>None</td>\n",
       "      <td>None</td>\n",
       "    </tr>\n",
       "    <tr>\n",
       "      <th>3</th>\n",
       "      <td>Asi-SourthAndMiddleUrals.Demezhko.2007</td>\n",
       "      <td>Borehole</td>\n",
       "      <td>55.0000</td>\n",
       "      <td>59.5000</td>\n",
       "      <td>1900.0</td>\n",
       "      <td>temperature</td>\n",
       "      <td>[0.166, 0.264, 0.354, 0.447, 0.538, 0.62, 0.68...</td>\n",
       "      <td>degC</td>\n",
       "      <td>http://linked.earth/ontology/proxy#borehole</td>\n",
       "      <td>None</td>\n",
       "      <td>year</td>\n",
       "      <td>[800, 850, 900, 950, 1000, 1050, 1100, 1150, 1...</td>\n",
       "      <td>yr AD</td>\n",
       "      <td>None</td>\n",
       "      <td>None</td>\n",
       "      <td>None</td>\n",
       "    </tr>\n",
       "    <tr>\n",
       "      <th>4</th>\n",
       "      <td>Ocn-AlboranSea436B.Nieto-Moreno.2013</td>\n",
       "      <td>Marine sediment</td>\n",
       "      <td>36.2053</td>\n",
       "      <td>-4.3133</td>\n",
       "      <td>-1108.0</td>\n",
       "      <td>temperature</td>\n",
       "      <td>[18.79, 19.38, 19.61, 18.88, 18.74, 19.25, 18....</td>\n",
       "      <td>degC</td>\n",
       "      <td>http://linked.earth/ontology/proxy#alkenone</td>\n",
       "      <td>None</td>\n",
       "      <td>year</td>\n",
       "      <td>[1999.07, 1993.12, 1987.17, 1975.26, 1963.36, ...</td>\n",
       "      <td>yr AD</td>\n",
       "      <td>None</td>\n",
       "      <td>None</td>\n",
       "      <td>None</td>\n",
       "    </tr>\n",
       "    <tr>\n",
       "      <th>6</th>\n",
       "      <td>Ocn-FeniDrift.Richter.2009</td>\n",
       "      <td>Marine sediment</td>\n",
       "      <td>55.5000</td>\n",
       "      <td>-13.9000</td>\n",
       "      <td>-2543.0</td>\n",
       "      <td>temperature</td>\n",
       "      <td>[12.94, 10.99, 10.53, 10.44, 11.39, 13.38, 10....</td>\n",
       "      <td>degC</td>\n",
       "      <td>None</td>\n",
       "      <td>None</td>\n",
       "      <td>year</td>\n",
       "      <td>[1998, 1987, 1975, 1962, 1949, 1936, 1924, 191...</td>\n",
       "      <td>yr AD</td>\n",
       "      <td>depth_top</td>\n",
       "      <td>[0.5, 1.5, 2.5, 3.5, 4.5, 5.5, 6.5, 7.5, 8.5, ...</td>\n",
       "      <td>cm</td>\n",
       "    </tr>\n",
       "    <tr>\n",
       "      <th>7</th>\n",
       "      <td>Ocn-FeniDrift.Richter.2009</td>\n",
       "      <td>Marine sediment</td>\n",
       "      <td>55.5000</td>\n",
       "      <td>-13.9000</td>\n",
       "      <td>-2543.0</td>\n",
       "      <td>temperature</td>\n",
       "      <td>[12.94, 10.99, 10.53, 10.44, 11.39, 13.38, 10....</td>\n",
       "      <td>degC</td>\n",
       "      <td>None</td>\n",
       "      <td>None</td>\n",
       "      <td>year</td>\n",
       "      <td>[1998, 1987, 1975, 1962, 1949, 1936, 1924, 191...</td>\n",
       "      <td>yr AD</td>\n",
       "      <td>depth_bottom</td>\n",
       "      <td>[0.5, 1.5, 2.5, 3.5, 4.5, 5.5, 6.5, 7.5, 8.5, ...</td>\n",
       "      <td>cm</td>\n",
       "    </tr>\n",
       "  </tbody>\n",
       "</table>\n",
       "</div>"
      ],
      "text/plain": [
       "                              dataSetName      archiveType  geo_meanLat  \\\n",
       "2       Ant-WAIS-Divide.Severinghaus.2012         Borehole     -79.4630   \n",
       "3  Asi-SourthAndMiddleUrals.Demezhko.2007         Borehole      55.0000   \n",
       "4    Ocn-AlboranSea436B.Nieto-Moreno.2013  Marine sediment      36.2053   \n",
       "6              Ocn-FeniDrift.Richter.2009  Marine sediment      55.5000   \n",
       "7              Ocn-FeniDrift.Richter.2009  Marine sediment      55.5000   \n",
       "\n",
       "   geo_meanLon  geo_meanElev paleoData_variableName  \\\n",
       "2    -112.1250        1766.0            temperature   \n",
       "3      59.5000        1900.0            temperature   \n",
       "4      -4.3133       -1108.0            temperature   \n",
       "6     -13.9000       -2543.0            temperature   \n",
       "7     -13.9000       -2543.0            temperature   \n",
       "\n",
       "                                    paleoData_values paleoData_units  \\\n",
       "2  [-29.607, -29.607, -29.606, -29.606, -29.605, ...            degC   \n",
       "3  [0.166, 0.264, 0.354, 0.447, 0.538, 0.62, 0.68...            degC   \n",
       "4  [18.79, 19.38, 19.61, 18.88, 18.74, 19.25, 18....            degC   \n",
       "6  [12.94, 10.99, 10.53, 10.44, 11.39, 13.38, 10....            degC   \n",
       "7  [12.94, 10.99, 10.53, 10.44, 11.39, 13.38, 10....            degC   \n",
       "\n",
       "                               paleoData_proxy paleoData_proxyGeneral  \\\n",
       "2  http://linked.earth/ontology/proxy#borehole                   None   \n",
       "3  http://linked.earth/ontology/proxy#borehole                   None   \n",
       "4  http://linked.earth/ontology/proxy#alkenone                   None   \n",
       "6                                         None                   None   \n",
       "7                                         None                   None   \n",
       "\n",
       "  time_variableName                                        time_values  \\\n",
       "2              year  [8, 9, 10, 11, 12, 13, 14, 15, 16, 17, 18, 19,...   \n",
       "3              year  [800, 850, 900, 950, 1000, 1050, 1100, 1150, 1...   \n",
       "4              year  [1999.07, 1993.12, 1987.17, 1975.26, 1963.36, ...   \n",
       "6              year  [1998, 1987, 1975, 1962, 1949, 1936, 1924, 191...   \n",
       "7              year  [1998, 1987, 1975, 1962, 1949, 1936, 1924, 191...   \n",
       "\n",
       "  time_units depth_variableName  \\\n",
       "2      yr AD               None   \n",
       "3      yr AD               None   \n",
       "4      yr AD               None   \n",
       "6      yr AD          depth_top   \n",
       "7      yr AD       depth_bottom   \n",
       "\n",
       "                                        depth_values depth_units  \n",
       "2                                               None        None  \n",
       "3                                               None        None  \n",
       "4                                               None        None  \n",
       "6  [0.5, 1.5, 2.5, 3.5, 4.5, 5.5, 6.5, 7.5, 8.5, ...          cm  \n",
       "7  [0.5, 1.5, 2.5, 3.5, 4.5, 5.5, 6.5, 7.5, 8.5, ...          cm  "
      ]
     },
     "execution_count": 34,
     "metadata": {},
     "output_type": "execute_result"
    }
   ],
   "source": [
    "df_temp = df_dir[df_dir['paleoData_variableName']=='temperature']\n",
    "df_temp.head()"
   ]
  },
  {
   "cell_type": "code",
   "execution_count": 35,
   "id": "ca756434",
   "metadata": {},
   "outputs": [
    {
     "data": {
      "text/plain": [
       "(11, 16)"
      ]
     },
     "execution_count": 35,
     "metadata": {},
     "output_type": "execute_result"
    }
   ],
   "source": [
    "df_temp.shape"
   ]
  },
  {
   "cell_type": "markdown",
   "id": "ec3eb41f",
   "metadata": {},
   "source": [
    "which leaves us with 11 timeseries."
   ]
  },
  {
   "cell_type": "markdown",
   "id": "d8262f22-a75f-4b94-b87a-7a267435e349",
   "metadata": {},
   "source": [
    "Let's assume that you want everything that is not related to time, depth, and uncertainty. To keep the rows that are relevant to our problem, you can use the [`DataFrame.query`](https://pandas.pydata.org/docs/reference/api/pandas.DataFrame.query.html) function available in Pandas: "
   ]
  },
  {
   "cell_type": "code",
   "execution_count": 36,
   "id": "6043409f-1251-43fa-91d4-b5173af98cf8",
   "metadata": {},
   "outputs": [
    {
     "data": {
      "text/html": [
       "<div>\n",
       "<style scoped>\n",
       "    .dataframe tbody tr th:only-of-type {\n",
       "        vertical-align: middle;\n",
       "    }\n",
       "\n",
       "    .dataframe tbody tr th {\n",
       "        vertical-align: top;\n",
       "    }\n",
       "\n",
       "    .dataframe thead th {\n",
       "        text-align: right;\n",
       "    }\n",
       "</style>\n",
       "<table border=\"1\" class=\"dataframe\">\n",
       "  <thead>\n",
       "    <tr style=\"text-align: right;\">\n",
       "      <th></th>\n",
       "      <th>dataSetName</th>\n",
       "      <th>archiveType</th>\n",
       "      <th>geo_meanLat</th>\n",
       "      <th>geo_meanLon</th>\n",
       "      <th>geo_meanElev</th>\n",
       "      <th>paleoData_variableName</th>\n",
       "      <th>paleoData_values</th>\n",
       "      <th>paleoData_units</th>\n",
       "      <th>paleoData_proxy</th>\n",
       "      <th>paleoData_proxyGeneral</th>\n",
       "      <th>time_variableName</th>\n",
       "      <th>time_values</th>\n",
       "      <th>time_units</th>\n",
       "      <th>depth_variableName</th>\n",
       "      <th>depth_values</th>\n",
       "      <th>depth_units</th>\n",
       "    </tr>\n",
       "  </thead>\n",
       "  <tbody>\n",
       "    <tr>\n",
       "      <th>0</th>\n",
       "      <td>Ocn-RedSea.Felis.2000</td>\n",
       "      <td>Coral</td>\n",
       "      <td>27.8500</td>\n",
       "      <td>34.3200</td>\n",
       "      <td>-6.0</td>\n",
       "      <td>d18O</td>\n",
       "      <td>[-4.12, -3.82, -3.05, -3.02, -3.62, -3.96, -3....</td>\n",
       "      <td>permil</td>\n",
       "      <td>http://linked.earth/ontology/proxy#d18O</td>\n",
       "      <td>None</td>\n",
       "      <td>year</td>\n",
       "      <td>[1995.583, 1995.417, 1995.25, 1995.083, 1994.9...</td>\n",
       "      <td>yr AD</td>\n",
       "      <td>None</td>\n",
       "      <td>None</td>\n",
       "      <td>None</td>\n",
       "    </tr>\n",
       "    <tr>\n",
       "      <th>2</th>\n",
       "      <td>Ant-WAIS-Divide.Severinghaus.2012</td>\n",
       "      <td>Borehole</td>\n",
       "      <td>-79.4630</td>\n",
       "      <td>-112.1250</td>\n",
       "      <td>1766.0</td>\n",
       "      <td>temperature</td>\n",
       "      <td>[-29.607, -29.607, -29.606, -29.606, -29.605, ...</td>\n",
       "      <td>degC</td>\n",
       "      <td>http://linked.earth/ontology/proxy#borehole</td>\n",
       "      <td>None</td>\n",
       "      <td>year</td>\n",
       "      <td>[8, 9, 10, 11, 12, 13, 14, 15, 16, 17, 18, 19,...</td>\n",
       "      <td>yr AD</td>\n",
       "      <td>None</td>\n",
       "      <td>None</td>\n",
       "      <td>None</td>\n",
       "    </tr>\n",
       "    <tr>\n",
       "      <th>3</th>\n",
       "      <td>Asi-SourthAndMiddleUrals.Demezhko.2007</td>\n",
       "      <td>Borehole</td>\n",
       "      <td>55.0000</td>\n",
       "      <td>59.5000</td>\n",
       "      <td>1900.0</td>\n",
       "      <td>temperature</td>\n",
       "      <td>[0.166, 0.264, 0.354, 0.447, 0.538, 0.62, 0.68...</td>\n",
       "      <td>degC</td>\n",
       "      <td>http://linked.earth/ontology/proxy#borehole</td>\n",
       "      <td>None</td>\n",
       "      <td>year</td>\n",
       "      <td>[800, 850, 900, 950, 1000, 1050, 1100, 1150, 1...</td>\n",
       "      <td>yr AD</td>\n",
       "      <td>None</td>\n",
       "      <td>None</td>\n",
       "      <td>None</td>\n",
       "    </tr>\n",
       "    <tr>\n",
       "      <th>4</th>\n",
       "      <td>Ocn-AlboranSea436B.Nieto-Moreno.2013</td>\n",
       "      <td>Marine sediment</td>\n",
       "      <td>36.2053</td>\n",
       "      <td>-4.3133</td>\n",
       "      <td>-1108.0</td>\n",
       "      <td>temperature</td>\n",
       "      <td>[18.79, 19.38, 19.61, 18.88, 18.74, 19.25, 18....</td>\n",
       "      <td>degC</td>\n",
       "      <td>http://linked.earth/ontology/proxy#alkenone</td>\n",
       "      <td>None</td>\n",
       "      <td>year</td>\n",
       "      <td>[1999.07, 1993.12, 1987.17, 1975.26, 1963.36, ...</td>\n",
       "      <td>yr AD</td>\n",
       "      <td>None</td>\n",
       "      <td>None</td>\n",
       "      <td>None</td>\n",
       "    </tr>\n",
       "    <tr>\n",
       "      <th>5</th>\n",
       "      <td>Eur-SpannagelCave.Mangini.2005</td>\n",
       "      <td>Speleothem</td>\n",
       "      <td>47.1000</td>\n",
       "      <td>11.6000</td>\n",
       "      <td>2347.0</td>\n",
       "      <td>d18O</td>\n",
       "      <td>[-7.49, -7.41, -7.36, -7.15, -7.28, -6.99, -6....</td>\n",
       "      <td>permil</td>\n",
       "      <td>http://linked.earth/ontology/proxy#d18O</td>\n",
       "      <td>None</td>\n",
       "      <td>year</td>\n",
       "      <td>[1935.0, 1932.0, 1930.0, 1929.0, 1929.0, 1928....</td>\n",
       "      <td>yr AD</td>\n",
       "      <td>None</td>\n",
       "      <td>None</td>\n",
       "      <td>None</td>\n",
       "    </tr>\n",
       "  </tbody>\n",
       "</table>\n",
       "</div>"
      ],
      "text/plain": [
       "                              dataSetName      archiveType  geo_meanLat  \\\n",
       "0                   Ocn-RedSea.Felis.2000            Coral      27.8500   \n",
       "2       Ant-WAIS-Divide.Severinghaus.2012         Borehole     -79.4630   \n",
       "3  Asi-SourthAndMiddleUrals.Demezhko.2007         Borehole      55.0000   \n",
       "4    Ocn-AlboranSea436B.Nieto-Moreno.2013  Marine sediment      36.2053   \n",
       "5          Eur-SpannagelCave.Mangini.2005       Speleothem      47.1000   \n",
       "\n",
       "   geo_meanLon  geo_meanElev paleoData_variableName  \\\n",
       "0      34.3200          -6.0                   d18O   \n",
       "2    -112.1250        1766.0            temperature   \n",
       "3      59.5000        1900.0            temperature   \n",
       "4      -4.3133       -1108.0            temperature   \n",
       "5      11.6000        2347.0                   d18O   \n",
       "\n",
       "                                    paleoData_values paleoData_units  \\\n",
       "0  [-4.12, -3.82, -3.05, -3.02, -3.62, -3.96, -3....          permil   \n",
       "2  [-29.607, -29.607, -29.606, -29.606, -29.605, ...            degC   \n",
       "3  [0.166, 0.264, 0.354, 0.447, 0.538, 0.62, 0.68...            degC   \n",
       "4  [18.79, 19.38, 19.61, 18.88, 18.74, 19.25, 18....            degC   \n",
       "5  [-7.49, -7.41, -7.36, -7.15, -7.28, -6.99, -6....          permil   \n",
       "\n",
       "                               paleoData_proxy paleoData_proxyGeneral  \\\n",
       "0      http://linked.earth/ontology/proxy#d18O                   None   \n",
       "2  http://linked.earth/ontology/proxy#borehole                   None   \n",
       "3  http://linked.earth/ontology/proxy#borehole                   None   \n",
       "4  http://linked.earth/ontology/proxy#alkenone                   None   \n",
       "5      http://linked.earth/ontology/proxy#d18O                   None   \n",
       "\n",
       "  time_variableName                                        time_values  \\\n",
       "0              year  [1995.583, 1995.417, 1995.25, 1995.083, 1994.9...   \n",
       "2              year  [8, 9, 10, 11, 12, 13, 14, 15, 16, 17, 18, 19,...   \n",
       "3              year  [800, 850, 900, 950, 1000, 1050, 1100, 1150, 1...   \n",
       "4              year  [1999.07, 1993.12, 1987.17, 1975.26, 1963.36, ...   \n",
       "5              year  [1935.0, 1932.0, 1930.0, 1929.0, 1929.0, 1928....   \n",
       "\n",
       "  time_units depth_variableName depth_values depth_units  \n",
       "0      yr AD               None         None        None  \n",
       "2      yr AD               None         None        None  \n",
       "3      yr AD               None         None        None  \n",
       "4      yr AD               None         None        None  \n",
       "5      yr AD               None         None        None  "
      ]
     },
     "execution_count": 36,
     "metadata": {},
     "output_type": "execute_result"
    }
   ],
   "source": [
    "df_filt = df_dir.query(\"paleoData_variableName in ('temperature','MXD','Mg_Ca','d18O','trsgi', 'Uk37')\")\n",
    "df_filt.head()"
   ]
  },
  {
   "cell_type": "code",
   "execution_count": 37,
   "id": "3b360d38-aae7-4bdb-ae80-9da9bd6e7b17",
   "metadata": {},
   "outputs": [
    {
     "data": {
      "text/plain": [
       "(22, 16)"
      ]
     },
     "execution_count": 37,
     "metadata": {},
     "output_type": "execute_result"
    }
   ],
   "source": [
    "df_filt.shape"
   ]
  },
  {
   "cell_type": "markdown",
   "id": "98fc3134-3f09-4c59-b826-f0cafb3d2798",
   "metadata": {},
   "source": [
    "Which leaves us with 22 timeseries."
   ]
  },
  {
   "cell_type": "markdown",
   "id": "f98403a1",
   "metadata": {},
   "source": [
    "### Removing and popping datasets out of a LiPD object\n",
    "\n",
    "You can also remove (i.e., delete the corresponding dataset from the `LiPD` object) or pop (i.e., delete the corresponding dataset from the `LiPD` object **and** return the dataset) datasets from a `LiPD` object. Note that these functionalities behave similarly as the functions with the same names on Python lists. These functions underpin more adavanced filtering and querying capabilities that we will discuss in later tutorials. \n",
    "\n",
    "First let's make a [copy](https://pylipd.readthedocs.io/en/latest/source/pylipd.html#pylipd.lipd.LiPD.copy) of `D_dir`:"
   ]
  },
  {
   "cell_type": "code",
   "execution_count": 38,
   "id": "f28b1ccd",
   "metadata": {},
   "outputs": [
    {
     "name": "stdout",
     "output_type": "stream",
     "text": [
      "['Ocn-RedSea.Felis.2000', 'Ant-WAIS-Divide.Severinghaus.2012', 'Asi-SourthAndMiddleUrals.Demezhko.2007', 'Ocn-AlboranSea436B.Nieto-Moreno.2013', 'Eur-SpannagelCave.Mangini.2005', 'Ocn-FeniDrift.Richter.2009', 'Eur-LakeSilvaplana.Trachsel.2010', 'Ocn-PedradeLume-CapeVerdeIslands.Moses.2006', 'Ocn-SinaiPeninsula_RedSea.Moustafa.2000', 'Eur-NorthernSpain.Martin-Chivelet.2011', 'Arc-Kongressvatnet.D_Andrea.2012', 'Eur-CoastofPortugal.Abrantes.2011', 'Eur-SpanishPyrenees.Dorado-Linan.2012', 'Eur-FinnishLakelands.Helama.2014', 'Eur-NorthernScandinavia.Esper.2012', 'Eur-Stockholm.Leijonhufvud.2009']\n"
     ]
    }
   ],
   "source": [
    "D_test = D_dir.copy()\n",
    "print(D_test.get_all_dataset_names())"
   ]
  },
  {
   "cell_type": "markdown",
   "id": "58f2b1af",
   "metadata": {},
   "source": [
    "And let's [remove](https://pylipd.readthedocs.io/en/latest/source/pylipd.html#pylipd.lipd.LiPD.remove) `Eur-Stockholm.Leijonhufvud.2009`, which corresponds to the last entry in the list above:"
   ]
  },
  {
   "cell_type": "code",
   "execution_count": 39,
   "id": "5b1effa3",
   "metadata": {},
   "outputs": [
    {
     "name": "stdout",
     "output_type": "stream",
     "text": [
      "['Ocn-RedSea.Felis.2000', 'Ant-WAIS-Divide.Severinghaus.2012', 'Asi-SourthAndMiddleUrals.Demezhko.2007', 'Ocn-AlboranSea436B.Nieto-Moreno.2013', 'Eur-SpannagelCave.Mangini.2005', 'Ocn-FeniDrift.Richter.2009', 'Eur-LakeSilvaplana.Trachsel.2010', 'Ocn-PedradeLume-CapeVerdeIslands.Moses.2006', 'Ocn-SinaiPeninsula_RedSea.Moustafa.2000', 'Eur-NorthernSpain.Martin-Chivelet.2011', 'Arc-Kongressvatnet.D_Andrea.2012', 'Eur-CoastofPortugal.Abrantes.2011', 'Eur-SpanishPyrenees.Dorado-Linan.2012', 'Eur-FinnishLakelands.Helama.2014', 'Eur-NorthernScandinavia.Esper.2012']\n"
     ]
    }
   ],
   "source": [
    "D_test.remove('Eur-Stockholm.Leijonhufvud.2009')\n",
    "\n",
    "print(D_test.get_all_dataset_names())"
   ]
  },
  {
   "cell_type": "markdown",
   "id": "4e6a8133",
   "metadata": {},
   "source": [
    "Now let's [pop](https://pylipd.readthedocs.io/en/latest/source/pylipd.html#pylipd.lipd.LiPD.pop) `Eur-NorthernScandinavia.Esper.2012` from `D_test`:"
   ]
  },
  {
   "cell_type": "code",
   "execution_count": 40,
   "id": "d62e6416",
   "metadata": {},
   "outputs": [],
   "source": [
    "d_eur = D_test.pop('Eur-NorthernScandinavia.Esper.2012')"
   ]
  },
  {
   "cell_type": "markdown",
   "id": "3da5e3b9",
   "metadata": {},
   "source": [
    "Now let's have a look at `d_eur`:"
   ]
  },
  {
   "cell_type": "code",
   "execution_count": 41,
   "id": "a9409498",
   "metadata": {},
   "outputs": [
    {
     "name": "stdout",
     "output_type": "stream",
     "text": [
      "['Eur-NorthernScandinavia.Esper.2012']\n"
     ]
    }
   ],
   "source": [
    "print(d_eur.get_all_dataset_names())"
   ]
  },
  {
   "cell_type": "markdown",
   "id": "c55c6c2a",
   "metadata": {},
   "source": [
    "It contains the dataset we are expecting. Let's have a look at `D_test`:"
   ]
  },
  {
   "cell_type": "code",
   "execution_count": 42,
   "id": "0cc23dd2",
   "metadata": {},
   "outputs": [
    {
     "name": "stdout",
     "output_type": "stream",
     "text": [
      "['Ocn-RedSea.Felis.2000', 'Ant-WAIS-Divide.Severinghaus.2012', 'Asi-SourthAndMiddleUrals.Demezhko.2007', 'Ocn-AlboranSea436B.Nieto-Moreno.2013', 'Eur-SpannagelCave.Mangini.2005', 'Ocn-FeniDrift.Richter.2009', 'Eur-LakeSilvaplana.Trachsel.2010', 'Ocn-PedradeLume-CapeVerdeIslands.Moses.2006', 'Ocn-SinaiPeninsula_RedSea.Moustafa.2000', 'Eur-NorthernSpain.Martin-Chivelet.2011', 'Arc-Kongressvatnet.D_Andrea.2012', 'Eur-CoastofPortugal.Abrantes.2011', 'Eur-SpanishPyrenees.Dorado-Linan.2012', 'Eur-FinnishLakelands.Helama.2014']\n"
     ]
    }
   ],
   "source": [
    "print(D_test.get_all_dataset_names())"
   ]
  },
  {
   "cell_type": "markdown",
   "id": "54732e51",
   "metadata": {},
   "source": [
    "\n",
    "<div class=\"alert alert-warning\">\n",
    "    The dataset was removed from `D_test` in the process. Hence, it's always prudent to make a copy of the original object when using the `remove` and `pop` functionalities. \n",
    "</div>\n"
   ]
  },
  {
   "cell_type": "markdown",
   "id": "cb3f8d71",
   "metadata": {},
   "source": [
    "If can also remove/pop more than one dataset at a time:"
   ]
  },
  {
   "cell_type": "code",
   "execution_count": 43,
   "id": "be7249bb",
   "metadata": {},
   "outputs": [
    {
     "name": "stdout",
     "output_type": "stream",
     "text": [
      "['Asi-SourthAndMiddleUrals.Demezhko.2007', 'Ocn-AlboranSea436B.Nieto-Moreno.2013', 'Eur-SpannagelCave.Mangini.2005', 'Ocn-FeniDrift.Richter.2009', 'Eur-LakeSilvaplana.Trachsel.2010', 'Ocn-PedradeLume-CapeVerdeIslands.Moses.2006', 'Ocn-SinaiPeninsula_RedSea.Moustafa.2000', 'Eur-NorthernSpain.Martin-Chivelet.2011', 'Arc-Kongressvatnet.D_Andrea.2012', 'Eur-CoastofPortugal.Abrantes.2011', 'Eur-SpanishPyrenees.Dorado-Linan.2012', 'Eur-FinnishLakelands.Helama.2014']\n"
     ]
    }
   ],
   "source": [
    "rem = ['Ocn-RedSea.Felis.2000','Ant-WAIS-Divide.Severinghaus.2012']\n",
    "\n",
    "D_test.remove(rem)\n",
    "print(D_test.get_all_dataset_names())"
   ]
  }
 ],
 "metadata": {
  "kernelspec": {
   "display_name": "Python 3 (ipykernel)",
   "language": "python",
   "name": "python3"
  },
  "language_info": {
   "codemirror_mode": {
    "name": "ipython",
    "version": 3
   },
   "file_extension": ".py",
   "mimetype": "text/x-python",
   "name": "python",
   "nbconvert_exporter": "python",
   "pygments_lexer": "ipython3",
   "version": "3.11.7"
  }
 },
 "nbformat": 4,
 "nbformat_minor": 5
}
