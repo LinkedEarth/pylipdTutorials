{
 "cells": [
  {
   "cell_type": "markdown",
   "id": "908ffece",
   "metadata": {},
   "source": [
    "# Basic manipulation of `pylipd.LiPD` object\n",
    "\n",
    "## Authors\n",
    "\n",
    "Deborah Khider, Varun Ratnakar\n",
    "\n",
    "Information Sciences Institute, University of Southern California\n",
    "\n",
    "Author1 = {\"name\": \"Deborah Khider\", \"affiliation\": \"Information Sciences Institute, University of Southern California\", \"email\": \"khider@usc.edu\", \"orcid\": \"0000-0001-7501-8430\"}\n",
    "\n",
    "Author2 = {\"name\": \"Varun Ratnakar\", \"affiliation\": \"Information Sciences Institute, University of Southern California\", \"email\": \"varunr@isi.edu\"}\n",
    "\n",
    "## Preamble\n",
    "\n",
    "### Goals:\n",
    "\n",
    "* Extract a time series for data analysis\n",
    "* Remove/pop LiPD datasets to an existing `LiPD` object\n",
    "\n",
    "Reading Time: 5 minutes\n",
    "\n",
    "### Keywords\n",
    "\n",
    "LiPD; query\n",
    "\n",
    "### Pre-requisites\n",
    "\n",
    "None. This tutorial assumes basic knowledge of Python and Pandas. If you are not familiar with this coding language and the Pandas library, check out this tutorial: http://linked.earth/ec_workshops_py/.\n",
    "\n",
    "### Relevant Packages\n",
    "\n",
    "Pandas, pylipd\n",
    "\n",
    "## Data Description\n",
    "\n",
    "This notebook uses the following datasets, in LiPD format:\n",
    "\n",
    "* Nurhati, I. S., Cobb, K. M., & Di Lorenzo, E. (2011). Decadal-scale SST and salinity variations in the central tropical Pacific: Signatures of natural and anthropogenic climate change. Journal of Climate, 24(13), 3294–3308. doi:10.1175/2011jcli3852.1\n",
    "\n",
    "* Euro2k database: PAGES2k Consortium., Emile-Geay, J., McKay, N. et al. A global multiproxy database for temperature reconstructions of the Common Era. Sci Data 4, 170088 (2017). doi:10.1038/sdata.2017.88"
   ]
  },
  {
   "cell_type": "code",
   "execution_count": 1,
   "id": "8f4cd713",
   "metadata": {},
   "outputs": [],
   "source": [
    "from pylipd.lipd import LiPD"
   ]
  },
  {
   "cell_type": "markdown",
   "id": "0f0b5985",
   "metadata": {},
   "source": [
    "## Demonstration\n",
    "\n",
    "### Extract time series data from LiPD formatted datasets\n",
    "\n",
    "If you are famliar with the [R utilities](https://nickmckay.github.io/lipdR/), one useful functions is the ability to expand timeseries data. This capability was also present in the previous iteration of the Python utilities and `pylipd` retains this compatbility to ease the transition. \n",
    "\n",
    "If you're unsure about what a time series is in the LiPD context, [read more](https://nickmckay.github.io/lipdR/#helptimeseries). \n",
    "\n",
    "#### Working with one dataset\n",
    "\n",
    "First, let's load a single dataset:"
   ]
  },
  {
   "cell_type": "code",
   "execution_count": 3,
   "id": "8a8f8659",
   "metadata": {},
   "outputs": [
    {
     "name": "stdout",
     "output_type": "stream",
     "text": [
      "Loading 1 LiPD files\n",
      "Conversion to RDF done..\n",
      "Loading RDF into graph\n",
      "Loaded..\n"
     ]
    }
   ],
   "source": [
    "data_path = '../data/Ocn-Palmyra.Nurhati.2011.lpd'\n",
    "D = LiPD()\n",
    "D.load(data_path)"
   ]
  },
  {
   "cell_type": "markdown",
   "id": "0e92e908",
   "metadata": {},
   "source": [
    "Now let's get all the timeseries for this dataset. Note that the [`get_timeseries`](https://pylipd.readthedocs.io/en/latest/source/pylipd.html#pylipd.lipd.LiPD.get_timeseries) function requires to pass the dataset names. This is useful if you only want to expand only one dataset from your LiPD object. You can also use the function [`get_all_dataset_names`](https://pylipd.readthedocs.io/en/latest/source/pylipd.html#pylipd.lipd.LiPD.get_all_dataset_names) in the call to expand all datasets: "
   ]
  },
  {
   "cell_type": "code",
   "execution_count": 4,
   "id": "b7121335",
   "metadata": {},
   "outputs": [
    {
     "name": "stdout",
     "output_type": "stream",
     "text": [
      "Extracting timeseries from dataset: Ocn-Palmyra.Nurhati.2011 ...\n"
     ]
    },
    {
     "data": {
      "text/plain": [
       "dict"
      ]
     },
     "execution_count": 4,
     "metadata": {},
     "output_type": "execute_result"
    }
   ],
   "source": [
    "ts_list = D.get_timeseries(D.get_all_dataset_names())\n",
    "\n",
    "type(ts_list)"
   ]
  },
  {
   "cell_type": "markdown",
   "id": "fa2cf601",
   "metadata": {},
   "source": [
    "Note that the above function returns a dictionary that organizes the extracted timeseries by dataset name:"
   ]
  },
  {
   "cell_type": "code",
   "execution_count": 5,
   "id": "46196c72",
   "metadata": {},
   "outputs": [
    {
     "data": {
      "text/plain": [
       "dict_keys(['Ocn-Palmyra.Nurhati.2011'])"
      ]
     },
     "execution_count": 5,
     "metadata": {},
     "output_type": "execute_result"
    }
   ],
   "source": [
    "ts_list.keys()"
   ]
  },
  {
   "cell_type": "markdown",
   "id": "250a4611",
   "metadata": {},
   "source": [
    "Each timeseries is then stored into a list of dictionaries that preserve essential metadata for each time/depth and value pair:"
   ]
  },
  {
   "cell_type": "code",
   "execution_count": 6,
   "id": "d7f08392",
   "metadata": {},
   "outputs": [
    {
     "data": {
      "text/plain": [
       "list"
      ]
     },
     "execution_count": 6,
     "metadata": {},
     "output_type": "execute_result"
    }
   ],
   "source": [
    "type(ts_list['Ocn-Palmyra.Nurhati.2011'])"
   ]
  },
  {
   "cell_type": "markdown",
   "id": "fb7d5290",
   "metadata": {},
   "source": [
    "Although the information is present, it is not easy to navigate or query across the various list. One simple way of doing so is to return the list into a `Pandas.DataFrame`[https://pandas.pydata.org/docs/reference/api/pandas.DataFrame.html]:"
   ]
  },
  {
   "cell_type": "code",
   "execution_count": 7,
   "id": "80bcb09d",
   "metadata": {},
   "outputs": [
    {
     "name": "stdout",
     "output_type": "stream",
     "text": [
      "Extracting timeseries from dataset: Ocn-Palmyra.Nurhati.2011 ...\n"
     ]
    },
    {
     "data": {
      "text/html": [
       "<div>\n",
       "<style scoped>\n",
       "    .dataframe tbody tr th:only-of-type {\n",
       "        vertical-align: middle;\n",
       "    }\n",
       "\n",
       "    .dataframe tbody tr th {\n",
       "        vertical-align: top;\n",
       "    }\n",
       "\n",
       "    .dataframe thead th {\n",
       "        text-align: right;\n",
       "    }\n",
       "</style>\n",
       "<table border=\"1\" class=\"dataframe\">\n",
       "  <thead>\n",
       "    <tr style=\"text-align: right;\">\n",
       "      <th></th>\n",
       "      <th>mode</th>\n",
       "      <th>time_id</th>\n",
       "      <th>pub1_author</th>\n",
       "      <th>pub1_title</th>\n",
       "      <th>pub1_url</th>\n",
       "      <th>pub1_urldate</th>\n",
       "      <th>pub1_institution</th>\n",
       "      <th>pub1_citeKey</th>\n",
       "      <th>pub1_DOI</th>\n",
       "      <th>pub2_author</th>\n",
       "      <th>...</th>\n",
       "      <th>paleoData_iso2kUI</th>\n",
       "      <th>paleoData_TSid</th>\n",
       "      <th>paleoData_sensorGenus</th>\n",
       "      <th>paleoData_hasMeanValue</th>\n",
       "      <th>paleoData_variableType</th>\n",
       "      <th>paleoData_values</th>\n",
       "      <th>paleoData_qCnotes</th>\n",
       "      <th>paleoData_inferredVariableType</th>\n",
       "      <th>paleoData_dataType</th>\n",
       "      <th>paleoData_description</th>\n",
       "    </tr>\n",
       "  </thead>\n",
       "  <tbody>\n",
       "    <tr>\n",
       "      <th>0</th>\n",
       "      <td>paleoData</td>\n",
       "      <td>age</td>\n",
       "      <td>I.S. Nurhati</td>\n",
       "      <td>World Data Center for Paleoclimatology</td>\n",
       "      <td>https://www.ncdc.noaa.gov/paleo/study/8609</td>\n",
       "      <td>2010.0</td>\n",
       "      <td>World Data Center for Paleoclimatology</td>\n",
       "      <td>nurhati2010httpswwwncdcnoaagovpaleostudy8609Da...</td>\n",
       "      <td>[]</td>\n",
       "      <td>Kevin J. Anchukaitis;K. Halimeda Kilbourne;Jen...</td>\n",
       "      <td>...</td>\n",
       "      <td>CO11NUPM01BT1</td>\n",
       "      <td>Ocean2kHR_161</td>\n",
       "      <td>Porites</td>\n",
       "      <td>8.977298</td>\n",
       "      <td>measured</td>\n",
       "      <td>[8.96, 8.9, 8.91, 8.94, 8.92, 8.89, 8.87, 8.81...</td>\n",
       "      <td>NaN</td>\n",
       "      <td>NaN</td>\n",
       "      <td>NaN</td>\n",
       "      <td>NaN</td>\n",
       "    </tr>\n",
       "    <tr>\n",
       "      <th>1</th>\n",
       "      <td>paleoData</td>\n",
       "      <td>age</td>\n",
       "      <td>I.S. Nurhati</td>\n",
       "      <td>World Data Center for Paleoclimatology</td>\n",
       "      <td>https://www.ncdc.noaa.gov/paleo/study/8609</td>\n",
       "      <td>2010.0</td>\n",
       "      <td>World Data Center for Paleoclimatology</td>\n",
       "      <td>nurhati2010httpswwwncdcnoaagovpaleostudy8609Da...</td>\n",
       "      <td>[]</td>\n",
       "      <td>Kevin J. Anchukaitis;K. Halimeda Kilbourne;Jen...</td>\n",
       "      <td>...</td>\n",
       "      <td>CO11NUPM01B</td>\n",
       "      <td>Ocean2kHR_160</td>\n",
       "      <td>Porites</td>\n",
       "      <td>-4.914484</td>\n",
       "      <td>measured</td>\n",
       "      <td>[-5.41, -5.47, -5.49, -5.43, -5.48, -5.53, -5....</td>\n",
       "      <td>Duplicate of modern d18O record presented in C...</td>\n",
       "      <td>NaN</td>\n",
       "      <td>NaN</td>\n",
       "      <td>NaN</td>\n",
       "    </tr>\n",
       "    <tr>\n",
       "      <th>2</th>\n",
       "      <td>paleoData</td>\n",
       "      <td>age</td>\n",
       "      <td>I.S. Nurhati</td>\n",
       "      <td>World Data Center for Paleoclimatology</td>\n",
       "      <td>https://www.ncdc.noaa.gov/paleo/study/8609</td>\n",
       "      <td>2010.0</td>\n",
       "      <td>World Data Center for Paleoclimatology</td>\n",
       "      <td>nurhati2010httpswwwncdcnoaagovpaleostudy8609Da...</td>\n",
       "      <td>[]</td>\n",
       "      <td>Kevin J. Anchukaitis;K. Halimeda Kilbourne;Jen...</td>\n",
       "      <td>...</td>\n",
       "      <td>NaN</td>\n",
       "      <td>PYTHNCZJNWB</td>\n",
       "      <td>NaN</td>\n",
       "      <td>1942.210000</td>\n",
       "      <td>inferred</td>\n",
       "      <td>[1998.29, 1998.21, 1998.13, 1998.04, 1997.96, ...</td>\n",
       "      <td>NaN</td>\n",
       "      <td>Year</td>\n",
       "      <td>float</td>\n",
       "      <td>Year AD</td>\n",
       "    </tr>\n",
       "    <tr>\n",
       "      <th>3</th>\n",
       "      <td>paleoData</td>\n",
       "      <td>age</td>\n",
       "      <td>I.S. Nurhati</td>\n",
       "      <td>World Data Center for Paleoclimatology</td>\n",
       "      <td>https://www.ncdc.noaa.gov/paleo/study/8609</td>\n",
       "      <td>2010.0</td>\n",
       "      <td>World Data Center for Paleoclimatology</td>\n",
       "      <td>nurhati2010httpswwwncdcnoaagovpaleostudy8609Da...</td>\n",
       "      <td>[]</td>\n",
       "      <td>Kevin J. Anchukaitis;K. Halimeda Kilbourne;Jen...</td>\n",
       "      <td>...</td>\n",
       "      <td>NaN</td>\n",
       "      <td>PYTEBCDC4GO</td>\n",
       "      <td>NaN</td>\n",
       "      <td>1942.168336</td>\n",
       "      <td>inferred</td>\n",
       "      <td>[1998.21, 1998.13, 1998.04, 1997.96, 1997.88, ...</td>\n",
       "      <td>NaN</td>\n",
       "      <td>Year</td>\n",
       "      <td>float</td>\n",
       "      <td>Year AD</td>\n",
       "    </tr>\n",
       "    <tr>\n",
       "      <th>4</th>\n",
       "      <td>paleoData</td>\n",
       "      <td>age</td>\n",
       "      <td>I.S. Nurhati</td>\n",
       "      <td>World Data Center for Paleoclimatology</td>\n",
       "      <td>https://www.ncdc.noaa.gov/paleo/study/8609</td>\n",
       "      <td>2010.0</td>\n",
       "      <td>World Data Center for Paleoclimatology</td>\n",
       "      <td>nurhati2010httpswwwncdcnoaagovpaleostudy8609Da...</td>\n",
       "      <td>[]</td>\n",
       "      <td>Kevin J. Anchukaitis;K. Halimeda Kilbourne;Jen...</td>\n",
       "      <td>...</td>\n",
       "      <td>NaN</td>\n",
       "      <td>Ocean2kHR_162</td>\n",
       "      <td>Porites</td>\n",
       "      <td>0.767006</td>\n",
       "      <td>measured</td>\n",
       "      <td>[0.39, 0.35, 0.35, 0.35, 0.36, 0.22, 0.33, 0.3...</td>\n",
       "      <td>d18Osw (residuals calculated from coupled SrCa...</td>\n",
       "      <td>NaN</td>\n",
       "      <td>NaN</td>\n",
       "      <td>NaN</td>\n",
       "    </tr>\n",
       "  </tbody>\n",
       "</table>\n",
       "<p>5 rows × 93 columns</p>\n",
       "</div>"
      ],
      "text/plain": [
       "        mode time_id   pub1_author                              pub1_title  \\\n",
       "0  paleoData     age  I.S. Nurhati  World Data Center for Paleoclimatology   \n",
       "1  paleoData     age  I.S. Nurhati  World Data Center for Paleoclimatology   \n",
       "2  paleoData     age  I.S. Nurhati  World Data Center for Paleoclimatology   \n",
       "3  paleoData     age  I.S. Nurhati  World Data Center for Paleoclimatology   \n",
       "4  paleoData     age  I.S. Nurhati  World Data Center for Paleoclimatology   \n",
       "\n",
       "                                     pub1_url  pub1_urldate  \\\n",
       "0  https://www.ncdc.noaa.gov/paleo/study/8609        2010.0   \n",
       "1  https://www.ncdc.noaa.gov/paleo/study/8609        2010.0   \n",
       "2  https://www.ncdc.noaa.gov/paleo/study/8609        2010.0   \n",
       "3  https://www.ncdc.noaa.gov/paleo/study/8609        2010.0   \n",
       "4  https://www.ncdc.noaa.gov/paleo/study/8609        2010.0   \n",
       "\n",
       "                         pub1_institution  \\\n",
       "0  World Data Center for Paleoclimatology   \n",
       "1  World Data Center for Paleoclimatology   \n",
       "2  World Data Center for Paleoclimatology   \n",
       "3  World Data Center for Paleoclimatology   \n",
       "4  World Data Center for Paleoclimatology   \n",
       "\n",
       "                                        pub1_citeKey pub1_DOI  \\\n",
       "0  nurhati2010httpswwwncdcnoaagovpaleostudy8609Da...       []   \n",
       "1  nurhati2010httpswwwncdcnoaagovpaleostudy8609Da...       []   \n",
       "2  nurhati2010httpswwwncdcnoaagovpaleostudy8609Da...       []   \n",
       "3  nurhati2010httpswwwncdcnoaagovpaleostudy8609Da...       []   \n",
       "4  nurhati2010httpswwwncdcnoaagovpaleostudy8609Da...       []   \n",
       "\n",
       "                                         pub2_author  ...  paleoData_iso2kUI  \\\n",
       "0  Kevin J. Anchukaitis;K. Halimeda Kilbourne;Jen...  ...      CO11NUPM01BT1   \n",
       "1  Kevin J. Anchukaitis;K. Halimeda Kilbourne;Jen...  ...        CO11NUPM01B   \n",
       "2  Kevin J. Anchukaitis;K. Halimeda Kilbourne;Jen...  ...                NaN   \n",
       "3  Kevin J. Anchukaitis;K. Halimeda Kilbourne;Jen...  ...                NaN   \n",
       "4  Kevin J. Anchukaitis;K. Halimeda Kilbourne;Jen...  ...                NaN   \n",
       "\n",
       "  paleoData_TSid  paleoData_sensorGenus  paleoData_hasMeanValue  \\\n",
       "0  Ocean2kHR_161                Porites                8.977298   \n",
       "1  Ocean2kHR_160                Porites               -4.914484   \n",
       "2    PYTHNCZJNWB                    NaN             1942.210000   \n",
       "3    PYTEBCDC4GO                    NaN             1942.168336   \n",
       "4  Ocean2kHR_162                Porites                0.767006   \n",
       "\n",
       "  paleoData_variableType                                   paleoData_values  \\\n",
       "0               measured  [8.96, 8.9, 8.91, 8.94, 8.92, 8.89, 8.87, 8.81...   \n",
       "1               measured  [-5.41, -5.47, -5.49, -5.43, -5.48, -5.53, -5....   \n",
       "2               inferred  [1998.29, 1998.21, 1998.13, 1998.04, 1997.96, ...   \n",
       "3               inferred  [1998.21, 1998.13, 1998.04, 1997.96, 1997.88, ...   \n",
       "4               measured  [0.39, 0.35, 0.35, 0.35, 0.36, 0.22, 0.33, 0.3...   \n",
       "\n",
       "                                   paleoData_qCnotes  \\\n",
       "0                                                NaN   \n",
       "1  Duplicate of modern d18O record presented in C...   \n",
       "2                                                NaN   \n",
       "3                                                NaN   \n",
       "4  d18Osw (residuals calculated from coupled SrCa...   \n",
       "\n",
       "  paleoData_inferredVariableType paleoData_dataType paleoData_description  \n",
       "0                            NaN                NaN                   NaN  \n",
       "1                            NaN                NaN                   NaN  \n",
       "2                           Year              float               Year AD  \n",
       "3                           Year              float               Year AD  \n",
       "4                            NaN                NaN                   NaN  \n",
       "\n",
       "[5 rows x 93 columns]"
      ]
     },
     "execution_count": 7,
     "metadata": {},
     "output_type": "execute_result"
    }
   ],
   "source": [
    "ts_list, df = D.get_timeseries(D.get_all_dataset_names(), to_dataframe=True)\n",
    "\n",
    "df"
   ]
  },
  {
   "cell_type": "markdown",
   "id": "ec95e7eb",
   "metadata": {},
   "source": [
    "You can now use all the pandas functionalities for filtering and querying dataframes. First, let's have a look at the available properties, which corresponds to the column headers:"
   ]
  },
  {
   "cell_type": "code",
   "execution_count": 16,
   "id": "4afe09fe",
   "metadata": {},
   "outputs": [
    {
     "data": {
      "text/plain": [
       "Index(['mode', 'time_id', 'pub1_author', 'pub1_title', 'pub1_url',\n",
       "       'pub1_urldate', 'pub1_institution', 'pub1_citeKey', 'pub1_DOI',\n",
       "       'pub2_author', 'pub2_volume', 'pub2_title', 'pub2_issue', 'pub2_year',\n",
       "       'pub2_doi', 'pub2_publisher', 'pub2_journal', 'pub2_dataUrl',\n",
       "       'pub2_citeKey', 'pub2_pages', 'pub2_link', 'pub2_DOI', 'pub3_author',\n",
       "       'pub3_title', 'pub3_dataUrl', 'pub3_journal', 'pub3_publisher',\n",
       "       'pub3_year', 'pub3_volume', 'pub3_doi', 'pub3_pages', 'pub3_citeKey',\n",
       "       'pub3_link', 'pub3_DOI', 'googleDataURL', 'studyName',\n",
       "       'googleMetadataWorksheet', 'originalDataURL', 'lipdVersion', 'hasUrl',\n",
       "       'dataContributor', 'createdBy', 'googleSpreadSheetKey', 'geo_meanLon',\n",
       "       'geo_meanLat', 'geo_meanElev', 'geo_type', 'geo_siteName',\n",
       "       'geo_pages2kRegion', 'geo_ocean', 'dataSetName', 'archiveType',\n",
       "       'tableType', 'paleoData_filename', 'paleoData_paleoDataTableName',\n",
       "       'paleoData_googleWorkSheetKey', 'paleoData_measurementTableMD5',\n",
       "       'paleoData_measurementTableName', 'year', 'yearUnits',\n",
       "       'paleoData_missingValue', 'paleoData_hasMedianValue',\n",
       "       'paleoData_sensorSpecies', 'paleoData_number', 'paleoData_proxy',\n",
       "       'paleoData_useInGlobalTemperatureAnalysis',\n",
       "       'paleoData_proxyObservationType', 'paleoData_hasMinValue',\n",
       "       'paleoData_hasResolution_hasMedianValue',\n",
       "       'paleoData_hasResolution_hasMaxValue', 'paleoData_hasResolution_units',\n",
       "       'paleoData_hasResolution_hasMinValue',\n",
       "       'paleoData_hasResolution_hasMeanValue', 'paleoData_ocean2kID',\n",
       "       'paleoData_pages2kID', 'paleoData_wDSPaleoUrl',\n",
       "       'paleoData_interpretation', 'paleoData_hasMaxValue',\n",
       "       'paleoData_qCCertification', 'paleoData_notes',\n",
       "       'paleoData_inCompilation', 'paleoData_variableName', 'paleoData_units',\n",
       "       'paleoData_iso2kUI', 'paleoData_TSid', 'paleoData_sensorGenus',\n",
       "       'paleoData_hasMeanValue', 'paleoData_variableType', 'paleoData_values',\n",
       "       'paleoData_qCnotes', 'paleoData_inferredVariableType',\n",
       "       'paleoData_dataType', 'paleoData_description'],\n",
       "      dtype='object')"
      ]
     },
     "execution_count": 16,
     "metadata": {},
     "output_type": "execute_result"
    }
   ],
   "source": [
    "df.columns"
   ]
  },
  {
   "cell_type": "markdown",
   "id": "9442dc71",
   "metadata": {},
   "source": [
    "Let's have a look at the `paleoData_variableName` column to see what's available:"
   ]
  },
  {
   "cell_type": "code",
   "execution_count": 9,
   "id": "6fe5eed5",
   "metadata": {},
   "outputs": [
    {
     "data": {
      "text/plain": [
       "0    Sr_Ca\n",
       "1     d18O\n",
       "2     year\n",
       "3     year\n",
       "4     d18O\n",
       "Name: paleoData_variableName, dtype: object"
      ]
     },
     "execution_count": 9,
     "metadata": {},
     "output_type": "execute_result"
    }
   ],
   "source": [
    "df['paleoData_variableName']"
   ]
  },
  {
   "cell_type": "markdown",
   "id": "8228e271",
   "metadata": {},
   "source": [
    "All columns get extracted, hence why `year` is extracted as a paleo variable, with its associated values stored in `paleoData_values`. Notice that there is also two variables names `d18O`. Since this is a coral record, it stands to reason that one corresponds to the measured $\\delta^{18}O$ of the coral and the other the $\\delta^{18}O$ of the seawater. Let's have a look at the `qCnotes` field:"
   ]
  },
  {
   "cell_type": "code",
   "execution_count": 10,
   "id": "d16917ac",
   "metadata": {},
   "outputs": [
    {
     "data": {
      "text/html": [
       "<div>\n",
       "<style scoped>\n",
       "    .dataframe tbody tr th:only-of-type {\n",
       "        vertical-align: middle;\n",
       "    }\n",
       "\n",
       "    .dataframe tbody tr th {\n",
       "        vertical-align: top;\n",
       "    }\n",
       "\n",
       "    .dataframe thead th {\n",
       "        text-align: right;\n",
       "    }\n",
       "</style>\n",
       "<table border=\"1\" class=\"dataframe\">\n",
       "  <thead>\n",
       "    <tr style=\"text-align: right;\">\n",
       "      <th></th>\n",
       "      <th>paleoData_variableName</th>\n",
       "      <th>paleoData_qCnotes</th>\n",
       "    </tr>\n",
       "  </thead>\n",
       "  <tbody>\n",
       "    <tr>\n",
       "      <th>0</th>\n",
       "      <td>Sr_Ca</td>\n",
       "      <td>NaN</td>\n",
       "    </tr>\n",
       "    <tr>\n",
       "      <th>1</th>\n",
       "      <td>d18O</td>\n",
       "      <td>Duplicate of modern d18O record presented in C...</td>\n",
       "    </tr>\n",
       "    <tr>\n",
       "      <th>2</th>\n",
       "      <td>year</td>\n",
       "      <td>NaN</td>\n",
       "    </tr>\n",
       "    <tr>\n",
       "      <th>3</th>\n",
       "      <td>year</td>\n",
       "      <td>NaN</td>\n",
       "    </tr>\n",
       "    <tr>\n",
       "      <th>4</th>\n",
       "      <td>d18O</td>\n",
       "      <td>d18Osw (residuals calculated from coupled SrCa...</td>\n",
       "    </tr>\n",
       "  </tbody>\n",
       "</table>\n",
       "</div>"
      ],
      "text/plain": [
       "  paleoData_variableName                                  paleoData_qCnotes\n",
       "0                  Sr_Ca                                                NaN\n",
       "1                   d18O  Duplicate of modern d18O record presented in C...\n",
       "2                   year                                                NaN\n",
       "3                   year                                                NaN\n",
       "4                   d18O  d18Osw (residuals calculated from coupled SrCa..."
      ]
     },
     "execution_count": 10,
     "metadata": {},
     "output_type": "execute_result"
    }
   ],
   "source": [
    "df[['paleoData_variableName','paleoData_qCnotes']]"
   ]
  },
  {
   "cell_type": "markdown",
   "id": "86733e75",
   "metadata": {},
   "source": [
    "In fact, one is for the measurement on the coral and the other for seawater. Querying on this small dataset is not necessary; however, it can become useful when looking at a collection of files as shown in the next example (working with multiple datasets). \n",
    "\n",
    "To extract by row index (here extracting for `Sr_Ca`):"
   ]
  },
  {
   "cell_type": "code",
   "execution_count": 11,
   "id": "79711bfe",
   "metadata": {},
   "outputs": [
    {
     "data": {
      "text/plain": [
       "mode                                                                      paleoData\n",
       "time_id                                                                         age\n",
       "pub1_author                                                            I.S. Nurhati\n",
       "pub1_title                                   World Data Center for Paleoclimatology\n",
       "pub1_url                                 https://www.ncdc.noaa.gov/paleo/study/8609\n",
       "                                                        ...                        \n",
       "paleoData_values                  [8.96, 8.9, 8.91, 8.94, 8.92, 8.89, 8.87, 8.81...\n",
       "paleoData_qCnotes                                                               NaN\n",
       "paleoData_inferredVariableType                                                  NaN\n",
       "paleoData_dataType                                                              NaN\n",
       "paleoData_description                                                           NaN\n",
       "Name: 0, Length: 93, dtype: object"
      ]
     },
     "execution_count": 11,
     "metadata": {},
     "output_type": "execute_result"
    }
   ],
   "source": [
    "df_cut = df.iloc[0,:]\n",
    "\n",
    "df_cut"
   ]
  },
  {
   "cell_type": "code",
   "execution_count": 12,
   "id": "76224449",
   "metadata": {},
   "outputs": [
    {
     "data": {
      "text/plain": [
       "'Sr_Ca'"
      ]
     },
     "execution_count": 12,
     "metadata": {},
     "output_type": "execute_result"
    }
   ],
   "source": [
    "df_cut['paleoData_variableName']"
   ]
  },
  {
   "cell_type": "markdown",
   "id": "50937d6a",
   "metadata": {},
   "source": [
    "This can be very useful when working with the [`Pyleoclim`](https://pyleoclim-util.readthedocs.io/en/master/) software since a `Pyleoclim.Series` can be initialized from the information contained in `df_cut`. Working with `pylipd` and `Pyleoclim` will be the subject of a later tutorial."
   ]
  },
  {
   "cell_type": "markdown",
   "id": "1d4d0022",
   "metadata": {},
   "source": [
    "#### Working with multiple datasets"
   ]
  },
  {
   "cell_type": "code",
   "execution_count": 13,
   "id": "5bb89337",
   "metadata": {},
   "outputs": [
    {
     "name": "stdout",
     "output_type": "stream",
     "text": [
      "Loading 31 LiPD files\n",
      "Conversion to RDF done..\n",
      "Loading RDF into graph\n",
      "Loaded..\n"
     ]
    }
   ],
   "source": [
    "path = '../data/Euro2k/'\n",
    "\n",
    "D_dir = LiPD()\n",
    "D_dir.load_from_dir(path)"
   ]
  },
  {
   "cell_type": "markdown",
   "id": "b23be8cd",
   "metadata": {},
   "source": [
    "Let's start by expanding all datasets using `get_all_dataset_names()`:"
   ]
  },
  {
   "cell_type": "code",
   "execution_count": 14,
   "id": "4ac3c735",
   "metadata": {},
   "outputs": [
    {
     "name": "stdout",
     "output_type": "stream",
     "text": [
      "Extracting timeseries from dataset: Ocn-RedSea.Felis.2000 ...\n",
      "Extracting timeseries from dataset: Arc-Forfjorddalen.McCarroll.2013 ...\n",
      "Extracting timeseries from dataset: Eur-Tallinn.Tarand.2001 ...\n",
      "Extracting timeseries from dataset: Eur-CentralEurope.Dobrovoln_.2009 ...\n",
      "Extracting timeseries from dataset: Eur-EuropeanAlps.B_ntgen.2011 ...\n",
      "Extracting timeseries from dataset: Eur-CentralandEasternPyrenees.Pla.2004 ...\n",
      "Extracting timeseries from dataset: Arc-Tjeggelvas.Bjorklund.2012 ...\n",
      "Extracting timeseries from dataset: Arc-Indigirka.Hughes.1999 ...\n",
      "Extracting timeseries from dataset: Eur-SpannagelCave.Mangini.2005 ...\n",
      "Extracting timeseries from dataset: Ocn-AqabaJordanAQ19.Heiss.1999 ...\n",
      "Extracting timeseries from dataset: Arc-Jamtland.Wilson.2016 ...\n",
      "Extracting timeseries from dataset: Eur-RAPiD-17-5P.Moffa-Sanchez.2014 ...\n",
      "Extracting timeseries from dataset: Eur-LakeSilvaplana.Trachsel.2010 ...\n",
      "Extracting timeseries from dataset: Eur-NorthernSpain.Mart_n-Chivelet.2011 ...\n",
      "Extracting timeseries from dataset: Eur-MaritimeFrenchAlps.B_ntgen.2012 ...\n",
      "Extracting timeseries from dataset: Ocn-AqabaJordanAQ18.Heiss.1999 ...\n",
      "Extracting timeseries from dataset: Arc-Tornetrask.Melvin.2012 ...\n",
      "Extracting timeseries from dataset: Eur-EasternCarpathianMountains.Popa.2008 ...\n",
      "Extracting timeseries from dataset: Arc-PolarUrals.Wilson.2015 ...\n",
      "Extracting timeseries from dataset: Eur-LakeSilvaplana.Larocque-Tobler.2010 ...\n",
      "Extracting timeseries from dataset: Eur-CoastofPortugal.Abrantes.2011 ...\n",
      "Extracting timeseries from dataset: Eur-TatraMountains.B_ntgen.2013 ...\n",
      "Extracting timeseries from dataset: Eur-SpanishPyrenees.Dorado-Linan.2012 ...\n",
      "Extracting timeseries from dataset: Eur-FinnishLakelands.Helama.2014 ...\n",
      "Extracting timeseries from dataset: Eur-Seebergsee.Larocque-Tobler.2012 ...\n",
      "Extracting timeseries from dataset: Eur-NorthernScandinavia.Esper.2012 ...\n",
      "Extracting timeseries from dataset: Arc-GulfofAlaska.Wilson.2014 ...\n",
      "Extracting timeseries from dataset: Arc-Kittelfjall.Bjorklund.2012 ...\n",
      "Extracting timeseries from dataset: Eur-L_tschental.B_ntgen.2006 ...\n",
      "Extracting timeseries from dataset: Eur-Stockholm.Leijonhufvud.2009 ...\n",
      "Extracting timeseries from dataset: Arc-AkademiiNaukIceCap.Opel.2013 ...\n"
     ]
    }
   ],
   "source": [
    "ts_list_dir, df_dir = D_dir.get_timeseries(D_dir.get_all_dataset_names(), to_dataframe=True)"
   ]
  },
  {
   "cell_type": "markdown",
   "id": "2b25e22a",
   "metadata": {},
   "source": [
    "Let's have a look at the dataframe:"
   ]
  },
  {
   "cell_type": "code",
   "execution_count": 15,
   "id": "977fab82",
   "metadata": {},
   "outputs": [
    {
     "data": {
      "text/html": [
       "<div>\n",
       "<style scoped>\n",
       "    .dataframe tbody tr th:only-of-type {\n",
       "        vertical-align: middle;\n",
       "    }\n",
       "\n",
       "    .dataframe tbody tr th {\n",
       "        vertical-align: top;\n",
       "    }\n",
       "\n",
       "    .dataframe thead th {\n",
       "        text-align: right;\n",
       "    }\n",
       "</style>\n",
       "<table border=\"1\" class=\"dataframe\">\n",
       "  <thead>\n",
       "    <tr style=\"text-align: right;\">\n",
       "      <th></th>\n",
       "      <th>mode</th>\n",
       "      <th>time_id</th>\n",
       "      <th>googleSpreadSheetKey</th>\n",
       "      <th>studyName</th>\n",
       "      <th>googleMetadataWorksheet</th>\n",
       "      <th>originalDataURL</th>\n",
       "      <th>geo_meanLon</th>\n",
       "      <th>geo_meanLat</th>\n",
       "      <th>geo_meanElev</th>\n",
       "      <th>geo_type</th>\n",
       "      <th>...</th>\n",
       "      <th>paleoData_calibration</th>\n",
       "      <th>paleoData_uncertainty</th>\n",
       "      <th>pub1_institution</th>\n",
       "      <th>age</th>\n",
       "      <th>ageUnits</th>\n",
       "      <th>pub3_institution</th>\n",
       "      <th>pub3_urldate</th>\n",
       "      <th>pub3_url</th>\n",
       "      <th>investigator</th>\n",
       "      <th>data</th>\n",
       "    </tr>\n",
       "  </thead>\n",
       "  <tbody>\n",
       "    <tr>\n",
       "      <th>0</th>\n",
       "      <td>paleoData</td>\n",
       "      <td>age</td>\n",
       "      <td>1FbX_1Lf3TSZXDQ5qpbC53YYar9NrsnA4to1UVjA_erk</td>\n",
       "      <td>Rass Umm Sidd bimonthly d18O composition</td>\n",
       "      <td>omckgyy</td>\n",
       "      <td>https://www.ncdc.noaa.gov/paleo/study/1861</td>\n",
       "      <td>34.32</td>\n",
       "      <td>27.85</td>\n",
       "      <td>-6.0</td>\n",
       "      <td>Feature</td>\n",
       "      <td>...</td>\n",
       "      <td>NaN</td>\n",
       "      <td>NaN</td>\n",
       "      <td>NaN</td>\n",
       "      <td>NaN</td>\n",
       "      <td>NaN</td>\n",
       "      <td>NaN</td>\n",
       "      <td>NaN</td>\n",
       "      <td>NaN</td>\n",
       "      <td>NaN</td>\n",
       "      <td>NaN</td>\n",
       "    </tr>\n",
       "    <tr>\n",
       "      <th>1</th>\n",
       "      <td>paleoData</td>\n",
       "      <td>age</td>\n",
       "      <td>1FbX_1Lf3TSZXDQ5qpbC53YYar9NrsnA4to1UVjA_erk</td>\n",
       "      <td>Rass Umm Sidd bimonthly d18O composition</td>\n",
       "      <td>omckgyy</td>\n",
       "      <td>https://www.ncdc.noaa.gov/paleo/study/1861</td>\n",
       "      <td>34.32</td>\n",
       "      <td>27.85</td>\n",
       "      <td>-6.0</td>\n",
       "      <td>Feature</td>\n",
       "      <td>...</td>\n",
       "      <td>NaN</td>\n",
       "      <td>NaN</td>\n",
       "      <td>NaN</td>\n",
       "      <td>NaN</td>\n",
       "      <td>NaN</td>\n",
       "      <td>NaN</td>\n",
       "      <td>NaN</td>\n",
       "      <td>NaN</td>\n",
       "      <td>NaN</td>\n",
       "      <td>NaN</td>\n",
       "    </tr>\n",
       "    <tr>\n",
       "      <th>2</th>\n",
       "      <td>paleoData</td>\n",
       "      <td>age</td>\n",
       "      <td>1_XIqldnxxaMhu6TYn_M3Tut0LMaLdA4aLWk2uyKxDzo</td>\n",
       "      <td>Forfjorddalen Norway Tree ring Density Index</td>\n",
       "      <td>o68q71d</td>\n",
       "      <td>this study</td>\n",
       "      <td>15.73</td>\n",
       "      <td>68.73</td>\n",
       "      <td>200.0</td>\n",
       "      <td>Feature</td>\n",
       "      <td>...</td>\n",
       "      <td>NaN</td>\n",
       "      <td>NaN</td>\n",
       "      <td>NaN</td>\n",
       "      <td>NaN</td>\n",
       "      <td>NaN</td>\n",
       "      <td>NaN</td>\n",
       "      <td>NaN</td>\n",
       "      <td>NaN</td>\n",
       "      <td>NaN</td>\n",
       "      <td>NaN</td>\n",
       "    </tr>\n",
       "    <tr>\n",
       "      <th>3</th>\n",
       "      <td>paleoData</td>\n",
       "      <td>age</td>\n",
       "      <td>1_XIqldnxxaMhu6TYn_M3Tut0LMaLdA4aLWk2uyKxDzo</td>\n",
       "      <td>Forfjorddalen Norway Tree ring Density Index</td>\n",
       "      <td>o68q71d</td>\n",
       "      <td>this study</td>\n",
       "      <td>15.73</td>\n",
       "      <td>68.73</td>\n",
       "      <td>200.0</td>\n",
       "      <td>Feature</td>\n",
       "      <td>...</td>\n",
       "      <td>NaN</td>\n",
       "      <td>NaN</td>\n",
       "      <td>NaN</td>\n",
       "      <td>NaN</td>\n",
       "      <td>NaN</td>\n",
       "      <td>NaN</td>\n",
       "      <td>NaN</td>\n",
       "      <td>NaN</td>\n",
       "      <td>NaN</td>\n",
       "      <td>NaN</td>\n",
       "    </tr>\n",
       "    <tr>\n",
       "      <th>4</th>\n",
       "      <td>paleoData</td>\n",
       "      <td>age</td>\n",
       "      <td>1w4TOUPOIny8ErKbv54iwAgf8CZidQY8-U0tZCD5WO58</td>\n",
       "      <td>NaN</td>\n",
       "      <td>oyb7mu7</td>\n",
       "      <td>this study</td>\n",
       "      <td>24.75</td>\n",
       "      <td>59.40</td>\n",
       "      <td>10.0</td>\n",
       "      <td>Feature</td>\n",
       "      <td>...</td>\n",
       "      <td>[{'uncertaintyType': 'Maximum error', 'uncerta...</td>\n",
       "      <td>ice break-up: 1 deg C; max. 3 deg C; rye harve...</td>\n",
       "      <td>NaN</td>\n",
       "      <td>NaN</td>\n",
       "      <td>NaN</td>\n",
       "      <td>NaN</td>\n",
       "      <td>NaN</td>\n",
       "      <td>NaN</td>\n",
       "      <td>NaN</td>\n",
       "      <td>NaN</td>\n",
       "    </tr>\n",
       "  </tbody>\n",
       "</table>\n",
       "<p>5 rows × 122 columns</p>\n",
       "</div>"
      ],
      "text/plain": [
       "        mode time_id                          googleSpreadSheetKey  \\\n",
       "0  paleoData     age  1FbX_1Lf3TSZXDQ5qpbC53YYar9NrsnA4to1UVjA_erk   \n",
       "1  paleoData     age  1FbX_1Lf3TSZXDQ5qpbC53YYar9NrsnA4to1UVjA_erk   \n",
       "2  paleoData     age  1_XIqldnxxaMhu6TYn_M3Tut0LMaLdA4aLWk2uyKxDzo   \n",
       "3  paleoData     age  1_XIqldnxxaMhu6TYn_M3Tut0LMaLdA4aLWk2uyKxDzo   \n",
       "4  paleoData     age  1w4TOUPOIny8ErKbv54iwAgf8CZidQY8-U0tZCD5WO58   \n",
       "\n",
       "                                      studyName googleMetadataWorksheet  \\\n",
       "0      Rass Umm Sidd bimonthly d18O composition                 omckgyy   \n",
       "1      Rass Umm Sidd bimonthly d18O composition                 omckgyy   \n",
       "2  Forfjorddalen Norway Tree ring Density Index                 o68q71d   \n",
       "3  Forfjorddalen Norway Tree ring Density Index                 o68q71d   \n",
       "4                                           NaN                 oyb7mu7   \n",
       "\n",
       "                              originalDataURL  geo_meanLon  geo_meanLat  \\\n",
       "0  https://www.ncdc.noaa.gov/paleo/study/1861        34.32        27.85   \n",
       "1  https://www.ncdc.noaa.gov/paleo/study/1861        34.32        27.85   \n",
       "2                                  this study        15.73        68.73   \n",
       "3                                  this study        15.73        68.73   \n",
       "4                                  this study        24.75        59.40   \n",
       "\n",
       "   geo_meanElev geo_type  ...  \\\n",
       "0          -6.0  Feature  ...   \n",
       "1          -6.0  Feature  ...   \n",
       "2         200.0  Feature  ...   \n",
       "3         200.0  Feature  ...   \n",
       "4          10.0  Feature  ...   \n",
       "\n",
       "                               paleoData_calibration  \\\n",
       "0                                                NaN   \n",
       "1                                                NaN   \n",
       "2                                                NaN   \n",
       "3                                                NaN   \n",
       "4  [{'uncertaintyType': 'Maximum error', 'uncerta...   \n",
       "\n",
       "                               paleoData_uncertainty pub1_institution  age  \\\n",
       "0                                                NaN              NaN  NaN   \n",
       "1                                                NaN              NaN  NaN   \n",
       "2                                                NaN              NaN  NaN   \n",
       "3                                                NaN              NaN  NaN   \n",
       "4  ice break-up: 1 deg C; max. 3 deg C; rye harve...              NaN  NaN   \n",
       "\n",
       "  ageUnits pub3_institution pub3_urldate pub3_url  investigator data  \n",
       "0      NaN              NaN          NaN      NaN           NaN  NaN  \n",
       "1      NaN              NaN          NaN      NaN           NaN  NaN  \n",
       "2      NaN              NaN          NaN      NaN           NaN  NaN  \n",
       "3      NaN              NaN          NaN      NaN           NaN  NaN  \n",
       "4      NaN              NaN          NaN      NaN           NaN  NaN  \n",
       "\n",
       "[5 rows x 122 columns]"
      ]
     },
     "execution_count": 15,
     "metadata": {},
     "output_type": "execute_result"
    }
   ],
   "source": [
    "df_dir.head()"
   ]
  },
  {
   "cell_type": "markdown",
   "id": "512eef39",
   "metadata": {},
   "source": [
    "The size of this dataframe is:"
   ]
  },
  {
   "cell_type": "code",
   "execution_count": 33,
   "id": "b9e4de5e",
   "metadata": {},
   "outputs": [
    {
     "data": {
      "text/plain": [
       "(73, 120)"
      ]
     },
     "execution_count": 33,
     "metadata": {},
     "output_type": "execute_result"
    }
   ],
   "source": [
    "df_dir.shape"
   ]
  },
  {
   "cell_type": "markdown",
   "id": "5f76bf9c",
   "metadata": {},
   "source": [
    "73 rows and 122 columns. The available properties are:"
   ]
  },
  {
   "cell_type": "code",
   "execution_count": 34,
   "id": "955b36d0",
   "metadata": {},
   "outputs": [
    {
     "name": "stdout",
     "output_type": "stream",
     "text": [
      "['mode', 'time_id', 'dataSetName', 'hasUrl', 'dataContributor', 'pub1_author', 'pub1_url', 'pub1_citeKey', 'pub1_institution', 'pub1_title', 'pub1_urldate', 'pub1_DOI', 'pub2_author', 'pub2_citeKey', 'pub2_year', 'pub2_title', 'pub2_link', 'pub2_doi', 'pub2_pages', 'pub2_publisher', 'pub2_issue', 'pub2_dataUrl', 'pub2_volume', 'pub2_journal', 'pub2_DOI', 'pub3_author', 'pub3_dataUrl', 'pub3_citeKey', 'pub3_pages', 'pub3_volume', 'pub3_issue', 'pub3_doi', 'pub3_journal', 'pub3_link', 'pub3_publisher', 'pub3_title', 'pub3_year', 'pub3_DOI', 'createdBy', 'googleDataURL', 'studyName', 'googleMetadataWorksheet', 'geo_meanLon', 'geo_meanLat', 'geo_meanElev', 'geo_type', 'geo_pages2kRegion', 'geo_siteName', 'geo_ocean', 'originalDataURL', 'googleSpreadSheetKey', 'lipdVersion', 'archiveType', 'tableType', 'paleoData_filename', 'paleoData_paleoDataTableName', 'paleoData_googleWorkSheetKey', 'paleoData_measurementTableMD5', 'paleoData_measurementTableName', 'year', 'yearUnits', 'paleoData_sensorSpecies', 'paleoData_proxyObservationType', 'paleoData_variableName', 'paleoData_ocean2kID', 'paleoData_TSid', 'paleoData_iso2kUI', 'paleoData_wDSPaleoUrl', 'paleoData_sensorGenus', 'paleoData_useInGlobalTemperatureAnalysis', 'paleoData_hasMedianValue', 'paleoData_missingValue', 'paleoData_interpretation', 'paleoData_hasMaxValue', 'paleoData_hasResolution_hasMedianValue', 'paleoData_hasResolution_hasMeanValue', 'paleoData_hasResolution_units', 'paleoData_hasResolution_hasMaxValue', 'paleoData_hasResolution_hasMinValue', 'paleoData_units', 'paleoData_hasMeanValue', 'paleoData_proxy', 'paleoData_notes', 'paleoData_inCompilation', 'paleoData_qCCertification', 'paleoData_number', 'paleoData_pages2kID', 'paleoData_hasMinValue', 'paleoData_variableType', 'paleoData_values', 'paleoData_inferredVariableType', 'paleoData_description', 'paleoData_dataType', 'notes', 'pub2_abstract', 'geo_region', 'paleoData_measurementMethod', 'paleoData_measurementMaterial', 'paleoData_precededBy', 'paleoData_detail', 'paleoData_qCnotes', 'pub1_doi', 'pub1_dataUrl', 'pub1_pages', 'pub1_year', 'pub1_link', 'pub1_volume', 'pub1_issue', 'pub1_journal', 'pub1_publisher', 'pub2_urldate', 'pub2_url', 'paleoData_calibration', 'paleoData_uncertainty', 'age', 'ageUnits', 'pub2_institution', 'investigator', 'data', 'pub1_abstract']\n"
     ]
    }
   ],
   "source": [
    "print([item for item in df_dir.columns])"
   ]
  },
  {
   "cell_type": "markdown",
   "id": "2f676867",
   "metadata": {},
   "source": [
    "Let's have a look at the available variables:"
   ]
  },
  {
   "cell_type": "code",
   "execution_count": 39,
   "id": "6dcb5204",
   "metadata": {},
   "outputs": [
    {
     "data": {
      "text/plain": [
       "array(['d18O', 'year', 'MXD', 'temperature', 'JulianDay', 'trsgi',\n",
       "       'uncertainty_temperature', 'sampleID', 'age', 'density', 'd13C',\n",
       "       'sampleDensity', 'thickness', 'Na'], dtype=object)"
      ]
     },
     "execution_count": 39,
     "metadata": {},
     "output_type": "execute_result"
    }
   ],
   "source": [
    "df_dir['paleoData_variableName'].unique()"
   ]
  },
  {
   "cell_type": "markdown",
   "id": "e81bd3c2",
   "metadata": {},
   "source": [
    "Let's assume we are only interested in the temperature data:"
   ]
  },
  {
   "cell_type": "code",
   "execution_count": 40,
   "id": "09972956",
   "metadata": {},
   "outputs": [
    {
     "data": {
      "text/html": [
       "<div>\n",
       "<style scoped>\n",
       "    .dataframe tbody tr th:only-of-type {\n",
       "        vertical-align: middle;\n",
       "    }\n",
       "\n",
       "    .dataframe tbody tr th {\n",
       "        vertical-align: top;\n",
       "    }\n",
       "\n",
       "    .dataframe thead th {\n",
       "        text-align: right;\n",
       "    }\n",
       "</style>\n",
       "<table border=\"1\" class=\"dataframe\">\n",
       "  <thead>\n",
       "    <tr style=\"text-align: right;\">\n",
       "      <th></th>\n",
       "      <th>mode</th>\n",
       "      <th>time_id</th>\n",
       "      <th>dataSetName</th>\n",
       "      <th>hasUrl</th>\n",
       "      <th>dataContributor</th>\n",
       "      <th>pub1_author</th>\n",
       "      <th>pub1_url</th>\n",
       "      <th>pub1_citeKey</th>\n",
       "      <th>pub1_institution</th>\n",
       "      <th>pub1_title</th>\n",
       "      <th>...</th>\n",
       "      <th>pub2_urldate</th>\n",
       "      <th>pub2_url</th>\n",
       "      <th>paleoData_calibration</th>\n",
       "      <th>paleoData_uncertainty</th>\n",
       "      <th>age</th>\n",
       "      <th>ageUnits</th>\n",
       "      <th>pub2_institution</th>\n",
       "      <th>investigator</th>\n",
       "      <th>data</th>\n",
       "      <th>pub1_abstract</th>\n",
       "    </tr>\n",
       "  </thead>\n",
       "  <tbody>\n",
       "    <tr>\n",
       "      <th>4</th>\n",
       "      <td>paleoData</td>\n",
       "      <td>age</td>\n",
       "      <td>Eur-Tallinn.Tarand.2001</td>\n",
       "      <td>https://data.mint.isi.edu/files/lipd/Eur-Talli...</td>\n",
       "      <td>NaN</td>\n",
       "      <td>A. Tarand;P.Ø. Nordli</td>\n",
       "      <td>NaN</td>\n",
       "      <td>tarand2001thetallinntemperatureseri</td>\n",
       "      <td>NaN</td>\n",
       "      <td>The Tallinn temperature series reconstructed b...</td>\n",
       "      <td>...</td>\n",
       "      <td>0.0</td>\n",
       "      <td>this study</td>\n",
       "      <td>[{'uncertaintyType': 'Maximum error', 'uncerta...</td>\n",
       "      <td>ice break-up: 1 deg C; max. 3 deg C; rye harve...</td>\n",
       "      <td>NaN</td>\n",
       "      <td>NaN</td>\n",
       "      <td>NaN</td>\n",
       "      <td>NaN</td>\n",
       "      <td>NaN</td>\n",
       "      <td>NaN</td>\n",
       "    </tr>\n",
       "    <tr>\n",
       "      <th>7</th>\n",
       "      <td>paleoData</td>\n",
       "      <td>age</td>\n",
       "      <td>Eur-CentralEurope.Dobrovolný.2009</td>\n",
       "      <td>https://data.mint.isi.edu/files/lipd/Eur-Centr...</td>\n",
       "      <td>NaN</td>\n",
       "      <td>P. Dobrovolný</td>\n",
       "      <td>https://www.ncdc.noaa.gov/paleo/study/9970</td>\n",
       "      <td>dobrovolny2010httpswwwncdcnoaagovpaleostudy997...</td>\n",
       "      <td>World Data Center for Paleoclimatology</td>\n",
       "      <td>World Data Center for Paleoclimatology</td>\n",
       "      <td>...</td>\n",
       "      <td>NaN</td>\n",
       "      <td>NaN</td>\n",
       "      <td>[{'uncertainty': 0.34, 'uncertaintyType': 'RMS...</td>\n",
       "      <td>NaN</td>\n",
       "      <td>NaN</td>\n",
       "      <td>NaN</td>\n",
       "      <td>NaN</td>\n",
       "      <td>NaN</td>\n",
       "      <td>NaN</td>\n",
       "      <td>NaN</td>\n",
       "    </tr>\n",
       "    <tr>\n",
       "      <th>14</th>\n",
       "      <td>paleoData</td>\n",
       "      <td>age</td>\n",
       "      <td>Eur-CentralandEasternPyrenees.Pla.2004</td>\n",
       "      <td>https://data.mint.isi.edu/files/lipd/Eur-Centr...</td>\n",
       "      <td>NaN</td>\n",
       "      <td>Jordi Catalan;Sergi Pla</td>\n",
       "      <td>NaN</td>\n",
       "      <td>pla2004chrysophytecystsfromlakes</td>\n",
       "      <td>NaN</td>\n",
       "      <td>Chrysophyte cysts from lake sediments reveal t...</td>\n",
       "      <td>...</td>\n",
       "      <td>0.0</td>\n",
       "      <td>this study</td>\n",
       "      <td>[{'uncertainty': 0.7, 'uncertaintyType': 'Lowe...</td>\n",
       "      <td>NaN</td>\n",
       "      <td>[-44.0, -34.0, -13.0, 7.0, 18.0, 34.0, 45.0, 5...</td>\n",
       "      <td>BP</td>\n",
       "      <td>NaN</td>\n",
       "      <td>NaN</td>\n",
       "      <td>NaN</td>\n",
       "      <td>NaN</td>\n",
       "    </tr>\n",
       "    <tr>\n",
       "      <th>29</th>\n",
       "      <td>paleoData</td>\n",
       "      <td>age</td>\n",
       "      <td>Eur-LakeSilvaplana.Trachsel.2010</td>\n",
       "      <td>https://data.mint.isi.edu/files/lipd/Eur-LakeS...</td>\n",
       "      <td>NaN</td>\n",
       "      <td>M. Trachsel</td>\n",
       "      <td>http://www.ncdc.noaa.gov/paleo/study/13016</td>\n",
       "      <td>trachsel2010httpwwwncdcnoaagovpaleostudy13016D...</td>\n",
       "      <td>World Data Center for Paleoclimatology</td>\n",
       "      <td>World Data Center for Paleoclimatology</td>\n",
       "      <td>...</td>\n",
       "      <td>NaN</td>\n",
       "      <td>NaN</td>\n",
       "      <td>[{'uncertaintyType': 'Root-mean-squared error ...</td>\n",
       "      <td>NaN</td>\n",
       "      <td>NaN</td>\n",
       "      <td>NaN</td>\n",
       "      <td>NaN</td>\n",
       "      <td>NaN</td>\n",
       "      <td>NaN</td>\n",
       "      <td>NaN</td>\n",
       "    </tr>\n",
       "    <tr>\n",
       "      <th>38</th>\n",
       "      <td>paleoData</td>\n",
       "      <td>age</td>\n",
       "      <td>Arc-Tornetrask.Melvin.2012</td>\n",
       "      <td>https://data.mint.isi.edu/files/lipd/Arc-Torne...</td>\n",
       "      <td>NaN</td>\n",
       "      <td>H. Grudd;K. R. Briffa;T. M. Melvin</td>\n",
       "      <td>NaN</td>\n",
       "      <td>melvin2012potentialbiasinupdatingtr</td>\n",
       "      <td>NaN</td>\n",
       "      <td>Potential bias in updating tree-ring chronolog...</td>\n",
       "      <td>...</td>\n",
       "      <td>2013.0</td>\n",
       "      <td>https://crudata.uea.ac.uk/cru/papers/melvin201...</td>\n",
       "      <td>[{'uncertaintyType': 'calibrationRMSE'}]</td>\n",
       "      <td>NaN</td>\n",
       "      <td>NaN</td>\n",
       "      <td>NaN</td>\n",
       "      <td>Climatic Research Unit</td>\n",
       "      <td>NaN</td>\n",
       "      <td>NaN</td>\n",
       "      <td>NaN</td>\n",
       "    </tr>\n",
       "  </tbody>\n",
       "</table>\n",
       "<p>5 rows × 120 columns</p>\n",
       "</div>"
      ],
      "text/plain": [
       "         mode time_id                             dataSetName  \\\n",
       "4   paleoData     age                 Eur-Tallinn.Tarand.2001   \n",
       "7   paleoData     age       Eur-CentralEurope.Dobrovolný.2009   \n",
       "14  paleoData     age  Eur-CentralandEasternPyrenees.Pla.2004   \n",
       "29  paleoData     age        Eur-LakeSilvaplana.Trachsel.2010   \n",
       "38  paleoData     age              Arc-Tornetrask.Melvin.2012   \n",
       "\n",
       "                                               hasUrl dataContributor  \\\n",
       "4   https://data.mint.isi.edu/files/lipd/Eur-Talli...             NaN   \n",
       "7   https://data.mint.isi.edu/files/lipd/Eur-Centr...             NaN   \n",
       "14  https://data.mint.isi.edu/files/lipd/Eur-Centr...             NaN   \n",
       "29  https://data.mint.isi.edu/files/lipd/Eur-LakeS...             NaN   \n",
       "38  https://data.mint.isi.edu/files/lipd/Arc-Torne...             NaN   \n",
       "\n",
       "                           pub1_author  \\\n",
       "4                A. Tarand;P.Ø. Nordli   \n",
       "7                        P. Dobrovolný   \n",
       "14             Jordi Catalan;Sergi Pla   \n",
       "29                         M. Trachsel   \n",
       "38  H. Grudd;K. R. Briffa;T. M. Melvin   \n",
       "\n",
       "                                      pub1_url  \\\n",
       "4                                          NaN   \n",
       "7   https://www.ncdc.noaa.gov/paleo/study/9970   \n",
       "14                                         NaN   \n",
       "29  http://www.ncdc.noaa.gov/paleo/study/13016   \n",
       "38                                         NaN   \n",
       "\n",
       "                                         pub1_citeKey  \\\n",
       "4                 tarand2001thetallinntemperatureseri   \n",
       "7   dobrovolny2010httpswwwncdcnoaagovpaleostudy997...   \n",
       "14                   pla2004chrysophytecystsfromlakes   \n",
       "29  trachsel2010httpwwwncdcnoaagovpaleostudy13016D...   \n",
       "38                melvin2012potentialbiasinupdatingtr   \n",
       "\n",
       "                          pub1_institution  \\\n",
       "4                                      NaN   \n",
       "7   World Data Center for Paleoclimatology   \n",
       "14                                     NaN   \n",
       "29  World Data Center for Paleoclimatology   \n",
       "38                                     NaN   \n",
       "\n",
       "                                           pub1_title  ...  pub2_urldate  \\\n",
       "4   The Tallinn temperature series reconstructed b...  ...           0.0   \n",
       "7              World Data Center for Paleoclimatology  ...           NaN   \n",
       "14  Chrysophyte cysts from lake sediments reveal t...  ...           0.0   \n",
       "29             World Data Center for Paleoclimatology  ...           NaN   \n",
       "38  Potential bias in updating tree-ring chronolog...  ...        2013.0   \n",
       "\n",
       "                                             pub2_url  \\\n",
       "4                                          this study   \n",
       "7                                                 NaN   \n",
       "14                                         this study   \n",
       "29                                                NaN   \n",
       "38  https://crudata.uea.ac.uk/cru/papers/melvin201...   \n",
       "\n",
       "                                paleoData_calibration  \\\n",
       "4   [{'uncertaintyType': 'Maximum error', 'uncerta...   \n",
       "7   [{'uncertainty': 0.34, 'uncertaintyType': 'RMS...   \n",
       "14  [{'uncertainty': 0.7, 'uncertaintyType': 'Lowe...   \n",
       "29  [{'uncertaintyType': 'Root-mean-squared error ...   \n",
       "38           [{'uncertaintyType': 'calibrationRMSE'}]   \n",
       "\n",
       "                                paleoData_uncertainty  \\\n",
       "4   ice break-up: 1 deg C; max. 3 deg C; rye harve...   \n",
       "7                                                 NaN   \n",
       "14                                                NaN   \n",
       "29                                                NaN   \n",
       "38                                                NaN   \n",
       "\n",
       "                                                  age ageUnits  \\\n",
       "4                                                 NaN      NaN   \n",
       "7                                                 NaN      NaN   \n",
       "14  [-44.0, -34.0, -13.0, 7.0, 18.0, 34.0, 45.0, 5...       BP   \n",
       "29                                                NaN      NaN   \n",
       "38                                                NaN      NaN   \n",
       "\n",
       "          pub2_institution investigator data pub1_abstract  \n",
       "4                      NaN          NaN  NaN           NaN  \n",
       "7                      NaN          NaN  NaN           NaN  \n",
       "14                     NaN          NaN  NaN           NaN  \n",
       "29                     NaN          NaN  NaN           NaN  \n",
       "38  Climatic Research Unit          NaN  NaN           NaN  \n",
       "\n",
       "[5 rows x 120 columns]"
      ]
     },
     "execution_count": 40,
     "metadata": {},
     "output_type": "execute_result"
    }
   ],
   "source": [
    "df_temp = df_dir[df_dir['paleoData_variableName']=='temperature']\n",
    "df_temp.head()"
   ]
  },
  {
   "cell_type": "code",
   "execution_count": 41,
   "id": "ca756434",
   "metadata": {},
   "outputs": [
    {
     "data": {
      "text/plain": [
       "(12, 120)"
      ]
     },
     "execution_count": 41,
     "metadata": {},
     "output_type": "execute_result"
    }
   ],
   "source": [
    "df_temp.shape"
   ]
  },
  {
   "cell_type": "markdown",
   "id": "ec3eb41f",
   "metadata": {},
   "source": [
    "which leaves us with 12 timeseries."
   ]
  },
  {
   "cell_type": "markdown",
   "id": "cd21ecd8",
   "metadata": {},
   "source": [
    "If you are only interested in `Ocn-RedSea.Felis.2000` and `Arc-PolarUrals.Wilson.2015`, you can pass these names directly to the function:"
   ]
  },
  {
   "cell_type": "code",
   "execution_count": 35,
   "id": "1d5be056",
   "metadata": {},
   "outputs": [
    {
     "name": "stdout",
     "output_type": "stream",
     "text": [
      "Extracting timeseries from dataset: Ocn-RedSea.Felis.2000 ...\n",
      "Extracting timeseries from dataset: Arc-PolarUrals.Wilson.2015 ...\n"
     ]
    }
   ],
   "source": [
    "ts_list_short, df_short = D_dir.get_timeseries(['Ocn-RedSea.Felis.2000', 'Arc-PolarUrals.Wilson.2015'], to_dataframe=True)"
   ]
  },
  {
   "cell_type": "code",
   "execution_count": 15,
   "id": "1faa50e3",
   "metadata": {},
   "outputs": [
    {
     "data": {
      "text/plain": [
       "dict_keys(['Ocn-RedSea.Felis.2000', 'Arc-PolarUrals.Wilson.2015'])"
      ]
     },
     "execution_count": 15,
     "metadata": {},
     "output_type": "execute_result"
    }
   ],
   "source": [
    "ts_list_short.keys()"
   ]
  },
  {
   "cell_type": "markdown",
   "id": "f98403a1",
   "metadata": {},
   "source": [
    "### Removing and popping datasets out of a LiPD object\n",
    "\n",
    "You can also remove (i.e., delete the corresponding dataset from the `LiPD` object) or pop (i.e., delete the corresponding dataset from the `LiPD` object **and** return the dataset) datasets from a `LiPD` object. Note that these functionalities behave similarly as the functions with the same names on Python lists. These functions underpin more adavanced filtering and querying capabilities that we will discuss in later tutorials. \n",
    "\n",
    "First let's make a [copy](https://pylipd.readthedocs.io/en/latest/source/pylipd.html#pylipd.lipd.LiPD.copy) of `D_dir`:"
   ]
  },
  {
   "cell_type": "code",
   "execution_count": 42,
   "id": "f28b1ccd",
   "metadata": {},
   "outputs": [
    {
     "name": "stdout",
     "output_type": "stream",
     "text": [
      "['Ocn-RedSea.Felis.2000', 'Arc-Forfjorddalen.McCarroll.2013', 'Eur-Tallinn.Tarand.2001', 'Eur-CentralEurope.Dobrovoln_.2009', 'Eur-EuropeanAlps.B_ntgen.2011', 'Eur-CentralandEasternPyrenees.Pla.2004', 'Arc-Tjeggelvas.Bjorklund.2012', 'Arc-Indigirka.Hughes.1999', 'Eur-SpannagelCave.Mangini.2005', 'Ocn-AqabaJordanAQ19.Heiss.1999', 'Arc-Jamtland.Wilson.2016', 'Eur-RAPiD-17-5P.Moffa-Sanchez.2014', 'Eur-LakeSilvaplana.Trachsel.2010', 'Eur-NorthernSpain.Mart_n-Chivelet.2011', 'Eur-MaritimeFrenchAlps.B_ntgen.2012', 'Ocn-AqabaJordanAQ18.Heiss.1999', 'Arc-Tornetrask.Melvin.2012', 'Eur-EasternCarpathianMountains.Popa.2008', 'Arc-PolarUrals.Wilson.2015', 'Eur-LakeSilvaplana.Larocque-Tobler.2010', 'Eur-CoastofPortugal.Abrantes.2011', 'Eur-TatraMountains.B_ntgen.2013', 'Eur-SpanishPyrenees.Dorado-Linan.2012', 'Eur-FinnishLakelands.Helama.2014', 'Eur-Seebergsee.Larocque-Tobler.2012', 'Eur-NorthernScandinavia.Esper.2012', 'Arc-GulfofAlaska.Wilson.2014', 'Arc-Kittelfjall.Bjorklund.2012', 'Eur-L_tschental.B_ntgen.2006', 'Eur-Stockholm.Leijonhufvud.2009', 'Arc-AkademiiNaukIceCap.Opel.2013']\n"
     ]
    }
   ],
   "source": [
    "D_test = D_dir.copy()\n",
    "print(D_test.get_all_dataset_names())"
   ]
  },
  {
   "cell_type": "markdown",
   "id": "58f2b1af",
   "metadata": {},
   "source": [
    "And let's [remove](https://pylipd.readthedocs.io/en/latest/source/pylipd.html#pylipd.lipd.LiPD.remove) `Arc-AkademiiNaukIceCap.Opel.2013`, which corresponds to the last entry in the list above:"
   ]
  },
  {
   "cell_type": "code",
   "execution_count": 43,
   "id": "5b1effa3",
   "metadata": {},
   "outputs": [
    {
     "name": "stdout",
     "output_type": "stream",
     "text": [
      "['Ocn-RedSea.Felis.2000', 'Arc-Forfjorddalen.McCarroll.2013', 'Eur-Tallinn.Tarand.2001', 'Eur-CentralEurope.Dobrovoln_.2009', 'Eur-EuropeanAlps.B_ntgen.2011', 'Eur-CentralandEasternPyrenees.Pla.2004', 'Arc-Tjeggelvas.Bjorklund.2012', 'Arc-Indigirka.Hughes.1999', 'Eur-SpannagelCave.Mangini.2005', 'Ocn-AqabaJordanAQ19.Heiss.1999', 'Arc-Jamtland.Wilson.2016', 'Eur-RAPiD-17-5P.Moffa-Sanchez.2014', 'Eur-LakeSilvaplana.Trachsel.2010', 'Eur-NorthernSpain.Mart_n-Chivelet.2011', 'Eur-MaritimeFrenchAlps.B_ntgen.2012', 'Ocn-AqabaJordanAQ18.Heiss.1999', 'Arc-Tornetrask.Melvin.2012', 'Eur-EasternCarpathianMountains.Popa.2008', 'Arc-PolarUrals.Wilson.2015', 'Eur-LakeSilvaplana.Larocque-Tobler.2010', 'Eur-CoastofPortugal.Abrantes.2011', 'Eur-TatraMountains.B_ntgen.2013', 'Eur-SpanishPyrenees.Dorado-Linan.2012', 'Eur-FinnishLakelands.Helama.2014', 'Eur-Seebergsee.Larocque-Tobler.2012', 'Eur-NorthernScandinavia.Esper.2012', 'Arc-GulfofAlaska.Wilson.2014', 'Arc-Kittelfjall.Bjorklund.2012', 'Eur-L_tschental.B_ntgen.2006', 'Eur-Stockholm.Leijonhufvud.2009']\n"
     ]
    }
   ],
   "source": [
    "D_test.remove('Arc-AkademiiNaukIceCap.Opel.2013')\n",
    "\n",
    "print(D_test.get_all_dataset_names())"
   ]
  },
  {
   "cell_type": "markdown",
   "id": "4e6a8133",
   "metadata": {},
   "source": [
    "Now let's [pop](https://pylipd.readthedocs.io/en/latest/source/pylipd.html#pylipd.lipd.LiPD.pop) `Eur-Stockholm.Leijonhufvud.2009` from `D_test`:"
   ]
  },
  {
   "cell_type": "code",
   "execution_count": 44,
   "id": "d62e6416",
   "metadata": {},
   "outputs": [],
   "source": [
    "d_eur = D_test.pop('Eur-Stockholm.Leijonhufvud.2009')"
   ]
  },
  {
   "cell_type": "markdown",
   "id": "3da5e3b9",
   "metadata": {},
   "source": [
    "Now let's have a look at `d_eur`:"
   ]
  },
  {
   "cell_type": "code",
   "execution_count": 45,
   "id": "a9409498",
   "metadata": {},
   "outputs": [
    {
     "name": "stdout",
     "output_type": "stream",
     "text": [
      "['Eur-Stockholm.Leijonhufvud.2009']\n"
     ]
    }
   ],
   "source": [
    "print(d_eur.get_all_dataset_names())"
   ]
  },
  {
   "cell_type": "markdown",
   "id": "c55c6c2a",
   "metadata": {},
   "source": [
    "It contains the dataset we are expecting. Let's have a look at `D_test`:"
   ]
  },
  {
   "cell_type": "code",
   "execution_count": 46,
   "id": "0cc23dd2",
   "metadata": {},
   "outputs": [
    {
     "name": "stdout",
     "output_type": "stream",
     "text": [
      "['Ocn-RedSea.Felis.2000', 'Arc-Forfjorddalen.McCarroll.2013', 'Eur-Tallinn.Tarand.2001', 'Eur-CentralEurope.Dobrovoln_.2009', 'Eur-EuropeanAlps.B_ntgen.2011', 'Eur-CentralandEasternPyrenees.Pla.2004', 'Arc-Tjeggelvas.Bjorklund.2012', 'Arc-Indigirka.Hughes.1999', 'Eur-SpannagelCave.Mangini.2005', 'Ocn-AqabaJordanAQ19.Heiss.1999', 'Arc-Jamtland.Wilson.2016', 'Eur-RAPiD-17-5P.Moffa-Sanchez.2014', 'Eur-LakeSilvaplana.Trachsel.2010', 'Eur-NorthernSpain.Mart_n-Chivelet.2011', 'Eur-MaritimeFrenchAlps.B_ntgen.2012', 'Ocn-AqabaJordanAQ18.Heiss.1999', 'Arc-Tornetrask.Melvin.2012', 'Eur-EasternCarpathianMountains.Popa.2008', 'Arc-PolarUrals.Wilson.2015', 'Eur-LakeSilvaplana.Larocque-Tobler.2010', 'Eur-CoastofPortugal.Abrantes.2011', 'Eur-TatraMountains.B_ntgen.2013', 'Eur-SpanishPyrenees.Dorado-Linan.2012', 'Eur-FinnishLakelands.Helama.2014', 'Eur-Seebergsee.Larocque-Tobler.2012', 'Eur-NorthernScandinavia.Esper.2012', 'Arc-GulfofAlaska.Wilson.2014', 'Arc-Kittelfjall.Bjorklund.2012', 'Eur-L_tschental.B_ntgen.2006']\n"
     ]
    }
   ],
   "source": [
    "print(D_test.get_all_dataset_names())"
   ]
  },
  {
   "cell_type": "markdown",
   "id": "54732e51",
   "metadata": {},
   "source": [
    "\n",
    "<div class=\"alert alert-warning\">\n",
    "    The dataset was removed from `D_test` in the process. Hence, it's always prudent to make a copy of the original object when using the `remove` and `pop` functionalities. \n",
    "</div>\n"
   ]
  },
  {
   "cell_type": "markdown",
   "id": "cb3f8d71",
   "metadata": {},
   "source": [
    "If can also remove/pop more than one dataset at a time:"
   ]
  },
  {
   "cell_type": "code",
   "execution_count": 47,
   "id": "be7249bb",
   "metadata": {},
   "outputs": [
    {
     "name": "stdout",
     "output_type": "stream",
     "text": [
      "['Eur-Tallinn.Tarand.2001', 'Eur-CentralEurope.Dobrovoln_.2009', 'Eur-EuropeanAlps.B_ntgen.2011', 'Eur-CentralandEasternPyrenees.Pla.2004', 'Arc-Tjeggelvas.Bjorklund.2012', 'Arc-Indigirka.Hughes.1999', 'Eur-SpannagelCave.Mangini.2005', 'Ocn-AqabaJordanAQ19.Heiss.1999', 'Arc-Jamtland.Wilson.2016', 'Eur-RAPiD-17-5P.Moffa-Sanchez.2014', 'Eur-LakeSilvaplana.Trachsel.2010', 'Eur-NorthernSpain.Mart_n-Chivelet.2011', 'Eur-MaritimeFrenchAlps.B_ntgen.2012', 'Ocn-AqabaJordanAQ18.Heiss.1999', 'Arc-Tornetrask.Melvin.2012', 'Eur-EasternCarpathianMountains.Popa.2008', 'Arc-PolarUrals.Wilson.2015', 'Eur-LakeSilvaplana.Larocque-Tobler.2010', 'Eur-CoastofPortugal.Abrantes.2011', 'Eur-TatraMountains.B_ntgen.2013', 'Eur-SpanishPyrenees.Dorado-Linan.2012', 'Eur-FinnishLakelands.Helama.2014', 'Eur-Seebergsee.Larocque-Tobler.2012', 'Eur-NorthernScandinavia.Esper.2012', 'Arc-GulfofAlaska.Wilson.2014', 'Arc-Kittelfjall.Bjorklund.2012', 'Eur-L_tschental.B_ntgen.2006']\n"
     ]
    }
   ],
   "source": [
    "rem = ['Ocn-RedSea.Felis.2000','Arc-Forfjorddalen.McCarroll.2013']\n",
    "\n",
    "D_test.remove(rem)\n",
    "print(D_test.get_all_dataset_names())"
   ]
  }
 ],
 "metadata": {
  "kernelspec": {
   "display_name": "Python 3 (ipykernel)",
   "language": "python",
   "name": "python3"
  },
  "language_info": {
   "codemirror_mode": {
    "name": "ipython",
    "version": 3
   },
   "file_extension": ".py",
   "mimetype": "text/x-python",
   "name": "python",
   "nbconvert_exporter": "python",
   "pygments_lexer": "ipython3",
   "version": "3.10.9"
  }
 },
 "nbformat": 4,
 "nbformat_minor": 5
}
