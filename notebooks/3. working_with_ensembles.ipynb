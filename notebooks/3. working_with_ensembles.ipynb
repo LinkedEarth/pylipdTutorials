{
 "cells": [
  {
   "cell_type": "markdown",
   "id": "ffd73dd3",
   "metadata": {},
   "source": [
    "# Working with ensembles in `pylipd`\n",
    "\n",
    "## Authors\n",
    "\n",
    "Deborah Khider, Varun Ratnakar\n",
    "\n",
    "Information Sciences Institute, University of Southern California\n",
    "\n",
    "Author1 = {\"name\": \"Deborah Khider\", \"affiliation\": \"Information Sciences Institute, University of Southern California\", \"email\": \"khider@usc.edu\", \"orcid\": \"0000-0001-7501-8430\"}\n",
    "\n",
    "Author2 = {\"name\": \"Varun Ratnakar\", \"affiliation\": \"Information Sciences Institute, University of Southern California\", \"email\": \"varunr@isi.edu\"}\n",
    "\n",
    "## Preamble\n",
    "\n",
    "`pylipd` is a Python package that allows you to read, manipulate, and write [LiPD](https://cp.copernicus.org/articles/12/1093/2016/cp-12-1093-2016-discussion.html#discussion) formatted datasets. One of the advantages of the LiPD format is that it allows to store tables of uncertainty ensembles (in particular, age). This notebook describes how `pylipd` handles dealing with ensembles.\n",
    "\n",
    "### Goals\n",
    "\n",
    "* Reading an ensemble from a LiPD object\n",
    "\n",
    "Reading Time: 5 minutes\n",
    "\n",
    "### Keywords\n",
    "\n",
    "LiPD\n",
    "\n",
    "### Pre-requisites\n",
    "\n",
    "None. This tutorial assumes basic knowledge of Python and Pandas. If you are not familiar with this coding language and this particular library, check out this tutorial: http://linked.earth/ec_workshops_py/.\n",
    "\n",
    "### Relevant Packages\n",
    "\n",
    "pylipd\n",
    "\n",
    "## Data Description\n",
    "\n",
    "This notebook uses the following datasets, in LiPD format:"
   ]
  },
  {
   "cell_type": "code",
   "execution_count": null,
   "id": "c8d8c0a5",
   "metadata": {},
   "outputs": [],
   "source": []
  }
 ],
 "metadata": {
  "kernelspec": {
   "display_name": "Python 3 (ipykernel)",
   "language": "python",
   "name": "python3"
  },
  "language_info": {
   "codemirror_mode": {
    "name": "ipython",
    "version": 3
   },
   "file_extension": ".py",
   "mimetype": "text/x-python",
   "name": "python",
   "nbconvert_exporter": "python",
   "pygments_lexer": "ipython3",
   "version": "3.10.9"
  }
 },
 "nbformat": 4,
 "nbformat_minor": 5
}
