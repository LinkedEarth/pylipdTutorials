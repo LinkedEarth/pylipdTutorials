{
 "cells": [
  {
   "cell_type": "markdown",
   "id": "ffd73dd3",
   "metadata": {},
   "source": [
    "# Working with ensembles in `pylipd`\n",
    "\n",
    "## Authors\n",
    "\n",
    "Deborah Khider, Varun Ratnakar\n",
    "\n",
    "Information Sciences Institute, University of Southern California\n",
    "\n",
    "Author1 = {\"name\": \"Deborah Khider\", \"affiliation\": \"Information Sciences Institute, University of Southern California\", \"email\": \"khider@usc.edu\", \"orcid\": \"0000-0001-7501-8430\"}\n",
    "\n",
    "Author2 = {\"name\": \"Varun Ratnakar\", \"affiliation\": \"Information Sciences Institute, University of Southern California\", \"email\": \"varunr@isi.edu\"}\n",
    "\n",
    "## Preamble\n",
    "\n",
    "`pylipd` is a Python package that allows you to read, manipulate, and write [LiPD](https://cp.copernicus.org/articles/12/1093/2016/cp-12-1093-2016-discussion.html#discussion) formatted datasets. One of the advantages of the LiPD format is that it allows to store tables of uncertainty ensembles (in particular, age). This notebook describes how `pylipd` handles dealing with ensembles.\n",
    "\n",
    "### Goals\n",
    "\n",
    "* Reading an ensemble from a LiPD object\n",
    "\n",
    "Reading Time: 5 minutes\n",
    "\n",
    "### Keywords\n",
    "\n",
    "LiPD\n",
    "\n",
    "### Pre-requisites\n",
    "\n",
    "None. This tutorial assumes basic knowledge of Python and Pandas. If you are not familiar with this coding language and this particular library, check out this tutorial: http://linked.earth/ec_workshops_py/.\n",
    "\n",
    "### Relevant Packages\n",
    "\n",
    "pylipd\n",
    "\n",
    "## Data Description\n",
    "\n",
    "This notebook uses the following datasets, in LiPD format:\n",
    "\n",
    "- McCabe-Glynn, S., Johnson, K., Strong, C. et al. Variable North Pacific influence on drought in southwestern North America since AD 854. Nature Geosci 6, 617–621 (2013). https://doi.org/10.1038/ngeo1862\n",
    "\n",
    "- Mix, A. C., J. Le, and N. J. Shackleton (1995), Benthic foraminiferal stable isotope stratigraphy from Site 846: 0–1.8 Ma, Proc. Ocean Drill. Program Sci. Results, 138, 839–847.\n",
    "\n",
    "- Shackleton, N. J., Hall, M. A., & Pate, D. (1995). Pliocene stable isotope stratigraphy of ODP Site 846. Proc. Ocean Drill. Program Sci. Results, 138, 337-356.\n",
    "\n",
    "- Lawrence, K. T., Liu, Z. H., & Herbert, T. D. (2006). Evolution of the eastern tropical Pacific through Plio-Pleistocne glaciation. Science, 312(5770), 79-83.\n",
    "\n",
    "## Demonstration"
   ]
  },
  {
   "cell_type": "code",
   "execution_count": 1,
   "id": "c8d8c0a5",
   "metadata": {},
   "outputs": [],
   "source": [
    "from pylipd.lipd import LiPD"
   ]
  },
  {
   "cell_type": "code",
   "execution_count": 2,
   "id": "f3ff9eb0",
   "metadata": {},
   "outputs": [
    {
     "name": "stdout",
     "output_type": "stream",
     "text": [
      "Loading 2 LiPD files\n",
      "Conversion to RDF done..\n",
      "Loading RDF into graph\n",
      "Loaded..\n"
     ]
    }
   ],
   "source": [
    "D = LiPD()\n",
    "data_path = ['../data/Crystal.McCabe-Glynn.2013.lpd', '../data/ODP846.Lawrence.2006.lpd']\n",
    "D.load(data_path)"
   ]
  },
  {
   "cell_type": "code",
   "execution_count": 3,
   "id": "3e070a1e",
   "metadata": {},
   "outputs": [
    {
     "name": "stdout",
     "output_type": "stream",
     "text": [
      "['Crystal.McCabe-Glynn.2013', 'ODP846.Lawrence.2006']\n"
     ]
    }
   ],
   "source": [
    "names = D.get_all_dataset_names()\n",
    "print(names)"
   ]
  },
  {
   "cell_type": "markdown",
   "id": "6544bead",
   "metadata": {},
   "source": [
    "To load the ensemble tables for all the files:"
   ]
  },
  {
   "cell_type": "code",
   "execution_count": 4,
   "id": "dd270d38",
   "metadata": {},
   "outputs": [
    {
     "data": {
      "text/html": [
       "<div>\n",
       "<style scoped>\n",
       "    .dataframe tbody tr th:only-of-type {\n",
       "        vertical-align: middle;\n",
       "    }\n",
       "\n",
       "    .dataframe tbody tr th {\n",
       "        vertical-align: top;\n",
       "    }\n",
       "\n",
       "    .dataframe thead th {\n",
       "        text-align: right;\n",
       "    }\n",
       "</style>\n",
       "<table border=\"1\" class=\"dataframe\">\n",
       "  <thead>\n",
       "    <tr style=\"text-align: right;\">\n",
       "      <th></th>\n",
       "      <th>datasetName</th>\n",
       "      <th>ensembleTable</th>\n",
       "      <th>ensembleVariableName</th>\n",
       "      <th>ensembleVariableValues</th>\n",
       "      <th>ensembleVariableUnits</th>\n",
       "      <th>ensembleDepthName</th>\n",
       "      <th>ensembleDepthValues</th>\n",
       "      <th>ensembleDepthUnits</th>\n",
       "      <th>notes</th>\n",
       "    </tr>\n",
       "  </thead>\n",
       "  <tbody>\n",
       "    <tr>\n",
       "      <th>0</th>\n",
       "      <td>Crystal.McCabe-Glynn.2013</td>\n",
       "      <td>http://linked.earth/lipd#Crystal.McCabe-Glynn....</td>\n",
       "      <td>Year</td>\n",
       "      <td>[[2007.0, 2007.0, 2008.0, 2007.0, 2007.0, 2007...</td>\n",
       "      <td>AD</td>\n",
       "      <td>depth</td>\n",
       "      <td>[0.1, 0.15, 0.2, 0.25, 0.3, 0.35, 0.4, 0.45, 0...</td>\n",
       "      <td>mm</td>\n",
       "      <td>None</td>\n",
       "    </tr>\n",
       "    <tr>\n",
       "      <th>1</th>\n",
       "      <td>ODP846.Lawrence.2006</td>\n",
       "      <td>http://linked.earth/lipd#chron0model0ensemble0</td>\n",
       "      <td>age</td>\n",
       "      <td>[[4.0, 4.0, 4.0, 4.0, 4.0, 4.0, 4.0, 4.0, 4.0,...</td>\n",
       "      <td>kyr BP</td>\n",
       "      <td>depth</td>\n",
       "      <td>[0.12, 0.23, 0.33, 0.43, 0.53, 0.63, 0.73, 0.8...</td>\n",
       "      <td>m</td>\n",
       "      <td>None</td>\n",
       "    </tr>\n",
       "  </tbody>\n",
       "</table>\n",
       "</div>"
      ],
      "text/plain": [
       "                 datasetName  \\\n",
       "0  Crystal.McCabe-Glynn.2013   \n",
       "1       ODP846.Lawrence.2006   \n",
       "\n",
       "                                       ensembleTable ensembleVariableName  \\\n",
       "0  http://linked.earth/lipd#Crystal.McCabe-Glynn....                 Year   \n",
       "1     http://linked.earth/lipd#chron0model0ensemble0                  age   \n",
       "\n",
       "                              ensembleVariableValues ensembleVariableUnits  \\\n",
       "0  [[2007.0, 2007.0, 2008.0, 2007.0, 2007.0, 2007...                    AD   \n",
       "1  [[4.0, 4.0, 4.0, 4.0, 4.0, 4.0, 4.0, 4.0, 4.0,...                kyr BP   \n",
       "\n",
       "  ensembleDepthName                                ensembleDepthValues  \\\n",
       "0             depth  [0.1, 0.15, 0.2, 0.25, 0.3, 0.35, 0.4, 0.45, 0...   \n",
       "1             depth  [0.12, 0.23, 0.33, 0.43, 0.53, 0.63, 0.73, 0.8...   \n",
       "\n",
       "  ensembleDepthUnits notes  \n",
       "0                 mm  None  \n",
       "1                  m  None  "
      ]
     },
     "execution_count": 4,
     "metadata": {},
     "output_type": "execute_result"
    }
   ],
   "source": [
    "df = D.get_ensemble_tables()\n",
    "\n",
    "df"
   ]
  },
  {
   "cell_type": "markdown",
   "id": "a1c88fa6",
   "metadata": {},
   "source": [
    "The dataframes return the following information:\n",
    "\n",
    "* `datasetName`: The name of the dataset\n",
    "* `ensembleTable`: The ensemble tables associated with the dataset. If more than one ensembleTable is available for the record, then each table will be contained on a different row\n",
    "* `ensembleVariableName`: The name of the ensemble variable. Most likely, it will be a variant of 'age' or 'year'\n",
    "* `ensembleVariableValues`: The values on the ensembles\n",
    "* `ensembleVariableUnits`: The units associated with the time variable\n",
    "* `ensembleDepthName`: The name of the depth vector\n",
    "* `ensembleDepthValues`: The values for the depth axis. This is particularly useful when matching a ensemble table to a particular variable\n",
    "* `ensembleDepthUnits`: The units for the depth. \n",
    "* `notes`: Notes regarding how the model was obtained/done. "
   ]
  },
  {
   "cell_type": "markdown",
   "id": "aa6961fa",
   "metadata": {},
   "source": [
    "If interested in only one dataset:"
   ]
  },
  {
   "cell_type": "code",
   "execution_count": 5,
   "id": "223aa950",
   "metadata": {},
   "outputs": [
    {
     "data": {
      "text/html": [
       "<div>\n",
       "<style scoped>\n",
       "    .dataframe tbody tr th:only-of-type {\n",
       "        vertical-align: middle;\n",
       "    }\n",
       "\n",
       "    .dataframe tbody tr th {\n",
       "        vertical-align: top;\n",
       "    }\n",
       "\n",
       "    .dataframe thead th {\n",
       "        text-align: right;\n",
       "    }\n",
       "</style>\n",
       "<table border=\"1\" class=\"dataframe\">\n",
       "  <thead>\n",
       "    <tr style=\"text-align: right;\">\n",
       "      <th></th>\n",
       "      <th>datasetName</th>\n",
       "      <th>ensembleTable</th>\n",
       "      <th>ensembleVariableName</th>\n",
       "      <th>ensembleVariableValues</th>\n",
       "      <th>ensembleVariableUnits</th>\n",
       "      <th>ensembleDepthName</th>\n",
       "      <th>ensembleDepthValues</th>\n",
       "      <th>ensembleDepthUnits</th>\n",
       "      <th>notes</th>\n",
       "    </tr>\n",
       "  </thead>\n",
       "  <tbody>\n",
       "    <tr>\n",
       "      <th>0</th>\n",
       "      <td>Crystal.McCabe-Glynn.2013</td>\n",
       "      <td>http://linked.earth/lipd#Crystal.McCabe-Glynn....</td>\n",
       "      <td>Year</td>\n",
       "      <td>[[2007.0, 2007.0, 2008.0, 2007.0, 2007.0, 2007...</td>\n",
       "      <td>AD</td>\n",
       "      <td>depth</td>\n",
       "      <td>[0.1, 0.15, 0.2, 0.25, 0.3, 0.35, 0.4, 0.45, 0...</td>\n",
       "      <td>mm</td>\n",
       "      <td>None</td>\n",
       "    </tr>\n",
       "  </tbody>\n",
       "</table>\n",
       "</div>"
      ],
      "text/plain": [
       "                 datasetName  \\\n",
       "0  Crystal.McCabe-Glynn.2013   \n",
       "\n",
       "                                       ensembleTable ensembleVariableName  \\\n",
       "0  http://linked.earth/lipd#Crystal.McCabe-Glynn....                 Year   \n",
       "\n",
       "                              ensembleVariableValues ensembleVariableUnits  \\\n",
       "0  [[2007.0, 2007.0, 2008.0, 2007.0, 2007.0, 2007...                    AD   \n",
       "\n",
       "  ensembleDepthName                                ensembleDepthValues  \\\n",
       "0             depth  [0.1, 0.15, 0.2, 0.25, 0.3, 0.35, 0.4, 0.45, 0...   \n",
       "\n",
       "  ensembleDepthUnits notes  \n",
       "0                 mm  None  "
      ]
     },
     "execution_count": 5,
     "metadata": {},
     "output_type": "execute_result"
    }
   ],
   "source": [
    "df = D.get_ensemble_tables(dsname=names[0])\n",
    "\n",
    "df"
   ]
  },
  {
   "cell_type": "markdown",
   "id": "8f065237",
   "metadata": {},
   "source": [
    "If you know the variable name:"
   ]
  },
  {
   "cell_type": "code",
   "execution_count": 7,
   "id": "5b8d4fbb",
   "metadata": {},
   "outputs": [
    {
     "data": {
      "text/html": [
       "<div>\n",
       "<style scoped>\n",
       "    .dataframe tbody tr th:only-of-type {\n",
       "        vertical-align: middle;\n",
       "    }\n",
       "\n",
       "    .dataframe tbody tr th {\n",
       "        vertical-align: top;\n",
       "    }\n",
       "\n",
       "    .dataframe thead th {\n",
       "        text-align: right;\n",
       "    }\n",
       "</style>\n",
       "<table border=\"1\" class=\"dataframe\">\n",
       "  <thead>\n",
       "    <tr style=\"text-align: right;\">\n",
       "      <th></th>\n",
       "      <th>datasetName</th>\n",
       "      <th>ensembleTable</th>\n",
       "      <th>ensembleVariableName</th>\n",
       "      <th>ensembleVariableValues</th>\n",
       "      <th>ensembleVariableUnits</th>\n",
       "      <th>ensembleDepthName</th>\n",
       "      <th>ensembleDepthValues</th>\n",
       "      <th>ensembleDepthUnits</th>\n",
       "      <th>notes</th>\n",
       "    </tr>\n",
       "  </thead>\n",
       "  <tbody>\n",
       "    <tr>\n",
       "      <th>0</th>\n",
       "      <td>ODP846.Lawrence.2006</td>\n",
       "      <td>http://linked.earth/lipd#chron0model0ensemble0</td>\n",
       "      <td>age</td>\n",
       "      <td>[[4.0, 4.0, 4.0, 4.0, 4.0, 4.0, 4.0, 4.0, 4.0,...</td>\n",
       "      <td>kyr BP</td>\n",
       "      <td>depth</td>\n",
       "      <td>[0.12, 0.23, 0.33, 0.43, 0.53, 0.63, 0.73, 0.8...</td>\n",
       "      <td>m</td>\n",
       "      <td>None</td>\n",
       "    </tr>\n",
       "  </tbody>\n",
       "</table>\n",
       "</div>"
      ],
      "text/plain": [
       "            datasetName                                   ensembleTable  \\\n",
       "0  ODP846.Lawrence.2006  http://linked.earth/lipd#chron0model0ensemble0   \n",
       "\n",
       "  ensembleVariableName                             ensembleVariableValues  \\\n",
       "0                  age  [[4.0, 4.0, 4.0, 4.0, 4.0, 4.0, 4.0, 4.0, 4.0,...   \n",
       "\n",
       "  ensembleVariableUnits ensembleDepthName  \\\n",
       "0                kyr BP             depth   \n",
       "\n",
       "                                 ensembleDepthValues ensembleDepthUnits notes  \n",
       "0  [0.12, 0.23, 0.33, 0.43, 0.53, 0.63, 0.73, 0.8...                  m  None  "
      ]
     },
     "execution_count": 7,
     "metadata": {},
     "output_type": "execute_result"
    }
   ],
   "source": [
    "df = D.get_ensemble_tables(ensembleVarName='age')\n",
    "\n",
    "df"
   ]
  },
  {
   "cell_type": "code",
   "execution_count": null,
   "id": "68cd597b",
   "metadata": {},
   "outputs": [],
   "source": []
  }
 ],
 "metadata": {
  "kernelspec": {
   "display_name": "Python 3 (ipykernel)",
   "language": "python",
   "name": "python3"
  },
  "language_info": {
   "codemirror_mode": {
    "name": "ipython",
    "version": 3
   },
   "file_extension": ".py",
   "mimetype": "text/x-python",
   "name": "python",
   "nbconvert_exporter": "python",
   "pygments_lexer": "ipython3",
   "version": "3.10.9"
  }
 },
 "nbformat": 4,
 "nbformat_minor": 5
}
