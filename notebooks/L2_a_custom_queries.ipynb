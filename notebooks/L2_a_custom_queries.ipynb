{
 "cells": [
  {
   "cell_type": "markdown",
   "id": "038ef1b4-5e42-41d1-a4a3-e3f66eb18bc8",
   "metadata": {},
   "source": [
    "<img src=\"https://github.com/LinkedEarth/Logos/blob/master/PyLiPD/pyLiPD_logo1_transparent.png?raw=true\" width =\"800\">\n",
    "\n",
    "# Custom queries on LiPD objects\n",
    "\n",
    "## Authors\n",
    "\n",
    "[Deborah Khider](https://orcid.org/0000-0001-7501-8430)\n",
    "\n",
    "## Preamble\n",
    "\n",
    "`PyLiPD` is a Python package that allows you to read, manipulate, and write [LiPD](https://doi.org/10.5194/cp-12-1093-2016) formatted datasets. While `PyLiPD` comes pre-loaded with certain functions to filter datasets and extract information (see other tutorials), in some cases one might want to design more specific queries. \n",
    "In this tutorial, we will demonstrate how to generate such custom queries using SPARQL. \n",
    "\n",
    "### Goals\n",
    "\n",
    "* Learn how to build SPAQRL queries\n",
    "\n",
    "Reading Time: 15 minutes\n",
    "\n",
    "### Keywords\n",
    "\n",
    "LiPD, SPARQL\n",
    "\n",
    "### Pre-requisites\n",
    "\n",
    "* [Understand the basics of RDF and SPAQRL](http://linked.earth/pylipdTutorials/graph.html)\n",
    "* [Loading LiPD objects](L0_loading_lips_datasets.md)\n",
    "* [Getting information from LiPD objects](L1_getting_information.md)\n",
    "* [Filtering by certain criteria](L1_filtering.md)                                                                                   \n",
    "                                                                                \n",
    "### Relevant Packages\n",
    "\n",
    "pylipd\n",
    "\n",
    "## Data Description\n",
    "\n",
    "This notebook uses the following datasets, in LiPD format:\n",
    "\n",
    "- McCabe-Glynn, S., Johnson, K., Strong, C. et al. Variable North Pacific influence on drought in southwestern North America since AD 854. Nature Geosci 6, 617–621 (2013). https://doi.org/10.1038/ngeo1862\n",
    "\n",
    "- Lawrence, K. T., Liu, Z. H., & Herbert, T. D. (2006). Evolution of the eastern tropical Pacific through Plio-Pleistocne glaciation. Science, 312(5770), 79-83.\n",
    "\n",
    "- PAGES2k Consortium., Emile-Geay, J., McKay, N. et al. A global multiproxy database for temperature reconstructions of the Common Era. Sci Data 4, 170088 (2017). doi:10.1038/sdata.2017.88\n",
    "\n",
    "## Demonstration\n",
    "\n",
    "### Understanding the LiPD object\n",
    "\n",
    "Let's start by importing our favorite package and load our datasets. "
   ]
  },
  {
   "cell_type": "code",
   "execution_count": 1,
   "id": "b22ba81b-35e3-4d3a-9158-8722393541fc",
   "metadata": {},
   "outputs": [],
   "source": [
    "from pylipd.lipd import LiPD"
   ]
  },
  {
   "cell_type": "code",
   "execution_count": 2,
   "id": "cbec05c0-837e-4417-a80b-cbf172eae6e8",
   "metadata": {},
   "outputs": [
    {
     "name": "stdout",
     "output_type": "stream",
     "text": [
      "Loading 16 LiPD files\n"
     ]
    },
    {
     "name": "stderr",
     "output_type": "stream",
     "text": [
      "100%|███████████████████████████████████████████| 16/16 [00:00<00:00, 64.79it/s]"
     ]
    },
    {
     "name": "stdout",
     "output_type": "stream",
     "text": [
      "Loaded..\n"
     ]
    },
    {
     "name": "stderr",
     "output_type": "stream",
     "text": [
      "\n"
     ]
    }
   ],
   "source": [
    "path = '../data/Pages2k/'\n",
    "\n",
    "D = LiPD()\n",
    "D.load_from_dir(path)"
   ]
  },
  {
   "cell_type": "markdown",
   "id": "410c066a-775f-41de-9b31-bc2a5707f1ef",
   "metadata": {},
   "source": [
    "By now, you should be familiar with our `load` functionalities. But you need to understand a little bit about what's happening under the hood to truly appreciate this tutorial and why everything will function the way it does. \n",
    "\n",
    "- The first step is to expand the dataset stored in LiPD format. Remember that LiPD essentially consists of data tables stored in csv format and a JSON-LD file that contains the metadata.\n",
    "- The second step is to map the JSON file to RDF using our ontology as the schema.\n",
    "- The third (and **unique**) step is to load the data contained into the csv files into the graph directly. This is quite unique to LinkedEarth. If you work with other knowledge bases, you'll find that most of the time, the actual data are stored in another format that you will need the learn to handle in conjunction with the metadata.\n",
    "\n",
    "Also, each dataset gets its own graph! So you can think of the `LiPD` object as a collection of graphs, each of which represent a particular dataset. \n",
    "\n",
    "Let's have a close look at our object, shall we?"
   ]
  },
  {
   "cell_type": "code",
   "execution_count": 3,
   "id": "697b437f-1149-4a05-bd57-116f07d6dfc2",
   "metadata": {},
   "outputs": [
    {
     "data": {
      "text/plain": [
       "{'graph': <Graph identifier=N26fff87cb40b4dd299a6e7695f5c539a (<class 'rdflib.graph.ConjunctiveGraph'>)>}"
      ]
     },
     "execution_count": 3,
     "metadata": {},
     "output_type": "execute_result"
    }
   ],
   "source": [
    "D.copy().__dict__"
   ]
  },
  {
   "cell_type": "markdown",
   "id": "b2513e63-5b13-4a57-bc8e-3cfb499c5b93",
   "metadata": {},
   "source": [
    "In particular, our graph object is a `ConjuctiveGraph` from the [rdflib library](https://rdflib.readthedocs.io/en/stable/). Why should you care?\n",
    "\n",
    "1. If you isolate the graph, then you can use the `rdflib` package directly. Since this is a well-maintained community package with a larger user base than `PyLiPD`, chances are that stackoverflow or their documentation will provide you with some answers on how to work with your graph.\n",
    "2. why a `ConjuctiveGraph`? We use this particular type because although each dataset is stored into its own graph, we often want to query across datasets (i.e., across graphs) and this particular object in `rdflib` allows us to do so.\n",
    "\n",
    "Let's try to create our own queries from this."
   ]
  },
  {
   "cell_type": "markdown",
   "id": "81b57e86-b972-45f4-a003-1722666ef486",
   "metadata": {},
   "source": [
    "### Constructing a query\n",
    "\n",
    "Let's return to the query described in [this primer](http://linked.earth/pylipdTutorials/graph.html) in which we try to gather all the dataset names. Let's modify it to also return the variable `ds` so you can see the difference between the object and the name:"
   ]
  },
  {
   "cell_type": "code",
   "execution_count": 4,
   "id": "916a104b-9c6a-4711-b2aa-284a80db4ac2",
   "metadata": {},
   "outputs": [],
   "source": [
    "query =\"\"\"\n",
    "\n",
    "PREFIX le:<http://linked.earth/ontology#>\n",
    "\n",
    "SELECT ?ds ?dsname WHERE{\n",
    "\n",
    "?ds a le:Dataset .\n",
    "?ds le:hasName ?dsname .}\n",
    "\n",
    "\"\"\""
   ]
  },
  {
   "cell_type": "markdown",
   "id": "6b8e0cc0-5822-418d-8c61-431e1cd3688d",
   "metadata": {},
   "source": [
    "Notice that this is just a string containing the query in SPARQL language. Now, let's run it: "
   ]
  },
  {
   "cell_type": "code",
   "execution_count": 5,
   "id": "38280626-1649-4e65-8058-6e34929604fa",
   "metadata": {},
   "outputs": [],
   "source": [
    "res_sparql, res_df = D.query(query)"
   ]
  },
  {
   "cell_type": "markdown",
   "id": "48054f23-1692-484f-95d6-d148beee88cf",
   "metadata": {},
   "source": [
    "Which returns two objects:\n",
    "* `res_sparql`, which is a `SPARQLResult` object from `rdflib`\n",
    "* `res_df`, which processes the `SPARQLResult` into a DataFrame, which is often what you will be interested to look at. Let's have a look at it:"
   ]
  },
  {
   "cell_type": "code",
   "execution_count": 6,
   "id": "6230759e-46d0-41e7-bb16-bc25a2b9a299",
   "metadata": {},
   "outputs": [
    {
     "data": {
      "text/html": [
       "<div>\n",
       "<style scoped>\n",
       "    .dataframe tbody tr th:only-of-type {\n",
       "        vertical-align: middle;\n",
       "    }\n",
       "\n",
       "    .dataframe tbody tr th {\n",
       "        vertical-align: top;\n",
       "    }\n",
       "\n",
       "    .dataframe thead th {\n",
       "        text-align: right;\n",
       "    }\n",
       "</style>\n",
       "<table border=\"1\" class=\"dataframe\">\n",
       "  <thead>\n",
       "    <tr style=\"text-align: right;\">\n",
       "      <th></th>\n",
       "      <th>ds</th>\n",
       "      <th>dsname</th>\n",
       "    </tr>\n",
       "  </thead>\n",
       "  <tbody>\n",
       "    <tr>\n",
       "      <th>0</th>\n",
       "      <td>http://linked.earth/lipd/Ocn-RedSea.Felis.2000</td>\n",
       "      <td>Ocn-RedSea.Felis.2000</td>\n",
       "    </tr>\n",
       "    <tr>\n",
       "      <th>1</th>\n",
       "      <td>http://linked.earth/lipd/Ant-WAIS-Divide.Sever...</td>\n",
       "      <td>Ant-WAIS-Divide.Severinghaus.2012</td>\n",
       "    </tr>\n",
       "    <tr>\n",
       "      <th>2</th>\n",
       "      <td>http://linked.earth/lipd/Asi-SourthAndMiddleUr...</td>\n",
       "      <td>Asi-SourthAndMiddleUrals.Demezhko.2007</td>\n",
       "    </tr>\n",
       "    <tr>\n",
       "      <th>3</th>\n",
       "      <td>http://linked.earth/lipd/Ocn-AlboranSea436B.Ni...</td>\n",
       "      <td>Ocn-AlboranSea436B.Nieto-Moreno.2013</td>\n",
       "    </tr>\n",
       "    <tr>\n",
       "      <th>4</th>\n",
       "      <td>http://linked.earth/lipd/Eur-SpannagelCave.Man...</td>\n",
       "      <td>Eur-SpannagelCave.Mangini.2005</td>\n",
       "    </tr>\n",
       "  </tbody>\n",
       "</table>\n",
       "</div>"
      ],
      "text/plain": [
       "                                                  ds  \\\n",
       "0     http://linked.earth/lipd/Ocn-RedSea.Felis.2000   \n",
       "1  http://linked.earth/lipd/Ant-WAIS-Divide.Sever...   \n",
       "2  http://linked.earth/lipd/Asi-SourthAndMiddleUr...   \n",
       "3  http://linked.earth/lipd/Ocn-AlboranSea436B.Ni...   \n",
       "4  http://linked.earth/lipd/Eur-SpannagelCave.Man...   \n",
       "\n",
       "                                   dsname  \n",
       "0                   Ocn-RedSea.Felis.2000  \n",
       "1       Ant-WAIS-Divide.Severinghaus.2012  \n",
       "2  Asi-SourthAndMiddleUrals.Demezhko.2007  \n",
       "3    Ocn-AlboranSea436B.Nieto-Moreno.2013  \n",
       "4          Eur-SpannagelCave.Mangini.2005  "
      ]
     },
     "execution_count": 6,
     "metadata": {},
     "output_type": "execute_result"
    }
   ],
   "source": [
    "res_df.head()"
   ]
  },
  {
   "cell_type": "markdown",
   "id": "38e5de1b-1987-4a16-a939-ccd61b28760d",
   "metadata": {},
   "source": [
    "First, notice that the columns of the dataframe corresponds to the names of the variables that you have specified in the SPARQL query. You can choose any name that you want as long as you use a question mark at the beginning to indicate to SPARQL that you are questioning the database for the answer. Second, notice the difference between `ds` and `dsname`. `ds` is the dataset object and the query returns the URI of that object. `dsname` is a string, which contains the names of the dataset. In general, we form our URIs with the names of the objects so don't be surprised if you sometimes end up with the URI instead of the name (we all sometimes forget to ask for the name)."
   ]
  },
  {
   "cell_type": "markdown",
   "id": "ad8b0201-f83f-4247-8783-d2fe544043f5",
   "metadata": {},
   "source": [
    "One thing to consider is the speed of query. If you're doing exploratory work with SPARQL, you may wish to only return a few results to see if you're doing this right. In this case, the number of datasets is quite small:"
   ]
  },
  {
   "cell_type": "code",
   "execution_count": 7,
   "id": "a42aa7bc-8e4e-4f53-ba86-f075fcdf9bcb",
   "metadata": {},
   "outputs": [
    {
     "data": {
      "text/plain": [
       "16"
      ]
     },
     "execution_count": 7,
     "metadata": {},
     "output_type": "execute_result"
    }
   ],
   "source": [
    "len(res_df.index)"
   ]
  },
  {
   "cell_type": "markdown",
   "id": "0510cfeb-217b-4d8b-b6b5-996afa7af157",
   "metadata": {},
   "source": [
    "But if you have thousands of rows in that dataframe, you might not want to wait for the query to perform as this may take a few minutes. If you only want to return the first 10 rows in the query, just add the limit to the query:"
   ]
  },
  {
   "cell_type": "code",
   "execution_count": 8,
   "id": "3968b39c-7bdf-4c83-a379-19e4467ef4fe",
   "metadata": {},
   "outputs": [
    {
     "data": {
      "text/plain": [
       "10"
      ]
     },
     "execution_count": 8,
     "metadata": {},
     "output_type": "execute_result"
    }
   ],
   "source": [
    "query =\"\"\"\n",
    "\n",
    "PREFIX le:<http://linked.earth/ontology#>\n",
    "\n",
    "SELECT ?ds ?dsname WHERE{\n",
    "\n",
    "?ds a le:Dataset .\n",
    "?ds le:hasName ?dsname .}\n",
    "\n",
    "LIMIT 10\n",
    "\n",
    "\"\"\"\n",
    "\n",
    "res, res_df = D.query(query)\n",
    "\n",
    "len(res_df.index)"
   ]
  },
  {
   "cell_type": "markdown",
   "id": "ea73febb-d33d-40fd-86a5-c6db12dd05f0",
   "metadata": {},
   "source": [
    "Please note that the number of rows doesn't correspond to the number of datasets. For instance, if a dataset contains several variables (as most do) and I ask for each variable in a dataset, then each variable will be contained in an individual row. "
   ]
  },
  {
   "cell_type": "markdown",
   "id": "76e7442e-0d2a-4c96-be58-39792d4dbf6e",
   "metadata": {},
   "source": [
    "### Optional variables\n",
    "\n",
    "Let's pop out one the Pages2k dataset into a new LiPD object, `D2` and add the ODP846 dataset for the purpose of this demonstration. Why ODP846? The file was created before LiPD had DatasetIDs, therefore I know this dataset doesn't have one. "
   ]
  },
  {
   "cell_type": "code",
   "execution_count": 9,
   "id": "446082c8-14d6-4e04-8613-8f6801de6d38",
   "metadata": {},
   "outputs": [
    {
     "data": {
      "text/plain": [
       "['Ocn-RedSea.Felis.2000',\n",
       " 'Ant-WAIS-Divide.Severinghaus.2012',\n",
       " 'Asi-SourthAndMiddleUrals.Demezhko.2007',\n",
       " 'Ocn-AlboranSea436B.Nieto-Moreno.2013',\n",
       " 'Eur-SpannagelCave.Mangini.2005',\n",
       " 'Ocn-FeniDrift.Richter.2009',\n",
       " 'Eur-LakeSilvaplana.Trachsel.2010',\n",
       " 'Ocn-PedradeLume-CapeVerdeIslands.Moses.2006',\n",
       " 'Ocn-SinaiPeninsula_RedSea.Moustafa.2000',\n",
       " 'Eur-NorthernSpain.Martin-Chivelet.2011',\n",
       " 'Arc-Kongressvatnet.D_Andrea.2012',\n",
       " 'Eur-CoastofPortugal.Abrantes.2011',\n",
       " 'Eur-SpanishPyrenees.Dorado-Linan.2012',\n",
       " 'Eur-FinnishLakelands.Helama.2014',\n",
       " 'Eur-NorthernScandinavia.Esper.2012',\n",
       " 'Eur-Stockholm.Leijonhufvud.2009']"
      ]
     },
     "execution_count": 9,
     "metadata": {},
     "output_type": "execute_result"
    }
   ],
   "source": [
    "D.get_all_dataset_names()"
   ]
  },
  {
   "cell_type": "code",
   "execution_count": 10,
   "id": "38462639-4ea3-47cc-b815-408fd370516d",
   "metadata": {},
   "outputs": [],
   "source": [
    "D2 = D.pop('Ocn-RedSea.Felis.2000')"
   ]
  },
  {
   "cell_type": "code",
   "execution_count": 11,
   "id": "d347bb19-72c8-4a3e-a714-5a3d6765e53b",
   "metadata": {},
   "outputs": [
    {
     "name": "stdout",
     "output_type": "stream",
     "text": [
      "Loading 1 LiPD files\n"
     ]
    },
    {
     "name": "stderr",
     "output_type": "stream",
     "text": [
      "100%|█████████████████████████████████████████████| 1/1 [00:00<00:00,  1.47it/s]"
     ]
    },
    {
     "name": "stdout",
     "output_type": "stream",
     "text": [
      "Loaded..\n"
     ]
    },
    {
     "name": "stderr",
     "output_type": "stream",
     "text": [
      "\n"
     ]
    },
    {
     "data": {
      "text/plain": [
       "['Ocn-RedSea.Felis.2000', 'ODP846.Lawrence.2006']"
      ]
     },
     "execution_count": 11,
     "metadata": {},
     "output_type": "execute_result"
    }
   ],
   "source": [
    "D2.load('../data/ODP846.Lawrence.2006.lpd')\n",
    "D2.get_all_dataset_names()"
   ]
  },
  {
   "cell_type": "markdown",
   "id": "b971321f-6910-430c-8ea6-7f902bf37ad5",
   "metadata": {},
   "source": [
    "Let's perform a similar query, but asking for the datasetID in addition to returning the dataset name:"
   ]
  },
  {
   "cell_type": "code",
   "execution_count": 12,
   "id": "65b7f392-d969-48db-af07-0f0d10e761d1",
   "metadata": {},
   "outputs": [
    {
     "data": {
      "text/html": [
       "<div>\n",
       "<style scoped>\n",
       "    .dataframe tbody tr th:only-of-type {\n",
       "        vertical-align: middle;\n",
       "    }\n",
       "\n",
       "    .dataframe tbody tr th {\n",
       "        vertical-align: top;\n",
       "    }\n",
       "\n",
       "    .dataframe thead th {\n",
       "        text-align: right;\n",
       "    }\n",
       "</style>\n",
       "<table border=\"1\" class=\"dataframe\">\n",
       "  <thead>\n",
       "    <tr style=\"text-align: right;\">\n",
       "      <th></th>\n",
       "      <th>ds</th>\n",
       "      <th>dsname</th>\n",
       "      <th>datasetID</th>\n",
       "    </tr>\n",
       "  </thead>\n",
       "  <tbody>\n",
       "    <tr>\n",
       "      <th>0</th>\n",
       "      <td>http://linked.earth/lipd/Ocn-RedSea.Felis.2000</td>\n",
       "      <td>Ocn-RedSea.Felis.2000</td>\n",
       "      <td>4fZQAHmeuJn8ipLfurWv</td>\n",
       "    </tr>\n",
       "  </tbody>\n",
       "</table>\n",
       "</div>"
      ],
      "text/plain": [
       "                                               ds                 dsname  \\\n",
       "0  http://linked.earth/lipd/Ocn-RedSea.Felis.2000  Ocn-RedSea.Felis.2000   \n",
       "\n",
       "              datasetID  \n",
       "0  4fZQAHmeuJn8ipLfurWv  "
      ]
     },
     "execution_count": 12,
     "metadata": {},
     "output_type": "execute_result"
    }
   ],
   "source": [
    "query =\"\"\"\n",
    "\n",
    "PREFIX le:<http://linked.earth/ontology#>\n",
    "\n",
    "SELECT ?ds ?dsname ?datasetID WHERE{\n",
    "\n",
    "?ds a le:Dataset .\n",
    "?ds le:hasName ?dsname .\n",
    "?ds le:hasDatasetId ?datasetID}\n",
    "\n",
    "\"\"\"\n",
    "\n",
    "res, res_df = D2.query(query)\n",
    "\n",
    "res_df"
   ]
  },
  {
   "cell_type": "markdown",
   "id": "7c4cb191-1451-4e3d-9728-2d6465f7ce78",
   "metadata": {},
   "source": [
    "As you can see, only the PAGES2k dataset was returned through this query. The ODP846 dataset was omitted because it doesn't have a datasetID. If you want to make this query optional, then all you need to do is write `OPTIONAL` in front of it:"
   ]
  },
  {
   "cell_type": "code",
   "execution_count": 13,
   "id": "2bae7a33-5367-4887-93ef-f8032ed7a753",
   "metadata": {},
   "outputs": [
    {
     "data": {
      "text/html": [
       "<div>\n",
       "<style scoped>\n",
       "    .dataframe tbody tr th:only-of-type {\n",
       "        vertical-align: middle;\n",
       "    }\n",
       "\n",
       "    .dataframe tbody tr th {\n",
       "        vertical-align: top;\n",
       "    }\n",
       "\n",
       "    .dataframe thead th {\n",
       "        text-align: right;\n",
       "    }\n",
       "</style>\n",
       "<table border=\"1\" class=\"dataframe\">\n",
       "  <thead>\n",
       "    <tr style=\"text-align: right;\">\n",
       "      <th></th>\n",
       "      <th>ds</th>\n",
       "      <th>dsname</th>\n",
       "      <th>datasetID</th>\n",
       "    </tr>\n",
       "  </thead>\n",
       "  <tbody>\n",
       "    <tr>\n",
       "      <th>0</th>\n",
       "      <td>http://linked.earth/lipd/Ocn-RedSea.Felis.2000</td>\n",
       "      <td>Ocn-RedSea.Felis.2000</td>\n",
       "      <td>4fZQAHmeuJn8ipLfurWv</td>\n",
       "    </tr>\n",
       "    <tr>\n",
       "      <th>1</th>\n",
       "      <td>http://linked.earth/lipd/ODP846.Lawrence.2006</td>\n",
       "      <td>ODP846.Lawrence.2006</td>\n",
       "      <td>None</td>\n",
       "    </tr>\n",
       "  </tbody>\n",
       "</table>\n",
       "</div>"
      ],
      "text/plain": [
       "                                               ds                 dsname  \\\n",
       "0  http://linked.earth/lipd/Ocn-RedSea.Felis.2000  Ocn-RedSea.Felis.2000   \n",
       "1   http://linked.earth/lipd/ODP846.Lawrence.2006   ODP846.Lawrence.2006   \n",
       "\n",
       "              datasetID  \n",
       "0  4fZQAHmeuJn8ipLfurWv  \n",
       "1                  None  "
      ]
     },
     "execution_count": 13,
     "metadata": {},
     "output_type": "execute_result"
    }
   ],
   "source": [
    "query =\"\"\"\n",
    "\n",
    "PREFIX le:<http://linked.earth/ontology#>\n",
    "\n",
    "SELECT ?ds ?dsname ?datasetID WHERE{\n",
    "\n",
    "?ds a le:Dataset .\n",
    "?ds le:hasName ?dsname .\n",
    "OPTIONAL{?ds le:hasDatasetId ?datasetID.}}\n",
    "\n",
    "\"\"\"\n",
    "\n",
    "res, res_df = D2.query(query)\n",
    "\n",
    "res_df"
   ]
  },
  {
   "cell_type": "markdown",
   "id": "dbf18b83-3f26-48df-9697-c5fd04e42f35",
   "metadata": {},
   "source": [
    "In this case, you at least get the dataset name. When to use `OPTIONAL` filtering is really up to you. If the answer associated with a specific property is critical to your analysis, then it allows you to filter out these datasets directly. However, if the piece of information is not critical, you may want to use the `OPTIONAL` filter. "
   ]
  },
  {
   "cell_type": "markdown",
   "id": "392c5533-8c60-4495-a0cf-b67e1bc5de5d",
   "metadata": {},
   "source": [
    "### Querying for predicates\n",
    "\n",
    "Constructing these queries beg the question: do I need to know the ontology? To some extent, yes. You would need to know any database schema to be able to query it. However you do not need to know it in excrutiating details. \n",
    "\n",
    "First, as you may have surmised, most of the `PyLiPD` functionalities designed to return information about the datasets are essentially wrappers around these queries. So if you're interested, you can actually have a look at [`queries.py`](https://github.com/LinkedEarth/pylipd/blob/main/pylipd/globals/queries.py) within the `PyLiPD` package to get some inspiration. \n",
    "\n",
    "Second, you can also directly query all the predicates attached to an object directly. Let's do so, shall we?"
   ]
  },
  {
   "cell_type": "code",
   "execution_count": 14,
   "id": "5a0b7edc-a5cb-4439-b7a6-759c8c3b49d7",
   "metadata": {},
   "outputs": [],
   "source": [
    "query =\"\"\"\n",
    "\n",
    "PREFIX le:<http://linked.earth/ontology#>\n",
    "\n",
    "SELECT DISTINCT ?p WHERE {\n",
    "\n",
    "?ds a le:Dataset .\n",
    "?ds ?p ?o .\n",
    "}\n",
    "\"\"\""
   ]
  },
  {
   "cell_type": "markdown",
   "id": "8f4b0d91-96f2-4d2c-bd2c-0d61f17059eb",
   "metadata": {},
   "source": [
    "Let's break that query down. The second line contains the directive `DISTINCT` which will return unique predicates. The last line makes the predicate a variable that we are querying. "
   ]
  },
  {
   "cell_type": "code",
   "execution_count": 15,
   "id": "d979e857-7721-40ef-af2b-74e8cf05f106",
   "metadata": {},
   "outputs": [
    {
     "data": {
      "text/html": [
       "<div>\n",
       "<style scoped>\n",
       "    .dataframe tbody tr th:only-of-type {\n",
       "        vertical-align: middle;\n",
       "    }\n",
       "\n",
       "    .dataframe tbody tr th {\n",
       "        vertical-align: top;\n",
       "    }\n",
       "\n",
       "    .dataframe thead th {\n",
       "        text-align: right;\n",
       "    }\n",
       "</style>\n",
       "<table border=\"1\" class=\"dataframe\">\n",
       "  <thead>\n",
       "    <tr style=\"text-align: right;\">\n",
       "      <th></th>\n",
       "      <th>p</th>\n",
       "    </tr>\n",
       "  </thead>\n",
       "  <tbody>\n",
       "    <tr>\n",
       "      <th>0</th>\n",
       "      <td>http://www.w3.org/1999/02/22-rdf-syntax-ns#type</td>\n",
       "    </tr>\n",
       "    <tr>\n",
       "      <th>1</th>\n",
       "      <td>http://linked.earth/ontology#inCompilation1_</td>\n",
       "    </tr>\n",
       "    <tr>\n",
       "      <th>2</th>\n",
       "      <td>http://linked.earth/ontology#maxYear</td>\n",
       "    </tr>\n",
       "    <tr>\n",
       "      <th>3</th>\n",
       "      <td>http://linked.earth/ontology#googleDataURL</td>\n",
       "    </tr>\n",
       "    <tr>\n",
       "      <th>4</th>\n",
       "      <td>http://linked.earth/ontology#hasPublication</td>\n",
       "    </tr>\n",
       "    <tr>\n",
       "      <th>5</th>\n",
       "      <td>http://linked.earth/ontology#hasSpreadsheetLink</td>\n",
       "    </tr>\n",
       "    <tr>\n",
       "      <th>6</th>\n",
       "      <td>http://linked.earth/ontology#inCompilation2_</td>\n",
       "    </tr>\n",
       "    <tr>\n",
       "      <th>7</th>\n",
       "      <td>http://linked.earth/ontology#hasDatasetId</td>\n",
       "    </tr>\n",
       "    <tr>\n",
       "      <th>8</th>\n",
       "      <td>http://linked.earth/ontology#minYear</td>\n",
       "    </tr>\n",
       "    <tr>\n",
       "      <th>9</th>\n",
       "      <td>http://linked.earth/ontology#hasOriginalDataUrl</td>\n",
       "    </tr>\n",
       "    <tr>\n",
       "      <th>10</th>\n",
       "      <td>http://linked.earth/ontology#hasUrl</td>\n",
       "    </tr>\n",
       "    <tr>\n",
       "      <th>11</th>\n",
       "      <td>http://linked.earth/ontology#studyName</td>\n",
       "    </tr>\n",
       "    <tr>\n",
       "      <th>12</th>\n",
       "      <td>http://linked.earth/ontology#googleMetadataWor...</td>\n",
       "    </tr>\n",
       "    <tr>\n",
       "      <th>13</th>\n",
       "      <td>http://linked.earth/ontology#createdBy</td>\n",
       "    </tr>\n",
       "    <tr>\n",
       "      <th>14</th>\n",
       "      <td>http://linked.earth/ontology#lipdVersion</td>\n",
       "    </tr>\n",
       "    <tr>\n",
       "      <th>15</th>\n",
       "      <td>http://linked.earth/ontology#inCompilation3_</td>\n",
       "    </tr>\n",
       "    <tr>\n",
       "      <th>16</th>\n",
       "      <td>http://linked.earth/ontology#hasLocation</td>\n",
       "    </tr>\n",
       "    <tr>\n",
       "      <th>17</th>\n",
       "      <td>http://linked.earth/ontology#hasContributor</td>\n",
       "    </tr>\n",
       "    <tr>\n",
       "      <th>18</th>\n",
       "      <td>http://linked.earth/ontology#hasArchiveType</td>\n",
       "    </tr>\n",
       "    <tr>\n",
       "      <th>19</th>\n",
       "      <td>http://linked.earth/ontology#hasChangeLog</td>\n",
       "    </tr>\n",
       "    <tr>\n",
       "      <th>20</th>\n",
       "      <td>http://linked.earth/ontology#hasPaleoData</td>\n",
       "    </tr>\n",
       "    <tr>\n",
       "      <th>21</th>\n",
       "      <td>http://linked.earth/ontology#hasName</td>\n",
       "    </tr>\n",
       "    <tr>\n",
       "      <th>22</th>\n",
       "      <td>http://linked.earth/ontology#hasChronData</td>\n",
       "    </tr>\n",
       "    <tr>\n",
       "      <th>23</th>\n",
       "      <td>http://linked.earth/ontology#hasInvestigator</td>\n",
       "    </tr>\n",
       "    <tr>\n",
       "      <th>24</th>\n",
       "      <td>http://linked.earth/ontology#lipdComplete</td>\n",
       "    </tr>\n",
       "  </tbody>\n",
       "</table>\n",
       "</div>"
      ],
      "text/plain": [
       "                                                    p\n",
       "0     http://www.w3.org/1999/02/22-rdf-syntax-ns#type\n",
       "1        http://linked.earth/ontology#inCompilation1_\n",
       "2                http://linked.earth/ontology#maxYear\n",
       "3          http://linked.earth/ontology#googleDataURL\n",
       "4         http://linked.earth/ontology#hasPublication\n",
       "5     http://linked.earth/ontology#hasSpreadsheetLink\n",
       "6        http://linked.earth/ontology#inCompilation2_\n",
       "7           http://linked.earth/ontology#hasDatasetId\n",
       "8                http://linked.earth/ontology#minYear\n",
       "9     http://linked.earth/ontology#hasOriginalDataUrl\n",
       "10                http://linked.earth/ontology#hasUrl\n",
       "11             http://linked.earth/ontology#studyName\n",
       "12  http://linked.earth/ontology#googleMetadataWor...\n",
       "13             http://linked.earth/ontology#createdBy\n",
       "14           http://linked.earth/ontology#lipdVersion\n",
       "15       http://linked.earth/ontology#inCompilation3_\n",
       "16           http://linked.earth/ontology#hasLocation\n",
       "17        http://linked.earth/ontology#hasContributor\n",
       "18        http://linked.earth/ontology#hasArchiveType\n",
       "19          http://linked.earth/ontology#hasChangeLog\n",
       "20          http://linked.earth/ontology#hasPaleoData\n",
       "21               http://linked.earth/ontology#hasName\n",
       "22          http://linked.earth/ontology#hasChronData\n",
       "23       http://linked.earth/ontology#hasInvestigator\n",
       "24          http://linked.earth/ontology#lipdComplete"
      ]
     },
     "execution_count": 15,
     "metadata": {},
     "output_type": "execute_result"
    }
   ],
   "source": [
    "_,df = D2.query(query)\n",
    "\n",
    "df"
   ]
  },
  {
   "cell_type": "markdown",
   "id": "0d61b41c-192e-44b1-8c73-cf9f9077da22",
   "metadata": {},
   "source": [
    "#### Geoquery\n",
    "\n",
    "Let's try a geospatial query on our original database. From the list of properties above, `hasLocation` links to coordinates. So let's try to have a look at this object:"
   ]
  },
  {
   "cell_type": "code",
   "execution_count": 16,
   "id": "87661557-3903-456d-bc04-7bbb249d7c3b",
   "metadata": {},
   "outputs": [],
   "source": [
    "query =\"\"\"\n",
    "\n",
    "PREFIX le:<http://linked.earth/ontology#>\n",
    "\n",
    "SELECT DISTINCT ?p WHERE {\n",
    "\n",
    "?ds a le:Dataset .\n",
    "?ds le:hasLocation ?geo .\n",
    "?geo ?p ?o .\n",
    "}\n",
    "\"\"\""
   ]
  },
  {
   "cell_type": "code",
   "execution_count": 17,
   "id": "7367fba0-7e23-4e65-80bc-c2ba9fda82b1",
   "metadata": {},
   "outputs": [
    {
     "data": {
      "text/html": [
       "<div>\n",
       "<style scoped>\n",
       "    .dataframe tbody tr th:only-of-type {\n",
       "        vertical-align: middle;\n",
       "    }\n",
       "\n",
       "    .dataframe tbody tr th {\n",
       "        vertical-align: top;\n",
       "    }\n",
       "\n",
       "    .dataframe thead th {\n",
       "        text-align: right;\n",
       "    }\n",
       "</style>\n",
       "<table border=\"1\" class=\"dataframe\">\n",
       "  <thead>\n",
       "    <tr style=\"text-align: right;\">\n",
       "      <th></th>\n",
       "      <th>p</th>\n",
       "    </tr>\n",
       "  </thead>\n",
       "  <tbody>\n",
       "    <tr>\n",
       "      <th>0</th>\n",
       "      <td>http://linked.earth/ontology#coordinates</td>\n",
       "    </tr>\n",
       "    <tr>\n",
       "      <th>1</th>\n",
       "      <td>http://www.w3.org/2003/01/geo/wgs84_pos#long</td>\n",
       "    </tr>\n",
       "    <tr>\n",
       "      <th>2</th>\n",
       "      <td>http://www.w3.org/2003/01/geo/wgs84_pos#alt</td>\n",
       "    </tr>\n",
       "    <tr>\n",
       "      <th>3</th>\n",
       "      <td>http://linked.earth/ontology#hasElevation</td>\n",
       "    </tr>\n",
       "    <tr>\n",
       "      <th>4</th>\n",
       "      <td>http://linked.earth/ontology#pages2kRegion</td>\n",
       "    </tr>\n",
       "    <tr>\n",
       "      <th>5</th>\n",
       "      <td>http://www.w3.org/1999/02/22-rdf-syntax-ns#type</td>\n",
       "    </tr>\n",
       "    <tr>\n",
       "      <th>6</th>\n",
       "      <td>http://linked.earth/ontology#coordinatesFor</td>\n",
       "    </tr>\n",
       "    <tr>\n",
       "      <th>7</th>\n",
       "      <td>http://www.w3.org/2003/01/geo/wgs84_pos#lat</td>\n",
       "    </tr>\n",
       "    <tr>\n",
       "      <th>8</th>\n",
       "      <td>http://linked.earth/ontology#hasLongitude</td>\n",
       "    </tr>\n",
       "    <tr>\n",
       "      <th>9</th>\n",
       "      <td>http://linked.earth/ontology#hasLatitude</td>\n",
       "    </tr>\n",
       "    <tr>\n",
       "      <th>10</th>\n",
       "      <td>http://linked.earth/ontology#hasSiteName</td>\n",
       "    </tr>\n",
       "    <tr>\n",
       "      <th>11</th>\n",
       "      <td>http://linked.earth/ontology#region</td>\n",
       "    </tr>\n",
       "    <tr>\n",
       "      <th>12</th>\n",
       "      <td>http://linked.earth/ontology#hasOcean</td>\n",
       "    </tr>\n",
       "  </tbody>\n",
       "</table>\n",
       "</div>"
      ],
      "text/plain": [
       "                                                  p\n",
       "0          http://linked.earth/ontology#coordinates\n",
       "1      http://www.w3.org/2003/01/geo/wgs84_pos#long\n",
       "2       http://www.w3.org/2003/01/geo/wgs84_pos#alt\n",
       "3         http://linked.earth/ontology#hasElevation\n",
       "4        http://linked.earth/ontology#pages2kRegion\n",
       "5   http://www.w3.org/1999/02/22-rdf-syntax-ns#type\n",
       "6       http://linked.earth/ontology#coordinatesFor\n",
       "7       http://www.w3.org/2003/01/geo/wgs84_pos#lat\n",
       "8         http://linked.earth/ontology#hasLongitude\n",
       "9          http://linked.earth/ontology#hasLatitude\n",
       "10         http://linked.earth/ontology#hasSiteName\n",
       "11              http://linked.earth/ontology#region\n",
       "12            http://linked.earth/ontology#hasOcean"
      ]
     },
     "execution_count": 17,
     "metadata": {},
     "output_type": "execute_result"
    }
   ],
   "source": [
    "_,df = D.query(query)\n",
    "\n",
    "df"
   ]
  },
  {
   "cell_type": "markdown",
   "id": "8f8fbe88-3640-4716-9a9d-3a813ab02e38",
   "metadata": {},
   "source": [
    "From this properties, `lat`, `long` and `alt` are promising. Notice that the URI is different. This is not a predicate from the ontology created by LinkedEarth but rather from another ontology with a different URI. We should define it in a prefix. "
   ]
  },
  {
   "cell_type": "code",
   "execution_count": 18,
   "id": "0831617f-b681-413e-829d-374b425185c9",
   "metadata": {},
   "outputs": [],
   "source": [
    "query =\"\"\"\n",
    "\n",
    "PREFIX le:<http://linked.earth/ontology#>\n",
    "PREFIX wgs84: <http://www.w3.org/2003/01/geo/wgs84_pos#>\n",
    "\n",
    "SELECT ?dsname ?lat ?lon  WHERE {\n",
    "\n",
    "?ds a le:Dataset .\n",
    "?ds le:hasName ?dsname .\n",
    "\n",
    "?ds le:hasLocation ?geo .\n",
    "OPTIONAL{?geo wgs84:lat ?lat .\n",
    "        ?geo wgs84:long ?lon .}\n",
    "\n",
    "}\n",
    "\"\"\""
   ]
  },
  {
   "cell_type": "markdown",
   "id": "f54b8086-9a3c-41b5-9d07-d74b108fed86",
   "metadata": {},
   "source": [
    "Let's have a look at our new query:\n",
    "\n",
    "* Notice the new prefix since we are reusing the [wgs84](https://www.w3.org/2003/01/geo/) ontology.\n",
    "* The third line defines the variables that we wish to return in our query, namely the datasetName, latitude and longitude\n",
    "* The last paragraph concerns our geographical query. Note that these lines are made OPTIONAL in case the file doesn't contain geographical coordinates. This is unlikely to be the case, but it is a quich way to appraise errors in our database or your LiPD files. "
   ]
  },
  {
   "cell_type": "code",
   "execution_count": 19,
   "id": "76e23f43-5b71-41b4-9d80-952c43a30293",
   "metadata": {},
   "outputs": [
    {
     "data": {
      "text/html": [
       "<div>\n",
       "<style scoped>\n",
       "    .dataframe tbody tr th:only-of-type {\n",
       "        vertical-align: middle;\n",
       "    }\n",
       "\n",
       "    .dataframe tbody tr th {\n",
       "        vertical-align: top;\n",
       "    }\n",
       "\n",
       "    .dataframe thead th {\n",
       "        text-align: right;\n",
       "    }\n",
       "</style>\n",
       "<table border=\"1\" class=\"dataframe\">\n",
       "  <thead>\n",
       "    <tr style=\"text-align: right;\">\n",
       "      <th></th>\n",
       "      <th>dsname</th>\n",
       "      <th>lat</th>\n",
       "      <th>lon</th>\n",
       "    </tr>\n",
       "  </thead>\n",
       "  <tbody>\n",
       "    <tr>\n",
       "      <th>0</th>\n",
       "      <td>Ant-WAIS-Divide.Severinghaus.2012</td>\n",
       "      <td>-79.4630</td>\n",
       "      <td>-112.1250</td>\n",
       "    </tr>\n",
       "    <tr>\n",
       "      <th>1</th>\n",
       "      <td>Asi-SourthAndMiddleUrals.Demezhko.2007</td>\n",
       "      <td>55.0000</td>\n",
       "      <td>59.5000</td>\n",
       "    </tr>\n",
       "    <tr>\n",
       "      <th>2</th>\n",
       "      <td>Ocn-AlboranSea436B.Nieto-Moreno.2013</td>\n",
       "      <td>36.2053</td>\n",
       "      <td>-4.3133</td>\n",
       "    </tr>\n",
       "    <tr>\n",
       "      <th>3</th>\n",
       "      <td>Eur-SpannagelCave.Mangini.2005</td>\n",
       "      <td>47.1000</td>\n",
       "      <td>11.6000</td>\n",
       "    </tr>\n",
       "    <tr>\n",
       "      <th>4</th>\n",
       "      <td>Ocn-FeniDrift.Richter.2009</td>\n",
       "      <td>55.5000</td>\n",
       "      <td>-13.9000</td>\n",
       "    </tr>\n",
       "    <tr>\n",
       "      <th>5</th>\n",
       "      <td>Eur-LakeSilvaplana.Trachsel.2010</td>\n",
       "      <td>46.5000</td>\n",
       "      <td>9.8000</td>\n",
       "    </tr>\n",
       "    <tr>\n",
       "      <th>6</th>\n",
       "      <td>Ocn-PedradeLume-CapeVerdeIslands.Moses.2006</td>\n",
       "      <td>16.7600</td>\n",
       "      <td>-22.8883</td>\n",
       "    </tr>\n",
       "    <tr>\n",
       "      <th>7</th>\n",
       "      <td>Ocn-SinaiPeninsula,RedSea.Moustafa.2000</td>\n",
       "      <td>27.8483</td>\n",
       "      <td>34.3100</td>\n",
       "    </tr>\n",
       "    <tr>\n",
       "      <th>8</th>\n",
       "      <td>Eur-NorthernSpain.Martin-Chivelet.2011</td>\n",
       "      <td>42.9000</td>\n",
       "      <td>-3.5000</td>\n",
       "    </tr>\n",
       "    <tr>\n",
       "      <th>9</th>\n",
       "      <td>Arc-Kongressvatnet.D'Andrea.2012</td>\n",
       "      <td>78.0217</td>\n",
       "      <td>13.9311</td>\n",
       "    </tr>\n",
       "    <tr>\n",
       "      <th>10</th>\n",
       "      <td>Eur-CoastofPortugal.Abrantes.2011</td>\n",
       "      <td>41.1000</td>\n",
       "      <td>-8.9000</td>\n",
       "    </tr>\n",
       "    <tr>\n",
       "      <th>11</th>\n",
       "      <td>Eur-SpanishPyrenees.Dorado-Linan.2012</td>\n",
       "      <td>42.5000</td>\n",
       "      <td>1.0000</td>\n",
       "    </tr>\n",
       "    <tr>\n",
       "      <th>12</th>\n",
       "      <td>Eur-FinnishLakelands.Helama.2014</td>\n",
       "      <td>62.0000</td>\n",
       "      <td>28.3250</td>\n",
       "    </tr>\n",
       "    <tr>\n",
       "      <th>13</th>\n",
       "      <td>Eur-NorthernScandinavia.Esper.2012</td>\n",
       "      <td>68.0000</td>\n",
       "      <td>25.0000</td>\n",
       "    </tr>\n",
       "    <tr>\n",
       "      <th>14</th>\n",
       "      <td>Eur-Stockholm.Leijonhufvud.2009</td>\n",
       "      <td>59.3200</td>\n",
       "      <td>18.0600</td>\n",
       "    </tr>\n",
       "  </tbody>\n",
       "</table>\n",
       "</div>"
      ],
      "text/plain": [
       "                                         dsname      lat       lon\n",
       "0             Ant-WAIS-Divide.Severinghaus.2012 -79.4630 -112.1250\n",
       "1        Asi-SourthAndMiddleUrals.Demezhko.2007  55.0000   59.5000\n",
       "2          Ocn-AlboranSea436B.Nieto-Moreno.2013  36.2053   -4.3133\n",
       "3                Eur-SpannagelCave.Mangini.2005  47.1000   11.6000\n",
       "4                    Ocn-FeniDrift.Richter.2009  55.5000  -13.9000\n",
       "5              Eur-LakeSilvaplana.Trachsel.2010  46.5000    9.8000\n",
       "6   Ocn-PedradeLume-CapeVerdeIslands.Moses.2006  16.7600  -22.8883\n",
       "7       Ocn-SinaiPeninsula,RedSea.Moustafa.2000  27.8483   34.3100\n",
       "8        Eur-NorthernSpain.Martin-Chivelet.2011  42.9000   -3.5000\n",
       "9              Arc-Kongressvatnet.D'Andrea.2012  78.0217   13.9311\n",
       "10            Eur-CoastofPortugal.Abrantes.2011  41.1000   -8.9000\n",
       "11        Eur-SpanishPyrenees.Dorado-Linan.2012  42.5000    1.0000\n",
       "12             Eur-FinnishLakelands.Helama.2014  62.0000   28.3250\n",
       "13           Eur-NorthernScandinavia.Esper.2012  68.0000   25.0000\n",
       "14              Eur-Stockholm.Leijonhufvud.2009  59.3200   18.0600"
      ]
     },
     "execution_count": 19,
     "metadata": {},
     "output_type": "execute_result"
    }
   ],
   "source": [
    "_,df = D.query(query)\n",
    "\n",
    "df"
   ]
  },
  {
   "cell_type": "markdown",
   "id": "bde0b4c2-08ae-4011-a38c-ed41b4b86a19",
   "metadata": {},
   "source": [
    "Let's take this query a little bit further: let's say I only want to keep the data between 40N and 70N and 0E to 30E. Welcome to the `FILTER` functionality.\n",
    "\n",
    "Your query is going to look much the same with the added `FILTER`:"
   ]
  },
  {
   "cell_type": "code",
   "execution_count": 20,
   "id": "1fd5ecc9-49d0-4e2a-9d80-f0d43046abb3",
   "metadata": {},
   "outputs": [],
   "source": [
    "query =\"\"\"\n",
    "\n",
    "PREFIX le:<http://linked.earth/ontology#>\n",
    "PREFIX wgs84: <http://www.w3.org/2003/01/geo/wgs84_pos#>\n",
    "\n",
    "SELECT ?dsname ?lat ?lon  WHERE {\n",
    "\n",
    "?ds a le:Dataset .\n",
    "?ds le:hasName ?dsname .\n",
    "\n",
    "?ds le:hasLocation ?geo .\n",
    "?geo wgs84:lat ?lat .\n",
    "?geo wgs84:long ?lon .\n",
    "\n",
    "FILTER ( ?lat >= 40 && ?lat < 70 && ?lon >= 0 && ?lon < 30 ) .\n",
    "\n",
    "}\n",
    "\"\"\""
   ]
  },
  {
   "cell_type": "markdown",
   "id": "a62f41f8-cfb9-4077-9100-3cf83c9399ce",
   "metadata": {},
   "source": [
    "I also removed the `OPTIONAL` argument since we are doing a geospatial query. If the dataset doesn't have lat/lon, then it shouldn't be included anyway in the return. "
   ]
  },
  {
   "cell_type": "code",
   "execution_count": 21,
   "id": "75d8c5ab-9d60-447b-b8d5-b3e5f0792d50",
   "metadata": {},
   "outputs": [
    {
     "data": {
      "text/html": [
       "<div>\n",
       "<style scoped>\n",
       "    .dataframe tbody tr th:only-of-type {\n",
       "        vertical-align: middle;\n",
       "    }\n",
       "\n",
       "    .dataframe tbody tr th {\n",
       "        vertical-align: top;\n",
       "    }\n",
       "\n",
       "    .dataframe thead th {\n",
       "        text-align: right;\n",
       "    }\n",
       "</style>\n",
       "<table border=\"1\" class=\"dataframe\">\n",
       "  <thead>\n",
       "    <tr style=\"text-align: right;\">\n",
       "      <th></th>\n",
       "      <th>dsname</th>\n",
       "      <th>lat</th>\n",
       "      <th>lon</th>\n",
       "    </tr>\n",
       "  </thead>\n",
       "  <tbody>\n",
       "    <tr>\n",
       "      <th>0</th>\n",
       "      <td>Eur-SpannagelCave.Mangini.2005</td>\n",
       "      <td>47.10</td>\n",
       "      <td>11.600</td>\n",
       "    </tr>\n",
       "    <tr>\n",
       "      <th>1</th>\n",
       "      <td>Eur-LakeSilvaplana.Trachsel.2010</td>\n",
       "      <td>46.50</td>\n",
       "      <td>9.800</td>\n",
       "    </tr>\n",
       "    <tr>\n",
       "      <th>2</th>\n",
       "      <td>Eur-SpanishPyrenees.Dorado-Linan.2012</td>\n",
       "      <td>42.50</td>\n",
       "      <td>1.000</td>\n",
       "    </tr>\n",
       "    <tr>\n",
       "      <th>3</th>\n",
       "      <td>Eur-FinnishLakelands.Helama.2014</td>\n",
       "      <td>62.00</td>\n",
       "      <td>28.325</td>\n",
       "    </tr>\n",
       "    <tr>\n",
       "      <th>4</th>\n",
       "      <td>Eur-NorthernScandinavia.Esper.2012</td>\n",
       "      <td>68.00</td>\n",
       "      <td>25.000</td>\n",
       "    </tr>\n",
       "    <tr>\n",
       "      <th>5</th>\n",
       "      <td>Eur-Stockholm.Leijonhufvud.2009</td>\n",
       "      <td>59.32</td>\n",
       "      <td>18.060</td>\n",
       "    </tr>\n",
       "  </tbody>\n",
       "</table>\n",
       "</div>"
      ],
      "text/plain": [
       "                                  dsname    lat     lon\n",
       "0         Eur-SpannagelCave.Mangini.2005  47.10  11.600\n",
       "1       Eur-LakeSilvaplana.Trachsel.2010  46.50   9.800\n",
       "2  Eur-SpanishPyrenees.Dorado-Linan.2012  42.50   1.000\n",
       "3       Eur-FinnishLakelands.Helama.2014  62.00  28.325\n",
       "4     Eur-NorthernScandinavia.Esper.2012  68.00  25.000\n",
       "5        Eur-Stockholm.Leijonhufvud.2009  59.32  18.060"
      ]
     },
     "execution_count": 21,
     "metadata": {},
     "output_type": "execute_result"
    }
   ],
   "source": [
    "_,df = D.query(query)\n",
    "\n",
    "df"
   ]
  },
  {
   "cell_type": "markdown",
   "id": "8daa8e6b-0993-4435-b845-bfcc6661cb1b",
   "metadata": {},
   "source": [
    "Congratulations! You've performed your first filter! In case you are wondering, this exact query is used in the function `filter_by_geo_box`."
   ]
  },
  {
   "cell_type": "markdown",
   "id": "abce5913-a70a-4719-a74a-a1260106a312",
   "metadata": {},
   "source": [
    "#### Filtering by name\n",
    "\n",
    "You must now be dying to know how you can look for specific variable names and filter by them. In the interest of time, I'll create the query that returns all unique variable names first (This is what's behind `get_all_variable_names`) but I encourage you to spend some time following it line-by-line and even use the predicate search shown above to see how I got the names of the properties. "
   ]
  },
  {
   "cell_type": "code",
   "execution_count": 22,
   "id": "cf0c6b2b-c20e-481c-b792-00deb06fe28f",
   "metadata": {},
   "outputs": [],
   "source": [
    "query =\"\"\"\n",
    "\n",
    "PREFIX le:<http://linked.earth/ontology#>\n",
    "\n",
    "SELECT DISTINCT ?varname WHERE{\n",
    "\n",
    "?ds a le:Dataset .\n",
    "\n",
    "?ds le:hasPaleoData ?data .\n",
    "?data le:hasMeasurementTable ?table .\n",
    "?table le:hasVariable ?var .\n",
    "?var le:hasName ?varname .\n",
    "}\n",
    "\"\"\""
   ]
  },
  {
   "cell_type": "code",
   "execution_count": 23,
   "id": "9965e8c6-94b7-4147-a1f3-95c3c7288000",
   "metadata": {},
   "outputs": [
    {
     "data": {
      "text/html": [
       "<div>\n",
       "<style scoped>\n",
       "    .dataframe tbody tr th:only-of-type {\n",
       "        vertical-align: middle;\n",
       "    }\n",
       "\n",
       "    .dataframe tbody tr th {\n",
       "        vertical-align: top;\n",
       "    }\n",
       "\n",
       "    .dataframe thead th {\n",
       "        text-align: right;\n",
       "    }\n",
       "</style>\n",
       "<table border=\"1\" class=\"dataframe\">\n",
       "  <thead>\n",
       "    <tr style=\"text-align: right;\">\n",
       "      <th></th>\n",
       "      <th>varname</th>\n",
       "    </tr>\n",
       "  </thead>\n",
       "  <tbody>\n",
       "    <tr>\n",
       "      <th>0</th>\n",
       "      <td>uncertainty_temperature</td>\n",
       "    </tr>\n",
       "    <tr>\n",
       "      <th>1</th>\n",
       "      <td>temperature</td>\n",
       "    </tr>\n",
       "    <tr>\n",
       "      <th>2</th>\n",
       "      <td>year</td>\n",
       "    </tr>\n",
       "    <tr>\n",
       "      <th>3</th>\n",
       "      <td>d18O</td>\n",
       "    </tr>\n",
       "    <tr>\n",
       "      <th>4</th>\n",
       "      <td>Mg_Ca</td>\n",
       "    </tr>\n",
       "    <tr>\n",
       "      <th>5</th>\n",
       "      <td>depth_top</td>\n",
       "    </tr>\n",
       "    <tr>\n",
       "      <th>6</th>\n",
       "      <td>notes</td>\n",
       "    </tr>\n",
       "    <tr>\n",
       "      <th>7</th>\n",
       "      <td>depth_bottom</td>\n",
       "    </tr>\n",
       "    <tr>\n",
       "      <th>8</th>\n",
       "      <td>Uk37</td>\n",
       "    </tr>\n",
       "    <tr>\n",
       "      <th>9</th>\n",
       "      <td>trsgi</td>\n",
       "    </tr>\n",
       "    <tr>\n",
       "      <th>10</th>\n",
       "      <td>MXD</td>\n",
       "    </tr>\n",
       "  </tbody>\n",
       "</table>\n",
       "</div>"
      ],
      "text/plain": [
       "                    varname\n",
       "0   uncertainty_temperature\n",
       "1               temperature\n",
       "2                      year\n",
       "3                      d18O\n",
       "4                     Mg_Ca\n",
       "5                 depth_top\n",
       "6                     notes\n",
       "7              depth_bottom\n",
       "8                      Uk37\n",
       "9                     trsgi\n",
       "10                      MXD"
      ]
     },
     "execution_count": 23,
     "metadata": {},
     "output_type": "execute_result"
    }
   ],
   "source": [
    "_,df = D.query(query)\n",
    "\n",
    "df"
   ]
  },
  {
   "cell_type": "markdown",
   "id": "c1ae282d-72ef-42f5-a019-d8ca5b5e79d9",
   "metadata": {},
   "source": [
    "This returned all unique variable names present in all the `PaleoData` objects tables present in the `LiPD` object. This is the power of SPARQL: you do not need to know how many tables/columns/data are present in the dataset to query across them. \n",
    "\n",
    "Let's filter by temperature. In this case, I really mean `temperature` and ignore the `uncertainty`. "
   ]
  },
  {
   "cell_type": "code",
   "execution_count": 24,
   "id": "cd119fa2-23a5-4915-94b7-a9168108652c",
   "metadata": {},
   "outputs": [],
   "source": [
    "query =\"\"\"\n",
    "\n",
    "PREFIX le:<http://linked.earth/ontology#>\n",
    "\n",
    "SELECT ?dsname ?varname WHERE{\n",
    "\n",
    "?ds a le:Dataset .\n",
    "?ds le:hasName ?dsname .\n",
    "\n",
    "?ds le:hasPaleoData ?data .\n",
    "?data le:hasMeasurementTable ?table .\n",
    "?table le:hasVariable ?var .\n",
    "?var le:hasName ?varname .\n",
    "\n",
    "FILTER (?varname = 'temperature')\n",
    "\n",
    "}\n",
    "\"\"\""
   ]
  },
  {
   "cell_type": "code",
   "execution_count": 25,
   "id": "b603ca23-ecc2-44a9-bc99-e900ed74e64b",
   "metadata": {},
   "outputs": [
    {
     "data": {
      "text/html": [
       "<div>\n",
       "<style scoped>\n",
       "    .dataframe tbody tr th:only-of-type {\n",
       "        vertical-align: middle;\n",
       "    }\n",
       "\n",
       "    .dataframe tbody tr th {\n",
       "        vertical-align: top;\n",
       "    }\n",
       "\n",
       "    .dataframe thead th {\n",
       "        text-align: right;\n",
       "    }\n",
       "</style>\n",
       "<table border=\"1\" class=\"dataframe\">\n",
       "  <thead>\n",
       "    <tr style=\"text-align: right;\">\n",
       "      <th></th>\n",
       "      <th>dsname</th>\n",
       "      <th>varname</th>\n",
       "    </tr>\n",
       "  </thead>\n",
       "  <tbody>\n",
       "    <tr>\n",
       "      <th>0</th>\n",
       "      <td>Ant-WAIS-Divide.Severinghaus.2012</td>\n",
       "      <td>temperature</td>\n",
       "    </tr>\n",
       "    <tr>\n",
       "      <th>1</th>\n",
       "      <td>Asi-SourthAndMiddleUrals.Demezhko.2007</td>\n",
       "      <td>temperature</td>\n",
       "    </tr>\n",
       "    <tr>\n",
       "      <th>2</th>\n",
       "      <td>Ocn-AlboranSea436B.Nieto-Moreno.2013</td>\n",
       "      <td>temperature</td>\n",
       "    </tr>\n",
       "    <tr>\n",
       "      <th>3</th>\n",
       "      <td>Ocn-FeniDrift.Richter.2009</td>\n",
       "      <td>temperature</td>\n",
       "    </tr>\n",
       "    <tr>\n",
       "      <th>4</th>\n",
       "      <td>Ocn-FeniDrift.Richter.2009</td>\n",
       "      <td>temperature</td>\n",
       "    </tr>\n",
       "    <tr>\n",
       "      <th>5</th>\n",
       "      <td>Eur-LakeSilvaplana.Trachsel.2010</td>\n",
       "      <td>temperature</td>\n",
       "    </tr>\n",
       "    <tr>\n",
       "      <th>6</th>\n",
       "      <td>Arc-Kongressvatnet.D'Andrea.2012</td>\n",
       "      <td>temperature</td>\n",
       "    </tr>\n",
       "    <tr>\n",
       "      <th>7</th>\n",
       "      <td>Eur-CoastofPortugal.Abrantes.2011</td>\n",
       "      <td>temperature</td>\n",
       "    </tr>\n",
       "    <tr>\n",
       "      <th>8</th>\n",
       "      <td>Eur-FinnishLakelands.Helama.2014</td>\n",
       "      <td>temperature</td>\n",
       "    </tr>\n",
       "    <tr>\n",
       "      <th>9</th>\n",
       "      <td>Eur-Stockholm.Leijonhufvud.2009</td>\n",
       "      <td>temperature</td>\n",
       "    </tr>\n",
       "  </tbody>\n",
       "</table>\n",
       "</div>"
      ],
      "text/plain": [
       "                                   dsname      varname\n",
       "0       Ant-WAIS-Divide.Severinghaus.2012  temperature\n",
       "1  Asi-SourthAndMiddleUrals.Demezhko.2007  temperature\n",
       "2    Ocn-AlboranSea436B.Nieto-Moreno.2013  temperature\n",
       "3              Ocn-FeniDrift.Richter.2009  temperature\n",
       "4              Ocn-FeniDrift.Richter.2009  temperature\n",
       "5        Eur-LakeSilvaplana.Trachsel.2010  temperature\n",
       "6        Arc-Kongressvatnet.D'Andrea.2012  temperature\n",
       "7       Eur-CoastofPortugal.Abrantes.2011  temperature\n",
       "8        Eur-FinnishLakelands.Helama.2014  temperature\n",
       "9         Eur-Stockholm.Leijonhufvud.2009  temperature"
      ]
     },
     "execution_count": 25,
     "metadata": {},
     "output_type": "execute_result"
    }
   ],
   "source": [
    "_,df = D.query(query)\n",
    "\n",
    "df"
   ]
  },
  {
   "cell_type": "markdown",
   "id": "d024c48d-0c18-42b5-b23e-97697e8dba46",
   "metadata": {},
   "source": [
    "If you want to relax this assumption, you have two choices:\n",
    "\n",
    "1. explicitly go look for `uncertainty_temperature`\n",
    "2. Use [regular expressions](https://en.wikipedia.org/wiki/Regular_expression). Although as you may discover, you now have two problems: SPARQL and regex.\n",
    "\n",
    "Let's have a look at the first option:"
   ]
  },
  {
   "cell_type": "code",
   "execution_count": 26,
   "id": "ad865500-0de2-40a3-a43d-42e2e9c37b4c",
   "metadata": {},
   "outputs": [],
   "source": [
    "query =\"\"\"\n",
    "\n",
    "PREFIX le:<http://linked.earth/ontology#>\n",
    "\n",
    "SELECT ?dsname ?varname WHERE{\n",
    "\n",
    "?ds a le:Dataset .\n",
    "?ds le:hasName ?dsname .\n",
    "\n",
    "?ds le:hasPaleoData ?data .\n",
    "?data le:hasMeasurementTable ?table .\n",
    "?table le:hasVariable ?var .\n",
    "?var le:hasName ?varname .\n",
    "\n",
    "FILTER (?varname = 'temperature' || ?varname = 'uncertainty_temperature')\n",
    "\n",
    "}\n",
    "\"\"\""
   ]
  },
  {
   "cell_type": "markdown",
   "id": "366c2dee-3d9a-4f04-830c-637d73e1ebb9",
   "metadata": {},
   "source": [
    "Much like other languages, SPARQL uses `||` to indicate a logical \"or\" and `&&` for a logical \"and\". "
   ]
  },
  {
   "cell_type": "code",
   "execution_count": 27,
   "id": "a4058e7f-e91b-4db0-bb84-931886edc657",
   "metadata": {},
   "outputs": [
    {
     "data": {
      "text/html": [
       "<div>\n",
       "<style scoped>\n",
       "    .dataframe tbody tr th:only-of-type {\n",
       "        vertical-align: middle;\n",
       "    }\n",
       "\n",
       "    .dataframe tbody tr th {\n",
       "        vertical-align: top;\n",
       "    }\n",
       "\n",
       "    .dataframe thead th {\n",
       "        text-align: right;\n",
       "    }\n",
       "</style>\n",
       "<table border=\"1\" class=\"dataframe\">\n",
       "  <thead>\n",
       "    <tr style=\"text-align: right;\">\n",
       "      <th></th>\n",
       "      <th>dsname</th>\n",
       "      <th>varname</th>\n",
       "    </tr>\n",
       "  </thead>\n",
       "  <tbody>\n",
       "    <tr>\n",
       "      <th>0</th>\n",
       "      <td>Ant-WAIS-Divide.Severinghaus.2012</td>\n",
       "      <td>uncertainty_temperature</td>\n",
       "    </tr>\n",
       "    <tr>\n",
       "      <th>1</th>\n",
       "      <td>Ant-WAIS-Divide.Severinghaus.2012</td>\n",
       "      <td>temperature</td>\n",
       "    </tr>\n",
       "    <tr>\n",
       "      <th>2</th>\n",
       "      <td>Asi-SourthAndMiddleUrals.Demezhko.2007</td>\n",
       "      <td>temperature</td>\n",
       "    </tr>\n",
       "    <tr>\n",
       "      <th>3</th>\n",
       "      <td>Ocn-AlboranSea436B.Nieto-Moreno.2013</td>\n",
       "      <td>temperature</td>\n",
       "    </tr>\n",
       "    <tr>\n",
       "      <th>4</th>\n",
       "      <td>Ocn-FeniDrift.Richter.2009</td>\n",
       "      <td>temperature</td>\n",
       "    </tr>\n",
       "    <tr>\n",
       "      <th>5</th>\n",
       "      <td>Ocn-FeniDrift.Richter.2009</td>\n",
       "      <td>temperature</td>\n",
       "    </tr>\n",
       "    <tr>\n",
       "      <th>6</th>\n",
       "      <td>Eur-LakeSilvaplana.Trachsel.2010</td>\n",
       "      <td>temperature</td>\n",
       "    </tr>\n",
       "    <tr>\n",
       "      <th>7</th>\n",
       "      <td>Arc-Kongressvatnet.D'Andrea.2012</td>\n",
       "      <td>temperature</td>\n",
       "    </tr>\n",
       "    <tr>\n",
       "      <th>8</th>\n",
       "      <td>Eur-CoastofPortugal.Abrantes.2011</td>\n",
       "      <td>temperature</td>\n",
       "    </tr>\n",
       "    <tr>\n",
       "      <th>9</th>\n",
       "      <td>Eur-FinnishLakelands.Helama.2014</td>\n",
       "      <td>temperature</td>\n",
       "    </tr>\n",
       "    <tr>\n",
       "      <th>10</th>\n",
       "      <td>Eur-Stockholm.Leijonhufvud.2009</td>\n",
       "      <td>temperature</td>\n",
       "    </tr>\n",
       "  </tbody>\n",
       "</table>\n",
       "</div>"
      ],
      "text/plain": [
       "                                    dsname                  varname\n",
       "0        Ant-WAIS-Divide.Severinghaus.2012  uncertainty_temperature\n",
       "1        Ant-WAIS-Divide.Severinghaus.2012              temperature\n",
       "2   Asi-SourthAndMiddleUrals.Demezhko.2007              temperature\n",
       "3     Ocn-AlboranSea436B.Nieto-Moreno.2013              temperature\n",
       "4               Ocn-FeniDrift.Richter.2009              temperature\n",
       "5               Ocn-FeniDrift.Richter.2009              temperature\n",
       "6         Eur-LakeSilvaplana.Trachsel.2010              temperature\n",
       "7         Arc-Kongressvatnet.D'Andrea.2012              temperature\n",
       "8        Eur-CoastofPortugal.Abrantes.2011              temperature\n",
       "9         Eur-FinnishLakelands.Helama.2014              temperature\n",
       "10         Eur-Stockholm.Leijonhufvud.2009              temperature"
      ]
     },
     "execution_count": 27,
     "metadata": {},
     "output_type": "execute_result"
    }
   ],
   "source": [
    "_,df = D.query(query)\n",
    "\n",
    "df"
   ]
  },
  {
   "cell_type": "markdown",
   "id": "4b54981f-7943-4f95-82d5-147e1fdb5fc1",
   "metadata": {},
   "source": [
    "Using regular expressions:"
   ]
  },
  {
   "cell_type": "code",
   "execution_count": 28,
   "id": "68891e43-8abb-4393-920a-fd098ca7411f",
   "metadata": {},
   "outputs": [
    {
     "data": {
      "text/html": [
       "<div>\n",
       "<style scoped>\n",
       "    .dataframe tbody tr th:only-of-type {\n",
       "        vertical-align: middle;\n",
       "    }\n",
       "\n",
       "    .dataframe tbody tr th {\n",
       "        vertical-align: top;\n",
       "    }\n",
       "\n",
       "    .dataframe thead th {\n",
       "        text-align: right;\n",
       "    }\n",
       "</style>\n",
       "<table border=\"1\" class=\"dataframe\">\n",
       "  <thead>\n",
       "    <tr style=\"text-align: right;\">\n",
       "      <th></th>\n",
       "      <th>dsname</th>\n",
       "      <th>varname</th>\n",
       "    </tr>\n",
       "  </thead>\n",
       "  <tbody>\n",
       "    <tr>\n",
       "      <th>0</th>\n",
       "      <td>Ant-WAIS-Divide.Severinghaus.2012</td>\n",
       "      <td>uncertainty_temperature</td>\n",
       "    </tr>\n",
       "    <tr>\n",
       "      <th>1</th>\n",
       "      <td>Ant-WAIS-Divide.Severinghaus.2012</td>\n",
       "      <td>temperature</td>\n",
       "    </tr>\n",
       "    <tr>\n",
       "      <th>2</th>\n",
       "      <td>Asi-SourthAndMiddleUrals.Demezhko.2007</td>\n",
       "      <td>temperature</td>\n",
       "    </tr>\n",
       "    <tr>\n",
       "      <th>3</th>\n",
       "      <td>Ocn-AlboranSea436B.Nieto-Moreno.2013</td>\n",
       "      <td>temperature</td>\n",
       "    </tr>\n",
       "    <tr>\n",
       "      <th>4</th>\n",
       "      <td>Ocn-FeniDrift.Richter.2009</td>\n",
       "      <td>temperature</td>\n",
       "    </tr>\n",
       "    <tr>\n",
       "      <th>5</th>\n",
       "      <td>Ocn-FeniDrift.Richter.2009</td>\n",
       "      <td>temperature</td>\n",
       "    </tr>\n",
       "    <tr>\n",
       "      <th>6</th>\n",
       "      <td>Eur-LakeSilvaplana.Trachsel.2010</td>\n",
       "      <td>temperature</td>\n",
       "    </tr>\n",
       "    <tr>\n",
       "      <th>7</th>\n",
       "      <td>Arc-Kongressvatnet.D'Andrea.2012</td>\n",
       "      <td>temperature</td>\n",
       "    </tr>\n",
       "    <tr>\n",
       "      <th>8</th>\n",
       "      <td>Eur-CoastofPortugal.Abrantes.2011</td>\n",
       "      <td>temperature</td>\n",
       "    </tr>\n",
       "    <tr>\n",
       "      <th>9</th>\n",
       "      <td>Eur-FinnishLakelands.Helama.2014</td>\n",
       "      <td>temperature</td>\n",
       "    </tr>\n",
       "    <tr>\n",
       "      <th>10</th>\n",
       "      <td>Eur-Stockholm.Leijonhufvud.2009</td>\n",
       "      <td>temperature</td>\n",
       "    </tr>\n",
       "  </tbody>\n",
       "</table>\n",
       "</div>"
      ],
      "text/plain": [
       "                                    dsname                  varname\n",
       "0        Ant-WAIS-Divide.Severinghaus.2012  uncertainty_temperature\n",
       "1        Ant-WAIS-Divide.Severinghaus.2012              temperature\n",
       "2   Asi-SourthAndMiddleUrals.Demezhko.2007              temperature\n",
       "3     Ocn-AlboranSea436B.Nieto-Moreno.2013              temperature\n",
       "4               Ocn-FeniDrift.Richter.2009              temperature\n",
       "5               Ocn-FeniDrift.Richter.2009              temperature\n",
       "6         Eur-LakeSilvaplana.Trachsel.2010              temperature\n",
       "7         Arc-Kongressvatnet.D'Andrea.2012              temperature\n",
       "8        Eur-CoastofPortugal.Abrantes.2011              temperature\n",
       "9         Eur-FinnishLakelands.Helama.2014              temperature\n",
       "10         Eur-Stockholm.Leijonhufvud.2009              temperature"
      ]
     },
     "execution_count": 28,
     "metadata": {},
     "output_type": "execute_result"
    }
   ],
   "source": [
    "query =\"\"\"\n",
    "\n",
    "PREFIX le:<http://linked.earth/ontology#>\n",
    "\n",
    "SELECT ?dsname ?varname WHERE{\n",
    "\n",
    "?ds a le:Dataset .\n",
    "?ds le:hasName ?dsname .\n",
    "\n",
    "?ds le:hasPaleoData ?data .\n",
    "?data le:hasMeasurementTable ?table .\n",
    "?table le:hasVariable ?var .\n",
    "?var le:hasName ?varname .\n",
    "\n",
    "FILTER regex (?varname, \"temperature.*\", \"i\" ) .\n",
    "\n",
    "}\n",
    "\"\"\"\n",
    "\n",
    "_,df = D.query(query)\n",
    "\n",
    "df"
   ]
  },
  {
   "cell_type": "markdown",
   "id": "ead6e519-6be3-456e-ab6c-b5cf8358962c",
   "metadata": {},
   "source": [
    "<div class=\"alert alert-warning\">\n",
    "As you have seen in previous tutorials, PyLiPD natively uses regex to query for variables.\n",
    "</div>"
   ]
  },
  {
   "cell_type": "markdown",
   "id": "4831c71c-8e71-4248-892a-ad6399031498",
   "metadata": {},
   "source": [
    "### Concluding remarks\n",
    "\n",
    "* We are expanding `PyLiPD` to include more and more of the common queries in paleoclimatology. If you'd like to see one, please [open an issue](https://github.com/LinkedEarth/pylipd/issues). Make sure you consult the open issues before opening your own and upvote if it already exists. If a issue is upvoted, it will be most likely slated for being addressed quickly.\n",
    "\n",
    "Below are some FAQs, with their answers:\n",
    "\n",
    "* _Can I create my own properties in a LiPD file and search with `PyLiPD`?_ The short answer resides in whether you are creating a `data property` (a property linking to a known class such as `string`, `float`, `int`, `boolean`) or an `object property`. `Data properties` will immediately be recognized by `PyLiPD` and can be used. For `object properties`, please contact us as this will change the underlying classes in the ontology.\n",
    "\n",
    "* _Can you create APIs for my properties?_ The short answer is no, unless this is a property that will be re-used extensively by others. As you navigate datasets, you will notice that some properties are essentially used as flags for analysis. This may only serve one person and will therefore not be intergrated at the API level. However, if you cannot create your own query using this tutorial, please [start a discussion on Discourse](https://discourse.linked.earth)."
   ]
  }
 ],
 "metadata": {
  "kernelspec": {
   "display_name": "Python 3 (ipykernel)",
   "language": "python",
   "name": "python3"
  },
  "language_info": {
   "codemirror_mode": {
    "name": "ipython",
    "version": 3
   },
   "file_extension": ".py",
   "mimetype": "text/x-python",
   "name": "python",
   "nbconvert_exporter": "python",
   "pygments_lexer": "ipython3",
   "version": "3.11.10"
  }
 },
 "nbformat": 4,
 "nbformat_minor": 5
}
