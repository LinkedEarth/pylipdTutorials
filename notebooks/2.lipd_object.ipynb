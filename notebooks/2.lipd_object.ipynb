{
 "cells": [
  {
   "cell_type": "markdown",
   "id": "26786dba",
   "metadata": {},
   "source": [
    "# Basic manipulation of `pylipd.LiPD` object\n",
    "\n",
    "## Authors\n",
    "\n",
    "Deborah Khider, Varun Ratnakar\n",
    "\n",
    "Information Sciences Institute, University of Southern California\n",
    "\n",
    "Author1 = {\"name\": \"Deborah Khider\", \"affiliation\": \"Information Sciences Institute, University of Southern California\", \"email\": \"khider@usc.edu\", \"orcid\": \"0000-0001-7501-8430\"}\n",
    "\n",
    "Author2 = {\"name\": \"Varun Ratnakar\", \"affiliation\": \"Information Sciences Institute, University of Southern California\", \"email\": \"varunr@isi.edu\"}\n",
    "\n",
    "## Preamble\n",
    "\n",
    "### Goals:\n",
    "\n",
    "* Extract a time series for data analysis\n",
    "* Remove/pop LiPD datasets to an existing `LiPD` object\n",
    "\n",
    "Reading Time: 5 minutes\n",
    "\n",
    "### Keywords\n",
    "\n",
    "LiPD; query\n",
    "\n",
    "### Pre-requisites\n",
    "\n",
    "None. This tutorial assumes basic knowledge of Python and Pandas. If you are not familiar with this coding language and the Pandas library, check out this tutorial: http://linked.earth/ec_workshops_py/.\n",
    "\n",
    "### Relevant Packages\n",
    "\n",
    "Pandas, pylipd\n",
    "\n",
    "## Data Description\n",
    "\n",
    "This notebook uses the following datasets, in LiPD format:\n",
    "\n",
    "* Nurhati, I. S., Cobb, K. M., & Di Lorenzo, E. (2011). Decadal-scale SST and salinity variations in the central tropical Pacific: Signatures of natural and anthropogenic climate change. Journal of Climate, 24(13), 3294–3308. doi:10.1175/2011jcli3852.1\n",
    "\n",
    "* Moses, C. S., Swart, P. K., and Rosenheim, B. E. (2006), Evidence of multidecadal salinity variability in the eastern tropical North Atlantic, Paleoceanography, 21, PA3010, doi:10.1029/2005PA001257.\n",
    "\n",
    "* Euro2k database: PAGES2k Consortium., Emile-Geay, J., McKay, N. et al. A global multiproxy database for temperature reconstructions of the Common Era. Sci Data 4, 170088 (2017). doi:10.1038/sdata.2017.88\n",
    "\n",
    "* Stott, L., Timmermann, A., & Thunell, R. (2007). Southern Hemisphere and deep-sea warming led deglacial atmospheric CO2 rise and tropical warming. Science (New York, N.Y.), 318(5849), 435–438. doi:10.1126/science.1143791\n",
    "\n",
    "* Tudhope, A. W., Chilcott, C. P., McCulloch, M. T., Cook, E. R., Chappell, J., Ellam, R. M., et al. (2001). Variability in the El Niño-Southern Oscillation through a glacial-interglacial cycle. Science, 291(1511), 1511-1517. doi:doi:10.1126/science.1057969\n",
    "\n",
    "* Tierney, J. E., Abram, N. J., Anchukaitis, K. J., Evans, M. N., Giry, C., Kilbourne, K. H., et al. (2015). Tropical sea surface temperatures for the past four centuries reconstructed from coral archives. Paleoceanography, 30(3), 226–252. doi:10.1002/2014pa002717\n",
    "\n",
    "* Orsi, A. J., Cornuelle, B. D., and Severinghaus, J. P. (2012), Little Ice Age cold interval in West Antarctica: Evidence from borehole temperature at the West Antarctic Ice Sheet (WAIS) Divide, Geophys. Res. Lett., 39, L09710, doi:10.1029/2012GL051260."
   ]
  },
  {
   "cell_type": "code",
   "execution_count": 1,
   "id": "d1b4364c",
   "metadata": {},
   "outputs": [],
   "source": [
    "from pylipd.lipd import LiPD"
   ]
  },
  {
   "cell_type": "markdown",
   "id": "8a9b392b",
   "metadata": {},
   "source": [
    "## Demonstration\n",
    "\n",
    "### Extract time series data from LiPD formatted datasets\n",
    "\n",
    "If you are famliar with the [R utilities](https://nickmckay.github.io/lipdR/), one useful functions is the ability to expand timeseries data. This capability was also present in the previous iteration of the Python utilities and `pylipd` retains this compatbility to ease the transition. \n",
    "\n",
    "If you're unsure about what a time series is in the LiPD context, [read more](https://nickmckay.github.io/lipdR/#helptimeseries). \n",
    "\n",
    "#### Working with one dataset\n",
    "\n",
    "First, let's load a single dataset:"
   ]
  },
  {
   "cell_type": "code",
   "execution_count": 2,
   "id": "3f7008cb",
   "metadata": {},
   "outputs": [
    {
     "name": "stdout",
     "output_type": "stream",
     "text": [
      "Loading 1 LiPD files\n",
      "Conversion to RDF done..\n",
      "Loading RDF into graph\n",
      "Loaded..\n"
     ]
    }
   ],
   "source": [
    "data_path = '../data/Ocn-Palmyra.Nurhati.2011.lpd'\n",
    "D = LiPD()\n",
    "D.load(data_path)"
   ]
  },
  {
   "cell_type": "markdown",
   "id": "e65be6e7",
   "metadata": {},
   "source": [
    "Now let's get all the timeseries for this dataset. Note that the [`get_timeseries`](https://pylipd.readthedocs.io/en/latest/source/pylipd.html#pylipd.lipd.LiPD.get_timeseries) function requires to pass the dataset names. This is useful if you only want to expand only one dataset from your LiPD object. You can also use the function [`get_all_dataset_names`](https://pylipd.readthedocs.io/en/latest/source/pylipd.html#pylipd.lipd.LiPD.get_all_dataset_names) in the call to expand all datasets: "
   ]
  },
  {
   "cell_type": "code",
   "execution_count": 4,
   "id": "f06541da",
   "metadata": {},
   "outputs": [
    {
     "name": "stdout",
     "output_type": "stream",
     "text": [
      "Extracting timeseries from dataset: Ocn-Palmyra.Nurhati.2011 ...\n"
     ]
    },
    {
     "data": {
      "text/plain": [
       "dict"
      ]
     },
     "execution_count": 4,
     "metadata": {},
     "output_type": "execute_result"
    }
   ],
   "source": [
    "ts_list = D.get_timeseries(D.get_all_dataset_names())\n",
    "\n",
    "type(ts_list)"
   ]
  },
  {
   "cell_type": "markdown",
   "id": "bc329085",
   "metadata": {},
   "source": [
    "Note that the above function returns a dictionary that organizes the extracted timeseries by dataset name:"
   ]
  },
  {
   "cell_type": "code",
   "execution_count": 8,
   "id": "bb6e897b",
   "metadata": {},
   "outputs": [
    {
     "data": {
      "text/plain": [
       "dict_keys(['Ocn-Palmyra.Nurhati.2011'])"
      ]
     },
     "execution_count": 8,
     "metadata": {},
     "output_type": "execute_result"
    }
   ],
   "source": [
    "ts_list.keys()"
   ]
  },
  {
   "cell_type": "markdown",
   "id": "e8c92ad5",
   "metadata": {},
   "source": [
    "Each timeseries is then stored into a list of dictionaries that preserve essential metadata for each time/depth and value pair:"
   ]
  },
  {
   "cell_type": "code",
   "execution_count": 9,
   "id": "bb7ba394",
   "metadata": {},
   "outputs": [
    {
     "data": {
      "text/plain": [
       "list"
      ]
     },
     "execution_count": 9,
     "metadata": {},
     "output_type": "execute_result"
    }
   ],
   "source": [
    "type(ts_list['Ocn-Palmyra.Nurhati.2011'])"
   ]
  },
  {
   "cell_type": "markdown",
   "id": "28909cc3",
   "metadata": {},
   "source": [
    "Although the information is present, it is not easy to navigate. [TODO: dataframe option]"
   ]
  },
  {
   "cell_type": "markdown",
   "id": "55195af9",
   "metadata": {},
   "source": [
    "#### Working with multiple datasets"
   ]
  },
  {
   "cell_type": "code",
   "execution_count": 11,
   "id": "ad4ae0e6",
   "metadata": {},
   "outputs": [
    {
     "name": "stdout",
     "output_type": "stream",
     "text": [
      "Loading 31 LiPD files\n",
      "Conversion to RDF done..\n",
      "Loading RDF into graph\n",
      "Loaded..\n"
     ]
    }
   ],
   "source": [
    "path = '../data/Euro2k/'\n",
    "\n",
    "D_dir = LiPD()\n",
    "D_dir.load_from_dir(path)"
   ]
  },
  {
   "cell_type": "markdown",
   "id": "5288e66d",
   "metadata": {},
   "source": [
    "Let's start by expanding all datasets using `get_all_dataset_names()`:"
   ]
  },
  {
   "cell_type": "code",
   "execution_count": 12,
   "id": "e1027de3",
   "metadata": {},
   "outputs": [
    {
     "name": "stdout",
     "output_type": "stream",
     "text": [
      "Extracting timeseries from dataset: Ocn-RedSea.Felis.2000 ...\n",
      "Extracting timeseries from dataset: Arc-Forfjorddalen.McCarroll.2013 ...\n",
      "Extracting timeseries from dataset: Eur-Tallinn.Tarand.2001 ...\n",
      "Extracting timeseries from dataset: Eur-CentralEurope.Dobrovoln_.2009 ...\n",
      "Extracting timeseries from dataset: Eur-EuropeanAlps.B_ntgen.2011 ...\n",
      "Extracting timeseries from dataset: Eur-CentralandEasternPyrenees.Pla.2004 ...\n",
      "Extracting timeseries from dataset: Arc-Tjeggelvas.Bjorklund.2012 ...\n",
      "Extracting timeseries from dataset: Arc-Indigirka.Hughes.1999 ...\n",
      "Extracting timeseries from dataset: Eur-SpannagelCave.Mangini.2005 ...\n",
      "Extracting timeseries from dataset: Ocn-AqabaJordanAQ19.Heiss.1999 ...\n",
      "Extracting timeseries from dataset: Arc-Jamtland.Wilson.2016 ...\n",
      "Extracting timeseries from dataset: Eur-RAPiD-17-5P.Moffa-Sanchez.2014 ...\n",
      "Extracting timeseries from dataset: Eur-LakeSilvaplana.Trachsel.2010 ...\n",
      "Extracting timeseries from dataset: Eur-NorthernSpain.Mart_n-Chivelet.2011 ...\n",
      "Extracting timeseries from dataset: Eur-MaritimeFrenchAlps.B_ntgen.2012 ...\n",
      "Extracting timeseries from dataset: Ocn-AqabaJordanAQ18.Heiss.1999 ...\n",
      "Extracting timeseries from dataset: Arc-Tornetrask.Melvin.2012 ...\n",
      "Extracting timeseries from dataset: Eur-EasternCarpathianMountains.Popa.2008 ...\n",
      "Extracting timeseries from dataset: Arc-PolarUrals.Wilson.2015 ...\n",
      "Extracting timeseries from dataset: Eur-LakeSilvaplana.Larocque-Tobler.2010 ...\n",
      "Extracting timeseries from dataset: Eur-CoastofPortugal.Abrantes.2011 ...\n",
      "Extracting timeseries from dataset: Eur-TatraMountains.B_ntgen.2013 ...\n",
      "Extracting timeseries from dataset: Eur-SpanishPyrenees.Dorado-Linan.2012 ...\n",
      "Extracting timeseries from dataset: Eur-FinnishLakelands.Helama.2014 ...\n",
      "Extracting timeseries from dataset: Eur-Seebergsee.Larocque-Tobler.2012 ...\n",
      "Extracting timeseries from dataset: Eur-NorthernScandinavia.Esper.2012 ...\n",
      "Extracting timeseries from dataset: Arc-GulfofAlaska.Wilson.2014 ...\n",
      "Extracting timeseries from dataset: Arc-Kittelfjall.Bjorklund.2012 ...\n",
      "Extracting timeseries from dataset: Eur-L_tschental.B_ntgen.2006 ...\n",
      "Extracting timeseries from dataset: Eur-Stockholm.Leijonhufvud.2009 ...\n",
      "Extracting timeseries from dataset: Arc-AkademiiNaukIceCap.Opel.2013 ...\n"
     ]
    }
   ],
   "source": [
    "ts_list_dir = D_dir.get_timeseries(D_dir.get_all_dataset_names())"
   ]
  },
  {
   "cell_type": "code",
   "execution_count": 13,
   "id": "73b7917c",
   "metadata": {},
   "outputs": [
    {
     "data": {
      "text/plain": [
       "dict_keys(['Ocn-RedSea.Felis.2000', 'Arc-Forfjorddalen.McCarroll.2013', 'Eur-Tallinn.Tarand.2001', 'Eur-CentralEurope.Dobrovoln_.2009', 'Eur-EuropeanAlps.B_ntgen.2011', 'Eur-CentralandEasternPyrenees.Pla.2004', 'Arc-Tjeggelvas.Bjorklund.2012', 'Arc-Indigirka.Hughes.1999', 'Eur-SpannagelCave.Mangini.2005', 'Ocn-AqabaJordanAQ19.Heiss.1999', 'Arc-Jamtland.Wilson.2016', 'Eur-RAPiD-17-5P.Moffa-Sanchez.2014', 'Eur-LakeSilvaplana.Trachsel.2010', 'Eur-NorthernSpain.Mart_n-Chivelet.2011', 'Eur-MaritimeFrenchAlps.B_ntgen.2012', 'Ocn-AqabaJordanAQ18.Heiss.1999', 'Arc-Tornetrask.Melvin.2012', 'Eur-EasternCarpathianMountains.Popa.2008', 'Arc-PolarUrals.Wilson.2015', 'Eur-LakeSilvaplana.Larocque-Tobler.2010', 'Eur-CoastofPortugal.Abrantes.2011', 'Eur-TatraMountains.B_ntgen.2013', 'Eur-SpanishPyrenees.Dorado-Linan.2012', 'Eur-FinnishLakelands.Helama.2014', 'Eur-Seebergsee.Larocque-Tobler.2012', 'Eur-NorthernScandinavia.Esper.2012', 'Arc-GulfofAlaska.Wilson.2014', 'Arc-Kittelfjall.Bjorklund.2012', 'Eur-L_tschental.B_ntgen.2006', 'Eur-Stockholm.Leijonhufvud.2009', 'Arc-AkademiiNaukIceCap.Opel.2013'])"
      ]
     },
     "execution_count": 13,
     "metadata": {},
     "output_type": "execute_result"
    }
   ],
   "source": [
    "ts_list_dir.keys()"
   ]
  },
  {
   "cell_type": "markdown",
   "id": "f4e6c5e7",
   "metadata": {},
   "source": [
    "If you are only interested in `Ocn-RedSea.Felis.2000` and `Arc-PolarUrals.Wilson.2015`, you can pass these names directly to the function:"
   ]
  },
  {
   "cell_type": "code",
   "execution_count": 14,
   "id": "ee6d2af6",
   "metadata": {},
   "outputs": [
    {
     "name": "stdout",
     "output_type": "stream",
     "text": [
      "Extracting timeseries from dataset: Ocn-RedSea.Felis.2000 ...\n",
      "Extracting timeseries from dataset: Arc-PolarUrals.Wilson.2015 ...\n"
     ]
    }
   ],
   "source": [
    "ts_list_short = D_dir.get_timeseries(['Ocn-RedSea.Felis.2000', 'Arc-PolarUrals.Wilson.2015'])"
   ]
  },
  {
   "cell_type": "code",
   "execution_count": 15,
   "id": "ec5ec61a",
   "metadata": {},
   "outputs": [
    {
     "data": {
      "text/plain": [
       "dict_keys(['Ocn-RedSea.Felis.2000', 'Arc-PolarUrals.Wilson.2015'])"
      ]
     },
     "execution_count": 15,
     "metadata": {},
     "output_type": "execute_result"
    }
   ],
   "source": [
    "ts_list_short.keys()"
   ]
  },
  {
   "cell_type": "markdown",
   "id": "94dddd00",
   "metadata": {},
   "source": [
    "### Removing and popping datasets out of a LiPD object\n",
    "\n",
    "You can also remove (i.e., delete the corresponding dataset from the `LiPD` object) or pop (i.e., delete the corresponding dataset from the `LiPD` object **and** return the dataset) datasets from a `LiPD` object. Note that these functionalities behave similarly as the functions with the same names on Python lists. These functions underpin more adavanced filtering and querying capabilities that we will discuss in later tutorials. \n",
    "\n",
    "First let's make a [copy](https://pylipd.readthedocs.io/en/latest/source/pylipd.html#pylipd.lipd.LiPD.copy) of `D_dir`:"
   ]
  },
  {
   "cell_type": "code",
   "execution_count": 16,
   "id": "453ad545",
   "metadata": {},
   "outputs": [
    {
     "name": "stdout",
     "output_type": "stream",
     "text": [
      "['Ocn-RedSea.Felis.2000', 'Arc-Forfjorddalen.McCarroll.2013', 'Eur-Tallinn.Tarand.2001', 'Eur-CentralEurope.Dobrovoln_.2009', 'Eur-EuropeanAlps.B_ntgen.2011', 'Eur-CentralandEasternPyrenees.Pla.2004', 'Arc-Tjeggelvas.Bjorklund.2012', 'Arc-Indigirka.Hughes.1999', 'Eur-SpannagelCave.Mangini.2005', 'Ocn-AqabaJordanAQ19.Heiss.1999', 'Arc-Jamtland.Wilson.2016', 'Eur-RAPiD-17-5P.Moffa-Sanchez.2014', 'Eur-LakeSilvaplana.Trachsel.2010', 'Eur-NorthernSpain.Mart_n-Chivelet.2011', 'Eur-MaritimeFrenchAlps.B_ntgen.2012', 'Ocn-AqabaJordanAQ18.Heiss.1999', 'Arc-Tornetrask.Melvin.2012', 'Eur-EasternCarpathianMountains.Popa.2008', 'Arc-PolarUrals.Wilson.2015', 'Eur-LakeSilvaplana.Larocque-Tobler.2010', 'Eur-CoastofPortugal.Abrantes.2011', 'Eur-TatraMountains.B_ntgen.2013', 'Eur-SpanishPyrenees.Dorado-Linan.2012', 'Eur-FinnishLakelands.Helama.2014', 'Eur-Seebergsee.Larocque-Tobler.2012', 'Eur-NorthernScandinavia.Esper.2012', 'Arc-GulfofAlaska.Wilson.2014', 'Arc-Kittelfjall.Bjorklund.2012', 'Eur-L_tschental.B_ntgen.2006', 'Eur-Stockholm.Leijonhufvud.2009', 'Arc-AkademiiNaukIceCap.Opel.2013']\n"
     ]
    }
   ],
   "source": [
    "D_test = D_dir.copy()\n",
    "print(D_test.get_all_dataset_names())"
   ]
  },
  {
   "cell_type": "markdown",
   "id": "af296b96",
   "metadata": {},
   "source": [
    "And let's [remove](https://pylipd.readthedocs.io/en/latest/source/pylipd.html#pylipd.lipd.LiPD.remove) `Arc-AkademiiNaukIceCap.Opel.2013`, which corresponds to the last entry in the list above:"
   ]
  },
  {
   "cell_type": "code",
   "execution_count": 17,
   "id": "18ceda31",
   "metadata": {},
   "outputs": [
    {
     "name": "stdout",
     "output_type": "stream",
     "text": [
      "['Ocn-RedSea.Felis.2000', 'Arc-Forfjorddalen.McCarroll.2013', 'Eur-Tallinn.Tarand.2001', 'Eur-CentralEurope.Dobrovoln_.2009', 'Eur-EuropeanAlps.B_ntgen.2011', 'Eur-CentralandEasternPyrenees.Pla.2004', 'Arc-Tjeggelvas.Bjorklund.2012', 'Arc-Indigirka.Hughes.1999', 'Eur-SpannagelCave.Mangini.2005', 'Ocn-AqabaJordanAQ19.Heiss.1999', 'Arc-Jamtland.Wilson.2016', 'Eur-RAPiD-17-5P.Moffa-Sanchez.2014', 'Eur-LakeSilvaplana.Trachsel.2010', 'Eur-NorthernSpain.Mart_n-Chivelet.2011', 'Eur-MaritimeFrenchAlps.B_ntgen.2012', 'Ocn-AqabaJordanAQ18.Heiss.1999', 'Arc-Tornetrask.Melvin.2012', 'Eur-EasternCarpathianMountains.Popa.2008', 'Arc-PolarUrals.Wilson.2015', 'Eur-LakeSilvaplana.Larocque-Tobler.2010', 'Eur-CoastofPortugal.Abrantes.2011', 'Eur-TatraMountains.B_ntgen.2013', 'Eur-SpanishPyrenees.Dorado-Linan.2012', 'Eur-FinnishLakelands.Helama.2014', 'Eur-Seebergsee.Larocque-Tobler.2012', 'Eur-NorthernScandinavia.Esper.2012', 'Arc-GulfofAlaska.Wilson.2014', 'Arc-Kittelfjall.Bjorklund.2012', 'Eur-L_tschental.B_ntgen.2006', 'Eur-Stockholm.Leijonhufvud.2009']\n"
     ]
    }
   ],
   "source": [
    "D_test.remove('Arc-AkademiiNaukIceCap.Opel.2013')\n",
    "\n",
    "print(D_test.get_all_dataset_names())"
   ]
  },
  {
   "cell_type": "markdown",
   "id": "42de2c37",
   "metadata": {},
   "source": [
    "Now let's [pop](https://pylipd.readthedocs.io/en/latest/source/pylipd.html#pylipd.lipd.LiPD.pop) `Eur-Stockholm.Leijonhufvud.2009` from `D_test`:"
   ]
  },
  {
   "cell_type": "code",
   "execution_count": 18,
   "id": "1c3bd668",
   "metadata": {},
   "outputs": [],
   "source": [
    "d_eur = D_test.pop('Eur-Stockholm.Leijonhufvud.2009')"
   ]
  },
  {
   "cell_type": "markdown",
   "id": "e668db94",
   "metadata": {},
   "source": [
    "Now let's have a look at `d_eur`:"
   ]
  },
  {
   "cell_type": "code",
   "execution_count": 19,
   "id": "8d77dd9b",
   "metadata": {},
   "outputs": [
    {
     "name": "stdout",
     "output_type": "stream",
     "text": [
      "['Eur-Stockholm.Leijonhufvud.2009']\n"
     ]
    }
   ],
   "source": [
    "print(d_eur.get_all_dataset_names())"
   ]
  },
  {
   "cell_type": "markdown",
   "id": "125f214f",
   "metadata": {},
   "source": [
    "It contains the dataset we are expecting. Let's have a look at `D_test`:"
   ]
  },
  {
   "cell_type": "code",
   "execution_count": 20,
   "id": "46a27cc7",
   "metadata": {},
   "outputs": [
    {
     "name": "stdout",
     "output_type": "stream",
     "text": [
      "['Ocn-RedSea.Felis.2000', 'Arc-Forfjorddalen.McCarroll.2013', 'Eur-Tallinn.Tarand.2001', 'Eur-CentralEurope.Dobrovoln_.2009', 'Eur-EuropeanAlps.B_ntgen.2011', 'Eur-CentralandEasternPyrenees.Pla.2004', 'Arc-Tjeggelvas.Bjorklund.2012', 'Arc-Indigirka.Hughes.1999', 'Eur-SpannagelCave.Mangini.2005', 'Ocn-AqabaJordanAQ19.Heiss.1999', 'Arc-Jamtland.Wilson.2016', 'Eur-RAPiD-17-5P.Moffa-Sanchez.2014', 'Eur-LakeSilvaplana.Trachsel.2010', 'Eur-NorthernSpain.Mart_n-Chivelet.2011', 'Eur-MaritimeFrenchAlps.B_ntgen.2012', 'Ocn-AqabaJordanAQ18.Heiss.1999', 'Arc-Tornetrask.Melvin.2012', 'Eur-EasternCarpathianMountains.Popa.2008', 'Arc-PolarUrals.Wilson.2015', 'Eur-LakeSilvaplana.Larocque-Tobler.2010', 'Eur-CoastofPortugal.Abrantes.2011', 'Eur-TatraMountains.B_ntgen.2013', 'Eur-SpanishPyrenees.Dorado-Linan.2012', 'Eur-FinnishLakelands.Helama.2014', 'Eur-Seebergsee.Larocque-Tobler.2012', 'Eur-NorthernScandinavia.Esper.2012', 'Arc-GulfofAlaska.Wilson.2014', 'Arc-Kittelfjall.Bjorklund.2012', 'Eur-L_tschental.B_ntgen.2006']\n"
     ]
    }
   ],
   "source": [
    "print(D_test.get_all_dataset_names())"
   ]
  },
  {
   "cell_type": "markdown",
   "id": "4d0619b8",
   "metadata": {},
   "source": [
    "The dataset was removed from `D_test` in the process. Hence, it's always prudent to make a copy of the original object when using the `remove` and `pop` functionalities. "
   ]
  },
  {
   "cell_type": "code",
   "execution_count": null,
   "id": "7ecc699d",
   "metadata": {},
   "outputs": [],
   "source": []
  }
 ],
 "metadata": {
  "kernelspec": {
   "display_name": "Python 3 (ipykernel)",
   "language": "python",
   "name": "python3"
  },
  "language_info": {
   "codemirror_mode": {
    "name": "ipython",
    "version": 3
   },
   "file_extension": ".py",
   "mimetype": "text/x-python",
   "name": "python",
   "nbconvert_exporter": "python",
   "pygments_lexer": "ipython3",
   "version": "3.10.9"
  }
 },
 "nbformat": 4,
 "nbformat_minor": 5
}
