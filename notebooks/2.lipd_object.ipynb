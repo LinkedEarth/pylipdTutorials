{
 "cells": [
  {
   "cell_type": "markdown",
   "id": "908ffece",
   "metadata": {},
   "source": [
    "# Basic manipulation of `pylipd.LiPD` object\n",
    "\n",
    "## Authors\n",
    "\n",
    "Deborah Khider, Varun Ratnakar\n",
    "\n",
    "Information Sciences Institute, University of Southern California\n",
    "\n",
    "Author1 = {\"name\": \"Deborah Khider\", \"affiliation\": \"Information Sciences Institute, University of Southern California\", \"email\": \"khider@usc.edu\", \"orcid\": \"0000-0001-7501-8430\"}\n",
    "\n",
    "Author2 = {\"name\": \"Varun Ratnakar\", \"affiliation\": \"Information Sciences Institute, University of Southern California\", \"email\": \"varunr@isi.edu\"}\n",
    "\n",
    "## Preamble\n",
    "\n",
    "### Goals:\n",
    "\n",
    "* Extract a time series for data analysis\n",
    "* Remove/pop LiPD datasets to an existing `LiPD` object\n",
    "\n",
    "Reading Time: 5 minutes\n",
    "\n",
    "### Keywords\n",
    "\n",
    "LiPD; query\n",
    "\n",
    "### Pre-requisites\n",
    "\n",
    "None. This tutorial assumes basic knowledge of Python and Pandas. If you are not familiar with this coding language and the Pandas library, check out this tutorial: http://linked.earth/ec_workshops_py/.\n",
    "\n",
    "### Relevant Packages\n",
    "\n",
    "Pandas, pylipd\n",
    "\n",
    "## Data Description\n",
    "\n",
    "This notebook uses the following datasets, in LiPD format:\n",
    "\n",
    "* Nurhati, I. S., Cobb, K. M., & Di Lorenzo, E. (2011). Decadal-scale SST and salinity variations in the central tropical Pacific: Signatures of natural and anthropogenic climate change. Journal of Climate, 24(13), 3294–3308. doi:10.1175/2011jcli3852.1\n",
    "\n",
    "* Moses, C. S., Swart, P. K., and Rosenheim, B. E. (2006), Evidence of multidecadal salinity variability in the eastern tropical North Atlantic, Paleoceanography, 21, PA3010, doi:10.1029/2005PA001257.\n",
    "\n",
    "* Euro2k database: PAGES2k Consortium., Emile-Geay, J., McKay, N. et al. A global multiproxy database for temperature reconstructions of the Common Era. Sci Data 4, 170088 (2017). doi:10.1038/sdata.2017.88\n",
    "\n",
    "* Stott, L., Timmermann, A., & Thunell, R. (2007). Southern Hemisphere and deep-sea warming led deglacial atmospheric CO2 rise and tropical warming. Science (New York, N.Y.), 318(5849), 435–438. doi:10.1126/science.1143791\n",
    "\n",
    "* Tudhope, A. W., Chilcott, C. P., McCulloch, M. T., Cook, E. R., Chappell, J., Ellam, R. M., et al. (2001). Variability in the El Niño-Southern Oscillation through a glacial-interglacial cycle. Science, 291(1511), 1511-1517. doi:doi:10.1126/science.1057969\n",
    "\n",
    "* Tierney, J. E., Abram, N. J., Anchukaitis, K. J., Evans, M. N., Giry, C., Kilbourne, K. H., et al. (2015). Tropical sea surface temperatures for the past four centuries reconstructed from coral archives. Paleoceanography, 30(3), 226–252. doi:10.1002/2014pa002717\n",
    "\n",
    "* Orsi, A. J., Cornuelle, B. D., and Severinghaus, J. P. (2012), Little Ice Age cold interval in West Antarctica: Evidence from borehole temperature at the West Antarctic Ice Sheet (WAIS) Divide, Geophys. Res. Lett., 39, L09710, doi:10.1029/2012GL051260."
   ]
  },
  {
   "cell_type": "code",
   "execution_count": 1,
   "id": "8f4cd713",
   "metadata": {},
   "outputs": [],
   "source": [
    "from pylipd.lipd import LiPD"
   ]
  },
  {
   "cell_type": "markdown",
   "id": "0f0b5985",
   "metadata": {},
   "source": [
    "## Demonstration\n",
    "\n",
    "### Extract time series data from LiPD formatted datasets\n",
    "\n",
    "If you are famliar with the [R utilities](https://nickmckay.github.io/lipdR/), one useful functions is the ability to expand timeseries data. This capability was also present in the previous iteration of the Python utilities and `pylipd` retains this compatbility to ease the transition. \n",
    "\n",
    "If you're unsure about what a time series is in the LiPD context, [read more](https://nickmckay.github.io/lipdR/#helptimeseries). \n",
    "\n",
    "#### Working with one dataset\n",
    "\n",
    "First, let's load a single dataset:"
   ]
  },
  {
   "cell_type": "code",
   "execution_count": 2,
   "id": "8a8f8659",
   "metadata": {},
   "outputs": [
    {
     "name": "stdout",
     "output_type": "stream",
     "text": [
      "Loading 1 LiPD files\n",
      "Conversion to RDF done..\n",
      "Loading RDF into graph\n",
      "Loaded..\n"
     ]
    }
   ],
   "source": [
    "data_path = '../data/Ocn-Palmyra.Nurhati.2011.lpd'\n",
    "D = LiPD()\n",
    "D.load(data_path)"
   ]
  },
  {
   "cell_type": "markdown",
   "id": "0e92e908",
   "metadata": {},
   "source": [
    "Now let's get all the timeseries for this dataset. Note that the [`get_timeseries`](https://pylipd.readthedocs.io/en/latest/source/pylipd.html#pylipd.lipd.LiPD.get_timeseries) function requires to pass the dataset names. This is useful if you only want to expand only one dataset from your LiPD object. You can also use the function [`get_all_dataset_names`](https://pylipd.readthedocs.io/en/latest/source/pylipd.html#pylipd.lipd.LiPD.get_all_dataset_names) in the call to expand all datasets: "
   ]
  },
  {
   "cell_type": "code",
   "execution_count": 3,
   "id": "b7121335",
   "metadata": {},
   "outputs": [
    {
     "name": "stdout",
     "output_type": "stream",
     "text": [
      "Extracting timeseries from dataset: Ocn-Palmyra.Nurhati.2011 ...\n"
     ]
    },
    {
     "data": {
      "text/plain": [
       "dict"
      ]
     },
     "execution_count": 3,
     "metadata": {},
     "output_type": "execute_result"
    }
   ],
   "source": [
    "ts_list = D.get_timeseries(D.get_all_dataset_names())\n",
    "\n",
    "type(ts_list)"
   ]
  },
  {
   "cell_type": "markdown",
   "id": "fa2cf601",
   "metadata": {},
   "source": [
    "Note that the above function returns a dictionary that organizes the extracted timeseries by dataset name:"
   ]
  },
  {
   "cell_type": "code",
   "execution_count": 4,
   "id": "46196c72",
   "metadata": {},
   "outputs": [
    {
     "data": {
      "text/plain": [
       "dict_keys(['Ocn-Palmyra.Nurhati.2011'])"
      ]
     },
     "execution_count": 4,
     "metadata": {},
     "output_type": "execute_result"
    }
   ],
   "source": [
    "ts_list.keys()"
   ]
  },
  {
   "cell_type": "markdown",
   "id": "250a4611",
   "metadata": {},
   "source": [
    "Each timeseries is then stored into a list of dictionaries that preserve essential metadata for each time/depth and value pair:"
   ]
  },
  {
   "cell_type": "code",
   "execution_count": 5,
   "id": "d7f08392",
   "metadata": {},
   "outputs": [
    {
     "data": {
      "text/plain": [
       "list"
      ]
     },
     "execution_count": 5,
     "metadata": {},
     "output_type": "execute_result"
    }
   ],
   "source": [
    "type(ts_list['Ocn-Palmyra.Nurhati.2011'])"
   ]
  },
  {
   "cell_type": "markdown",
   "id": "fb7d5290",
   "metadata": {},
   "source": [
    "Although the information is present, it is not easy to navigate or query across the various list. One simple way of doing so is to return the list into a `Pandas.DataFrame`[https://pandas.pydata.org/docs/reference/api/pandas.DataFrame.html]:"
   ]
  },
  {
   "cell_type": "code",
   "execution_count": 6,
   "id": "80bcb09d",
   "metadata": {},
   "outputs": [
    {
     "name": "stdout",
     "output_type": "stream",
     "text": [
      "Extracting timeseries from dataset: Ocn-Palmyra.Nurhati.2011 ...\n"
     ]
    },
    {
     "data": {
      "text/html": [
       "<div>\n",
       "<style scoped>\n",
       "    .dataframe tbody tr th:only-of-type {\n",
       "        vertical-align: middle;\n",
       "    }\n",
       "\n",
       "    .dataframe tbody tr th {\n",
       "        vertical-align: top;\n",
       "    }\n",
       "\n",
       "    .dataframe thead th {\n",
       "        text-align: right;\n",
       "    }\n",
       "</style>\n",
       "<table border=\"1\" class=\"dataframe\">\n",
       "  <thead>\n",
       "    <tr style=\"text-align: right;\">\n",
       "      <th></th>\n",
       "      <th>mode</th>\n",
       "      <th>time_id</th>\n",
       "      <th>googleMetadataWorksheet</th>\n",
       "      <th>pub1_author</th>\n",
       "      <th>pub1_citeKey</th>\n",
       "      <th>pub1_title</th>\n",
       "      <th>pub1_url</th>\n",
       "      <th>pub1_institution</th>\n",
       "      <th>pub1_urldate</th>\n",
       "      <th>pub1_DOI</th>\n",
       "      <th>...</th>\n",
       "      <th>paleoData_sensorSpecies</th>\n",
       "      <th>paleoData_variableName</th>\n",
       "      <th>paleoData_pages2kID</th>\n",
       "      <th>paleoData_notes</th>\n",
       "      <th>paleoData_variableType</th>\n",
       "      <th>paleoData_values</th>\n",
       "      <th>paleoData_qCnotes</th>\n",
       "      <th>paleoData_dataType</th>\n",
       "      <th>paleoData_description</th>\n",
       "      <th>paleoData_inferredVariableType</th>\n",
       "    </tr>\n",
       "  </thead>\n",
       "  <tbody>\n",
       "    <tr>\n",
       "      <th>0</th>\n",
       "      <td>paleoData</td>\n",
       "      <td>age</td>\n",
       "      <td>oax0htr</td>\n",
       "      <td>I.S. Nurhati</td>\n",
       "      <td>nurhati2010httpswwwncdcnoaagovpaleostudy8609Da...</td>\n",
       "      <td>World Data Center for Paleoclimatology</td>\n",
       "      <td>https://www.ncdc.noaa.gov/paleo/study/8609</td>\n",
       "      <td>World Data Center for Paleoclimatology</td>\n",
       "      <td>2010.0</td>\n",
       "      <td>hello</td>\n",
       "      <td>...</td>\n",
       "      <td>lutea</td>\n",
       "      <td>Sr_Ca</td>\n",
       "      <td>Ocn_129</td>\n",
       "      <td>; paleoData_variableName changed - was origina...</td>\n",
       "      <td>measured</td>\n",
       "      <td>[8.96, 8.9, 8.91, 8.94, 8.92, 8.89, 8.87, 8.81...</td>\n",
       "      <td>NaN</td>\n",
       "      <td>NaN</td>\n",
       "      <td>NaN</td>\n",
       "      <td>NaN</td>\n",
       "    </tr>\n",
       "    <tr>\n",
       "      <th>1</th>\n",
       "      <td>paleoData</td>\n",
       "      <td>age</td>\n",
       "      <td>oax0htr</td>\n",
       "      <td>I.S. Nurhati</td>\n",
       "      <td>nurhati2010httpswwwncdcnoaagovpaleostudy8609Da...</td>\n",
       "      <td>World Data Center for Paleoclimatology</td>\n",
       "      <td>https://www.ncdc.noaa.gov/paleo/study/8609</td>\n",
       "      <td>World Data Center for Paleoclimatology</td>\n",
       "      <td>2010.0</td>\n",
       "      <td>hello</td>\n",
       "      <td>...</td>\n",
       "      <td>lutea</td>\n",
       "      <td>d18O</td>\n",
       "      <td>NaN</td>\n",
       "      <td>; climateInterpretation_seasonality changed - ...</td>\n",
       "      <td>measured</td>\n",
       "      <td>[-5.41, -5.47, -5.49, -5.43, -5.48, -5.53, -5....</td>\n",
       "      <td>Duplicate of modern d18O record presented in C...</td>\n",
       "      <td>NaN</td>\n",
       "      <td>NaN</td>\n",
       "      <td>NaN</td>\n",
       "    </tr>\n",
       "    <tr>\n",
       "      <th>2</th>\n",
       "      <td>paleoData</td>\n",
       "      <td>age</td>\n",
       "      <td>oax0htr</td>\n",
       "      <td>I.S. Nurhati</td>\n",
       "      <td>nurhati2010httpswwwncdcnoaagovpaleostudy8609Da...</td>\n",
       "      <td>World Data Center for Paleoclimatology</td>\n",
       "      <td>https://www.ncdc.noaa.gov/paleo/study/8609</td>\n",
       "      <td>World Data Center for Paleoclimatology</td>\n",
       "      <td>2010.0</td>\n",
       "      <td>hello</td>\n",
       "      <td>...</td>\n",
       "      <td>NaN</td>\n",
       "      <td>year</td>\n",
       "      <td>NaN</td>\n",
       "      <td>NaN</td>\n",
       "      <td>inferred</td>\n",
       "      <td>[1998.29, 1998.21, 1998.13, 1998.04, 1997.96, ...</td>\n",
       "      <td>NaN</td>\n",
       "      <td>float</td>\n",
       "      <td>Year AD</td>\n",
       "      <td>Year</td>\n",
       "    </tr>\n",
       "    <tr>\n",
       "      <th>3</th>\n",
       "      <td>paleoData</td>\n",
       "      <td>age</td>\n",
       "      <td>oax0htr</td>\n",
       "      <td>I.S. Nurhati</td>\n",
       "      <td>nurhati2010httpswwwncdcnoaagovpaleostudy8609Da...</td>\n",
       "      <td>World Data Center for Paleoclimatology</td>\n",
       "      <td>https://www.ncdc.noaa.gov/paleo/study/8609</td>\n",
       "      <td>World Data Center for Paleoclimatology</td>\n",
       "      <td>2010.0</td>\n",
       "      <td>hello</td>\n",
       "      <td>...</td>\n",
       "      <td>NaN</td>\n",
       "      <td>year</td>\n",
       "      <td>NaN</td>\n",
       "      <td>NaN</td>\n",
       "      <td>inferred</td>\n",
       "      <td>[1998.21, 1998.13, 1998.04, 1997.96, 1997.88, ...</td>\n",
       "      <td>NaN</td>\n",
       "      <td>float</td>\n",
       "      <td>Year AD</td>\n",
       "      <td>Year</td>\n",
       "    </tr>\n",
       "    <tr>\n",
       "      <th>4</th>\n",
       "      <td>paleoData</td>\n",
       "      <td>age</td>\n",
       "      <td>oax0htr</td>\n",
       "      <td>I.S. Nurhati</td>\n",
       "      <td>nurhati2010httpswwwncdcnoaagovpaleostudy8609Da...</td>\n",
       "      <td>World Data Center for Paleoclimatology</td>\n",
       "      <td>https://www.ncdc.noaa.gov/paleo/study/8609</td>\n",
       "      <td>World Data Center for Paleoclimatology</td>\n",
       "      <td>2010.0</td>\n",
       "      <td>hello</td>\n",
       "      <td>...</td>\n",
       "      <td>lutea</td>\n",
       "      <td>d18O</td>\n",
       "      <td>NaN</td>\n",
       "      <td>NaN</td>\n",
       "      <td>measured</td>\n",
       "      <td>[0.39, 0.35, 0.35, 0.35, 0.36, 0.22, 0.33, 0.3...</td>\n",
       "      <td>d18Osw (residuals calculated from coupled SrCa...</td>\n",
       "      <td>NaN</td>\n",
       "      <td>NaN</td>\n",
       "      <td>NaN</td>\n",
       "    </tr>\n",
       "  </tbody>\n",
       "</table>\n",
       "<p>5 rows × 93 columns</p>\n",
       "</div>"
      ],
      "text/plain": [
       "        mode time_id googleMetadataWorksheet   pub1_author  \\\n",
       "0  paleoData     age                 oax0htr  I.S. Nurhati   \n",
       "1  paleoData     age                 oax0htr  I.S. Nurhati   \n",
       "2  paleoData     age                 oax0htr  I.S. Nurhati   \n",
       "3  paleoData     age                 oax0htr  I.S. Nurhati   \n",
       "4  paleoData     age                 oax0htr  I.S. Nurhati   \n",
       "\n",
       "                                        pub1_citeKey  \\\n",
       "0  nurhati2010httpswwwncdcnoaagovpaleostudy8609Da...   \n",
       "1  nurhati2010httpswwwncdcnoaagovpaleostudy8609Da...   \n",
       "2  nurhati2010httpswwwncdcnoaagovpaleostudy8609Da...   \n",
       "3  nurhati2010httpswwwncdcnoaagovpaleostudy8609Da...   \n",
       "4  nurhati2010httpswwwncdcnoaagovpaleostudy8609Da...   \n",
       "\n",
       "                               pub1_title  \\\n",
       "0  World Data Center for Paleoclimatology   \n",
       "1  World Data Center for Paleoclimatology   \n",
       "2  World Data Center for Paleoclimatology   \n",
       "3  World Data Center for Paleoclimatology   \n",
       "4  World Data Center for Paleoclimatology   \n",
       "\n",
       "                                     pub1_url  \\\n",
       "0  https://www.ncdc.noaa.gov/paleo/study/8609   \n",
       "1  https://www.ncdc.noaa.gov/paleo/study/8609   \n",
       "2  https://www.ncdc.noaa.gov/paleo/study/8609   \n",
       "3  https://www.ncdc.noaa.gov/paleo/study/8609   \n",
       "4  https://www.ncdc.noaa.gov/paleo/study/8609   \n",
       "\n",
       "                         pub1_institution  pub1_urldate pub1_DOI  ...  \\\n",
       "0  World Data Center for Paleoclimatology        2010.0    hello  ...   \n",
       "1  World Data Center for Paleoclimatology        2010.0    hello  ...   \n",
       "2  World Data Center for Paleoclimatology        2010.0    hello  ...   \n",
       "3  World Data Center for Paleoclimatology        2010.0    hello  ...   \n",
       "4  World Data Center for Paleoclimatology        2010.0    hello  ...   \n",
       "\n",
       "  paleoData_sensorSpecies paleoData_variableName paleoData_pages2kID  \\\n",
       "0                   lutea                  Sr_Ca             Ocn_129   \n",
       "1                   lutea                   d18O                 NaN   \n",
       "2                     NaN                   year                 NaN   \n",
       "3                     NaN                   year                 NaN   \n",
       "4                   lutea                   d18O                 NaN   \n",
       "\n",
       "                                     paleoData_notes  paleoData_variableType  \\\n",
       "0  ; paleoData_variableName changed - was origina...                measured   \n",
       "1  ; climateInterpretation_seasonality changed - ...                measured   \n",
       "2                                                NaN                inferred   \n",
       "3                                                NaN                inferred   \n",
       "4                                                NaN                measured   \n",
       "\n",
       "                                    paleoData_values  \\\n",
       "0  [8.96, 8.9, 8.91, 8.94, 8.92, 8.89, 8.87, 8.81...   \n",
       "1  [-5.41, -5.47, -5.49, -5.43, -5.48, -5.53, -5....   \n",
       "2  [1998.29, 1998.21, 1998.13, 1998.04, 1997.96, ...   \n",
       "3  [1998.21, 1998.13, 1998.04, 1997.96, 1997.88, ...   \n",
       "4  [0.39, 0.35, 0.35, 0.35, 0.36, 0.22, 0.33, 0.3...   \n",
       "\n",
       "                                   paleoData_qCnotes paleoData_dataType  \\\n",
       "0                                                NaN                NaN   \n",
       "1  Duplicate of modern d18O record presented in C...                NaN   \n",
       "2                                                NaN              float   \n",
       "3                                                NaN              float   \n",
       "4  d18Osw (residuals calculated from coupled SrCa...                NaN   \n",
       "\n",
       "  paleoData_description paleoData_inferredVariableType  \n",
       "0                   NaN                            NaN  \n",
       "1                   NaN                            NaN  \n",
       "2               Year AD                           Year  \n",
       "3               Year AD                           Year  \n",
       "4                   NaN                            NaN  \n",
       "\n",
       "[5 rows x 93 columns]"
      ]
     },
     "execution_count": 6,
     "metadata": {},
     "output_type": "execute_result"
    }
   ],
   "source": [
    "ts_list, df = D.get_timeseries(D.get_all_dataset_names(), to_dataframe=True)\n",
    "\n",
    "df"
   ]
  },
  {
   "cell_type": "markdown",
   "id": "ec95e7eb",
   "metadata": {},
   "source": [
    "You can now use all the pandas functionalities for filtering and querying dataframes. First, let's have a look at the available properties, which corresponds to the column headers:"
   ]
  },
  {
   "cell_type": "code",
   "execution_count": 7,
   "id": "4afe09fe",
   "metadata": {},
   "outputs": [
    {
     "data": {
      "text/plain": [
       "Index(['mode', 'time_id', 'googleMetadataWorksheet', 'pub1_author',\n",
       "       'pub1_citeKey', 'pub1_title', 'pub1_url', 'pub1_institution',\n",
       "       'pub1_urldate', 'pub1_DOI', 'pub2_author', 'pub2_publisher',\n",
       "       'pub2_link', 'pub2_citeKey', 'pub2_year', 'pub2_pages', 'pub2_volume',\n",
       "       'pub2_doi', 'pub2_title', 'pub2_journal', 'pub2_dataUrl', 'pub2_DOI',\n",
       "       'pub3_author', 'pub3_volume', 'pub3_publisher', 'pub3_doi', 'pub3_year',\n",
       "       'pub3_issue', 'pub3_link', 'pub3_title', 'pub3_citeKey', 'pub3_pages',\n",
       "       'pub3_journal', 'pub3_dataUrl', 'pub3_DOI', 'createdBy',\n",
       "       'originalDataURL', 'hasUrl', 'geo_meanLon', 'geo_meanLat',\n",
       "       'geo_meanElev', 'geo_type', 'geo_ocean', 'geo_pages2kRegion',\n",
       "       'geo_siteName', 'dataSetName', 'dataContributor',\n",
       "       'googleSpreadSheetKey', 'studyName', 'lipdVersion', 'googleDataURL',\n",
       "       'archiveType', 'tableType', 'paleoData_filename',\n",
       "       'paleoData_googleWorkSheetKey', 'paleoData_paleoDataTableName',\n",
       "       'paleoData_measurementTableMD5', 'paleoData_measurementTableName',\n",
       "       'year', 'yearUnits', 'paleoData_proxyObservationType',\n",
       "       'paleoData_sensorGenus', 'paleoData_number', 'paleoData_hasMeanValue',\n",
       "       'paleoData_hasMinValue', 'paleoData_hasMaxValue', 'paleoData_proxy',\n",
       "       'paleoData_hasMedianValue', 'paleoData_ocean2kID', 'paleoData_units',\n",
       "       'paleoData_hasResolution_hasMedianValue',\n",
       "       'paleoData_hasResolution_hasMeanValue', 'paleoData_hasResolution_units',\n",
       "       'paleoData_hasResolution_hasMinValue',\n",
       "       'paleoData_hasResolution_hasMaxValue', 'paleoData_qCCertification',\n",
       "       'paleoData_TSid', 'paleoData_missingValue', 'paleoData_wDSPaleoUrl',\n",
       "       'paleoData_useInGlobalTemperatureAnalysis', 'paleoData_iso2kUI',\n",
       "       'paleoData_interpretation', 'paleoData_inCompilation',\n",
       "       'paleoData_sensorSpecies', 'paleoData_variableName',\n",
       "       'paleoData_pages2kID', 'paleoData_notes', 'paleoData_variableType',\n",
       "       'paleoData_values', 'paleoData_qCnotes', 'paleoData_dataType',\n",
       "       'paleoData_description', 'paleoData_inferredVariableType'],\n",
       "      dtype='object')"
      ]
     },
     "execution_count": 7,
     "metadata": {},
     "output_type": "execute_result"
    }
   ],
   "source": [
    "df.columns"
   ]
  },
  {
   "cell_type": "markdown",
   "id": "9442dc71",
   "metadata": {},
   "source": [
    "Let's have a look at the `paleoData_variableName` column to see what's available:"
   ]
  },
  {
   "cell_type": "code",
   "execution_count": 8,
   "id": "6fe5eed5",
   "metadata": {},
   "outputs": [
    {
     "data": {
      "text/plain": [
       "0    Sr_Ca\n",
       "1     d18O\n",
       "2     year\n",
       "3     year\n",
       "4     d18O\n",
       "Name: paleoData_variableName, dtype: object"
      ]
     },
     "execution_count": 8,
     "metadata": {},
     "output_type": "execute_result"
    }
   ],
   "source": [
    "df['paleoData_variableName']"
   ]
  },
  {
   "cell_type": "markdown",
   "id": "8228e271",
   "metadata": {},
   "source": [
    "All columns get extracted, hence why `year` is extracted as a paleo variable, with its associated values stored in `paleoData_values`. Notice that there is also two variables names `d18O`. Since this is a coral record, it stands to reason that one corresponds to the measured $\\delta^{18}O$ of the coral and the other the $\\delta^{18}O$ of the seawater. Let's have a look at the `qCnotes` field:"
   ]
  },
  {
   "cell_type": "code",
   "execution_count": 37,
   "id": "d16917ac",
   "metadata": {},
   "outputs": [
    {
     "data": {
      "text/html": [
       "<div>\n",
       "<style scoped>\n",
       "    .dataframe tbody tr th:only-of-type {\n",
       "        vertical-align: middle;\n",
       "    }\n",
       "\n",
       "    .dataframe tbody tr th {\n",
       "        vertical-align: top;\n",
       "    }\n",
       "\n",
       "    .dataframe thead th {\n",
       "        text-align: right;\n",
       "    }\n",
       "</style>\n",
       "<table border=\"1\" class=\"dataframe\">\n",
       "  <thead>\n",
       "    <tr style=\"text-align: right;\">\n",
       "      <th></th>\n",
       "      <th>paleoData_variableName</th>\n",
       "      <th>paleoData_qCnotes</th>\n",
       "    </tr>\n",
       "  </thead>\n",
       "  <tbody>\n",
       "    <tr>\n",
       "      <th>0</th>\n",
       "      <td>Sr_Ca</td>\n",
       "      <td>NaN</td>\n",
       "    </tr>\n",
       "    <tr>\n",
       "      <th>1</th>\n",
       "      <td>d18O</td>\n",
       "      <td>Duplicate of modern d18O record presented in C...</td>\n",
       "    </tr>\n",
       "    <tr>\n",
       "      <th>2</th>\n",
       "      <td>year</td>\n",
       "      <td>NaN</td>\n",
       "    </tr>\n",
       "    <tr>\n",
       "      <th>3</th>\n",
       "      <td>year</td>\n",
       "      <td>NaN</td>\n",
       "    </tr>\n",
       "    <tr>\n",
       "      <th>4</th>\n",
       "      <td>d18O</td>\n",
       "      <td>d18Osw (residuals calculated from coupled SrCa...</td>\n",
       "    </tr>\n",
       "  </tbody>\n",
       "</table>\n",
       "</div>"
      ],
      "text/plain": [
       "  paleoData_variableName                                  paleoData_qCnotes\n",
       "0                  Sr_Ca                                                NaN\n",
       "1                   d18O  Duplicate of modern d18O record presented in C...\n",
       "2                   year                                                NaN\n",
       "3                   year                                                NaN\n",
       "4                   d18O  d18Osw (residuals calculated from coupled SrCa..."
      ]
     },
     "execution_count": 37,
     "metadata": {},
     "output_type": "execute_result"
    }
   ],
   "source": [
    "df[['paleoData_variableName','paleoData_qCnotes']]"
   ]
  },
  {
   "cell_type": "markdown",
   "id": "86733e75",
   "metadata": {},
   "source": [
    "In fact, one is for the measurement on the coral and the other for seawater. Querying on this small dataset is not necessary; however, it can become useful when looking at a collection of files as shown in the next example (working with multiple datasets). \n",
    "\n",
    "To extract by row index (here extracting for `Sr_Ca`):"
   ]
  },
  {
   "cell_type": "code",
   "execution_count": 27,
   "id": "79711bfe",
   "metadata": {},
   "outputs": [
    {
     "data": {
      "text/plain": [
       "mode                                                                      paleoData\n",
       "time_id                                                                         age\n",
       "googleMetadataWorksheet                                                     oax0htr\n",
       "pub1_author                                                            I.S. Nurhati\n",
       "pub1_citeKey                      nurhati2010httpswwwncdcnoaagovpaleostudy8609Da...\n",
       "                                                        ...                        \n",
       "paleoData_values                  [8.96, 8.9, 8.91, 8.94, 8.92, 8.89, 8.87, 8.81...\n",
       "paleoData_qCnotes                                                               NaN\n",
       "paleoData_dataType                                                              NaN\n",
       "paleoData_description                                                           NaN\n",
       "paleoData_inferredVariableType                                                  NaN\n",
       "Name: 0, Length: 93, dtype: object"
      ]
     },
     "execution_count": 27,
     "metadata": {},
     "output_type": "execute_result"
    }
   ],
   "source": [
    "df_cut = df.iloc[0,:]\n",
    "\n",
    "df_cut"
   ]
  },
  {
   "cell_type": "code",
   "execution_count": 29,
   "id": "76224449",
   "metadata": {},
   "outputs": [
    {
     "data": {
      "text/plain": [
       "'Sr_Ca'"
      ]
     },
     "execution_count": 29,
     "metadata": {},
     "output_type": "execute_result"
    }
   ],
   "source": [
    "df_cut['paleoData_variableName']"
   ]
  },
  {
   "cell_type": "markdown",
   "id": "50937d6a",
   "metadata": {},
   "source": [
    "This can be very useful when working with the [`Pyleoclim`](https://pyleoclim-util.readthedocs.io/en/master/) software since a `Pyleoclim.Series` can be initialized from the information contained in `df_cut`. Working with `pylipd` and `Pyleoclim` will be the subject of a later tutorial."
   ]
  },
  {
   "cell_type": "markdown",
   "id": "1d4d0022",
   "metadata": {},
   "source": [
    "#### Working with multiple datasets"
   ]
  },
  {
   "cell_type": "code",
   "execution_count": 30,
   "id": "5bb89337",
   "metadata": {},
   "outputs": [
    {
     "name": "stdout",
     "output_type": "stream",
     "text": [
      "Loading 31 LiPD files\n",
      "Conversion to RDF done..\n",
      "Loading RDF into graph\n",
      "Loaded..\n"
     ]
    }
   ],
   "source": [
    "path = '../data/Euro2k/'\n",
    "\n",
    "D_dir = LiPD()\n",
    "D_dir.load_from_dir(path)"
   ]
  },
  {
   "cell_type": "markdown",
   "id": "b23be8cd",
   "metadata": {},
   "source": [
    "Let's start by expanding all datasets using `get_all_dataset_names()`:"
   ]
  },
  {
   "cell_type": "code",
   "execution_count": 31,
   "id": "4ac3c735",
   "metadata": {},
   "outputs": [
    {
     "name": "stdout",
     "output_type": "stream",
     "text": [
      "Extracting timeseries from dataset: Ocn-RedSea.Felis.2000 ...\n",
      "Extracting timeseries from dataset: Arc-Forfjorddalen.McCarroll.2013 ...\n",
      "Extracting timeseries from dataset: Eur-Tallinn.Tarand.2001 ...\n",
      "Extracting timeseries from dataset: Eur-CentralEurope.Dobrovoln_.2009 ...\n",
      "Extracting timeseries from dataset: Eur-EuropeanAlps.B_ntgen.2011 ...\n",
      "Extracting timeseries from dataset: Eur-CentralandEasternPyrenees.Pla.2004 ...\n",
      "Extracting timeseries from dataset: Arc-Tjeggelvas.Bjorklund.2012 ...\n",
      "Extracting timeseries from dataset: Arc-Indigirka.Hughes.1999 ...\n",
      "Extracting timeseries from dataset: Eur-SpannagelCave.Mangini.2005 ...\n",
      "Extracting timeseries from dataset: Ocn-AqabaJordanAQ19.Heiss.1999 ...\n",
      "Extracting timeseries from dataset: Arc-Jamtland.Wilson.2016 ...\n",
      "Extracting timeseries from dataset: Eur-RAPiD-17-5P.Moffa-Sanchez.2014 ...\n",
      "Extracting timeseries from dataset: Eur-LakeSilvaplana.Trachsel.2010 ...\n",
      "Extracting timeseries from dataset: Eur-NorthernSpain.Mart_n-Chivelet.2011 ...\n",
      "Extracting timeseries from dataset: Eur-MaritimeFrenchAlps.B_ntgen.2012 ...\n",
      "Extracting timeseries from dataset: Ocn-AqabaJordanAQ18.Heiss.1999 ...\n",
      "Extracting timeseries from dataset: Arc-Tornetrask.Melvin.2012 ...\n",
      "Extracting timeseries from dataset: Eur-EasternCarpathianMountains.Popa.2008 ...\n",
      "Extracting timeseries from dataset: Arc-PolarUrals.Wilson.2015 ...\n",
      "Extracting timeseries from dataset: Eur-LakeSilvaplana.Larocque-Tobler.2010 ...\n",
      "Extracting timeseries from dataset: Eur-CoastofPortugal.Abrantes.2011 ...\n",
      "Extracting timeseries from dataset: Eur-TatraMountains.B_ntgen.2013 ...\n",
      "Extracting timeseries from dataset: Eur-SpanishPyrenees.Dorado-Linan.2012 ...\n",
      "Extracting timeseries from dataset: Eur-FinnishLakelands.Helama.2014 ...\n",
      "Extracting timeseries from dataset: Eur-Seebergsee.Larocque-Tobler.2012 ...\n",
      "Extracting timeseries from dataset: Eur-NorthernScandinavia.Esper.2012 ...\n",
      "Extracting timeseries from dataset: Arc-GulfofAlaska.Wilson.2014 ...\n",
      "Extracting timeseries from dataset: Arc-Kittelfjall.Bjorklund.2012 ...\n",
      "Extracting timeseries from dataset: Eur-L_tschental.B_ntgen.2006 ...\n",
      "Extracting timeseries from dataset: Eur-Stockholm.Leijonhufvud.2009 ...\n",
      "Extracting timeseries from dataset: Arc-AkademiiNaukIceCap.Opel.2013 ...\n"
     ]
    }
   ],
   "source": [
    "ts_list_dir, df_dir = D_dir.get_timeseries(D_dir.get_all_dataset_names(), to_dataframe=True)"
   ]
  },
  {
   "cell_type": "markdown",
   "id": "2b25e22a",
   "metadata": {},
   "source": [
    "Let's have a look at the dataframe:"
   ]
  },
  {
   "cell_type": "code",
   "execution_count": 32,
   "id": "977fab82",
   "metadata": {},
   "outputs": [
    {
     "data": {
      "text/html": [
       "<div>\n",
       "<style scoped>\n",
       "    .dataframe tbody tr th:only-of-type {\n",
       "        vertical-align: middle;\n",
       "    }\n",
       "\n",
       "    .dataframe tbody tr th {\n",
       "        vertical-align: top;\n",
       "    }\n",
       "\n",
       "    .dataframe thead th {\n",
       "        text-align: right;\n",
       "    }\n",
       "</style>\n",
       "<table border=\"1\" class=\"dataframe\">\n",
       "  <thead>\n",
       "    <tr style=\"text-align: right;\">\n",
       "      <th></th>\n",
       "      <th>mode</th>\n",
       "      <th>time_id</th>\n",
       "      <th>dataSetName</th>\n",
       "      <th>hasUrl</th>\n",
       "      <th>dataContributor</th>\n",
       "      <th>pub1_author</th>\n",
       "      <th>pub1_url</th>\n",
       "      <th>pub1_citeKey</th>\n",
       "      <th>pub1_institution</th>\n",
       "      <th>pub1_title</th>\n",
       "      <th>...</th>\n",
       "      <th>pub2_urldate</th>\n",
       "      <th>pub2_url</th>\n",
       "      <th>paleoData_calibration</th>\n",
       "      <th>paleoData_uncertainty</th>\n",
       "      <th>age</th>\n",
       "      <th>ageUnits</th>\n",
       "      <th>pub2_institution</th>\n",
       "      <th>investigator</th>\n",
       "      <th>data</th>\n",
       "      <th>pub1_abstract</th>\n",
       "    </tr>\n",
       "  </thead>\n",
       "  <tbody>\n",
       "    <tr>\n",
       "      <th>0</th>\n",
       "      <td>paleoData</td>\n",
       "      <td>age</td>\n",
       "      <td>Ocn-RedSea.Felis.2000</td>\n",
       "      <td>https://data.mint.isi.edu/files/lipd/Ocn-RedSe...</td>\n",
       "      <td>{'name': 'JZ'}</td>\n",
       "      <td>T. Felis</td>\n",
       "      <td>https://www.ncdc.noaa.gov/paleo/study/1861</td>\n",
       "      <td>felis2000httpswwwncdcnoaagovpaleostudy1861Data...</td>\n",
       "      <td>World Data Center for Paleoclimatology</td>\n",
       "      <td>World Data Center for Paleoclimatology</td>\n",
       "      <td>...</td>\n",
       "      <td>NaN</td>\n",
       "      <td>NaN</td>\n",
       "      <td>NaN</td>\n",
       "      <td>NaN</td>\n",
       "      <td>NaN</td>\n",
       "      <td>NaN</td>\n",
       "      <td>NaN</td>\n",
       "      <td>NaN</td>\n",
       "      <td>NaN</td>\n",
       "      <td>NaN</td>\n",
       "    </tr>\n",
       "    <tr>\n",
       "      <th>1</th>\n",
       "      <td>paleoData</td>\n",
       "      <td>age</td>\n",
       "      <td>Ocn-RedSea.Felis.2000</td>\n",
       "      <td>https://data.mint.isi.edu/files/lipd/Ocn-RedSe...</td>\n",
       "      <td>{'name': 'JZ'}</td>\n",
       "      <td>T. Felis</td>\n",
       "      <td>https://www.ncdc.noaa.gov/paleo/study/1861</td>\n",
       "      <td>felis2000httpswwwncdcnoaagovpaleostudy1861Data...</td>\n",
       "      <td>World Data Center for Paleoclimatology</td>\n",
       "      <td>World Data Center for Paleoclimatology</td>\n",
       "      <td>...</td>\n",
       "      <td>NaN</td>\n",
       "      <td>NaN</td>\n",
       "      <td>NaN</td>\n",
       "      <td>NaN</td>\n",
       "      <td>NaN</td>\n",
       "      <td>NaN</td>\n",
       "      <td>NaN</td>\n",
       "      <td>NaN</td>\n",
       "      <td>NaN</td>\n",
       "      <td>NaN</td>\n",
       "    </tr>\n",
       "    <tr>\n",
       "      <th>2</th>\n",
       "      <td>paleoData</td>\n",
       "      <td>age</td>\n",
       "      <td>Arc-Forfjorddalen.McCarroll.2013</td>\n",
       "      <td>https://data.mint.isi.edu/files/lipd/Arc-Forfj...</td>\n",
       "      <td>NaN</td>\n",
       "      <td>D. McCarroll</td>\n",
       "      <td>this study</td>\n",
       "      <td>mccarroll0thisstudyDataCitation</td>\n",
       "      <td>NaN</td>\n",
       "      <td>This study</td>\n",
       "      <td>...</td>\n",
       "      <td>NaN</td>\n",
       "      <td>NaN</td>\n",
       "      <td>NaN</td>\n",
       "      <td>NaN</td>\n",
       "      <td>NaN</td>\n",
       "      <td>NaN</td>\n",
       "      <td>NaN</td>\n",
       "      <td>NaN</td>\n",
       "      <td>NaN</td>\n",
       "      <td>NaN</td>\n",
       "    </tr>\n",
       "    <tr>\n",
       "      <th>3</th>\n",
       "      <td>paleoData</td>\n",
       "      <td>age</td>\n",
       "      <td>Arc-Forfjorddalen.McCarroll.2013</td>\n",
       "      <td>https://data.mint.isi.edu/files/lipd/Arc-Forfj...</td>\n",
       "      <td>NaN</td>\n",
       "      <td>D. McCarroll</td>\n",
       "      <td>this study</td>\n",
       "      <td>mccarroll0thisstudyDataCitation</td>\n",
       "      <td>NaN</td>\n",
       "      <td>This study</td>\n",
       "      <td>...</td>\n",
       "      <td>NaN</td>\n",
       "      <td>NaN</td>\n",
       "      <td>NaN</td>\n",
       "      <td>NaN</td>\n",
       "      <td>NaN</td>\n",
       "      <td>NaN</td>\n",
       "      <td>NaN</td>\n",
       "      <td>NaN</td>\n",
       "      <td>NaN</td>\n",
       "      <td>NaN</td>\n",
       "    </tr>\n",
       "    <tr>\n",
       "      <th>4</th>\n",
       "      <td>paleoData</td>\n",
       "      <td>age</td>\n",
       "      <td>Eur-Tallinn.Tarand.2001</td>\n",
       "      <td>https://data.mint.isi.edu/files/lipd/Eur-Talli...</td>\n",
       "      <td>NaN</td>\n",
       "      <td>A. Tarand;P.Ø. Nordli</td>\n",
       "      <td>NaN</td>\n",
       "      <td>tarand2001thetallinntemperatureseri</td>\n",
       "      <td>NaN</td>\n",
       "      <td>The Tallinn temperature series reconstructed b...</td>\n",
       "      <td>...</td>\n",
       "      <td>0.0</td>\n",
       "      <td>this study</td>\n",
       "      <td>[{'uncertaintyType': 'Maximum error', 'uncerta...</td>\n",
       "      <td>ice break-up: 1 deg C; max. 3 deg C; rye harve...</td>\n",
       "      <td>NaN</td>\n",
       "      <td>NaN</td>\n",
       "      <td>NaN</td>\n",
       "      <td>NaN</td>\n",
       "      <td>NaN</td>\n",
       "      <td>NaN</td>\n",
       "    </tr>\n",
       "  </tbody>\n",
       "</table>\n",
       "<p>5 rows × 120 columns</p>\n",
       "</div>"
      ],
      "text/plain": [
       "        mode time_id                       dataSetName  \\\n",
       "0  paleoData     age             Ocn-RedSea.Felis.2000   \n",
       "1  paleoData     age             Ocn-RedSea.Felis.2000   \n",
       "2  paleoData     age  Arc-Forfjorddalen.McCarroll.2013   \n",
       "3  paleoData     age  Arc-Forfjorddalen.McCarroll.2013   \n",
       "4  paleoData     age           Eur-Tallinn.Tarand.2001   \n",
       "\n",
       "                                              hasUrl dataContributor  \\\n",
       "0  https://data.mint.isi.edu/files/lipd/Ocn-RedSe...  {'name': 'JZ'}   \n",
       "1  https://data.mint.isi.edu/files/lipd/Ocn-RedSe...  {'name': 'JZ'}   \n",
       "2  https://data.mint.isi.edu/files/lipd/Arc-Forfj...             NaN   \n",
       "3  https://data.mint.isi.edu/files/lipd/Arc-Forfj...             NaN   \n",
       "4  https://data.mint.isi.edu/files/lipd/Eur-Talli...             NaN   \n",
       "\n",
       "             pub1_author                                    pub1_url  \\\n",
       "0               T. Felis  https://www.ncdc.noaa.gov/paleo/study/1861   \n",
       "1               T. Felis  https://www.ncdc.noaa.gov/paleo/study/1861   \n",
       "2           D. McCarroll                                  this study   \n",
       "3           D. McCarroll                                  this study   \n",
       "4  A. Tarand;P.Ø. Nordli                                         NaN   \n",
       "\n",
       "                                        pub1_citeKey  \\\n",
       "0  felis2000httpswwwncdcnoaagovpaleostudy1861Data...   \n",
       "1  felis2000httpswwwncdcnoaagovpaleostudy1861Data...   \n",
       "2                    mccarroll0thisstudyDataCitation   \n",
       "3                    mccarroll0thisstudyDataCitation   \n",
       "4                tarand2001thetallinntemperatureseri   \n",
       "\n",
       "                         pub1_institution  \\\n",
       "0  World Data Center for Paleoclimatology   \n",
       "1  World Data Center for Paleoclimatology   \n",
       "2                                     NaN   \n",
       "3                                     NaN   \n",
       "4                                     NaN   \n",
       "\n",
       "                                          pub1_title  ...  pub2_urldate  \\\n",
       "0             World Data Center for Paleoclimatology  ...           NaN   \n",
       "1             World Data Center for Paleoclimatology  ...           NaN   \n",
       "2                                         This study  ...           NaN   \n",
       "3                                         This study  ...           NaN   \n",
       "4  The Tallinn temperature series reconstructed b...  ...           0.0   \n",
       "\n",
       "     pub2_url                              paleoData_calibration  \\\n",
       "0         NaN                                                NaN   \n",
       "1         NaN                                                NaN   \n",
       "2         NaN                                                NaN   \n",
       "3         NaN                                                NaN   \n",
       "4  this study  [{'uncertaintyType': 'Maximum error', 'uncerta...   \n",
       "\n",
       "                               paleoData_uncertainty  age ageUnits  \\\n",
       "0                                                NaN  NaN      NaN   \n",
       "1                                                NaN  NaN      NaN   \n",
       "2                                                NaN  NaN      NaN   \n",
       "3                                                NaN  NaN      NaN   \n",
       "4  ice break-up: 1 deg C; max. 3 deg C; rye harve...  NaN      NaN   \n",
       "\n",
       "  pub2_institution investigator data pub1_abstract  \n",
       "0              NaN          NaN  NaN           NaN  \n",
       "1              NaN          NaN  NaN           NaN  \n",
       "2              NaN          NaN  NaN           NaN  \n",
       "3              NaN          NaN  NaN           NaN  \n",
       "4              NaN          NaN  NaN           NaN  \n",
       "\n",
       "[5 rows x 120 columns]"
      ]
     },
     "execution_count": 32,
     "metadata": {},
     "output_type": "execute_result"
    }
   ],
   "source": [
    "df_dir.head()"
   ]
  },
  {
   "cell_type": "markdown",
   "id": "512eef39",
   "metadata": {},
   "source": [
    "The size of this dataframe is:"
   ]
  },
  {
   "cell_type": "code",
   "execution_count": 33,
   "id": "b9e4de5e",
   "metadata": {},
   "outputs": [
    {
     "data": {
      "text/plain": [
       "(73, 120)"
      ]
     },
     "execution_count": 33,
     "metadata": {},
     "output_type": "execute_result"
    }
   ],
   "source": [
    "df_dir.shape"
   ]
  },
  {
   "cell_type": "markdown",
   "id": "5f76bf9c",
   "metadata": {},
   "source": [
    "73 rows and 122 columns. The available properties are:"
   ]
  },
  {
   "cell_type": "code",
   "execution_count": 34,
   "id": "955b36d0",
   "metadata": {},
   "outputs": [
    {
     "name": "stdout",
     "output_type": "stream",
     "text": [
      "['mode', 'time_id', 'dataSetName', 'hasUrl', 'dataContributor', 'pub1_author', 'pub1_url', 'pub1_citeKey', 'pub1_institution', 'pub1_title', 'pub1_urldate', 'pub1_DOI', 'pub2_author', 'pub2_citeKey', 'pub2_year', 'pub2_title', 'pub2_link', 'pub2_doi', 'pub2_pages', 'pub2_publisher', 'pub2_issue', 'pub2_dataUrl', 'pub2_volume', 'pub2_journal', 'pub2_DOI', 'pub3_author', 'pub3_dataUrl', 'pub3_citeKey', 'pub3_pages', 'pub3_volume', 'pub3_issue', 'pub3_doi', 'pub3_journal', 'pub3_link', 'pub3_publisher', 'pub3_title', 'pub3_year', 'pub3_DOI', 'createdBy', 'googleDataURL', 'studyName', 'googleMetadataWorksheet', 'geo_meanLon', 'geo_meanLat', 'geo_meanElev', 'geo_type', 'geo_pages2kRegion', 'geo_siteName', 'geo_ocean', 'originalDataURL', 'googleSpreadSheetKey', 'lipdVersion', 'archiveType', 'tableType', 'paleoData_filename', 'paleoData_paleoDataTableName', 'paleoData_googleWorkSheetKey', 'paleoData_measurementTableMD5', 'paleoData_measurementTableName', 'year', 'yearUnits', 'paleoData_sensorSpecies', 'paleoData_proxyObservationType', 'paleoData_variableName', 'paleoData_ocean2kID', 'paleoData_TSid', 'paleoData_iso2kUI', 'paleoData_wDSPaleoUrl', 'paleoData_sensorGenus', 'paleoData_useInGlobalTemperatureAnalysis', 'paleoData_hasMedianValue', 'paleoData_missingValue', 'paleoData_interpretation', 'paleoData_hasMaxValue', 'paleoData_hasResolution_hasMedianValue', 'paleoData_hasResolution_hasMeanValue', 'paleoData_hasResolution_units', 'paleoData_hasResolution_hasMaxValue', 'paleoData_hasResolution_hasMinValue', 'paleoData_units', 'paleoData_hasMeanValue', 'paleoData_proxy', 'paleoData_notes', 'paleoData_inCompilation', 'paleoData_qCCertification', 'paleoData_number', 'paleoData_pages2kID', 'paleoData_hasMinValue', 'paleoData_variableType', 'paleoData_values', 'paleoData_inferredVariableType', 'paleoData_description', 'paleoData_dataType', 'notes', 'pub2_abstract', 'geo_region', 'paleoData_measurementMethod', 'paleoData_measurementMaterial', 'paleoData_precededBy', 'paleoData_detail', 'paleoData_qCnotes', 'pub1_doi', 'pub1_dataUrl', 'pub1_pages', 'pub1_year', 'pub1_link', 'pub1_volume', 'pub1_issue', 'pub1_journal', 'pub1_publisher', 'pub2_urldate', 'pub2_url', 'paleoData_calibration', 'paleoData_uncertainty', 'age', 'ageUnits', 'pub2_institution', 'investigator', 'data', 'pub1_abstract']\n"
     ]
    }
   ],
   "source": [
    "print([item for item in df_dir.columns])"
   ]
  },
  {
   "cell_type": "markdown",
   "id": "2f676867",
   "metadata": {},
   "source": [
    "Let's have a look at the available variables:"
   ]
  },
  {
   "cell_type": "code",
   "execution_count": 39,
   "id": "6dcb5204",
   "metadata": {},
   "outputs": [
    {
     "data": {
      "text/plain": [
       "array(['d18O', 'year', 'MXD', 'temperature', 'JulianDay', 'trsgi',\n",
       "       'uncertainty_temperature', 'sampleID', 'age', 'density', 'd13C',\n",
       "       'sampleDensity', 'thickness', 'Na'], dtype=object)"
      ]
     },
     "execution_count": 39,
     "metadata": {},
     "output_type": "execute_result"
    }
   ],
   "source": [
    "df_dir['paleoData_variableName'].unique()"
   ]
  },
  {
   "cell_type": "markdown",
   "id": "e81bd3c2",
   "metadata": {},
   "source": [
    "Let's assume we are only interested in the temperature data:"
   ]
  },
  {
   "cell_type": "code",
   "execution_count": 40,
   "id": "09972956",
   "metadata": {},
   "outputs": [
    {
     "data": {
      "text/html": [
       "<div>\n",
       "<style scoped>\n",
       "    .dataframe tbody tr th:only-of-type {\n",
       "        vertical-align: middle;\n",
       "    }\n",
       "\n",
       "    .dataframe tbody tr th {\n",
       "        vertical-align: top;\n",
       "    }\n",
       "\n",
       "    .dataframe thead th {\n",
       "        text-align: right;\n",
       "    }\n",
       "</style>\n",
       "<table border=\"1\" class=\"dataframe\">\n",
       "  <thead>\n",
       "    <tr style=\"text-align: right;\">\n",
       "      <th></th>\n",
       "      <th>mode</th>\n",
       "      <th>time_id</th>\n",
       "      <th>dataSetName</th>\n",
       "      <th>hasUrl</th>\n",
       "      <th>dataContributor</th>\n",
       "      <th>pub1_author</th>\n",
       "      <th>pub1_url</th>\n",
       "      <th>pub1_citeKey</th>\n",
       "      <th>pub1_institution</th>\n",
       "      <th>pub1_title</th>\n",
       "      <th>...</th>\n",
       "      <th>pub2_urldate</th>\n",
       "      <th>pub2_url</th>\n",
       "      <th>paleoData_calibration</th>\n",
       "      <th>paleoData_uncertainty</th>\n",
       "      <th>age</th>\n",
       "      <th>ageUnits</th>\n",
       "      <th>pub2_institution</th>\n",
       "      <th>investigator</th>\n",
       "      <th>data</th>\n",
       "      <th>pub1_abstract</th>\n",
       "    </tr>\n",
       "  </thead>\n",
       "  <tbody>\n",
       "    <tr>\n",
       "      <th>4</th>\n",
       "      <td>paleoData</td>\n",
       "      <td>age</td>\n",
       "      <td>Eur-Tallinn.Tarand.2001</td>\n",
       "      <td>https://data.mint.isi.edu/files/lipd/Eur-Talli...</td>\n",
       "      <td>NaN</td>\n",
       "      <td>A. Tarand;P.Ø. Nordli</td>\n",
       "      <td>NaN</td>\n",
       "      <td>tarand2001thetallinntemperatureseri</td>\n",
       "      <td>NaN</td>\n",
       "      <td>The Tallinn temperature series reconstructed b...</td>\n",
       "      <td>...</td>\n",
       "      <td>0.0</td>\n",
       "      <td>this study</td>\n",
       "      <td>[{'uncertaintyType': 'Maximum error', 'uncerta...</td>\n",
       "      <td>ice break-up: 1 deg C; max. 3 deg C; rye harve...</td>\n",
       "      <td>NaN</td>\n",
       "      <td>NaN</td>\n",
       "      <td>NaN</td>\n",
       "      <td>NaN</td>\n",
       "      <td>NaN</td>\n",
       "      <td>NaN</td>\n",
       "    </tr>\n",
       "    <tr>\n",
       "      <th>7</th>\n",
       "      <td>paleoData</td>\n",
       "      <td>age</td>\n",
       "      <td>Eur-CentralEurope.Dobrovolný.2009</td>\n",
       "      <td>https://data.mint.isi.edu/files/lipd/Eur-Centr...</td>\n",
       "      <td>NaN</td>\n",
       "      <td>P. Dobrovolný</td>\n",
       "      <td>https://www.ncdc.noaa.gov/paleo/study/9970</td>\n",
       "      <td>dobrovolny2010httpswwwncdcnoaagovpaleostudy997...</td>\n",
       "      <td>World Data Center for Paleoclimatology</td>\n",
       "      <td>World Data Center for Paleoclimatology</td>\n",
       "      <td>...</td>\n",
       "      <td>NaN</td>\n",
       "      <td>NaN</td>\n",
       "      <td>[{'uncertainty': 0.34, 'uncertaintyType': 'RMS...</td>\n",
       "      <td>NaN</td>\n",
       "      <td>NaN</td>\n",
       "      <td>NaN</td>\n",
       "      <td>NaN</td>\n",
       "      <td>NaN</td>\n",
       "      <td>NaN</td>\n",
       "      <td>NaN</td>\n",
       "    </tr>\n",
       "    <tr>\n",
       "      <th>14</th>\n",
       "      <td>paleoData</td>\n",
       "      <td>age</td>\n",
       "      <td>Eur-CentralandEasternPyrenees.Pla.2004</td>\n",
       "      <td>https://data.mint.isi.edu/files/lipd/Eur-Centr...</td>\n",
       "      <td>NaN</td>\n",
       "      <td>Jordi Catalan;Sergi Pla</td>\n",
       "      <td>NaN</td>\n",
       "      <td>pla2004chrysophytecystsfromlakes</td>\n",
       "      <td>NaN</td>\n",
       "      <td>Chrysophyte cysts from lake sediments reveal t...</td>\n",
       "      <td>...</td>\n",
       "      <td>0.0</td>\n",
       "      <td>this study</td>\n",
       "      <td>[{'uncertainty': 0.7, 'uncertaintyType': 'Lowe...</td>\n",
       "      <td>NaN</td>\n",
       "      <td>[-44.0, -34.0, -13.0, 7.0, 18.0, 34.0, 45.0, 5...</td>\n",
       "      <td>BP</td>\n",
       "      <td>NaN</td>\n",
       "      <td>NaN</td>\n",
       "      <td>NaN</td>\n",
       "      <td>NaN</td>\n",
       "    </tr>\n",
       "    <tr>\n",
       "      <th>29</th>\n",
       "      <td>paleoData</td>\n",
       "      <td>age</td>\n",
       "      <td>Eur-LakeSilvaplana.Trachsel.2010</td>\n",
       "      <td>https://data.mint.isi.edu/files/lipd/Eur-LakeS...</td>\n",
       "      <td>NaN</td>\n",
       "      <td>M. Trachsel</td>\n",
       "      <td>http://www.ncdc.noaa.gov/paleo/study/13016</td>\n",
       "      <td>trachsel2010httpwwwncdcnoaagovpaleostudy13016D...</td>\n",
       "      <td>World Data Center for Paleoclimatology</td>\n",
       "      <td>World Data Center for Paleoclimatology</td>\n",
       "      <td>...</td>\n",
       "      <td>NaN</td>\n",
       "      <td>NaN</td>\n",
       "      <td>[{'uncertaintyType': 'Root-mean-squared error ...</td>\n",
       "      <td>NaN</td>\n",
       "      <td>NaN</td>\n",
       "      <td>NaN</td>\n",
       "      <td>NaN</td>\n",
       "      <td>NaN</td>\n",
       "      <td>NaN</td>\n",
       "      <td>NaN</td>\n",
       "    </tr>\n",
       "    <tr>\n",
       "      <th>38</th>\n",
       "      <td>paleoData</td>\n",
       "      <td>age</td>\n",
       "      <td>Arc-Tornetrask.Melvin.2012</td>\n",
       "      <td>https://data.mint.isi.edu/files/lipd/Arc-Torne...</td>\n",
       "      <td>NaN</td>\n",
       "      <td>H. Grudd;K. R. Briffa;T. M. Melvin</td>\n",
       "      <td>NaN</td>\n",
       "      <td>melvin2012potentialbiasinupdatingtr</td>\n",
       "      <td>NaN</td>\n",
       "      <td>Potential bias in updating tree-ring chronolog...</td>\n",
       "      <td>...</td>\n",
       "      <td>2013.0</td>\n",
       "      <td>https://crudata.uea.ac.uk/cru/papers/melvin201...</td>\n",
       "      <td>[{'uncertaintyType': 'calibrationRMSE'}]</td>\n",
       "      <td>NaN</td>\n",
       "      <td>NaN</td>\n",
       "      <td>NaN</td>\n",
       "      <td>Climatic Research Unit</td>\n",
       "      <td>NaN</td>\n",
       "      <td>NaN</td>\n",
       "      <td>NaN</td>\n",
       "    </tr>\n",
       "  </tbody>\n",
       "</table>\n",
       "<p>5 rows × 120 columns</p>\n",
       "</div>"
      ],
      "text/plain": [
       "         mode time_id                             dataSetName  \\\n",
       "4   paleoData     age                 Eur-Tallinn.Tarand.2001   \n",
       "7   paleoData     age       Eur-CentralEurope.Dobrovolný.2009   \n",
       "14  paleoData     age  Eur-CentralandEasternPyrenees.Pla.2004   \n",
       "29  paleoData     age        Eur-LakeSilvaplana.Trachsel.2010   \n",
       "38  paleoData     age              Arc-Tornetrask.Melvin.2012   \n",
       "\n",
       "                                               hasUrl dataContributor  \\\n",
       "4   https://data.mint.isi.edu/files/lipd/Eur-Talli...             NaN   \n",
       "7   https://data.mint.isi.edu/files/lipd/Eur-Centr...             NaN   \n",
       "14  https://data.mint.isi.edu/files/lipd/Eur-Centr...             NaN   \n",
       "29  https://data.mint.isi.edu/files/lipd/Eur-LakeS...             NaN   \n",
       "38  https://data.mint.isi.edu/files/lipd/Arc-Torne...             NaN   \n",
       "\n",
       "                           pub1_author  \\\n",
       "4                A. Tarand;P.Ø. Nordli   \n",
       "7                        P. Dobrovolný   \n",
       "14             Jordi Catalan;Sergi Pla   \n",
       "29                         M. Trachsel   \n",
       "38  H. Grudd;K. R. Briffa;T. M. Melvin   \n",
       "\n",
       "                                      pub1_url  \\\n",
       "4                                          NaN   \n",
       "7   https://www.ncdc.noaa.gov/paleo/study/9970   \n",
       "14                                         NaN   \n",
       "29  http://www.ncdc.noaa.gov/paleo/study/13016   \n",
       "38                                         NaN   \n",
       "\n",
       "                                         pub1_citeKey  \\\n",
       "4                 tarand2001thetallinntemperatureseri   \n",
       "7   dobrovolny2010httpswwwncdcnoaagovpaleostudy997...   \n",
       "14                   pla2004chrysophytecystsfromlakes   \n",
       "29  trachsel2010httpwwwncdcnoaagovpaleostudy13016D...   \n",
       "38                melvin2012potentialbiasinupdatingtr   \n",
       "\n",
       "                          pub1_institution  \\\n",
       "4                                      NaN   \n",
       "7   World Data Center for Paleoclimatology   \n",
       "14                                     NaN   \n",
       "29  World Data Center for Paleoclimatology   \n",
       "38                                     NaN   \n",
       "\n",
       "                                           pub1_title  ...  pub2_urldate  \\\n",
       "4   The Tallinn temperature series reconstructed b...  ...           0.0   \n",
       "7              World Data Center for Paleoclimatology  ...           NaN   \n",
       "14  Chrysophyte cysts from lake sediments reveal t...  ...           0.0   \n",
       "29             World Data Center for Paleoclimatology  ...           NaN   \n",
       "38  Potential bias in updating tree-ring chronolog...  ...        2013.0   \n",
       "\n",
       "                                             pub2_url  \\\n",
       "4                                          this study   \n",
       "7                                                 NaN   \n",
       "14                                         this study   \n",
       "29                                                NaN   \n",
       "38  https://crudata.uea.ac.uk/cru/papers/melvin201...   \n",
       "\n",
       "                                paleoData_calibration  \\\n",
       "4   [{'uncertaintyType': 'Maximum error', 'uncerta...   \n",
       "7   [{'uncertainty': 0.34, 'uncertaintyType': 'RMS...   \n",
       "14  [{'uncertainty': 0.7, 'uncertaintyType': 'Lowe...   \n",
       "29  [{'uncertaintyType': 'Root-mean-squared error ...   \n",
       "38           [{'uncertaintyType': 'calibrationRMSE'}]   \n",
       "\n",
       "                                paleoData_uncertainty  \\\n",
       "4   ice break-up: 1 deg C; max. 3 deg C; rye harve...   \n",
       "7                                                 NaN   \n",
       "14                                                NaN   \n",
       "29                                                NaN   \n",
       "38                                                NaN   \n",
       "\n",
       "                                                  age ageUnits  \\\n",
       "4                                                 NaN      NaN   \n",
       "7                                                 NaN      NaN   \n",
       "14  [-44.0, -34.0, -13.0, 7.0, 18.0, 34.0, 45.0, 5...       BP   \n",
       "29                                                NaN      NaN   \n",
       "38                                                NaN      NaN   \n",
       "\n",
       "          pub2_institution investigator data pub1_abstract  \n",
       "4                      NaN          NaN  NaN           NaN  \n",
       "7                      NaN          NaN  NaN           NaN  \n",
       "14                     NaN          NaN  NaN           NaN  \n",
       "29                     NaN          NaN  NaN           NaN  \n",
       "38  Climatic Research Unit          NaN  NaN           NaN  \n",
       "\n",
       "[5 rows x 120 columns]"
      ]
     },
     "execution_count": 40,
     "metadata": {},
     "output_type": "execute_result"
    }
   ],
   "source": [
    "df_temp = df_dir[df_dir['paleoData_variableName']=='temperature']\n",
    "df_temp.head()"
   ]
  },
  {
   "cell_type": "code",
   "execution_count": 41,
   "id": "ca756434",
   "metadata": {},
   "outputs": [
    {
     "data": {
      "text/plain": [
       "(12, 120)"
      ]
     },
     "execution_count": 41,
     "metadata": {},
     "output_type": "execute_result"
    }
   ],
   "source": [
    "df_temp.shape"
   ]
  },
  {
   "cell_type": "markdown",
   "id": "ec3eb41f",
   "metadata": {},
   "source": [
    "which leaves us with 12 timeseries."
   ]
  },
  {
   "cell_type": "markdown",
   "id": "cd21ecd8",
   "metadata": {},
   "source": [
    "If you are only interested in `Ocn-RedSea.Felis.2000` and `Arc-PolarUrals.Wilson.2015`, you can pass these names directly to the function:"
   ]
  },
  {
   "cell_type": "code",
   "execution_count": 35,
   "id": "1d5be056",
   "metadata": {},
   "outputs": [
    {
     "name": "stdout",
     "output_type": "stream",
     "text": [
      "Extracting timeseries from dataset: Ocn-RedSea.Felis.2000 ...\n",
      "Extracting timeseries from dataset: Arc-PolarUrals.Wilson.2015 ...\n"
     ]
    }
   ],
   "source": [
    "ts_list_short, df_short = D_dir.get_timeseries(['Ocn-RedSea.Felis.2000', 'Arc-PolarUrals.Wilson.2015'], to_dataframe=True)"
   ]
  },
  {
   "cell_type": "code",
   "execution_count": 15,
   "id": "1faa50e3",
   "metadata": {},
   "outputs": [
    {
     "data": {
      "text/plain": [
       "dict_keys(['Ocn-RedSea.Felis.2000', 'Arc-PolarUrals.Wilson.2015'])"
      ]
     },
     "execution_count": 15,
     "metadata": {},
     "output_type": "execute_result"
    }
   ],
   "source": [
    "ts_list_short.keys()"
   ]
  },
  {
   "cell_type": "markdown",
   "id": "f98403a1",
   "metadata": {},
   "source": [
    "### Removing and popping datasets out of a LiPD object\n",
    "\n",
    "You can also remove (i.e., delete the corresponding dataset from the `LiPD` object) or pop (i.e., delete the corresponding dataset from the `LiPD` object **and** return the dataset) datasets from a `LiPD` object. Note that these functionalities behave similarly as the functions with the same names on Python lists. These functions underpin more adavanced filtering and querying capabilities that we will discuss in later tutorials. \n",
    "\n",
    "First let's make a [copy](https://pylipd.readthedocs.io/en/latest/source/pylipd.html#pylipd.lipd.LiPD.copy) of `D_dir`:"
   ]
  },
  {
   "cell_type": "code",
   "execution_count": 42,
   "id": "f28b1ccd",
   "metadata": {},
   "outputs": [
    {
     "name": "stdout",
     "output_type": "stream",
     "text": [
      "['Ocn-RedSea.Felis.2000', 'Arc-Forfjorddalen.McCarroll.2013', 'Eur-Tallinn.Tarand.2001', 'Eur-CentralEurope.Dobrovoln_.2009', 'Eur-EuropeanAlps.B_ntgen.2011', 'Eur-CentralandEasternPyrenees.Pla.2004', 'Arc-Tjeggelvas.Bjorklund.2012', 'Arc-Indigirka.Hughes.1999', 'Eur-SpannagelCave.Mangini.2005', 'Ocn-AqabaJordanAQ19.Heiss.1999', 'Arc-Jamtland.Wilson.2016', 'Eur-RAPiD-17-5P.Moffa-Sanchez.2014', 'Eur-LakeSilvaplana.Trachsel.2010', 'Eur-NorthernSpain.Mart_n-Chivelet.2011', 'Eur-MaritimeFrenchAlps.B_ntgen.2012', 'Ocn-AqabaJordanAQ18.Heiss.1999', 'Arc-Tornetrask.Melvin.2012', 'Eur-EasternCarpathianMountains.Popa.2008', 'Arc-PolarUrals.Wilson.2015', 'Eur-LakeSilvaplana.Larocque-Tobler.2010', 'Eur-CoastofPortugal.Abrantes.2011', 'Eur-TatraMountains.B_ntgen.2013', 'Eur-SpanishPyrenees.Dorado-Linan.2012', 'Eur-FinnishLakelands.Helama.2014', 'Eur-Seebergsee.Larocque-Tobler.2012', 'Eur-NorthernScandinavia.Esper.2012', 'Arc-GulfofAlaska.Wilson.2014', 'Arc-Kittelfjall.Bjorklund.2012', 'Eur-L_tschental.B_ntgen.2006', 'Eur-Stockholm.Leijonhufvud.2009', 'Arc-AkademiiNaukIceCap.Opel.2013']\n"
     ]
    }
   ],
   "source": [
    "D_test = D_dir.copy()\n",
    "print(D_test.get_all_dataset_names())"
   ]
  },
  {
   "cell_type": "markdown",
   "id": "58f2b1af",
   "metadata": {},
   "source": [
    "And let's [remove](https://pylipd.readthedocs.io/en/latest/source/pylipd.html#pylipd.lipd.LiPD.remove) `Arc-AkademiiNaukIceCap.Opel.2013`, which corresponds to the last entry in the list above:"
   ]
  },
  {
   "cell_type": "code",
   "execution_count": 43,
   "id": "5b1effa3",
   "metadata": {},
   "outputs": [
    {
     "name": "stdout",
     "output_type": "stream",
     "text": [
      "['Ocn-RedSea.Felis.2000', 'Arc-Forfjorddalen.McCarroll.2013', 'Eur-Tallinn.Tarand.2001', 'Eur-CentralEurope.Dobrovoln_.2009', 'Eur-EuropeanAlps.B_ntgen.2011', 'Eur-CentralandEasternPyrenees.Pla.2004', 'Arc-Tjeggelvas.Bjorklund.2012', 'Arc-Indigirka.Hughes.1999', 'Eur-SpannagelCave.Mangini.2005', 'Ocn-AqabaJordanAQ19.Heiss.1999', 'Arc-Jamtland.Wilson.2016', 'Eur-RAPiD-17-5P.Moffa-Sanchez.2014', 'Eur-LakeSilvaplana.Trachsel.2010', 'Eur-NorthernSpain.Mart_n-Chivelet.2011', 'Eur-MaritimeFrenchAlps.B_ntgen.2012', 'Ocn-AqabaJordanAQ18.Heiss.1999', 'Arc-Tornetrask.Melvin.2012', 'Eur-EasternCarpathianMountains.Popa.2008', 'Arc-PolarUrals.Wilson.2015', 'Eur-LakeSilvaplana.Larocque-Tobler.2010', 'Eur-CoastofPortugal.Abrantes.2011', 'Eur-TatraMountains.B_ntgen.2013', 'Eur-SpanishPyrenees.Dorado-Linan.2012', 'Eur-FinnishLakelands.Helama.2014', 'Eur-Seebergsee.Larocque-Tobler.2012', 'Eur-NorthernScandinavia.Esper.2012', 'Arc-GulfofAlaska.Wilson.2014', 'Arc-Kittelfjall.Bjorklund.2012', 'Eur-L_tschental.B_ntgen.2006', 'Eur-Stockholm.Leijonhufvud.2009']\n"
     ]
    }
   ],
   "source": [
    "D_test.remove('Arc-AkademiiNaukIceCap.Opel.2013')\n",
    "\n",
    "print(D_test.get_all_dataset_names())"
   ]
  },
  {
   "cell_type": "markdown",
   "id": "4e6a8133",
   "metadata": {},
   "source": [
    "Now let's [pop](https://pylipd.readthedocs.io/en/latest/source/pylipd.html#pylipd.lipd.LiPD.pop) `Eur-Stockholm.Leijonhufvud.2009` from `D_test`:"
   ]
  },
  {
   "cell_type": "code",
   "execution_count": 44,
   "id": "d62e6416",
   "metadata": {},
   "outputs": [],
   "source": [
    "d_eur = D_test.pop('Eur-Stockholm.Leijonhufvud.2009')"
   ]
  },
  {
   "cell_type": "markdown",
   "id": "3da5e3b9",
   "metadata": {},
   "source": [
    "Now let's have a look at `d_eur`:"
   ]
  },
  {
   "cell_type": "code",
   "execution_count": 45,
   "id": "a9409498",
   "metadata": {},
   "outputs": [
    {
     "name": "stdout",
     "output_type": "stream",
     "text": [
      "['Eur-Stockholm.Leijonhufvud.2009']\n"
     ]
    }
   ],
   "source": [
    "print(d_eur.get_all_dataset_names())"
   ]
  },
  {
   "cell_type": "markdown",
   "id": "c55c6c2a",
   "metadata": {},
   "source": [
    "It contains the dataset we are expecting. Let's have a look at `D_test`:"
   ]
  },
  {
   "cell_type": "code",
   "execution_count": 46,
   "id": "0cc23dd2",
   "metadata": {},
   "outputs": [
    {
     "name": "stdout",
     "output_type": "stream",
     "text": [
      "['Ocn-RedSea.Felis.2000', 'Arc-Forfjorddalen.McCarroll.2013', 'Eur-Tallinn.Tarand.2001', 'Eur-CentralEurope.Dobrovoln_.2009', 'Eur-EuropeanAlps.B_ntgen.2011', 'Eur-CentralandEasternPyrenees.Pla.2004', 'Arc-Tjeggelvas.Bjorklund.2012', 'Arc-Indigirka.Hughes.1999', 'Eur-SpannagelCave.Mangini.2005', 'Ocn-AqabaJordanAQ19.Heiss.1999', 'Arc-Jamtland.Wilson.2016', 'Eur-RAPiD-17-5P.Moffa-Sanchez.2014', 'Eur-LakeSilvaplana.Trachsel.2010', 'Eur-NorthernSpain.Mart_n-Chivelet.2011', 'Eur-MaritimeFrenchAlps.B_ntgen.2012', 'Ocn-AqabaJordanAQ18.Heiss.1999', 'Arc-Tornetrask.Melvin.2012', 'Eur-EasternCarpathianMountains.Popa.2008', 'Arc-PolarUrals.Wilson.2015', 'Eur-LakeSilvaplana.Larocque-Tobler.2010', 'Eur-CoastofPortugal.Abrantes.2011', 'Eur-TatraMountains.B_ntgen.2013', 'Eur-SpanishPyrenees.Dorado-Linan.2012', 'Eur-FinnishLakelands.Helama.2014', 'Eur-Seebergsee.Larocque-Tobler.2012', 'Eur-NorthernScandinavia.Esper.2012', 'Arc-GulfofAlaska.Wilson.2014', 'Arc-Kittelfjall.Bjorklund.2012', 'Eur-L_tschental.B_ntgen.2006']\n"
     ]
    }
   ],
   "source": [
    "print(D_test.get_all_dataset_names())"
   ]
  },
  {
   "cell_type": "markdown",
   "id": "54732e51",
   "metadata": {},
   "source": [
    "\n",
    "<div class=\"alert alert-warning\">\n",
    "    The dataset was removed from `D_test` in the process. Hence, it's always prudent to make a copy of the original object when using the `remove` and `pop` functionalities. \n",
    "</div>\n"
   ]
  },
  {
   "cell_type": "markdown",
   "id": "cb3f8d71",
   "metadata": {},
   "source": [
    "If can also remove/pop more than one dataset at a time:"
   ]
  },
  {
   "cell_type": "code",
   "execution_count": 47,
   "id": "be7249bb",
   "metadata": {},
   "outputs": [
    {
     "name": "stdout",
     "output_type": "stream",
     "text": [
      "['Eur-Tallinn.Tarand.2001', 'Eur-CentralEurope.Dobrovoln_.2009', 'Eur-EuropeanAlps.B_ntgen.2011', 'Eur-CentralandEasternPyrenees.Pla.2004', 'Arc-Tjeggelvas.Bjorklund.2012', 'Arc-Indigirka.Hughes.1999', 'Eur-SpannagelCave.Mangini.2005', 'Ocn-AqabaJordanAQ19.Heiss.1999', 'Arc-Jamtland.Wilson.2016', 'Eur-RAPiD-17-5P.Moffa-Sanchez.2014', 'Eur-LakeSilvaplana.Trachsel.2010', 'Eur-NorthernSpain.Mart_n-Chivelet.2011', 'Eur-MaritimeFrenchAlps.B_ntgen.2012', 'Ocn-AqabaJordanAQ18.Heiss.1999', 'Arc-Tornetrask.Melvin.2012', 'Eur-EasternCarpathianMountains.Popa.2008', 'Arc-PolarUrals.Wilson.2015', 'Eur-LakeSilvaplana.Larocque-Tobler.2010', 'Eur-CoastofPortugal.Abrantes.2011', 'Eur-TatraMountains.B_ntgen.2013', 'Eur-SpanishPyrenees.Dorado-Linan.2012', 'Eur-FinnishLakelands.Helama.2014', 'Eur-Seebergsee.Larocque-Tobler.2012', 'Eur-NorthernScandinavia.Esper.2012', 'Arc-GulfofAlaska.Wilson.2014', 'Arc-Kittelfjall.Bjorklund.2012', 'Eur-L_tschental.B_ntgen.2006']\n"
     ]
    }
   ],
   "source": [
    "rem = ['Ocn-RedSea.Felis.2000','Arc-Forfjorddalen.McCarroll.2013']\n",
    "\n",
    "D_test.remove(rem)\n",
    "print(D_test.get_all_dataset_names())"
   ]
  }
 ],
 "metadata": {
  "kernelspec": {
   "display_name": "Python 3 (ipykernel)",
   "language": "python",
   "name": "python3"
  },
  "language_info": {
   "codemirror_mode": {
    "name": "ipython",
    "version": 3
   },
   "file_extension": ".py",
   "mimetype": "text/x-python",
   "name": "python",
   "nbconvert_exporter": "python",
   "pygments_lexer": "ipython3",
   "version": "3.10.9"
  }
 },
 "nbformat": 4,
 "nbformat_minor": 5
}
