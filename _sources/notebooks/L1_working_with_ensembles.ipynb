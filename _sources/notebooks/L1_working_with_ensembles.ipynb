{
 "cells": [
  {
   "cell_type": "markdown",
   "id": "ffd73dd3",
   "metadata": {},
   "source": [
    "<img src=\"https://github.com/LinkedEarth/Logos/blob/master/PyLiPD/pyLiPD_logo1_transparent.png?raw=true\" width =\"800\">\n",
    "\n",
    "# Working with ensembles in `PyLiPD`\n",
    "\n",
    "## Authors\n",
    "\n",
    "[Deborah Khider](https://orcid.org/0000-0001-7501-8430)\n",
    "\n",
    "## Preamble\n",
    "\n",
    "Ensembles are key to uncertainty quantification, and are a main reason for why the [LiPD](https://doi.org/10.5194/cp-12-1093-2016) format was created. LiPD stores tables of uncertainty ensembles (in particular, age), which `PyLiPD` can efficiently load for analysis. This notebook describes how `PyLiPD` handles such age ensembles.\n",
    "\n",
    "### Goals\n",
    "\n",
    "* Reading an ensemble from a LiPD object\n",
    "\n",
    "Reading Time: 5 minutes\n",
    "\n",
    "### Keywords\n",
    "\n",
    "LiPD, age uncertainty, age ensembles\n",
    "\n",
    "### Pre-requisites\n",
    "\n",
    "None. This tutorial assumes basic knowledge of Python and Pandas. If you are not familiar with this coding language and this particular library, check out this tutorial: http://linked.earth/ec_workshops_py/.\n",
    "\n",
    "### Relevant Packages\n",
    "\n",
    "pylipd\n",
    "\n",
    "## Data Description\n",
    "\n",
    "This notebook uses the following datasets, in LiPD format:\n",
    "\n",
    "- McCabe-Glynn, S., Johnson, K., Strong, C. et al. Variable North Pacific influence on drought in southwestern North America since AD 854. Nature Geosci 6, 617–621 (2013). https://doi.org/10.1038/ngeo1862\n",
    "\n",
    "- Lawrence, K. T., Liu, Z. H., & Herbert, T. D. (2006). Evolution of the eastern tropical Pacific through Plio-Pleistocne glaciation. Science, 312(5770), 79-83.\n",
    "\n",
    "## Demonstration\n",
    "\n",
    "### Extracting ensemble information"
   ]
  },
  {
   "cell_type": "code",
   "execution_count": 1,
   "id": "c8d8c0a5",
   "metadata": {},
   "outputs": [],
   "source": [
    "from pylipd.lipd import LiPD"
   ]
  },
  {
   "cell_type": "code",
   "execution_count": 2,
   "id": "f3ff9eb0",
   "metadata": {},
   "outputs": [
    {
     "name": "stdout",
     "output_type": "stream",
     "text": [
      "Loading 2 LiPD files\n"
     ]
    },
    {
     "name": "stderr",
     "output_type": "stream",
     "text": [
      "100%|████████████████████████████████████████████████████████████████████| 2/2 [00:00<00:00,  2.79it/s]"
     ]
    },
    {
     "name": "stdout",
     "output_type": "stream",
     "text": [
      "Loaded..\n"
     ]
    },
    {
     "name": "stderr",
     "output_type": "stream",
     "text": [
      "\n"
     ]
    }
   ],
   "source": [
    "D = LiPD()\n",
    "data_path = ['../data/Crystal.McCabe-Glynn.2013.lpd', '../data/ODP846.Lawrence.2006.lpd']\n",
    "D.load(data_path)"
   ]
  },
  {
   "cell_type": "code",
   "execution_count": 3,
   "id": "3e070a1e",
   "metadata": {},
   "outputs": [
    {
     "name": "stdout",
     "output_type": "stream",
     "text": [
      "['Crystal.McCabe-Glynn.2013', 'ODP846.Lawrence.2006']\n"
     ]
    }
   ],
   "source": [
    "names = D.get_all_dataset_names()\n",
    "print(names)"
   ]
  },
  {
   "cell_type": "markdown",
   "id": "6544bead",
   "metadata": {},
   "source": [
    "To load the ensemble tables for all the files:\n",
    "\n",
    "<div class=\"alert alert-warning\">\n",
    "This may take a few minutes since we need to load matrices containing 1000 columns and a few hundred rows into memory. Although it is possible to load all the ensemble tables present in all the datasets, we strongly suggest against it (you will run out of memory). Instead, open dataset by dataset as we will demonstrate in this notebook.\n",
    "</div>"
   ]
  },
  {
   "cell_type": "code",
   "execution_count": 4,
   "id": "dd270d38",
   "metadata": {},
   "outputs": [
    {
     "name": "stdout",
     "output_type": "stream",
     "text": [
      "CPU times: user 2 µs, sys: 1 µs, total: 3 µs\n",
      "Wall time: 4.77 µs\n"
     ]
    },
    {
     "data": {
      "text/html": [
       "<div>\n",
       "<style scoped>\n",
       "    .dataframe tbody tr th:only-of-type {\n",
       "        vertical-align: middle;\n",
       "    }\n",
       "\n",
       "    .dataframe tbody tr th {\n",
       "        vertical-align: top;\n",
       "    }\n",
       "\n",
       "    .dataframe thead th {\n",
       "        text-align: right;\n",
       "    }\n",
       "</style>\n",
       "<table border=\"1\" class=\"dataframe\">\n",
       "  <thead>\n",
       "    <tr style=\"text-align: right;\">\n",
       "      <th></th>\n",
       "      <th>datasetName</th>\n",
       "      <th>ensembleTable</th>\n",
       "      <th>ensembleVariableName</th>\n",
       "      <th>ensembleVariableValues</th>\n",
       "      <th>ensembleVariableUnits</th>\n",
       "      <th>ensembleDepthName</th>\n",
       "      <th>ensembleDepthValues</th>\n",
       "      <th>ensembleDepthUnits</th>\n",
       "      <th>notes</th>\n",
       "    </tr>\n",
       "  </thead>\n",
       "  <tbody>\n",
       "    <tr>\n",
       "      <th>0</th>\n",
       "      <td>Crystal.McCabe-Glynn.2013</td>\n",
       "      <td>http://linked.earth/lipd/Crystal.McCabe-Glynn....</td>\n",
       "      <td>Year</td>\n",
       "      <td>[[2007.0, 2007.0, 2008.0, 2007.0, 2007.0, 2007...</td>\n",
       "      <td>yr AD</td>\n",
       "      <td>depth</td>\n",
       "      <td>[0.1, 0.15, 0.2, 0.25, 0.3, 0.35, 0.4, 0.45, 0...</td>\n",
       "      <td>mm</td>\n",
       "      <td>None</td>\n",
       "    </tr>\n",
       "    <tr>\n",
       "      <th>1</th>\n",
       "      <td>ODP846.Lawrence.2006</td>\n",
       "      <td>http://linked.earth/lipd/chron0model0ensemble0</td>\n",
       "      <td>age</td>\n",
       "      <td>[[4.0, 4.0, 4.0, 4.0, 4.0, 4.0, 4.0, 4.0, 4.0,...</td>\n",
       "      <td>kyr BP</td>\n",
       "      <td>depth</td>\n",
       "      <td>[0.12, 0.23, 0.33, 0.43, 0.53, 0.63, 0.73, 0.8...</td>\n",
       "      <td>m</td>\n",
       "      <td>None</td>\n",
       "    </tr>\n",
       "  </tbody>\n",
       "</table>\n",
       "</div>"
      ],
      "text/plain": [
       "                 datasetName  \\\n",
       "0  Crystal.McCabe-Glynn.2013   \n",
       "1       ODP846.Lawrence.2006   \n",
       "\n",
       "                                       ensembleTable ensembleVariableName  \\\n",
       "0  http://linked.earth/lipd/Crystal.McCabe-Glynn....                 Year   \n",
       "1     http://linked.earth/lipd/chron0model0ensemble0                  age   \n",
       "\n",
       "                              ensembleVariableValues ensembleVariableUnits  \\\n",
       "0  [[2007.0, 2007.0, 2008.0, 2007.0, 2007.0, 2007...                 yr AD   \n",
       "1  [[4.0, 4.0, 4.0, 4.0, 4.0, 4.0, 4.0, 4.0, 4.0,...                kyr BP   \n",
       "\n",
       "  ensembleDepthName                                ensembleDepthValues  \\\n",
       "0             depth  [0.1, 0.15, 0.2, 0.25, 0.3, 0.35, 0.4, 0.45, 0...   \n",
       "1             depth  [0.12, 0.23, 0.33, 0.43, 0.53, 0.63, 0.73, 0.8...   \n",
       "\n",
       "  ensembleDepthUnits notes  \n",
       "0                 mm  None  \n",
       "1                  m  None  "
      ]
     },
     "execution_count": 4,
     "metadata": {},
     "output_type": "execute_result"
    }
   ],
   "source": [
    "%time\n",
    "df = D.get_ensemble_tables()\n",
    "\n",
    "df"
   ]
  },
  {
   "cell_type": "markdown",
   "id": "a1c88fa6",
   "metadata": {},
   "source": [
    "The dataframes return the following information:\n",
    "\n",
    "* `datasetName`: The name of the dataset\n",
    "* `ensembleTable`: The ensemble tables associated with the dataset. If more than one ensembleTable is available for the record, then each table will be contained on a different row\n",
    "* `ensembleVariableName`: The name of the ensemble variable. Most likely, it will be a variant of 'age' or 'year'\n",
    "* `ensembleVariableValues`: The values on the ensembles\n",
    "* `ensembleVariableUnits`: The units associated with the time variable\n",
    "* `ensembleDepthName`: The name of the depth vector\n",
    "* `ensembleDepthValues`: The values for the depth axis. This is particularly useful when matching a ensemble table to a particular variable\n",
    "* `ensembleDepthUnits`: The units for the depth. \n",
    "* `notes`: Notes regarding how the model was obtained/done. "
   ]
  },
  {
   "cell_type": "markdown",
   "id": "aa6961fa",
   "metadata": {},
   "source": [
    "If interested in only one dataset (see the warning):"
   ]
  },
  {
   "cell_type": "code",
   "execution_count": 5,
   "id": "223aa950",
   "metadata": {},
   "outputs": [
    {
     "data": {
      "text/html": [
       "<div>\n",
       "<style scoped>\n",
       "    .dataframe tbody tr th:only-of-type {\n",
       "        vertical-align: middle;\n",
       "    }\n",
       "\n",
       "    .dataframe tbody tr th {\n",
       "        vertical-align: top;\n",
       "    }\n",
       "\n",
       "    .dataframe thead th {\n",
       "        text-align: right;\n",
       "    }\n",
       "</style>\n",
       "<table border=\"1\" class=\"dataframe\">\n",
       "  <thead>\n",
       "    <tr style=\"text-align: right;\">\n",
       "      <th></th>\n",
       "      <th>datasetName</th>\n",
       "      <th>ensembleTable</th>\n",
       "      <th>ensembleVariableName</th>\n",
       "      <th>ensembleVariableValues</th>\n",
       "      <th>ensembleVariableUnits</th>\n",
       "      <th>ensembleDepthName</th>\n",
       "      <th>ensembleDepthValues</th>\n",
       "      <th>ensembleDepthUnits</th>\n",
       "      <th>notes</th>\n",
       "    </tr>\n",
       "  </thead>\n",
       "  <tbody>\n",
       "    <tr>\n",
       "      <th>0</th>\n",
       "      <td>Crystal.McCabe-Glynn.2013</td>\n",
       "      <td>http://linked.earth/lipd/Crystal.McCabe-Glynn....</td>\n",
       "      <td>Year</td>\n",
       "      <td>[[2007.0, 2007.0, 2008.0, 2007.0, 2007.0, 2007...</td>\n",
       "      <td>yr AD</td>\n",
       "      <td>depth</td>\n",
       "      <td>[0.1, 0.15, 0.2, 0.25, 0.3, 0.35, 0.4, 0.45, 0...</td>\n",
       "      <td>mm</td>\n",
       "      <td>None</td>\n",
       "    </tr>\n",
       "  </tbody>\n",
       "</table>\n",
       "</div>"
      ],
      "text/plain": [
       "                 datasetName  \\\n",
       "0  Crystal.McCabe-Glynn.2013   \n",
       "\n",
       "                                       ensembleTable ensembleVariableName  \\\n",
       "0  http://linked.earth/lipd/Crystal.McCabe-Glynn....                 Year   \n",
       "\n",
       "                              ensembleVariableValues ensembleVariableUnits  \\\n",
       "0  [[2007.0, 2007.0, 2008.0, 2007.0, 2007.0, 2007...                 yr AD   \n",
       "\n",
       "  ensembleDepthName                                ensembleDepthValues  \\\n",
       "0             depth  [0.1, 0.15, 0.2, 0.25, 0.3, 0.35, 0.4, 0.45, 0...   \n",
       "\n",
       "  ensembleDepthUnits notes  \n",
       "0                 mm  None  "
      ]
     },
     "execution_count": 5,
     "metadata": {},
     "output_type": "execute_result"
    }
   ],
   "source": [
    "df = D.get_ensemble_tables(dsname=names[0])\n",
    "\n",
    "df"
   ]
  },
  {
   "cell_type": "markdown",
   "id": "8f065237",
   "metadata": {},
   "source": [
    "If you know the variable name:"
   ]
  },
  {
   "cell_type": "code",
   "execution_count": 6,
   "id": "5b8d4fbb",
   "metadata": {},
   "outputs": [
    {
     "data": {
      "text/html": [
       "<div>\n",
       "<style scoped>\n",
       "    .dataframe tbody tr th:only-of-type {\n",
       "        vertical-align: middle;\n",
       "    }\n",
       "\n",
       "    .dataframe tbody tr th {\n",
       "        vertical-align: top;\n",
       "    }\n",
       "\n",
       "    .dataframe thead th {\n",
       "        text-align: right;\n",
       "    }\n",
       "</style>\n",
       "<table border=\"1\" class=\"dataframe\">\n",
       "  <thead>\n",
       "    <tr style=\"text-align: right;\">\n",
       "      <th></th>\n",
       "      <th>datasetName</th>\n",
       "      <th>ensembleTable</th>\n",
       "      <th>ensembleVariableName</th>\n",
       "      <th>ensembleVariableValues</th>\n",
       "      <th>ensembleVariableUnits</th>\n",
       "      <th>ensembleDepthName</th>\n",
       "      <th>ensembleDepthValues</th>\n",
       "      <th>ensembleDepthUnits</th>\n",
       "      <th>notes</th>\n",
       "      <th>methodobj</th>\n",
       "      <th>methods</th>\n",
       "    </tr>\n",
       "  </thead>\n",
       "  <tbody>\n",
       "    <tr>\n",
       "      <th>0</th>\n",
       "      <td>ODP846.Lawrence.2006</td>\n",
       "      <td>http://linked.earth/lipd/chron0model0ensemble0</td>\n",
       "      <td>age</td>\n",
       "      <td>[[4.0, 4.0, 4.0, 4.0, 4.0, 4.0, 4.0, 4.0, 4.0,...</td>\n",
       "      <td>kyr BP</td>\n",
       "      <td>depth</td>\n",
       "      <td>[0.12, 0.23, 0.33, 0.43, 0.53, 0.63, 0.73, 0.8...</td>\n",
       "      <td>m</td>\n",
       "      <td>None</td>\n",
       "      <td>None</td>\n",
       "      <td>None</td>\n",
       "    </tr>\n",
       "  </tbody>\n",
       "</table>\n",
       "</div>"
      ],
      "text/plain": [
       "            datasetName                                   ensembleTable  \\\n",
       "0  ODP846.Lawrence.2006  http://linked.earth/lipd/chron0model0ensemble0   \n",
       "\n",
       "  ensembleVariableName                             ensembleVariableValues  \\\n",
       "0                  age  [[4.0, 4.0, 4.0, 4.0, 4.0, 4.0, 4.0, 4.0, 4.0,...   \n",
       "\n",
       "  ensembleVariableUnits ensembleDepthName  \\\n",
       "0                kyr BP             depth   \n",
       "\n",
       "                                 ensembleDepthValues ensembleDepthUnits notes  \\\n",
       "0  [0.12, 0.23, 0.33, 0.43, 0.53, 0.63, 0.73, 0.8...                  m  None   \n",
       "\n",
       "  methodobj methods  \n",
       "0      None    None  "
      ]
     },
     "execution_count": 6,
     "metadata": {},
     "output_type": "execute_result"
    }
   ],
   "source": [
    "df = D.get_ensemble_tables(ensembleVarName='age')\n",
    "\n",
    "df"
   ]
  },
  {
   "cell_type": "markdown",
   "id": "4659a991-a13f-44a5-927f-80b1a19adc4f",
   "metadata": {},
   "source": [
    "### Working with the PaleoData\n",
    "\n",
    "For this part of the demo, let's work with only the Crystal Cave record. We can pass the name of the dataset directly to the function through the `dsname` parameter. In this case, the name is the first entry (index 0, remember that Python uses zero-index) in the `names` list that we obtained previously:"
   ]
  },
  {
   "cell_type": "code",
   "execution_count": 7,
   "id": "fe619d46-a598-4095-bd08-5bee2b0ab560",
   "metadata": {},
   "outputs": [
    {
     "data": {
      "text/html": [
       "<div>\n",
       "<style scoped>\n",
       "    .dataframe tbody tr th:only-of-type {\n",
       "        vertical-align: middle;\n",
       "    }\n",
       "\n",
       "    .dataframe tbody tr th {\n",
       "        vertical-align: top;\n",
       "    }\n",
       "\n",
       "    .dataframe thead th {\n",
       "        text-align: right;\n",
       "    }\n",
       "</style>\n",
       "<table border=\"1\" class=\"dataframe\">\n",
       "  <thead>\n",
       "    <tr style=\"text-align: right;\">\n",
       "      <th></th>\n",
       "      <th>datasetName</th>\n",
       "      <th>ensembleTable</th>\n",
       "      <th>ensembleVariableName</th>\n",
       "      <th>ensembleVariableValues</th>\n",
       "      <th>ensembleVariableUnits</th>\n",
       "      <th>ensembleDepthName</th>\n",
       "      <th>ensembleDepthValues</th>\n",
       "      <th>ensembleDepthUnits</th>\n",
       "      <th>notes</th>\n",
       "    </tr>\n",
       "  </thead>\n",
       "  <tbody>\n",
       "    <tr>\n",
       "      <th>0</th>\n",
       "      <td>Crystal.McCabe-Glynn.2013</td>\n",
       "      <td>http://linked.earth/lipd/Crystal.McCabe-Glynn....</td>\n",
       "      <td>Year</td>\n",
       "      <td>[[2007.0, 2007.0, 2008.0, 2007.0, 2007.0, 2007...</td>\n",
       "      <td>yr AD</td>\n",
       "      <td>depth</td>\n",
       "      <td>[0.1, 0.15, 0.2, 0.25, 0.3, 0.35, 0.4, 0.45, 0...</td>\n",
       "      <td>mm</td>\n",
       "      <td>None</td>\n",
       "    </tr>\n",
       "  </tbody>\n",
       "</table>\n",
       "</div>"
      ],
      "text/plain": [
       "                 datasetName  \\\n",
       "0  Crystal.McCabe-Glynn.2013   \n",
       "\n",
       "                                       ensembleTable ensembleVariableName  \\\n",
       "0  http://linked.earth/lipd/Crystal.McCabe-Glynn....                 Year   \n",
       "\n",
       "                              ensembleVariableValues ensembleVariableUnits  \\\n",
       "0  [[2007.0, 2007.0, 2008.0, 2007.0, 2007.0, 2007...                 yr AD   \n",
       "\n",
       "  ensembleDepthName                                ensembleDepthValues  \\\n",
       "0             depth  [0.1, 0.15, 0.2, 0.25, 0.3, 0.35, 0.4, 0.45, 0...   \n",
       "\n",
       "  ensembleDepthUnits notes  \n",
       "0                 mm  None  "
      ]
     },
     "execution_count": 7,
     "metadata": {},
     "output_type": "execute_result"
    }
   ],
   "source": [
    "df = D.get_ensemble_tables(dsname=names[0])\n",
    "df"
   ]
  },
  {
   "cell_type": "code",
   "execution_count": 9,
   "id": "62050c3a-6c8d-4d8e-87ad-1f3f09889492",
   "metadata": {},
   "outputs": [
    {
     "data": {
      "text/html": [
       "<div>\n",
       "<style scoped>\n",
       "    .dataframe tbody tr th:only-of-type {\n",
       "        vertical-align: middle;\n",
       "    }\n",
       "\n",
       "    .dataframe tbody tr th {\n",
       "        vertical-align: top;\n",
       "    }\n",
       "\n",
       "    .dataframe thead th {\n",
       "        text-align: right;\n",
       "    }\n",
       "</style>\n",
       "<table border=\"1\" class=\"dataframe\">\n",
       "  <thead>\n",
       "    <tr style=\"text-align: right;\">\n",
       "      <th></th>\n",
       "      <th>dataSetName</th>\n",
       "      <th>archiveType</th>\n",
       "      <th>geo_meanLat</th>\n",
       "      <th>geo_meanLon</th>\n",
       "      <th>geo_meanElev</th>\n",
       "      <th>paleoData_variableName</th>\n",
       "      <th>paleoData_values</th>\n",
       "      <th>paleoData_units</th>\n",
       "      <th>paleoData_proxy</th>\n",
       "      <th>paleoData_proxyGeneral</th>\n",
       "      <th>time_variableName</th>\n",
       "      <th>time_values</th>\n",
       "      <th>time_units</th>\n",
       "      <th>depth_variableName</th>\n",
       "      <th>depth_values</th>\n",
       "      <th>depth_units</th>\n",
       "    </tr>\n",
       "  </thead>\n",
       "  <tbody>\n",
       "    <tr>\n",
       "      <th>0</th>\n",
       "      <td>Crystal.McCabe-Glynn.2013</td>\n",
       "      <td>Speleothem</td>\n",
       "      <td>36.59</td>\n",
       "      <td>-118.82</td>\n",
       "      <td>1386.0</td>\n",
       "      <td>d18o</td>\n",
       "      <td>[-8.01, -8.23, -8.61, -8.54, -8.6, -9.08, -8.9...</td>\n",
       "      <td>permil</td>\n",
       "      <td>None</td>\n",
       "      <td>None</td>\n",
       "      <td>age</td>\n",
       "      <td>[2007.7, 2007.0, 2006.3, 2005.6, 2004.9, 2004....</td>\n",
       "      <td>yr AD</td>\n",
       "      <td>depth</td>\n",
       "      <td>[0.05, 0.1, 0.15, 0.2, 0.25, 0.3, 0.35, 0.4, 0...</td>\n",
       "      <td>mm</td>\n",
       "    </tr>\n",
       "  </tbody>\n",
       "</table>\n",
       "</div>"
      ],
      "text/plain": [
       "                 dataSetName archiveType  geo_meanLat  geo_meanLon  \\\n",
       "0  Crystal.McCabe-Glynn.2013  Speleothem        36.59      -118.82   \n",
       "\n",
       "   geo_meanElev paleoData_variableName  \\\n",
       "0        1386.0                   d18o   \n",
       "\n",
       "                                    paleoData_values paleoData_units  \\\n",
       "0  [-8.01, -8.23, -8.61, -8.54, -8.6, -9.08, -8.9...          permil   \n",
       "\n",
       "  paleoData_proxy paleoData_proxyGeneral time_variableName  \\\n",
       "0            None                   None               age   \n",
       "\n",
       "                                         time_values time_units  \\\n",
       "0  [2007.7, 2007.0, 2006.3, 2005.6, 2004.9, 2004....      yr AD   \n",
       "\n",
       "  depth_variableName                                       depth_values  \\\n",
       "0              depth  [0.05, 0.1, 0.15, 0.2, 0.25, 0.3, 0.35, 0.4, 0...   \n",
       "\n",
       "  depth_units  \n",
       "0          mm  "
      ]
     },
     "execution_count": 9,
     "metadata": {},
     "output_type": "execute_result"
    }
   ],
   "source": [
    "df_ts = D.get_timeseries_essentials(dsnames=names[0])\n",
    "\n",
    "df_ts"
   ]
  },
  {
   "cell_type": "markdown",
   "id": "b7a53891-7344-4a30-88a6-477263b7ce83",
   "metadata": {},
   "source": [
    "To learn  how to use these two tables to create a [Pyleoclim `EnsembleSeries`](https://pyleoclim-util.readthedocs.io/en/latest/core/api.html#ensembleseries-pyleoclim-ensembleseries) object and use it for analysis and visualization, see [this tutorial](http://linked.earth/PyleoTutorials/notebooks/L1_working_with_age_ensembles.html) "
   ]
  }
 ],
 "metadata": {
  "kernelspec": {
   "display_name": "Python 3 (ipykernel)",
   "language": "python",
   "name": "python3"
  },
  "language_info": {
   "codemirror_mode": {
    "name": "ipython",
    "version": 3
   },
   "file_extension": ".py",
   "mimetype": "text/x-python",
   "name": "python",
   "nbconvert_exporter": "python",
   "pygments_lexer": "ipython3",
   "version": "3.11.10"
  }
 },
 "nbformat": 4,
 "nbformat_minor": 5
}
